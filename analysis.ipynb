{
 "cells": [
  {
   "cell_type": "code",
   "execution_count": 22,
   "metadata": {},
   "outputs": [],
   "source": [
    "import pandas as pd\n",
    "import numpy as np\n",
    "%matplotlib inline"
   ]
  },
  {
   "cell_type": "code",
   "execution_count": 23,
   "metadata": {},
   "outputs": [
    {
     "name": "stdout",
     "output_type": "stream",
     "text": [
      "4.6.0\n"
     ]
    }
   ],
   "source": [
    "from plotly import __version__\n",
    "from plotly.offline import download_plotlyjs, init_notebook_mode, plot, iplot\n",
    "\n",
    "print(__version__) # requires version >= 1.9.0"
   ]
  },
  {
   "cell_type": "code",
   "execution_count": 24,
   "metadata": {},
   "outputs": [],
   "source": [
    "import cufflinks as cf"
   ]
  },
  {
   "cell_type": "code",
   "execution_count": 25,
   "metadata": {},
   "outputs": [
    {
     "data": {
      "text/html": [
       "        <script type=\"text/javascript\">\n",
       "        window.PlotlyConfig = {MathJaxConfig: 'local'};\n",
       "        if (window.MathJax) {MathJax.Hub.Config({SVG: {font: \"STIX-Web\"}});}\n",
       "        if (typeof require !== 'undefined') {\n",
       "        require.undef(\"plotly\");\n",
       "        requirejs.config({\n",
       "            paths: {\n",
       "                'plotly': ['https://cdn.plot.ly/plotly-latest.min']\n",
       "            }\n",
       "        });\n",
       "        require(['plotly'], function(Plotly) {\n",
       "            window._Plotly = Plotly;\n",
       "        });\n",
       "        }\n",
       "        </script>\n",
       "        "
      ]
     },
     "metadata": {},
     "output_type": "display_data"
    }
   ],
   "source": [
    "# For Notebooks\n",
    "init_notebook_mode(connected=True)"
   ]
  },
  {
   "cell_type": "code",
   "execution_count": 26,
   "metadata": {},
   "outputs": [
    {
     "data": {
      "text/html": [
       "        <script type=\"text/javascript\">\n",
       "        window.PlotlyConfig = {MathJaxConfig: 'local'};\n",
       "        if (window.MathJax) {MathJax.Hub.Config({SVG: {font: \"STIX-Web\"}});}\n",
       "        if (typeof require !== 'undefined') {\n",
       "        require.undef(\"plotly\");\n",
       "        requirejs.config({\n",
       "            paths: {\n",
       "                'plotly': ['https://cdn.plot.ly/plotly-latest.min']\n",
       "            }\n",
       "        });\n",
       "        require(['plotly'], function(Plotly) {\n",
       "            window._Plotly = Plotly;\n",
       "        });\n",
       "        }\n",
       "        </script>\n",
       "        "
      ]
     },
     "metadata": {},
     "output_type": "display_data"
    }
   ],
   "source": [
    "# For offline use\n",
    "cf.go_offline()"
   ]
  },
  {
   "cell_type": "markdown",
   "metadata": {},
   "source": [
    "### Data"
   ]
  },
  {
   "cell_type": "code",
   "execution_count": 33,
   "metadata": {},
   "outputs": [],
   "source": [
    "df = pd.read_excel('data.xlsx')"
   ]
  },
  {
   "cell_type": "code",
   "execution_count": 34,
   "metadata": {},
   "outputs": [
    {
     "data": {
      "text/html": [
       "<div>\n",
       "<style scoped>\n",
       "    .dataframe tbody tr th:only-of-type {\n",
       "        vertical-align: middle;\n",
       "    }\n",
       "\n",
       "    .dataframe tbody tr th {\n",
       "        vertical-align: top;\n",
       "    }\n",
       "\n",
       "    .dataframe thead th {\n",
       "        text-align: right;\n",
       "    }\n",
       "</style>\n",
       "<table border=\"1\" class=\"dataframe\">\n",
       "  <thead>\n",
       "    <tr style=\"text-align: right;\">\n",
       "      <th></th>\n",
       "      <th>Study</th>\n",
       "      <th>Animal</th>\n",
       "      <th>Encounter type</th>\n",
       "      <th>Predominant debris type</th>\n",
       "      <th>Impact (response)</th>\n",
       "    </tr>\n",
       "  </thead>\n",
       "  <tbody>\n",
       "    <tr>\n",
       "      <td>0</td>\n",
       "      <td>Allen et al. 2012</td>\n",
       "      <td>Grey seals</td>\n",
       "      <td>Entanglement</td>\n",
       "      <td>MF line, net, rope</td>\n",
       "      <td>Constriction</td>\n",
       "    </tr>\n",
       "    <tr>\n",
       "      <td>1</td>\n",
       "      <td>Beck &amp; Barros, 1991</td>\n",
       "      <td>Manatees</td>\n",
       "      <td>Entanglement</td>\n",
       "      <td>MF line, bags, other debris</td>\n",
       "      <td>Death</td>\n",
       "    </tr>\n",
       "    <tr>\n",
       "      <td>2</td>\n",
       "      <td>Campagna et al. 2007</td>\n",
       "      <td>Elephant seals</td>\n",
       "      <td>Entanglement</td>\n",
       "      <td>MF line, fishing jigs</td>\n",
       "      <td>Dermal wound</td>\n",
       "    </tr>\n",
       "    <tr>\n",
       "      <td>3</td>\n",
       "      <td>Croxall et al. 1990</td>\n",
       "      <td>Fur seals</td>\n",
       "      <td>Entanglement</td>\n",
       "      <td>Packing band, fishing gear, other debris</td>\n",
       "      <td>Dermal wound</td>\n",
       "    </tr>\n",
       "    <tr>\n",
       "      <td>4</td>\n",
       "      <td>Dau et al. 2009</td>\n",
       "      <td>Seabirds, pinnipeds</td>\n",
       "      <td>Entanglement</td>\n",
       "      <td>Fishing gear</td>\n",
       "      <td>External wound</td>\n",
       "    </tr>\n",
       "  </tbody>\n",
       "</table>\n",
       "</div>"
      ],
      "text/plain": [
       "                  Study               Animal Encounter type  \\\n",
       "0     Allen et al. 2012           Grey seals   Entanglement   \n",
       "1   Beck & Barros, 1991             Manatees   Entanglement   \n",
       "2  Campagna et al. 2007       Elephant seals   Entanglement   \n",
       "3   Croxall et al. 1990            Fur seals   Entanglement   \n",
       "4       Dau et al. 2009  Seabirds, pinnipeds   Entanglement   \n",
       "\n",
       "                    Predominant debris type Impact (response)  \n",
       "0                        MF line, net, rope      Constriction  \n",
       "1               MF line, bags, other debris             Death  \n",
       "2                     MF line, fishing jigs      Dermal wound  \n",
       "3  Packing band, fishing gear, other debris      Dermal wound  \n",
       "4                              Fishing gear    External wound  "
      ]
     },
     "execution_count": 34,
     "metadata": {},
     "output_type": "execute_result"
    }
   ],
   "source": [
    "df.head()"
   ]
  },
  {
   "cell_type": "markdown",
   "metadata": {},
   "source": [
    "## Using Cufflinks and iplot()\n",
    "\n",
    "* scatter\n",
    "* bar\n",
    "* box\n",
    "* spread\n",
    "* ratio\n",
    "* heatmap\n",
    "* surface\n",
    "* histogram\n",
    "* bubble"
   ]
  },
  {
   "cell_type": "markdown",
   "metadata": {},
   "source": [
    "## Scatter"
   ]
  },
  {
   "cell_type": "code",
   "execution_count": 38,
   "metadata": {},
   "outputs": [
    {
     "data": {
      "application/vnd.plotly.v1+json": {
       "config": {
        "linkText": "Export to plot.ly",
        "plotlyServerURL": "https://plot.ly",
        "showLink": true
       },
       "data": [
        {
         "line": {
          "color": "rgba(255, 153, 51, 1.0)",
          "dash": "solid",
          "shape": "linear",
          "width": 1.3
         },
         "marker": {
          "size": 10,
          "symbol": "circle"
         },
         "mode": "markers",
         "name": "Impact (response)",
         "text": "",
         "type": "scatter",
         "x": [
          "Entanglement",
          "Entanglement",
          "Entanglement",
          "Entanglement",
          "Entanglement",
          "Entanglement",
          null,
          "Entanglement",
          "Entanglement",
          "Entanglement",
          "Entanglement",
          "Entanglement",
          "Entanglement",
          "Entanglement",
          "Ingestion",
          "Ingestion",
          "Ingestion",
          "Ingestion",
          "Ingestion",
          "Ingestion",
          "Ingestion",
          null,
          "Ingestion",
          "Ingestion",
          "Ingestion",
          "Ingestion",
          "Ingestion",
          "Ingestion",
          "Ingestion",
          "Ingestion",
          "Ingestion",
          "Ingestion",
          "Ingestion",
          "Ingestion and gill uptake",
          "Interaction (contact)",
          "Interaction (contact)",
          "Interaction (contact)",
          "Interaction (contact)",
          "Interaction (contact)",
          "Interaction (contact)",
          "Interaction (obstruction)",
          "Interaction (obstruction)",
          "Interaction (substrate)",
          "Interaction (substrate)"
         ],
         "y": [
          "Constriction",
          "Death",
          "Dermal wound",
          "Dermal wound",
          "External wound",
          "Death",
          "",
          "Reduced population size",
          "Death",
          "Death",
          "Damage/breakage",
          "Death",
          "Dermal wound",
          "Dermal wound",
          "Death",
          "Intestinal blockage, death",
          "",
          "Biochemical/cellular, death",
          "Gut obstruction, death",
          "Perforated gut",
          "Biochemical/cellular",
          "",
          "Biochemical/cellular",
          "Internal wound",
          "Gastric rupture, death",
          "Gut impaction, ulcerative lesions",
          "Gastric rupture, gut impaction, death",
          "Death",
          "Biochemical/cellular",
          "Biochemical/cellular",
          "Reduced organ size",
          "Gut obstruction",
          "Biochemical/cellular",
          "Biochemical/cellular",
          "Altered assemblage",
          "Altered assemblage",
          "Altered assemblage",
          "Tissue abrasion",
          "Tissue abrasion",
          "Breakage, suffocation, death",
          "Reduced population size",
          "Reduced population size",
          "Altered assemblage",
          "Increased population size"
         ]
        }
       ],
       "layout": {
        "legend": {
         "bgcolor": "#F5F6F9",
         "font": {
          "color": "#4D5663"
         }
        },
        "paper_bgcolor": "#F5F6F9",
        "plot_bgcolor": "#F5F6F9",
        "template": {
         "data": {
          "bar": [
           {
            "error_x": {
             "color": "#2a3f5f"
            },
            "error_y": {
             "color": "#2a3f5f"
            },
            "marker": {
             "line": {
              "color": "#E5ECF6",
              "width": 0.5
             }
            },
            "type": "bar"
           }
          ],
          "barpolar": [
           {
            "marker": {
             "line": {
              "color": "#E5ECF6",
              "width": 0.5
             }
            },
            "type": "barpolar"
           }
          ],
          "carpet": [
           {
            "aaxis": {
             "endlinecolor": "#2a3f5f",
             "gridcolor": "white",
             "linecolor": "white",
             "minorgridcolor": "white",
             "startlinecolor": "#2a3f5f"
            },
            "baxis": {
             "endlinecolor": "#2a3f5f",
             "gridcolor": "white",
             "linecolor": "white",
             "minorgridcolor": "white",
             "startlinecolor": "#2a3f5f"
            },
            "type": "carpet"
           }
          ],
          "choropleth": [
           {
            "colorbar": {
             "outlinewidth": 0,
             "ticks": ""
            },
            "type": "choropleth"
           }
          ],
          "contour": [
           {
            "colorbar": {
             "outlinewidth": 0,
             "ticks": ""
            },
            "colorscale": [
             [
              0,
              "#0d0887"
             ],
             [
              0.1111111111111111,
              "#46039f"
             ],
             [
              0.2222222222222222,
              "#7201a8"
             ],
             [
              0.3333333333333333,
              "#9c179e"
             ],
             [
              0.4444444444444444,
              "#bd3786"
             ],
             [
              0.5555555555555556,
              "#d8576b"
             ],
             [
              0.6666666666666666,
              "#ed7953"
             ],
             [
              0.7777777777777778,
              "#fb9f3a"
             ],
             [
              0.8888888888888888,
              "#fdca26"
             ],
             [
              1,
              "#f0f921"
             ]
            ],
            "type": "contour"
           }
          ],
          "contourcarpet": [
           {
            "colorbar": {
             "outlinewidth": 0,
             "ticks": ""
            },
            "type": "contourcarpet"
           }
          ],
          "heatmap": [
           {
            "colorbar": {
             "outlinewidth": 0,
             "ticks": ""
            },
            "colorscale": [
             [
              0,
              "#0d0887"
             ],
             [
              0.1111111111111111,
              "#46039f"
             ],
             [
              0.2222222222222222,
              "#7201a8"
             ],
             [
              0.3333333333333333,
              "#9c179e"
             ],
             [
              0.4444444444444444,
              "#bd3786"
             ],
             [
              0.5555555555555556,
              "#d8576b"
             ],
             [
              0.6666666666666666,
              "#ed7953"
             ],
             [
              0.7777777777777778,
              "#fb9f3a"
             ],
             [
              0.8888888888888888,
              "#fdca26"
             ],
             [
              1,
              "#f0f921"
             ]
            ],
            "type": "heatmap"
           }
          ],
          "heatmapgl": [
           {
            "colorbar": {
             "outlinewidth": 0,
             "ticks": ""
            },
            "colorscale": [
             [
              0,
              "#0d0887"
             ],
             [
              0.1111111111111111,
              "#46039f"
             ],
             [
              0.2222222222222222,
              "#7201a8"
             ],
             [
              0.3333333333333333,
              "#9c179e"
             ],
             [
              0.4444444444444444,
              "#bd3786"
             ],
             [
              0.5555555555555556,
              "#d8576b"
             ],
             [
              0.6666666666666666,
              "#ed7953"
             ],
             [
              0.7777777777777778,
              "#fb9f3a"
             ],
             [
              0.8888888888888888,
              "#fdca26"
             ],
             [
              1,
              "#f0f921"
             ]
            ],
            "type": "heatmapgl"
           }
          ],
          "histogram": [
           {
            "marker": {
             "colorbar": {
              "outlinewidth": 0,
              "ticks": ""
             }
            },
            "type": "histogram"
           }
          ],
          "histogram2d": [
           {
            "colorbar": {
             "outlinewidth": 0,
             "ticks": ""
            },
            "colorscale": [
             [
              0,
              "#0d0887"
             ],
             [
              0.1111111111111111,
              "#46039f"
             ],
             [
              0.2222222222222222,
              "#7201a8"
             ],
             [
              0.3333333333333333,
              "#9c179e"
             ],
             [
              0.4444444444444444,
              "#bd3786"
             ],
             [
              0.5555555555555556,
              "#d8576b"
             ],
             [
              0.6666666666666666,
              "#ed7953"
             ],
             [
              0.7777777777777778,
              "#fb9f3a"
             ],
             [
              0.8888888888888888,
              "#fdca26"
             ],
             [
              1,
              "#f0f921"
             ]
            ],
            "type": "histogram2d"
           }
          ],
          "histogram2dcontour": [
           {
            "colorbar": {
             "outlinewidth": 0,
             "ticks": ""
            },
            "colorscale": [
             [
              0,
              "#0d0887"
             ],
             [
              0.1111111111111111,
              "#46039f"
             ],
             [
              0.2222222222222222,
              "#7201a8"
             ],
             [
              0.3333333333333333,
              "#9c179e"
             ],
             [
              0.4444444444444444,
              "#bd3786"
             ],
             [
              0.5555555555555556,
              "#d8576b"
             ],
             [
              0.6666666666666666,
              "#ed7953"
             ],
             [
              0.7777777777777778,
              "#fb9f3a"
             ],
             [
              0.8888888888888888,
              "#fdca26"
             ],
             [
              1,
              "#f0f921"
             ]
            ],
            "type": "histogram2dcontour"
           }
          ],
          "mesh3d": [
           {
            "colorbar": {
             "outlinewidth": 0,
             "ticks": ""
            },
            "type": "mesh3d"
           }
          ],
          "parcoords": [
           {
            "line": {
             "colorbar": {
              "outlinewidth": 0,
              "ticks": ""
             }
            },
            "type": "parcoords"
           }
          ],
          "pie": [
           {
            "automargin": true,
            "type": "pie"
           }
          ],
          "scatter": [
           {
            "marker": {
             "colorbar": {
              "outlinewidth": 0,
              "ticks": ""
             }
            },
            "type": "scatter"
           }
          ],
          "scatter3d": [
           {
            "line": {
             "colorbar": {
              "outlinewidth": 0,
              "ticks": ""
             }
            },
            "marker": {
             "colorbar": {
              "outlinewidth": 0,
              "ticks": ""
             }
            },
            "type": "scatter3d"
           }
          ],
          "scattercarpet": [
           {
            "marker": {
             "colorbar": {
              "outlinewidth": 0,
              "ticks": ""
             }
            },
            "type": "scattercarpet"
           }
          ],
          "scattergeo": [
           {
            "marker": {
             "colorbar": {
              "outlinewidth": 0,
              "ticks": ""
             }
            },
            "type": "scattergeo"
           }
          ],
          "scattergl": [
           {
            "marker": {
             "colorbar": {
              "outlinewidth": 0,
              "ticks": ""
             }
            },
            "type": "scattergl"
           }
          ],
          "scattermapbox": [
           {
            "marker": {
             "colorbar": {
              "outlinewidth": 0,
              "ticks": ""
             }
            },
            "type": "scattermapbox"
           }
          ],
          "scatterpolar": [
           {
            "marker": {
             "colorbar": {
              "outlinewidth": 0,
              "ticks": ""
             }
            },
            "type": "scatterpolar"
           }
          ],
          "scatterpolargl": [
           {
            "marker": {
             "colorbar": {
              "outlinewidth": 0,
              "ticks": ""
             }
            },
            "type": "scatterpolargl"
           }
          ],
          "scatterternary": [
           {
            "marker": {
             "colorbar": {
              "outlinewidth": 0,
              "ticks": ""
             }
            },
            "type": "scatterternary"
           }
          ],
          "surface": [
           {
            "colorbar": {
             "outlinewidth": 0,
             "ticks": ""
            },
            "colorscale": [
             [
              0,
              "#0d0887"
             ],
             [
              0.1111111111111111,
              "#46039f"
             ],
             [
              0.2222222222222222,
              "#7201a8"
             ],
             [
              0.3333333333333333,
              "#9c179e"
             ],
             [
              0.4444444444444444,
              "#bd3786"
             ],
             [
              0.5555555555555556,
              "#d8576b"
             ],
             [
              0.6666666666666666,
              "#ed7953"
             ],
             [
              0.7777777777777778,
              "#fb9f3a"
             ],
             [
              0.8888888888888888,
              "#fdca26"
             ],
             [
              1,
              "#f0f921"
             ]
            ],
            "type": "surface"
           }
          ],
          "table": [
           {
            "cells": {
             "fill": {
              "color": "#EBF0F8"
             },
             "line": {
              "color": "white"
             }
            },
            "header": {
             "fill": {
              "color": "#C8D4E3"
             },
             "line": {
              "color": "white"
             }
            },
            "type": "table"
           }
          ]
         },
         "layout": {
          "annotationdefaults": {
           "arrowcolor": "#2a3f5f",
           "arrowhead": 0,
           "arrowwidth": 1
          },
          "coloraxis": {
           "colorbar": {
            "outlinewidth": 0,
            "ticks": ""
           }
          },
          "colorscale": {
           "diverging": [
            [
             0,
             "#8e0152"
            ],
            [
             0.1,
             "#c51b7d"
            ],
            [
             0.2,
             "#de77ae"
            ],
            [
             0.3,
             "#f1b6da"
            ],
            [
             0.4,
             "#fde0ef"
            ],
            [
             0.5,
             "#f7f7f7"
            ],
            [
             0.6,
             "#e6f5d0"
            ],
            [
             0.7,
             "#b8e186"
            ],
            [
             0.8,
             "#7fbc41"
            ],
            [
             0.9,
             "#4d9221"
            ],
            [
             1,
             "#276419"
            ]
           ],
           "sequential": [
            [
             0,
             "#0d0887"
            ],
            [
             0.1111111111111111,
             "#46039f"
            ],
            [
             0.2222222222222222,
             "#7201a8"
            ],
            [
             0.3333333333333333,
             "#9c179e"
            ],
            [
             0.4444444444444444,
             "#bd3786"
            ],
            [
             0.5555555555555556,
             "#d8576b"
            ],
            [
             0.6666666666666666,
             "#ed7953"
            ],
            [
             0.7777777777777778,
             "#fb9f3a"
            ],
            [
             0.8888888888888888,
             "#fdca26"
            ],
            [
             1,
             "#f0f921"
            ]
           ],
           "sequentialminus": [
            [
             0,
             "#0d0887"
            ],
            [
             0.1111111111111111,
             "#46039f"
            ],
            [
             0.2222222222222222,
             "#7201a8"
            ],
            [
             0.3333333333333333,
             "#9c179e"
            ],
            [
             0.4444444444444444,
             "#bd3786"
            ],
            [
             0.5555555555555556,
             "#d8576b"
            ],
            [
             0.6666666666666666,
             "#ed7953"
            ],
            [
             0.7777777777777778,
             "#fb9f3a"
            ],
            [
             0.8888888888888888,
             "#fdca26"
            ],
            [
             1,
             "#f0f921"
            ]
           ]
          },
          "colorway": [
           "#636efa",
           "#EF553B",
           "#00cc96",
           "#ab63fa",
           "#FFA15A",
           "#19d3f3",
           "#FF6692",
           "#B6E880",
           "#FF97FF",
           "#FECB52"
          ],
          "font": {
           "color": "#2a3f5f"
          },
          "geo": {
           "bgcolor": "white",
           "lakecolor": "white",
           "landcolor": "#E5ECF6",
           "showlakes": true,
           "showland": true,
           "subunitcolor": "white"
          },
          "hoverlabel": {
           "align": "left"
          },
          "hovermode": "closest",
          "mapbox": {
           "style": "light"
          },
          "paper_bgcolor": "white",
          "plot_bgcolor": "#E5ECF6",
          "polar": {
           "angularaxis": {
            "gridcolor": "white",
            "linecolor": "white",
            "ticks": ""
           },
           "bgcolor": "#E5ECF6",
           "radialaxis": {
            "gridcolor": "white",
            "linecolor": "white",
            "ticks": ""
           }
          },
          "scene": {
           "xaxis": {
            "backgroundcolor": "#E5ECF6",
            "gridcolor": "white",
            "gridwidth": 2,
            "linecolor": "white",
            "showbackground": true,
            "ticks": "",
            "zerolinecolor": "white"
           },
           "yaxis": {
            "backgroundcolor": "#E5ECF6",
            "gridcolor": "white",
            "gridwidth": 2,
            "linecolor": "white",
            "showbackground": true,
            "ticks": "",
            "zerolinecolor": "white"
           },
           "zaxis": {
            "backgroundcolor": "#E5ECF6",
            "gridcolor": "white",
            "gridwidth": 2,
            "linecolor": "white",
            "showbackground": true,
            "ticks": "",
            "zerolinecolor": "white"
           }
          },
          "shapedefaults": {
           "line": {
            "color": "#2a3f5f"
           }
          },
          "ternary": {
           "aaxis": {
            "gridcolor": "white",
            "linecolor": "white",
            "ticks": ""
           },
           "baxis": {
            "gridcolor": "white",
            "linecolor": "white",
            "ticks": ""
           },
           "bgcolor": "#E5ECF6",
           "caxis": {
            "gridcolor": "white",
            "linecolor": "white",
            "ticks": ""
           }
          },
          "title": {
           "x": 0.05
          },
          "xaxis": {
           "automargin": true,
           "gridcolor": "white",
           "linecolor": "white",
           "ticks": "",
           "title": {
            "standoff": 15
           },
           "zerolinecolor": "white",
           "zerolinewidth": 2
          },
          "yaxis": {
           "automargin": true,
           "gridcolor": "white",
           "linecolor": "white",
           "ticks": "",
           "title": {
            "standoff": 15
           },
           "zerolinecolor": "white",
           "zerolinewidth": 2
          }
         }
        },
        "title": {
         "font": {
          "color": "#4D5663"
         }
        },
        "xaxis": {
         "gridcolor": "#E1E5ED",
         "showgrid": true,
         "tickfont": {
          "color": "#4D5663"
         },
         "title": {
          "font": {
           "color": "#4D5663"
          },
          "text": ""
         },
         "zerolinecolor": "#E1E5ED"
        },
        "yaxis": {
         "gridcolor": "#E1E5ED",
         "showgrid": true,
         "tickfont": {
          "color": "#4D5663"
         },
         "title": {
          "font": {
           "color": "#4D5663"
          },
          "text": ""
         },
         "zerolinecolor": "#E1E5ED"
        }
       }
      },
      "text/html": [
       "<div>\n",
       "        \n",
       "        \n",
       "            <div id=\"bc5e075b-8081-4037-ad06-a1398d2c40f9\" class=\"plotly-graph-div\" style=\"height:525px; width:100%;\"></div>\n",
       "            <script type=\"text/javascript\">\n",
       "                require([\"plotly\"], function(Plotly) {\n",
       "                    window.PLOTLYENV=window.PLOTLYENV || {};\n",
       "                    window.PLOTLYENV.BASE_URL='https://plot.ly';\n",
       "                    \n",
       "                if (document.getElementById(\"bc5e075b-8081-4037-ad06-a1398d2c40f9\")) {\n",
       "                    Plotly.newPlot(\n",
       "                        'bc5e075b-8081-4037-ad06-a1398d2c40f9',\n",
       "                        [{\"line\": {\"color\": \"rgba(255, 153, 51, 1.0)\", \"dash\": \"solid\", \"shape\": \"linear\", \"width\": 1.3}, \"marker\": {\"size\": 10, \"symbol\": \"circle\"}, \"mode\": \"markers\", \"name\": \"Impact (response)\", \"text\": \"\", \"type\": \"scatter\", \"x\": [\"Entanglement\", \"Entanglement\", \"Entanglement\", \"Entanglement\", \"Entanglement\", \"Entanglement\", null, \"Entanglement\", \"Entanglement\", \"Entanglement\", \"Entanglement\", \"Entanglement\", \"Entanglement\", \"Entanglement\", \"Ingestion\", \"Ingestion\", \"Ingestion\", \"Ingestion\", \"Ingestion\", \"Ingestion\", \"Ingestion\", null, \"Ingestion\", \"Ingestion\", \"Ingestion\", \"Ingestion\", \"Ingestion\", \"Ingestion\", \"Ingestion\", \"Ingestion\", \"Ingestion\", \"Ingestion\", \"Ingestion\", \"Ingestion and gill uptake\", \"Interaction (contact)\", \"Interaction (contact)\", \"Interaction (contact)\", \"Interaction (contact)\", \"Interaction (contact)\", \"Interaction (contact)\", \"Interaction (obstruction)\", \"Interaction (obstruction)\", \"Interaction (substrate)\", \"Interaction (substrate)\"], \"y\": [\"Constriction\", \"Death\", \"Dermal wound\", \"Dermal wound\", \"External wound\", \"Death\", \"\", \"Reduced population size\", \"Death\", \"Death\", \"Damage/breakage\", \"Death\", \"Dermal wound\", \"Dermal wound\", \"Death\", \"Intestinal blockage, death\", \"\", \"Biochemical/cellular, death\", \"Gut obstruction, death\", \"Perforated gut\", \"Biochemical/cellular\", \"\", \"Biochemical/cellular\", \"Internal wound\", \"Gastric rupture, death\", \"Gut impaction, ulcerative lesions\", \"Gastric rupture, gut impaction, death\", \"Death\", \"Biochemical/cellular\", \"Biochemical/cellular\", \"Reduced organ size\", \"Gut obstruction\", \"Biochemical/cellular\", \"Biochemical/cellular\", \"Altered assemblage\", \"Altered assemblage\", \"Altered assemblage\", \"Tissue abrasion\", \"Tissue abrasion\", \"Breakage, suffocation, death\", \"Reduced population size\", \"Reduced population size\", \"Altered assemblage\", \"Increased population size\"]}],\n",
       "                        {\"legend\": {\"bgcolor\": \"#F5F6F9\", \"font\": {\"color\": \"#4D5663\"}}, \"paper_bgcolor\": \"#F5F6F9\", \"plot_bgcolor\": \"#F5F6F9\", \"template\": {\"data\": {\"bar\": [{\"error_x\": {\"color\": \"#2a3f5f\"}, \"error_y\": {\"color\": \"#2a3f5f\"}, \"marker\": {\"line\": {\"color\": \"#E5ECF6\", \"width\": 0.5}}, \"type\": \"bar\"}], \"barpolar\": [{\"marker\": {\"line\": {\"color\": \"#E5ECF6\", \"width\": 0.5}}, \"type\": \"barpolar\"}], \"carpet\": [{\"aaxis\": {\"endlinecolor\": \"#2a3f5f\", \"gridcolor\": \"white\", \"linecolor\": \"white\", \"minorgridcolor\": \"white\", \"startlinecolor\": \"#2a3f5f\"}, \"baxis\": {\"endlinecolor\": \"#2a3f5f\", \"gridcolor\": \"white\", \"linecolor\": \"white\", \"minorgridcolor\": \"white\", \"startlinecolor\": \"#2a3f5f\"}, \"type\": \"carpet\"}], \"choropleth\": [{\"colorbar\": {\"outlinewidth\": 0, \"ticks\": \"\"}, \"type\": \"choropleth\"}], \"contour\": [{\"colorbar\": {\"outlinewidth\": 0, \"ticks\": \"\"}, \"colorscale\": [[0.0, \"#0d0887\"], [0.1111111111111111, \"#46039f\"], [0.2222222222222222, \"#7201a8\"], [0.3333333333333333, \"#9c179e\"], [0.4444444444444444, \"#bd3786\"], [0.5555555555555556, \"#d8576b\"], [0.6666666666666666, \"#ed7953\"], [0.7777777777777778, \"#fb9f3a\"], [0.8888888888888888, \"#fdca26\"], [1.0, \"#f0f921\"]], \"type\": \"contour\"}], \"contourcarpet\": [{\"colorbar\": {\"outlinewidth\": 0, \"ticks\": \"\"}, \"type\": \"contourcarpet\"}], \"heatmap\": [{\"colorbar\": {\"outlinewidth\": 0, \"ticks\": \"\"}, \"colorscale\": [[0.0, \"#0d0887\"], [0.1111111111111111, \"#46039f\"], [0.2222222222222222, \"#7201a8\"], [0.3333333333333333, \"#9c179e\"], [0.4444444444444444, \"#bd3786\"], [0.5555555555555556, \"#d8576b\"], [0.6666666666666666, \"#ed7953\"], [0.7777777777777778, \"#fb9f3a\"], [0.8888888888888888, \"#fdca26\"], [1.0, \"#f0f921\"]], \"type\": \"heatmap\"}], \"heatmapgl\": [{\"colorbar\": {\"outlinewidth\": 0, \"ticks\": \"\"}, \"colorscale\": [[0.0, \"#0d0887\"], [0.1111111111111111, \"#46039f\"], [0.2222222222222222, \"#7201a8\"], [0.3333333333333333, \"#9c179e\"], [0.4444444444444444, \"#bd3786\"], [0.5555555555555556, \"#d8576b\"], [0.6666666666666666, \"#ed7953\"], [0.7777777777777778, \"#fb9f3a\"], [0.8888888888888888, \"#fdca26\"], [1.0, \"#f0f921\"]], \"type\": \"heatmapgl\"}], \"histogram\": [{\"marker\": {\"colorbar\": {\"outlinewidth\": 0, \"ticks\": \"\"}}, \"type\": \"histogram\"}], \"histogram2d\": [{\"colorbar\": {\"outlinewidth\": 0, \"ticks\": \"\"}, \"colorscale\": [[0.0, \"#0d0887\"], [0.1111111111111111, \"#46039f\"], [0.2222222222222222, \"#7201a8\"], [0.3333333333333333, \"#9c179e\"], [0.4444444444444444, \"#bd3786\"], [0.5555555555555556, \"#d8576b\"], [0.6666666666666666, \"#ed7953\"], [0.7777777777777778, \"#fb9f3a\"], [0.8888888888888888, \"#fdca26\"], [1.0, \"#f0f921\"]], \"type\": \"histogram2d\"}], \"histogram2dcontour\": [{\"colorbar\": {\"outlinewidth\": 0, \"ticks\": \"\"}, \"colorscale\": [[0.0, \"#0d0887\"], [0.1111111111111111, \"#46039f\"], [0.2222222222222222, \"#7201a8\"], [0.3333333333333333, \"#9c179e\"], [0.4444444444444444, \"#bd3786\"], [0.5555555555555556, \"#d8576b\"], [0.6666666666666666, \"#ed7953\"], [0.7777777777777778, \"#fb9f3a\"], [0.8888888888888888, \"#fdca26\"], [1.0, \"#f0f921\"]], \"type\": \"histogram2dcontour\"}], \"mesh3d\": [{\"colorbar\": {\"outlinewidth\": 0, \"ticks\": \"\"}, \"type\": \"mesh3d\"}], \"parcoords\": [{\"line\": {\"colorbar\": {\"outlinewidth\": 0, \"ticks\": \"\"}}, \"type\": \"parcoords\"}], \"pie\": [{\"automargin\": true, \"type\": \"pie\"}], \"scatter\": [{\"marker\": {\"colorbar\": {\"outlinewidth\": 0, \"ticks\": \"\"}}, \"type\": \"scatter\"}], \"scatter3d\": [{\"line\": {\"colorbar\": {\"outlinewidth\": 0, \"ticks\": \"\"}}, \"marker\": {\"colorbar\": {\"outlinewidth\": 0, \"ticks\": \"\"}}, \"type\": \"scatter3d\"}], \"scattercarpet\": [{\"marker\": {\"colorbar\": {\"outlinewidth\": 0, \"ticks\": \"\"}}, \"type\": \"scattercarpet\"}], \"scattergeo\": [{\"marker\": {\"colorbar\": {\"outlinewidth\": 0, \"ticks\": \"\"}}, \"type\": \"scattergeo\"}], \"scattergl\": [{\"marker\": {\"colorbar\": {\"outlinewidth\": 0, \"ticks\": \"\"}}, \"type\": \"scattergl\"}], \"scattermapbox\": [{\"marker\": {\"colorbar\": {\"outlinewidth\": 0, \"ticks\": \"\"}}, \"type\": \"scattermapbox\"}], \"scatterpolar\": [{\"marker\": {\"colorbar\": {\"outlinewidth\": 0, \"ticks\": \"\"}}, \"type\": \"scatterpolar\"}], \"scatterpolargl\": [{\"marker\": {\"colorbar\": {\"outlinewidth\": 0, \"ticks\": \"\"}}, \"type\": \"scatterpolargl\"}], \"scatterternary\": [{\"marker\": {\"colorbar\": {\"outlinewidth\": 0, \"ticks\": \"\"}}, \"type\": \"scatterternary\"}], \"surface\": [{\"colorbar\": {\"outlinewidth\": 0, \"ticks\": \"\"}, \"colorscale\": [[0.0, \"#0d0887\"], [0.1111111111111111, \"#46039f\"], [0.2222222222222222, \"#7201a8\"], [0.3333333333333333, \"#9c179e\"], [0.4444444444444444, \"#bd3786\"], [0.5555555555555556, \"#d8576b\"], [0.6666666666666666, \"#ed7953\"], [0.7777777777777778, \"#fb9f3a\"], [0.8888888888888888, \"#fdca26\"], [1.0, \"#f0f921\"]], \"type\": \"surface\"}], \"table\": [{\"cells\": {\"fill\": {\"color\": \"#EBF0F8\"}, \"line\": {\"color\": \"white\"}}, \"header\": {\"fill\": {\"color\": \"#C8D4E3\"}, \"line\": {\"color\": \"white\"}}, \"type\": \"table\"}]}, \"layout\": {\"annotationdefaults\": {\"arrowcolor\": \"#2a3f5f\", \"arrowhead\": 0, \"arrowwidth\": 1}, \"coloraxis\": {\"colorbar\": {\"outlinewidth\": 0, \"ticks\": \"\"}}, \"colorscale\": {\"diverging\": [[0, \"#8e0152\"], [0.1, \"#c51b7d\"], [0.2, \"#de77ae\"], [0.3, \"#f1b6da\"], [0.4, \"#fde0ef\"], [0.5, \"#f7f7f7\"], [0.6, \"#e6f5d0\"], [0.7, \"#b8e186\"], [0.8, \"#7fbc41\"], [0.9, \"#4d9221\"], [1, \"#276419\"]], \"sequential\": [[0.0, \"#0d0887\"], [0.1111111111111111, \"#46039f\"], [0.2222222222222222, \"#7201a8\"], [0.3333333333333333, \"#9c179e\"], [0.4444444444444444, \"#bd3786\"], [0.5555555555555556, \"#d8576b\"], [0.6666666666666666, \"#ed7953\"], [0.7777777777777778, \"#fb9f3a\"], [0.8888888888888888, \"#fdca26\"], [1.0, \"#f0f921\"]], \"sequentialminus\": [[0.0, \"#0d0887\"], [0.1111111111111111, \"#46039f\"], [0.2222222222222222, \"#7201a8\"], [0.3333333333333333, \"#9c179e\"], [0.4444444444444444, \"#bd3786\"], [0.5555555555555556, \"#d8576b\"], [0.6666666666666666, \"#ed7953\"], [0.7777777777777778, \"#fb9f3a\"], [0.8888888888888888, \"#fdca26\"], [1.0, \"#f0f921\"]]}, \"colorway\": [\"#636efa\", \"#EF553B\", \"#00cc96\", \"#ab63fa\", \"#FFA15A\", \"#19d3f3\", \"#FF6692\", \"#B6E880\", \"#FF97FF\", \"#FECB52\"], \"font\": {\"color\": \"#2a3f5f\"}, \"geo\": {\"bgcolor\": \"white\", \"lakecolor\": \"white\", \"landcolor\": \"#E5ECF6\", \"showlakes\": true, \"showland\": true, \"subunitcolor\": \"white\"}, \"hoverlabel\": {\"align\": \"left\"}, \"hovermode\": \"closest\", \"mapbox\": {\"style\": \"light\"}, \"paper_bgcolor\": \"white\", \"plot_bgcolor\": \"#E5ECF6\", \"polar\": {\"angularaxis\": {\"gridcolor\": \"white\", \"linecolor\": \"white\", \"ticks\": \"\"}, \"bgcolor\": \"#E5ECF6\", \"radialaxis\": {\"gridcolor\": \"white\", \"linecolor\": \"white\", \"ticks\": \"\"}}, \"scene\": {\"xaxis\": {\"backgroundcolor\": \"#E5ECF6\", \"gridcolor\": \"white\", \"gridwidth\": 2, \"linecolor\": \"white\", \"showbackground\": true, \"ticks\": \"\", \"zerolinecolor\": \"white\"}, \"yaxis\": {\"backgroundcolor\": \"#E5ECF6\", \"gridcolor\": \"white\", \"gridwidth\": 2, \"linecolor\": \"white\", \"showbackground\": true, \"ticks\": \"\", \"zerolinecolor\": \"white\"}, \"zaxis\": {\"backgroundcolor\": \"#E5ECF6\", \"gridcolor\": \"white\", \"gridwidth\": 2, \"linecolor\": \"white\", \"showbackground\": true, \"ticks\": \"\", \"zerolinecolor\": \"white\"}}, \"shapedefaults\": {\"line\": {\"color\": \"#2a3f5f\"}}, \"ternary\": {\"aaxis\": {\"gridcolor\": \"white\", \"linecolor\": \"white\", \"ticks\": \"\"}, \"baxis\": {\"gridcolor\": \"white\", \"linecolor\": \"white\", \"ticks\": \"\"}, \"bgcolor\": \"#E5ECF6\", \"caxis\": {\"gridcolor\": \"white\", \"linecolor\": \"white\", \"ticks\": \"\"}}, \"title\": {\"x\": 0.05}, \"xaxis\": {\"automargin\": true, \"gridcolor\": \"white\", \"linecolor\": \"white\", \"ticks\": \"\", \"title\": {\"standoff\": 15}, \"zerolinecolor\": \"white\", \"zerolinewidth\": 2}, \"yaxis\": {\"automargin\": true, \"gridcolor\": \"white\", \"linecolor\": \"white\", \"ticks\": \"\", \"title\": {\"standoff\": 15}, \"zerolinecolor\": \"white\", \"zerolinewidth\": 2}}}, \"title\": {\"font\": {\"color\": \"#4D5663\"}}, \"xaxis\": {\"gridcolor\": \"#E1E5ED\", \"showgrid\": true, \"tickfont\": {\"color\": \"#4D5663\"}, \"title\": {\"font\": {\"color\": \"#4D5663\"}, \"text\": \"\"}, \"zerolinecolor\": \"#E1E5ED\"}, \"yaxis\": {\"gridcolor\": \"#E1E5ED\", \"showgrid\": true, \"tickfont\": {\"color\": \"#4D5663\"}, \"title\": {\"font\": {\"color\": \"#4D5663\"}, \"text\": \"\"}, \"zerolinecolor\": \"#E1E5ED\"}},\n",
       "                        {\"showLink\": true, \"linkText\": \"Export to plot.ly\", \"plotlyServerURL\": \"https://plot.ly\", \"responsive\": true}\n",
       "                    ).then(function(){\n",
       "                            \n",
       "var gd = document.getElementById('bc5e075b-8081-4037-ad06-a1398d2c40f9');\n",
       "var x = new MutationObserver(function (mutations, observer) {{\n",
       "        var display = window.getComputedStyle(gd).display;\n",
       "        if (!display || display === 'none') {{\n",
       "            console.log([gd, 'removed!']);\n",
       "            Plotly.purge(gd);\n",
       "            observer.disconnect();\n",
       "        }}\n",
       "}});\n",
       "\n",
       "// Listen for the removal of the full notebook cells\n",
       "var notebookContainer = gd.closest('#notebook-container');\n",
       "if (notebookContainer) {{\n",
       "    x.observe(notebookContainer, {childList: true});\n",
       "}}\n",
       "\n",
       "// Listen for the clearing of the current output cell\n",
       "var outputEl = gd.closest('.output');\n",
       "if (outputEl) {{\n",
       "    x.observe(outputEl, {childList: true});\n",
       "}}\n",
       "\n",
       "                        })\n",
       "                };\n",
       "                });\n",
       "            </script>\n",
       "        </div>"
      ]
     },
     "metadata": {},
     "output_type": "display_data"
    }
   ],
   "source": [
    "df.iplot(kind='scatter',x='Encounter type',y='Impact (response)',mode='markers',size=10)"
   ]
  },
  {
   "cell_type": "markdown",
   "metadata": {},
   "source": [
    "## Bar Plots"
   ]
  },
  {
   "cell_type": "code",
   "execution_count": 39,
   "metadata": {},
   "outputs": [
    {
     "data": {
      "application/vnd.plotly.v1+json": {
       "config": {
        "linkText": "Export to plot.ly",
        "plotlyServerURL": "https://plot.ly",
        "showLink": true
       },
       "data": [
        {
         "marker": {
          "color": "rgba(255, 153, 51, 0.6)",
          "line": {
           "color": "rgba(255, 153, 51, 1.0)",
           "width": 1
          }
         },
         "name": "Predominant debris type",
         "orientation": "v",
         "text": "",
         "type": "bar",
         "x": [
          "Grey seals",
          "Manatees",
          "Elephant seals",
          "Fur seals",
          "Seabirds, pinnipeds",
          "Fur seals",
          null,
          "Fur seals",
          "Invertebrates, fish, seabirds, marine mammals",
          "Seabirds, marine mammals",
          "Gorgonians",
          "Sea turtles",
          "Whales",
          "Whales",
          "Manatees",
          "Sea turtles",
          "Penguins",
          "Lugworms (laboratory)",
          "Sea turtles",
          "Seabirds",
          "Fish (laboratory)",
          null,
          "Seabirds",
          "Seabirds, pinnipeds",
          "Sperm whale",
          "Seabirds",
          "Sperm whales",
          "Copepods (laboratory)",
          "Fish (laboratory)",
          "Fish (laboratory)",
          "Birds (laboratory)",
          "Sea turtles",
          "Lugworms (laboratory)",
          "Mussels (laboratory)",
          "Epibenthic megafauna",
          "Sessile invertebrates (coral reef)",
          "Assemblage on sediment",
          "Sessile invertebrates (coral reef)",
          "Sessile invertebrates (coral reef)",
          "Seagrass",
          "Sea turtles",
          "Ghost crabs",
          "Ghost crabs",
          "Marine insects"
         ],
         "y": [
          "MF line, net, rope",
          "MF line, bags, other debris",
          "MF line, fishing jigs",
          "Packing band, fishing gear, other debris",
          "Fishing gear",
          "Trawl netting, packing bands",
          "",
          "Trawl netting, packing bands",
          "Derelict gillnets",
          "Plastic, fishing line",
          "Fishing line",
          "Fishing gear",
          "Plastic line",
          "Plastic line",
          "MF line, bags, other debris",
          "MF line, fish hooks, other debris",
          "Plastic, fishing gear, other debris",
          "Microplastics",
          "Plastic bags, ropes",
          "Plastic particles, pellets",
          "Nanoparticles",
          "",
          "Plastic pellets, foam",
          "Fishing hooks",
          "Identifiable litter items",
          "Plastic fragments, pellets, identifiable litter",
          "Fishing gear, other debris",
          "Micro- and nanoplastics",
          "Microplastics",
          "Microplastics",
          "Microplastics",
          "Marine debris",
          "Microplastics",
          "Microplastics",
          "Plastic bottles, glass jars",
          "Lobster traps",
          "Plastic litter",
          "MF line, lobster trap, hook and line gear",
          "Hook and line gear",
          "Crab pots, tires, wood",
          "Waste, medical waste",
          "Beach litter, mostly plastic",
          "Beach litter, mostly plastic",
          "Microplastics"
         ]
        }
       ],
       "layout": {
        "legend": {
         "bgcolor": "#F5F6F9",
         "font": {
          "color": "#4D5663"
         }
        },
        "paper_bgcolor": "#F5F6F9",
        "plot_bgcolor": "#F5F6F9",
        "template": {
         "data": {
          "bar": [
           {
            "error_x": {
             "color": "#2a3f5f"
            },
            "error_y": {
             "color": "#2a3f5f"
            },
            "marker": {
             "line": {
              "color": "#E5ECF6",
              "width": 0.5
             }
            },
            "type": "bar"
           }
          ],
          "barpolar": [
           {
            "marker": {
             "line": {
              "color": "#E5ECF6",
              "width": 0.5
             }
            },
            "type": "barpolar"
           }
          ],
          "carpet": [
           {
            "aaxis": {
             "endlinecolor": "#2a3f5f",
             "gridcolor": "white",
             "linecolor": "white",
             "minorgridcolor": "white",
             "startlinecolor": "#2a3f5f"
            },
            "baxis": {
             "endlinecolor": "#2a3f5f",
             "gridcolor": "white",
             "linecolor": "white",
             "minorgridcolor": "white",
             "startlinecolor": "#2a3f5f"
            },
            "type": "carpet"
           }
          ],
          "choropleth": [
           {
            "colorbar": {
             "outlinewidth": 0,
             "ticks": ""
            },
            "type": "choropleth"
           }
          ],
          "contour": [
           {
            "colorbar": {
             "outlinewidth": 0,
             "ticks": ""
            },
            "colorscale": [
             [
              0,
              "#0d0887"
             ],
             [
              0.1111111111111111,
              "#46039f"
             ],
             [
              0.2222222222222222,
              "#7201a8"
             ],
             [
              0.3333333333333333,
              "#9c179e"
             ],
             [
              0.4444444444444444,
              "#bd3786"
             ],
             [
              0.5555555555555556,
              "#d8576b"
             ],
             [
              0.6666666666666666,
              "#ed7953"
             ],
             [
              0.7777777777777778,
              "#fb9f3a"
             ],
             [
              0.8888888888888888,
              "#fdca26"
             ],
             [
              1,
              "#f0f921"
             ]
            ],
            "type": "contour"
           }
          ],
          "contourcarpet": [
           {
            "colorbar": {
             "outlinewidth": 0,
             "ticks": ""
            },
            "type": "contourcarpet"
           }
          ],
          "heatmap": [
           {
            "colorbar": {
             "outlinewidth": 0,
             "ticks": ""
            },
            "colorscale": [
             [
              0,
              "#0d0887"
             ],
             [
              0.1111111111111111,
              "#46039f"
             ],
             [
              0.2222222222222222,
              "#7201a8"
             ],
             [
              0.3333333333333333,
              "#9c179e"
             ],
             [
              0.4444444444444444,
              "#bd3786"
             ],
             [
              0.5555555555555556,
              "#d8576b"
             ],
             [
              0.6666666666666666,
              "#ed7953"
             ],
             [
              0.7777777777777778,
              "#fb9f3a"
             ],
             [
              0.8888888888888888,
              "#fdca26"
             ],
             [
              1,
              "#f0f921"
             ]
            ],
            "type": "heatmap"
           }
          ],
          "heatmapgl": [
           {
            "colorbar": {
             "outlinewidth": 0,
             "ticks": ""
            },
            "colorscale": [
             [
              0,
              "#0d0887"
             ],
             [
              0.1111111111111111,
              "#46039f"
             ],
             [
              0.2222222222222222,
              "#7201a8"
             ],
             [
              0.3333333333333333,
              "#9c179e"
             ],
             [
              0.4444444444444444,
              "#bd3786"
             ],
             [
              0.5555555555555556,
              "#d8576b"
             ],
             [
              0.6666666666666666,
              "#ed7953"
             ],
             [
              0.7777777777777778,
              "#fb9f3a"
             ],
             [
              0.8888888888888888,
              "#fdca26"
             ],
             [
              1,
              "#f0f921"
             ]
            ],
            "type": "heatmapgl"
           }
          ],
          "histogram": [
           {
            "marker": {
             "colorbar": {
              "outlinewidth": 0,
              "ticks": ""
             }
            },
            "type": "histogram"
           }
          ],
          "histogram2d": [
           {
            "colorbar": {
             "outlinewidth": 0,
             "ticks": ""
            },
            "colorscale": [
             [
              0,
              "#0d0887"
             ],
             [
              0.1111111111111111,
              "#46039f"
             ],
             [
              0.2222222222222222,
              "#7201a8"
             ],
             [
              0.3333333333333333,
              "#9c179e"
             ],
             [
              0.4444444444444444,
              "#bd3786"
             ],
             [
              0.5555555555555556,
              "#d8576b"
             ],
             [
              0.6666666666666666,
              "#ed7953"
             ],
             [
              0.7777777777777778,
              "#fb9f3a"
             ],
             [
              0.8888888888888888,
              "#fdca26"
             ],
             [
              1,
              "#f0f921"
             ]
            ],
            "type": "histogram2d"
           }
          ],
          "histogram2dcontour": [
           {
            "colorbar": {
             "outlinewidth": 0,
             "ticks": ""
            },
            "colorscale": [
             [
              0,
              "#0d0887"
             ],
             [
              0.1111111111111111,
              "#46039f"
             ],
             [
              0.2222222222222222,
              "#7201a8"
             ],
             [
              0.3333333333333333,
              "#9c179e"
             ],
             [
              0.4444444444444444,
              "#bd3786"
             ],
             [
              0.5555555555555556,
              "#d8576b"
             ],
             [
              0.6666666666666666,
              "#ed7953"
             ],
             [
              0.7777777777777778,
              "#fb9f3a"
             ],
             [
              0.8888888888888888,
              "#fdca26"
             ],
             [
              1,
              "#f0f921"
             ]
            ],
            "type": "histogram2dcontour"
           }
          ],
          "mesh3d": [
           {
            "colorbar": {
             "outlinewidth": 0,
             "ticks": ""
            },
            "type": "mesh3d"
           }
          ],
          "parcoords": [
           {
            "line": {
             "colorbar": {
              "outlinewidth": 0,
              "ticks": ""
             }
            },
            "type": "parcoords"
           }
          ],
          "pie": [
           {
            "automargin": true,
            "type": "pie"
           }
          ],
          "scatter": [
           {
            "marker": {
             "colorbar": {
              "outlinewidth": 0,
              "ticks": ""
             }
            },
            "type": "scatter"
           }
          ],
          "scatter3d": [
           {
            "line": {
             "colorbar": {
              "outlinewidth": 0,
              "ticks": ""
             }
            },
            "marker": {
             "colorbar": {
              "outlinewidth": 0,
              "ticks": ""
             }
            },
            "type": "scatter3d"
           }
          ],
          "scattercarpet": [
           {
            "marker": {
             "colorbar": {
              "outlinewidth": 0,
              "ticks": ""
             }
            },
            "type": "scattercarpet"
           }
          ],
          "scattergeo": [
           {
            "marker": {
             "colorbar": {
              "outlinewidth": 0,
              "ticks": ""
             }
            },
            "type": "scattergeo"
           }
          ],
          "scattergl": [
           {
            "marker": {
             "colorbar": {
              "outlinewidth": 0,
              "ticks": ""
             }
            },
            "type": "scattergl"
           }
          ],
          "scattermapbox": [
           {
            "marker": {
             "colorbar": {
              "outlinewidth": 0,
              "ticks": ""
             }
            },
            "type": "scattermapbox"
           }
          ],
          "scatterpolar": [
           {
            "marker": {
             "colorbar": {
              "outlinewidth": 0,
              "ticks": ""
             }
            },
            "type": "scatterpolar"
           }
          ],
          "scatterpolargl": [
           {
            "marker": {
             "colorbar": {
              "outlinewidth": 0,
              "ticks": ""
             }
            },
            "type": "scatterpolargl"
           }
          ],
          "scatterternary": [
           {
            "marker": {
             "colorbar": {
              "outlinewidth": 0,
              "ticks": ""
             }
            },
            "type": "scatterternary"
           }
          ],
          "surface": [
           {
            "colorbar": {
             "outlinewidth": 0,
             "ticks": ""
            },
            "colorscale": [
             [
              0,
              "#0d0887"
             ],
             [
              0.1111111111111111,
              "#46039f"
             ],
             [
              0.2222222222222222,
              "#7201a8"
             ],
             [
              0.3333333333333333,
              "#9c179e"
             ],
             [
              0.4444444444444444,
              "#bd3786"
             ],
             [
              0.5555555555555556,
              "#d8576b"
             ],
             [
              0.6666666666666666,
              "#ed7953"
             ],
             [
              0.7777777777777778,
              "#fb9f3a"
             ],
             [
              0.8888888888888888,
              "#fdca26"
             ],
             [
              1,
              "#f0f921"
             ]
            ],
            "type": "surface"
           }
          ],
          "table": [
           {
            "cells": {
             "fill": {
              "color": "#EBF0F8"
             },
             "line": {
              "color": "white"
             }
            },
            "header": {
             "fill": {
              "color": "#C8D4E3"
             },
             "line": {
              "color": "white"
             }
            },
            "type": "table"
           }
          ]
         },
         "layout": {
          "annotationdefaults": {
           "arrowcolor": "#2a3f5f",
           "arrowhead": 0,
           "arrowwidth": 1
          },
          "coloraxis": {
           "colorbar": {
            "outlinewidth": 0,
            "ticks": ""
           }
          },
          "colorscale": {
           "diverging": [
            [
             0,
             "#8e0152"
            ],
            [
             0.1,
             "#c51b7d"
            ],
            [
             0.2,
             "#de77ae"
            ],
            [
             0.3,
             "#f1b6da"
            ],
            [
             0.4,
             "#fde0ef"
            ],
            [
             0.5,
             "#f7f7f7"
            ],
            [
             0.6,
             "#e6f5d0"
            ],
            [
             0.7,
             "#b8e186"
            ],
            [
             0.8,
             "#7fbc41"
            ],
            [
             0.9,
             "#4d9221"
            ],
            [
             1,
             "#276419"
            ]
           ],
           "sequential": [
            [
             0,
             "#0d0887"
            ],
            [
             0.1111111111111111,
             "#46039f"
            ],
            [
             0.2222222222222222,
             "#7201a8"
            ],
            [
             0.3333333333333333,
             "#9c179e"
            ],
            [
             0.4444444444444444,
             "#bd3786"
            ],
            [
             0.5555555555555556,
             "#d8576b"
            ],
            [
             0.6666666666666666,
             "#ed7953"
            ],
            [
             0.7777777777777778,
             "#fb9f3a"
            ],
            [
             0.8888888888888888,
             "#fdca26"
            ],
            [
             1,
             "#f0f921"
            ]
           ],
           "sequentialminus": [
            [
             0,
             "#0d0887"
            ],
            [
             0.1111111111111111,
             "#46039f"
            ],
            [
             0.2222222222222222,
             "#7201a8"
            ],
            [
             0.3333333333333333,
             "#9c179e"
            ],
            [
             0.4444444444444444,
             "#bd3786"
            ],
            [
             0.5555555555555556,
             "#d8576b"
            ],
            [
             0.6666666666666666,
             "#ed7953"
            ],
            [
             0.7777777777777778,
             "#fb9f3a"
            ],
            [
             0.8888888888888888,
             "#fdca26"
            ],
            [
             1,
             "#f0f921"
            ]
           ]
          },
          "colorway": [
           "#636efa",
           "#EF553B",
           "#00cc96",
           "#ab63fa",
           "#FFA15A",
           "#19d3f3",
           "#FF6692",
           "#B6E880",
           "#FF97FF",
           "#FECB52"
          ],
          "font": {
           "color": "#2a3f5f"
          },
          "geo": {
           "bgcolor": "white",
           "lakecolor": "white",
           "landcolor": "#E5ECF6",
           "showlakes": true,
           "showland": true,
           "subunitcolor": "white"
          },
          "hoverlabel": {
           "align": "left"
          },
          "hovermode": "closest",
          "mapbox": {
           "style": "light"
          },
          "paper_bgcolor": "white",
          "plot_bgcolor": "#E5ECF6",
          "polar": {
           "angularaxis": {
            "gridcolor": "white",
            "linecolor": "white",
            "ticks": ""
           },
           "bgcolor": "#E5ECF6",
           "radialaxis": {
            "gridcolor": "white",
            "linecolor": "white",
            "ticks": ""
           }
          },
          "scene": {
           "xaxis": {
            "backgroundcolor": "#E5ECF6",
            "gridcolor": "white",
            "gridwidth": 2,
            "linecolor": "white",
            "showbackground": true,
            "ticks": "",
            "zerolinecolor": "white"
           },
           "yaxis": {
            "backgroundcolor": "#E5ECF6",
            "gridcolor": "white",
            "gridwidth": 2,
            "linecolor": "white",
            "showbackground": true,
            "ticks": "",
            "zerolinecolor": "white"
           },
           "zaxis": {
            "backgroundcolor": "#E5ECF6",
            "gridcolor": "white",
            "gridwidth": 2,
            "linecolor": "white",
            "showbackground": true,
            "ticks": "",
            "zerolinecolor": "white"
           }
          },
          "shapedefaults": {
           "line": {
            "color": "#2a3f5f"
           }
          },
          "ternary": {
           "aaxis": {
            "gridcolor": "white",
            "linecolor": "white",
            "ticks": ""
           },
           "baxis": {
            "gridcolor": "white",
            "linecolor": "white",
            "ticks": ""
           },
           "bgcolor": "#E5ECF6",
           "caxis": {
            "gridcolor": "white",
            "linecolor": "white",
            "ticks": ""
           }
          },
          "title": {
           "x": 0.05
          },
          "xaxis": {
           "automargin": true,
           "gridcolor": "white",
           "linecolor": "white",
           "ticks": "",
           "title": {
            "standoff": 15
           },
           "zerolinecolor": "white",
           "zerolinewidth": 2
          },
          "yaxis": {
           "automargin": true,
           "gridcolor": "white",
           "linecolor": "white",
           "ticks": "",
           "title": {
            "standoff": 15
           },
           "zerolinecolor": "white",
           "zerolinewidth": 2
          }
         }
        },
        "title": {
         "font": {
          "color": "#4D5663"
         }
        },
        "xaxis": {
         "gridcolor": "#E1E5ED",
         "showgrid": true,
         "tickfont": {
          "color": "#4D5663"
         },
         "title": {
          "font": {
           "color": "#4D5663"
          },
          "text": ""
         },
         "zerolinecolor": "#E1E5ED"
        },
        "yaxis": {
         "gridcolor": "#E1E5ED",
         "showgrid": true,
         "tickfont": {
          "color": "#4D5663"
         },
         "title": {
          "font": {
           "color": "#4D5663"
          },
          "text": ""
         },
         "zerolinecolor": "#E1E5ED"
        }
       }
      },
      "text/html": [
       "<div>\n",
       "        \n",
       "        \n",
       "            <div id=\"03931d13-3647-44af-bebe-9b969f0fc310\" class=\"plotly-graph-div\" style=\"height:525px; width:100%;\"></div>\n",
       "            <script type=\"text/javascript\">\n",
       "                require([\"plotly\"], function(Plotly) {\n",
       "                    window.PLOTLYENV=window.PLOTLYENV || {};\n",
       "                    window.PLOTLYENV.BASE_URL='https://plot.ly';\n",
       "                    \n",
       "                if (document.getElementById(\"03931d13-3647-44af-bebe-9b969f0fc310\")) {\n",
       "                    Plotly.newPlot(\n",
       "                        '03931d13-3647-44af-bebe-9b969f0fc310',\n",
       "                        [{\"marker\": {\"color\": \"rgba(255, 153, 51, 0.6)\", \"line\": {\"color\": \"rgba(255, 153, 51, 1.0)\", \"width\": 1}}, \"name\": \"Predominant debris type\", \"orientation\": \"v\", \"text\": \"\", \"type\": \"bar\", \"x\": [\"Grey seals\", \"Manatees\", \"Elephant seals\", \"Fur seals\", \"Seabirds, pinnipeds\", \"Fur seals\", null, \"Fur seals\", \"Invertebrates, fish, seabirds, marine mammals\", \"Seabirds, marine mammals\", \"Gorgonians\", \"Sea turtles\", \"Whales\", \"Whales\", \"Manatees\", \"Sea turtles\", \"Penguins\", \"Lugworms (laboratory)\", \"Sea turtles\", \"Seabirds\", \"Fish (laboratory)\", null, \"Seabirds\", \"Seabirds, pinnipeds\", \"Sperm whale\", \"Seabirds\", \"Sperm whales\", \"Copepods (laboratory)\", \"Fish (laboratory)\", \"Fish (laboratory)\", \"Birds (laboratory)\", \"Sea turtles\", \"Lugworms (laboratory)\", \"Mussels (laboratory)\", \"Epibenthic megafauna\", \"Sessile invertebrates (coral reef)\", \"Assemblage on sediment\", \"Sessile invertebrates (coral reef)\", \"Sessile invertebrates (coral reef)\", \"Seagrass\", \"Sea turtles\", \"Ghost crabs\", \"Ghost crabs\", \"Marine insects\"], \"y\": [\"MF line, net, rope\", \"MF line, bags, other debris\", \"MF line, fishing jigs\", \"Packing band, fishing gear, other debris\", \"Fishing gear\", \"Trawl netting, packing bands\", \"\", \"Trawl netting, packing bands\", \"Derelict gillnets\", \"Plastic, fishing line\", \"Fishing line\", \"Fishing gear\", \"Plastic line\", \"Plastic line\", \"MF line, bags, other debris\", \"MF line, fish hooks, other debris\", \"Plastic, fishing gear, other debris\", \"Microplastics\", \"Plastic bags, ropes\", \"Plastic particles, pellets\", \"Nanoparticles\", \"\", \"Plastic pellets, foam\", \"Fishing hooks\", \"Identifiable litter items\", \"Plastic fragments, pellets, identifiable litter\", \"Fishing gear, other debris\", \"Micro- and nanoplastics\", \"Microplastics\", \"Microplastics\", \"Microplastics\", \"Marine debris\", \"Microplastics\", \"Microplastics\", \"Plastic bottles, glass jars\", \"Lobster traps\", \"Plastic litter\", \"MF line, lobster trap, hook and line gear\", \"Hook and line gear\", \"Crab pots, tires, wood\", \"Waste, medical waste\", \"Beach litter, mostly plastic\", \"Beach litter, mostly plastic\", \"Microplastics\"]}],\n",
       "                        {\"legend\": {\"bgcolor\": \"#F5F6F9\", \"font\": {\"color\": \"#4D5663\"}}, \"paper_bgcolor\": \"#F5F6F9\", \"plot_bgcolor\": \"#F5F6F9\", \"template\": {\"data\": {\"bar\": [{\"error_x\": {\"color\": \"#2a3f5f\"}, \"error_y\": {\"color\": \"#2a3f5f\"}, \"marker\": {\"line\": {\"color\": \"#E5ECF6\", \"width\": 0.5}}, \"type\": \"bar\"}], \"barpolar\": [{\"marker\": {\"line\": {\"color\": \"#E5ECF6\", \"width\": 0.5}}, \"type\": \"barpolar\"}], \"carpet\": [{\"aaxis\": {\"endlinecolor\": \"#2a3f5f\", \"gridcolor\": \"white\", \"linecolor\": \"white\", \"minorgridcolor\": \"white\", \"startlinecolor\": \"#2a3f5f\"}, \"baxis\": {\"endlinecolor\": \"#2a3f5f\", \"gridcolor\": \"white\", \"linecolor\": \"white\", \"minorgridcolor\": \"white\", \"startlinecolor\": \"#2a3f5f\"}, \"type\": \"carpet\"}], \"choropleth\": [{\"colorbar\": {\"outlinewidth\": 0, \"ticks\": \"\"}, \"type\": \"choropleth\"}], \"contour\": [{\"colorbar\": {\"outlinewidth\": 0, \"ticks\": \"\"}, \"colorscale\": [[0.0, \"#0d0887\"], [0.1111111111111111, \"#46039f\"], [0.2222222222222222, \"#7201a8\"], [0.3333333333333333, \"#9c179e\"], [0.4444444444444444, \"#bd3786\"], [0.5555555555555556, \"#d8576b\"], [0.6666666666666666, \"#ed7953\"], [0.7777777777777778, \"#fb9f3a\"], [0.8888888888888888, \"#fdca26\"], [1.0, \"#f0f921\"]], \"type\": \"contour\"}], \"contourcarpet\": [{\"colorbar\": {\"outlinewidth\": 0, \"ticks\": \"\"}, \"type\": \"contourcarpet\"}], \"heatmap\": [{\"colorbar\": {\"outlinewidth\": 0, \"ticks\": \"\"}, \"colorscale\": [[0.0, \"#0d0887\"], [0.1111111111111111, \"#46039f\"], [0.2222222222222222, \"#7201a8\"], [0.3333333333333333, \"#9c179e\"], [0.4444444444444444, \"#bd3786\"], [0.5555555555555556, \"#d8576b\"], [0.6666666666666666, \"#ed7953\"], [0.7777777777777778, \"#fb9f3a\"], [0.8888888888888888, \"#fdca26\"], [1.0, \"#f0f921\"]], \"type\": \"heatmap\"}], \"heatmapgl\": [{\"colorbar\": {\"outlinewidth\": 0, \"ticks\": \"\"}, \"colorscale\": [[0.0, \"#0d0887\"], [0.1111111111111111, \"#46039f\"], [0.2222222222222222, \"#7201a8\"], [0.3333333333333333, \"#9c179e\"], [0.4444444444444444, \"#bd3786\"], [0.5555555555555556, \"#d8576b\"], [0.6666666666666666, \"#ed7953\"], [0.7777777777777778, \"#fb9f3a\"], [0.8888888888888888, \"#fdca26\"], [1.0, \"#f0f921\"]], \"type\": \"heatmapgl\"}], \"histogram\": [{\"marker\": {\"colorbar\": {\"outlinewidth\": 0, \"ticks\": \"\"}}, \"type\": \"histogram\"}], \"histogram2d\": [{\"colorbar\": {\"outlinewidth\": 0, \"ticks\": \"\"}, \"colorscale\": [[0.0, \"#0d0887\"], [0.1111111111111111, \"#46039f\"], [0.2222222222222222, \"#7201a8\"], [0.3333333333333333, \"#9c179e\"], [0.4444444444444444, \"#bd3786\"], [0.5555555555555556, \"#d8576b\"], [0.6666666666666666, \"#ed7953\"], [0.7777777777777778, \"#fb9f3a\"], [0.8888888888888888, \"#fdca26\"], [1.0, \"#f0f921\"]], \"type\": \"histogram2d\"}], \"histogram2dcontour\": [{\"colorbar\": {\"outlinewidth\": 0, \"ticks\": \"\"}, \"colorscale\": [[0.0, \"#0d0887\"], [0.1111111111111111, \"#46039f\"], [0.2222222222222222, \"#7201a8\"], [0.3333333333333333, \"#9c179e\"], [0.4444444444444444, \"#bd3786\"], [0.5555555555555556, \"#d8576b\"], [0.6666666666666666, \"#ed7953\"], [0.7777777777777778, \"#fb9f3a\"], [0.8888888888888888, \"#fdca26\"], [1.0, \"#f0f921\"]], \"type\": \"histogram2dcontour\"}], \"mesh3d\": [{\"colorbar\": {\"outlinewidth\": 0, \"ticks\": \"\"}, \"type\": \"mesh3d\"}], \"parcoords\": [{\"line\": {\"colorbar\": {\"outlinewidth\": 0, \"ticks\": \"\"}}, \"type\": \"parcoords\"}], \"pie\": [{\"automargin\": true, \"type\": \"pie\"}], \"scatter\": [{\"marker\": {\"colorbar\": {\"outlinewidth\": 0, \"ticks\": \"\"}}, \"type\": \"scatter\"}], \"scatter3d\": [{\"line\": {\"colorbar\": {\"outlinewidth\": 0, \"ticks\": \"\"}}, \"marker\": {\"colorbar\": {\"outlinewidth\": 0, \"ticks\": \"\"}}, \"type\": \"scatter3d\"}], \"scattercarpet\": [{\"marker\": {\"colorbar\": {\"outlinewidth\": 0, \"ticks\": \"\"}}, \"type\": \"scattercarpet\"}], \"scattergeo\": [{\"marker\": {\"colorbar\": {\"outlinewidth\": 0, \"ticks\": \"\"}}, \"type\": \"scattergeo\"}], \"scattergl\": [{\"marker\": {\"colorbar\": {\"outlinewidth\": 0, \"ticks\": \"\"}}, \"type\": \"scattergl\"}], \"scattermapbox\": [{\"marker\": {\"colorbar\": {\"outlinewidth\": 0, \"ticks\": \"\"}}, \"type\": \"scattermapbox\"}], \"scatterpolar\": [{\"marker\": {\"colorbar\": {\"outlinewidth\": 0, \"ticks\": \"\"}}, \"type\": \"scatterpolar\"}], \"scatterpolargl\": [{\"marker\": {\"colorbar\": {\"outlinewidth\": 0, \"ticks\": \"\"}}, \"type\": \"scatterpolargl\"}], \"scatterternary\": [{\"marker\": {\"colorbar\": {\"outlinewidth\": 0, \"ticks\": \"\"}}, \"type\": \"scatterternary\"}], \"surface\": [{\"colorbar\": {\"outlinewidth\": 0, \"ticks\": \"\"}, \"colorscale\": [[0.0, \"#0d0887\"], [0.1111111111111111, \"#46039f\"], [0.2222222222222222, \"#7201a8\"], [0.3333333333333333, \"#9c179e\"], [0.4444444444444444, \"#bd3786\"], [0.5555555555555556, \"#d8576b\"], [0.6666666666666666, \"#ed7953\"], [0.7777777777777778, \"#fb9f3a\"], [0.8888888888888888, \"#fdca26\"], [1.0, \"#f0f921\"]], \"type\": \"surface\"}], \"table\": [{\"cells\": {\"fill\": {\"color\": \"#EBF0F8\"}, \"line\": {\"color\": \"white\"}}, \"header\": {\"fill\": {\"color\": \"#C8D4E3\"}, \"line\": {\"color\": \"white\"}}, \"type\": \"table\"}]}, \"layout\": {\"annotationdefaults\": {\"arrowcolor\": \"#2a3f5f\", \"arrowhead\": 0, \"arrowwidth\": 1}, \"coloraxis\": {\"colorbar\": {\"outlinewidth\": 0, \"ticks\": \"\"}}, \"colorscale\": {\"diverging\": [[0, \"#8e0152\"], [0.1, \"#c51b7d\"], [0.2, \"#de77ae\"], [0.3, \"#f1b6da\"], [0.4, \"#fde0ef\"], [0.5, \"#f7f7f7\"], [0.6, \"#e6f5d0\"], [0.7, \"#b8e186\"], [0.8, \"#7fbc41\"], [0.9, \"#4d9221\"], [1, \"#276419\"]], \"sequential\": [[0.0, \"#0d0887\"], [0.1111111111111111, \"#46039f\"], [0.2222222222222222, \"#7201a8\"], [0.3333333333333333, \"#9c179e\"], [0.4444444444444444, \"#bd3786\"], [0.5555555555555556, \"#d8576b\"], [0.6666666666666666, \"#ed7953\"], [0.7777777777777778, \"#fb9f3a\"], [0.8888888888888888, \"#fdca26\"], [1.0, \"#f0f921\"]], \"sequentialminus\": [[0.0, \"#0d0887\"], [0.1111111111111111, \"#46039f\"], [0.2222222222222222, \"#7201a8\"], [0.3333333333333333, \"#9c179e\"], [0.4444444444444444, \"#bd3786\"], [0.5555555555555556, \"#d8576b\"], [0.6666666666666666, \"#ed7953\"], [0.7777777777777778, \"#fb9f3a\"], [0.8888888888888888, \"#fdca26\"], [1.0, \"#f0f921\"]]}, \"colorway\": [\"#636efa\", \"#EF553B\", \"#00cc96\", \"#ab63fa\", \"#FFA15A\", \"#19d3f3\", \"#FF6692\", \"#B6E880\", \"#FF97FF\", \"#FECB52\"], \"font\": {\"color\": \"#2a3f5f\"}, \"geo\": {\"bgcolor\": \"white\", \"lakecolor\": \"white\", \"landcolor\": \"#E5ECF6\", \"showlakes\": true, \"showland\": true, \"subunitcolor\": \"white\"}, \"hoverlabel\": {\"align\": \"left\"}, \"hovermode\": \"closest\", \"mapbox\": {\"style\": \"light\"}, \"paper_bgcolor\": \"white\", \"plot_bgcolor\": \"#E5ECF6\", \"polar\": {\"angularaxis\": {\"gridcolor\": \"white\", \"linecolor\": \"white\", \"ticks\": \"\"}, \"bgcolor\": \"#E5ECF6\", \"radialaxis\": {\"gridcolor\": \"white\", \"linecolor\": \"white\", \"ticks\": \"\"}}, \"scene\": {\"xaxis\": {\"backgroundcolor\": \"#E5ECF6\", \"gridcolor\": \"white\", \"gridwidth\": 2, \"linecolor\": \"white\", \"showbackground\": true, \"ticks\": \"\", \"zerolinecolor\": \"white\"}, \"yaxis\": {\"backgroundcolor\": \"#E5ECF6\", \"gridcolor\": \"white\", \"gridwidth\": 2, \"linecolor\": \"white\", \"showbackground\": true, \"ticks\": \"\", \"zerolinecolor\": \"white\"}, \"zaxis\": {\"backgroundcolor\": \"#E5ECF6\", \"gridcolor\": \"white\", \"gridwidth\": 2, \"linecolor\": \"white\", \"showbackground\": true, \"ticks\": \"\", \"zerolinecolor\": \"white\"}}, \"shapedefaults\": {\"line\": {\"color\": \"#2a3f5f\"}}, \"ternary\": {\"aaxis\": {\"gridcolor\": \"white\", \"linecolor\": \"white\", \"ticks\": \"\"}, \"baxis\": {\"gridcolor\": \"white\", \"linecolor\": \"white\", \"ticks\": \"\"}, \"bgcolor\": \"#E5ECF6\", \"caxis\": {\"gridcolor\": \"white\", \"linecolor\": \"white\", \"ticks\": \"\"}}, \"title\": {\"x\": 0.05}, \"xaxis\": {\"automargin\": true, \"gridcolor\": \"white\", \"linecolor\": \"white\", \"ticks\": \"\", \"title\": {\"standoff\": 15}, \"zerolinecolor\": \"white\", \"zerolinewidth\": 2}, \"yaxis\": {\"automargin\": true, \"gridcolor\": \"white\", \"linecolor\": \"white\", \"ticks\": \"\", \"title\": {\"standoff\": 15}, \"zerolinecolor\": \"white\", \"zerolinewidth\": 2}}}, \"title\": {\"font\": {\"color\": \"#4D5663\"}}, \"xaxis\": {\"gridcolor\": \"#E1E5ED\", \"showgrid\": true, \"tickfont\": {\"color\": \"#4D5663\"}, \"title\": {\"font\": {\"color\": \"#4D5663\"}, \"text\": \"\"}, \"zerolinecolor\": \"#E1E5ED\"}, \"yaxis\": {\"gridcolor\": \"#E1E5ED\", \"showgrid\": true, \"tickfont\": {\"color\": \"#4D5663\"}, \"title\": {\"font\": {\"color\": \"#4D5663\"}, \"text\": \"\"}, \"zerolinecolor\": \"#E1E5ED\"}},\n",
       "                        {\"showLink\": true, \"linkText\": \"Export to plot.ly\", \"plotlyServerURL\": \"https://plot.ly\", \"responsive\": true}\n",
       "                    ).then(function(){\n",
       "                            \n",
       "var gd = document.getElementById('03931d13-3647-44af-bebe-9b969f0fc310');\n",
       "var x = new MutationObserver(function (mutations, observer) {{\n",
       "        var display = window.getComputedStyle(gd).display;\n",
       "        if (!display || display === 'none') {{\n",
       "            console.log([gd, 'removed!']);\n",
       "            Plotly.purge(gd);\n",
       "            observer.disconnect();\n",
       "        }}\n",
       "}});\n",
       "\n",
       "// Listen for the removal of the full notebook cells\n",
       "var notebookContainer = gd.closest('#notebook-container');\n",
       "if (notebookContainer) {{\n",
       "    x.observe(notebookContainer, {childList: true});\n",
       "}}\n",
       "\n",
       "// Listen for the clearing of the current output cell\n",
       "var outputEl = gd.closest('.output');\n",
       "if (outputEl) {{\n",
       "    x.observe(outputEl, {childList: true});\n",
       "}}\n",
       "\n",
       "                        })\n",
       "                };\n",
       "                });\n",
       "            </script>\n",
       "        </div>"
      ]
     },
     "metadata": {},
     "output_type": "display_data"
    }
   ],
   "source": [
    "df.iplot(kind='bar',x='Animal',y='Predominant debris type')"
   ]
  },
  {
   "cell_type": "code",
   "execution_count": 40,
   "metadata": {},
   "outputs": [
    {
     "data": {
      "application/vnd.plotly.v1+json": {
       "config": {
        "linkText": "Export to plot.ly",
        "plotlyServerURL": "https://plot.ly",
        "showLink": true
       },
       "data": [
        {
         "marker": {
          "color": "rgba(255, 153, 51, 0.6)",
          "line": {
           "color": "rgba(255, 153, 51, 1.0)",
           "width": 1
          }
         },
         "name": "None",
         "orientation": "v",
         "text": "",
         "type": "bar",
         "x": [
          "Study",
          "Animal",
          "Encounter type",
          "Predominant debris type",
          "Impact (response)"
         ],
         "y": [
          44,
          42,
          42,
          42,
          41
         ]
        }
       ],
       "layout": {
        "legend": {
         "bgcolor": "#F5F6F9",
         "font": {
          "color": "#4D5663"
         }
        },
        "paper_bgcolor": "#F5F6F9",
        "plot_bgcolor": "#F5F6F9",
        "template": {
         "data": {
          "bar": [
           {
            "error_x": {
             "color": "#2a3f5f"
            },
            "error_y": {
             "color": "#2a3f5f"
            },
            "marker": {
             "line": {
              "color": "#E5ECF6",
              "width": 0.5
             }
            },
            "type": "bar"
           }
          ],
          "barpolar": [
           {
            "marker": {
             "line": {
              "color": "#E5ECF6",
              "width": 0.5
             }
            },
            "type": "barpolar"
           }
          ],
          "carpet": [
           {
            "aaxis": {
             "endlinecolor": "#2a3f5f",
             "gridcolor": "white",
             "linecolor": "white",
             "minorgridcolor": "white",
             "startlinecolor": "#2a3f5f"
            },
            "baxis": {
             "endlinecolor": "#2a3f5f",
             "gridcolor": "white",
             "linecolor": "white",
             "minorgridcolor": "white",
             "startlinecolor": "#2a3f5f"
            },
            "type": "carpet"
           }
          ],
          "choropleth": [
           {
            "colorbar": {
             "outlinewidth": 0,
             "ticks": ""
            },
            "type": "choropleth"
           }
          ],
          "contour": [
           {
            "colorbar": {
             "outlinewidth": 0,
             "ticks": ""
            },
            "colorscale": [
             [
              0,
              "#0d0887"
             ],
             [
              0.1111111111111111,
              "#46039f"
             ],
             [
              0.2222222222222222,
              "#7201a8"
             ],
             [
              0.3333333333333333,
              "#9c179e"
             ],
             [
              0.4444444444444444,
              "#bd3786"
             ],
             [
              0.5555555555555556,
              "#d8576b"
             ],
             [
              0.6666666666666666,
              "#ed7953"
             ],
             [
              0.7777777777777778,
              "#fb9f3a"
             ],
             [
              0.8888888888888888,
              "#fdca26"
             ],
             [
              1,
              "#f0f921"
             ]
            ],
            "type": "contour"
           }
          ],
          "contourcarpet": [
           {
            "colorbar": {
             "outlinewidth": 0,
             "ticks": ""
            },
            "type": "contourcarpet"
           }
          ],
          "heatmap": [
           {
            "colorbar": {
             "outlinewidth": 0,
             "ticks": ""
            },
            "colorscale": [
             [
              0,
              "#0d0887"
             ],
             [
              0.1111111111111111,
              "#46039f"
             ],
             [
              0.2222222222222222,
              "#7201a8"
             ],
             [
              0.3333333333333333,
              "#9c179e"
             ],
             [
              0.4444444444444444,
              "#bd3786"
             ],
             [
              0.5555555555555556,
              "#d8576b"
             ],
             [
              0.6666666666666666,
              "#ed7953"
             ],
             [
              0.7777777777777778,
              "#fb9f3a"
             ],
             [
              0.8888888888888888,
              "#fdca26"
             ],
             [
              1,
              "#f0f921"
             ]
            ],
            "type": "heatmap"
           }
          ],
          "heatmapgl": [
           {
            "colorbar": {
             "outlinewidth": 0,
             "ticks": ""
            },
            "colorscale": [
             [
              0,
              "#0d0887"
             ],
             [
              0.1111111111111111,
              "#46039f"
             ],
             [
              0.2222222222222222,
              "#7201a8"
             ],
             [
              0.3333333333333333,
              "#9c179e"
             ],
             [
              0.4444444444444444,
              "#bd3786"
             ],
             [
              0.5555555555555556,
              "#d8576b"
             ],
             [
              0.6666666666666666,
              "#ed7953"
             ],
             [
              0.7777777777777778,
              "#fb9f3a"
             ],
             [
              0.8888888888888888,
              "#fdca26"
             ],
             [
              1,
              "#f0f921"
             ]
            ],
            "type": "heatmapgl"
           }
          ],
          "histogram": [
           {
            "marker": {
             "colorbar": {
              "outlinewidth": 0,
              "ticks": ""
             }
            },
            "type": "histogram"
           }
          ],
          "histogram2d": [
           {
            "colorbar": {
             "outlinewidth": 0,
             "ticks": ""
            },
            "colorscale": [
             [
              0,
              "#0d0887"
             ],
             [
              0.1111111111111111,
              "#46039f"
             ],
             [
              0.2222222222222222,
              "#7201a8"
             ],
             [
              0.3333333333333333,
              "#9c179e"
             ],
             [
              0.4444444444444444,
              "#bd3786"
             ],
             [
              0.5555555555555556,
              "#d8576b"
             ],
             [
              0.6666666666666666,
              "#ed7953"
             ],
             [
              0.7777777777777778,
              "#fb9f3a"
             ],
             [
              0.8888888888888888,
              "#fdca26"
             ],
             [
              1,
              "#f0f921"
             ]
            ],
            "type": "histogram2d"
           }
          ],
          "histogram2dcontour": [
           {
            "colorbar": {
             "outlinewidth": 0,
             "ticks": ""
            },
            "colorscale": [
             [
              0,
              "#0d0887"
             ],
             [
              0.1111111111111111,
              "#46039f"
             ],
             [
              0.2222222222222222,
              "#7201a8"
             ],
             [
              0.3333333333333333,
              "#9c179e"
             ],
             [
              0.4444444444444444,
              "#bd3786"
             ],
             [
              0.5555555555555556,
              "#d8576b"
             ],
             [
              0.6666666666666666,
              "#ed7953"
             ],
             [
              0.7777777777777778,
              "#fb9f3a"
             ],
             [
              0.8888888888888888,
              "#fdca26"
             ],
             [
              1,
              "#f0f921"
             ]
            ],
            "type": "histogram2dcontour"
           }
          ],
          "mesh3d": [
           {
            "colorbar": {
             "outlinewidth": 0,
             "ticks": ""
            },
            "type": "mesh3d"
           }
          ],
          "parcoords": [
           {
            "line": {
             "colorbar": {
              "outlinewidth": 0,
              "ticks": ""
             }
            },
            "type": "parcoords"
           }
          ],
          "pie": [
           {
            "automargin": true,
            "type": "pie"
           }
          ],
          "scatter": [
           {
            "marker": {
             "colorbar": {
              "outlinewidth": 0,
              "ticks": ""
             }
            },
            "type": "scatter"
           }
          ],
          "scatter3d": [
           {
            "line": {
             "colorbar": {
              "outlinewidth": 0,
              "ticks": ""
             }
            },
            "marker": {
             "colorbar": {
              "outlinewidth": 0,
              "ticks": ""
             }
            },
            "type": "scatter3d"
           }
          ],
          "scattercarpet": [
           {
            "marker": {
             "colorbar": {
              "outlinewidth": 0,
              "ticks": ""
             }
            },
            "type": "scattercarpet"
           }
          ],
          "scattergeo": [
           {
            "marker": {
             "colorbar": {
              "outlinewidth": 0,
              "ticks": ""
             }
            },
            "type": "scattergeo"
           }
          ],
          "scattergl": [
           {
            "marker": {
             "colorbar": {
              "outlinewidth": 0,
              "ticks": ""
             }
            },
            "type": "scattergl"
           }
          ],
          "scattermapbox": [
           {
            "marker": {
             "colorbar": {
              "outlinewidth": 0,
              "ticks": ""
             }
            },
            "type": "scattermapbox"
           }
          ],
          "scatterpolar": [
           {
            "marker": {
             "colorbar": {
              "outlinewidth": 0,
              "ticks": ""
             }
            },
            "type": "scatterpolar"
           }
          ],
          "scatterpolargl": [
           {
            "marker": {
             "colorbar": {
              "outlinewidth": 0,
              "ticks": ""
             }
            },
            "type": "scatterpolargl"
           }
          ],
          "scatterternary": [
           {
            "marker": {
             "colorbar": {
              "outlinewidth": 0,
              "ticks": ""
             }
            },
            "type": "scatterternary"
           }
          ],
          "surface": [
           {
            "colorbar": {
             "outlinewidth": 0,
             "ticks": ""
            },
            "colorscale": [
             [
              0,
              "#0d0887"
             ],
             [
              0.1111111111111111,
              "#46039f"
             ],
             [
              0.2222222222222222,
              "#7201a8"
             ],
             [
              0.3333333333333333,
              "#9c179e"
             ],
             [
              0.4444444444444444,
              "#bd3786"
             ],
             [
              0.5555555555555556,
              "#d8576b"
             ],
             [
              0.6666666666666666,
              "#ed7953"
             ],
             [
              0.7777777777777778,
              "#fb9f3a"
             ],
             [
              0.8888888888888888,
              "#fdca26"
             ],
             [
              1,
              "#f0f921"
             ]
            ],
            "type": "surface"
           }
          ],
          "table": [
           {
            "cells": {
             "fill": {
              "color": "#EBF0F8"
             },
             "line": {
              "color": "white"
             }
            },
            "header": {
             "fill": {
              "color": "#C8D4E3"
             },
             "line": {
              "color": "white"
             }
            },
            "type": "table"
           }
          ]
         },
         "layout": {
          "annotationdefaults": {
           "arrowcolor": "#2a3f5f",
           "arrowhead": 0,
           "arrowwidth": 1
          },
          "coloraxis": {
           "colorbar": {
            "outlinewidth": 0,
            "ticks": ""
           }
          },
          "colorscale": {
           "diverging": [
            [
             0,
             "#8e0152"
            ],
            [
             0.1,
             "#c51b7d"
            ],
            [
             0.2,
             "#de77ae"
            ],
            [
             0.3,
             "#f1b6da"
            ],
            [
             0.4,
             "#fde0ef"
            ],
            [
             0.5,
             "#f7f7f7"
            ],
            [
             0.6,
             "#e6f5d0"
            ],
            [
             0.7,
             "#b8e186"
            ],
            [
             0.8,
             "#7fbc41"
            ],
            [
             0.9,
             "#4d9221"
            ],
            [
             1,
             "#276419"
            ]
           ],
           "sequential": [
            [
             0,
             "#0d0887"
            ],
            [
             0.1111111111111111,
             "#46039f"
            ],
            [
             0.2222222222222222,
             "#7201a8"
            ],
            [
             0.3333333333333333,
             "#9c179e"
            ],
            [
             0.4444444444444444,
             "#bd3786"
            ],
            [
             0.5555555555555556,
             "#d8576b"
            ],
            [
             0.6666666666666666,
             "#ed7953"
            ],
            [
             0.7777777777777778,
             "#fb9f3a"
            ],
            [
             0.8888888888888888,
             "#fdca26"
            ],
            [
             1,
             "#f0f921"
            ]
           ],
           "sequentialminus": [
            [
             0,
             "#0d0887"
            ],
            [
             0.1111111111111111,
             "#46039f"
            ],
            [
             0.2222222222222222,
             "#7201a8"
            ],
            [
             0.3333333333333333,
             "#9c179e"
            ],
            [
             0.4444444444444444,
             "#bd3786"
            ],
            [
             0.5555555555555556,
             "#d8576b"
            ],
            [
             0.6666666666666666,
             "#ed7953"
            ],
            [
             0.7777777777777778,
             "#fb9f3a"
            ],
            [
             0.8888888888888888,
             "#fdca26"
            ],
            [
             1,
             "#f0f921"
            ]
           ]
          },
          "colorway": [
           "#636efa",
           "#EF553B",
           "#00cc96",
           "#ab63fa",
           "#FFA15A",
           "#19d3f3",
           "#FF6692",
           "#B6E880",
           "#FF97FF",
           "#FECB52"
          ],
          "font": {
           "color": "#2a3f5f"
          },
          "geo": {
           "bgcolor": "white",
           "lakecolor": "white",
           "landcolor": "#E5ECF6",
           "showlakes": true,
           "showland": true,
           "subunitcolor": "white"
          },
          "hoverlabel": {
           "align": "left"
          },
          "hovermode": "closest",
          "mapbox": {
           "style": "light"
          },
          "paper_bgcolor": "white",
          "plot_bgcolor": "#E5ECF6",
          "polar": {
           "angularaxis": {
            "gridcolor": "white",
            "linecolor": "white",
            "ticks": ""
           },
           "bgcolor": "#E5ECF6",
           "radialaxis": {
            "gridcolor": "white",
            "linecolor": "white",
            "ticks": ""
           }
          },
          "scene": {
           "xaxis": {
            "backgroundcolor": "#E5ECF6",
            "gridcolor": "white",
            "gridwidth": 2,
            "linecolor": "white",
            "showbackground": true,
            "ticks": "",
            "zerolinecolor": "white"
           },
           "yaxis": {
            "backgroundcolor": "#E5ECF6",
            "gridcolor": "white",
            "gridwidth": 2,
            "linecolor": "white",
            "showbackground": true,
            "ticks": "",
            "zerolinecolor": "white"
           },
           "zaxis": {
            "backgroundcolor": "#E5ECF6",
            "gridcolor": "white",
            "gridwidth": 2,
            "linecolor": "white",
            "showbackground": true,
            "ticks": "",
            "zerolinecolor": "white"
           }
          },
          "shapedefaults": {
           "line": {
            "color": "#2a3f5f"
           }
          },
          "ternary": {
           "aaxis": {
            "gridcolor": "white",
            "linecolor": "white",
            "ticks": ""
           },
           "baxis": {
            "gridcolor": "white",
            "linecolor": "white",
            "ticks": ""
           },
           "bgcolor": "#E5ECF6",
           "caxis": {
            "gridcolor": "white",
            "linecolor": "white",
            "ticks": ""
           }
          },
          "title": {
           "x": 0.05
          },
          "xaxis": {
           "automargin": true,
           "gridcolor": "white",
           "linecolor": "white",
           "ticks": "",
           "title": {
            "standoff": 15
           },
           "zerolinecolor": "white",
           "zerolinewidth": 2
          },
          "yaxis": {
           "automargin": true,
           "gridcolor": "white",
           "linecolor": "white",
           "ticks": "",
           "title": {
            "standoff": 15
           },
           "zerolinecolor": "white",
           "zerolinewidth": 2
          }
         }
        },
        "title": {
         "font": {
          "color": "#4D5663"
         }
        },
        "xaxis": {
         "gridcolor": "#E1E5ED",
         "showgrid": true,
         "tickfont": {
          "color": "#4D5663"
         },
         "title": {
          "font": {
           "color": "#4D5663"
          },
          "text": ""
         },
         "zerolinecolor": "#E1E5ED"
        },
        "yaxis": {
         "gridcolor": "#E1E5ED",
         "showgrid": true,
         "tickfont": {
          "color": "#4D5663"
         },
         "title": {
          "font": {
           "color": "#4D5663"
          },
          "text": ""
         },
         "zerolinecolor": "#E1E5ED"
        }
       }
      },
      "text/html": [
       "<div>\n",
       "        \n",
       "        \n",
       "            <div id=\"07e4e379-ec26-445b-8d1d-d157580108a2\" class=\"plotly-graph-div\" style=\"height:525px; width:100%;\"></div>\n",
       "            <script type=\"text/javascript\">\n",
       "                require([\"plotly\"], function(Plotly) {\n",
       "                    window.PLOTLYENV=window.PLOTLYENV || {};\n",
       "                    window.PLOTLYENV.BASE_URL='https://plot.ly';\n",
       "                    \n",
       "                if (document.getElementById(\"07e4e379-ec26-445b-8d1d-d157580108a2\")) {\n",
       "                    Plotly.newPlot(\n",
       "                        '07e4e379-ec26-445b-8d1d-d157580108a2',\n",
       "                        [{\"marker\": {\"color\": \"rgba(255, 153, 51, 0.6)\", \"line\": {\"color\": \"rgba(255, 153, 51, 1.0)\", \"width\": 1}}, \"name\": \"None\", \"orientation\": \"v\", \"text\": \"\", \"type\": \"bar\", \"x\": [\"Study\", \"Animal\", \"Encounter type\", \"Predominant debris type\", \"Impact (response)\"], \"y\": [44, 42, 42, 42, 41]}],\n",
       "                        {\"legend\": {\"bgcolor\": \"#F5F6F9\", \"font\": {\"color\": \"#4D5663\"}}, \"paper_bgcolor\": \"#F5F6F9\", \"plot_bgcolor\": \"#F5F6F9\", \"template\": {\"data\": {\"bar\": [{\"error_x\": {\"color\": \"#2a3f5f\"}, \"error_y\": {\"color\": \"#2a3f5f\"}, \"marker\": {\"line\": {\"color\": \"#E5ECF6\", \"width\": 0.5}}, \"type\": \"bar\"}], \"barpolar\": [{\"marker\": {\"line\": {\"color\": \"#E5ECF6\", \"width\": 0.5}}, \"type\": \"barpolar\"}], \"carpet\": [{\"aaxis\": {\"endlinecolor\": \"#2a3f5f\", \"gridcolor\": \"white\", \"linecolor\": \"white\", \"minorgridcolor\": \"white\", \"startlinecolor\": \"#2a3f5f\"}, \"baxis\": {\"endlinecolor\": \"#2a3f5f\", \"gridcolor\": \"white\", \"linecolor\": \"white\", \"minorgridcolor\": \"white\", \"startlinecolor\": \"#2a3f5f\"}, \"type\": \"carpet\"}], \"choropleth\": [{\"colorbar\": {\"outlinewidth\": 0, \"ticks\": \"\"}, \"type\": \"choropleth\"}], \"contour\": [{\"colorbar\": {\"outlinewidth\": 0, \"ticks\": \"\"}, \"colorscale\": [[0.0, \"#0d0887\"], [0.1111111111111111, \"#46039f\"], [0.2222222222222222, \"#7201a8\"], [0.3333333333333333, \"#9c179e\"], [0.4444444444444444, \"#bd3786\"], [0.5555555555555556, \"#d8576b\"], [0.6666666666666666, \"#ed7953\"], [0.7777777777777778, \"#fb9f3a\"], [0.8888888888888888, \"#fdca26\"], [1.0, \"#f0f921\"]], \"type\": \"contour\"}], \"contourcarpet\": [{\"colorbar\": {\"outlinewidth\": 0, \"ticks\": \"\"}, \"type\": \"contourcarpet\"}], \"heatmap\": [{\"colorbar\": {\"outlinewidth\": 0, \"ticks\": \"\"}, \"colorscale\": [[0.0, \"#0d0887\"], [0.1111111111111111, \"#46039f\"], [0.2222222222222222, \"#7201a8\"], [0.3333333333333333, \"#9c179e\"], [0.4444444444444444, \"#bd3786\"], [0.5555555555555556, \"#d8576b\"], [0.6666666666666666, \"#ed7953\"], [0.7777777777777778, \"#fb9f3a\"], [0.8888888888888888, \"#fdca26\"], [1.0, \"#f0f921\"]], \"type\": \"heatmap\"}], \"heatmapgl\": [{\"colorbar\": {\"outlinewidth\": 0, \"ticks\": \"\"}, \"colorscale\": [[0.0, \"#0d0887\"], [0.1111111111111111, \"#46039f\"], [0.2222222222222222, \"#7201a8\"], [0.3333333333333333, \"#9c179e\"], [0.4444444444444444, \"#bd3786\"], [0.5555555555555556, \"#d8576b\"], [0.6666666666666666, \"#ed7953\"], [0.7777777777777778, \"#fb9f3a\"], [0.8888888888888888, \"#fdca26\"], [1.0, \"#f0f921\"]], \"type\": \"heatmapgl\"}], \"histogram\": [{\"marker\": {\"colorbar\": {\"outlinewidth\": 0, \"ticks\": \"\"}}, \"type\": \"histogram\"}], \"histogram2d\": [{\"colorbar\": {\"outlinewidth\": 0, \"ticks\": \"\"}, \"colorscale\": [[0.0, \"#0d0887\"], [0.1111111111111111, \"#46039f\"], [0.2222222222222222, \"#7201a8\"], [0.3333333333333333, \"#9c179e\"], [0.4444444444444444, \"#bd3786\"], [0.5555555555555556, \"#d8576b\"], [0.6666666666666666, \"#ed7953\"], [0.7777777777777778, \"#fb9f3a\"], [0.8888888888888888, \"#fdca26\"], [1.0, \"#f0f921\"]], \"type\": \"histogram2d\"}], \"histogram2dcontour\": [{\"colorbar\": {\"outlinewidth\": 0, \"ticks\": \"\"}, \"colorscale\": [[0.0, \"#0d0887\"], [0.1111111111111111, \"#46039f\"], [0.2222222222222222, \"#7201a8\"], [0.3333333333333333, \"#9c179e\"], [0.4444444444444444, \"#bd3786\"], [0.5555555555555556, \"#d8576b\"], [0.6666666666666666, \"#ed7953\"], [0.7777777777777778, \"#fb9f3a\"], [0.8888888888888888, \"#fdca26\"], [1.0, \"#f0f921\"]], \"type\": \"histogram2dcontour\"}], \"mesh3d\": [{\"colorbar\": {\"outlinewidth\": 0, \"ticks\": \"\"}, \"type\": \"mesh3d\"}], \"parcoords\": [{\"line\": {\"colorbar\": {\"outlinewidth\": 0, \"ticks\": \"\"}}, \"type\": \"parcoords\"}], \"pie\": [{\"automargin\": true, \"type\": \"pie\"}], \"scatter\": [{\"marker\": {\"colorbar\": {\"outlinewidth\": 0, \"ticks\": \"\"}}, \"type\": \"scatter\"}], \"scatter3d\": [{\"line\": {\"colorbar\": {\"outlinewidth\": 0, \"ticks\": \"\"}}, \"marker\": {\"colorbar\": {\"outlinewidth\": 0, \"ticks\": \"\"}}, \"type\": \"scatter3d\"}], \"scattercarpet\": [{\"marker\": {\"colorbar\": {\"outlinewidth\": 0, \"ticks\": \"\"}}, \"type\": \"scattercarpet\"}], \"scattergeo\": [{\"marker\": {\"colorbar\": {\"outlinewidth\": 0, \"ticks\": \"\"}}, \"type\": \"scattergeo\"}], \"scattergl\": [{\"marker\": {\"colorbar\": {\"outlinewidth\": 0, \"ticks\": \"\"}}, \"type\": \"scattergl\"}], \"scattermapbox\": [{\"marker\": {\"colorbar\": {\"outlinewidth\": 0, \"ticks\": \"\"}}, \"type\": \"scattermapbox\"}], \"scatterpolar\": [{\"marker\": {\"colorbar\": {\"outlinewidth\": 0, \"ticks\": \"\"}}, \"type\": \"scatterpolar\"}], \"scatterpolargl\": [{\"marker\": {\"colorbar\": {\"outlinewidth\": 0, \"ticks\": \"\"}}, \"type\": \"scatterpolargl\"}], \"scatterternary\": [{\"marker\": {\"colorbar\": {\"outlinewidth\": 0, \"ticks\": \"\"}}, \"type\": \"scatterternary\"}], \"surface\": [{\"colorbar\": {\"outlinewidth\": 0, \"ticks\": \"\"}, \"colorscale\": [[0.0, \"#0d0887\"], [0.1111111111111111, \"#46039f\"], [0.2222222222222222, \"#7201a8\"], [0.3333333333333333, \"#9c179e\"], [0.4444444444444444, \"#bd3786\"], [0.5555555555555556, \"#d8576b\"], [0.6666666666666666, \"#ed7953\"], [0.7777777777777778, \"#fb9f3a\"], [0.8888888888888888, \"#fdca26\"], [1.0, \"#f0f921\"]], \"type\": \"surface\"}], \"table\": [{\"cells\": {\"fill\": {\"color\": \"#EBF0F8\"}, \"line\": {\"color\": \"white\"}}, \"header\": {\"fill\": {\"color\": \"#C8D4E3\"}, \"line\": {\"color\": \"white\"}}, \"type\": \"table\"}]}, \"layout\": {\"annotationdefaults\": {\"arrowcolor\": \"#2a3f5f\", \"arrowhead\": 0, \"arrowwidth\": 1}, \"coloraxis\": {\"colorbar\": {\"outlinewidth\": 0, \"ticks\": \"\"}}, \"colorscale\": {\"diverging\": [[0, \"#8e0152\"], [0.1, \"#c51b7d\"], [0.2, \"#de77ae\"], [0.3, \"#f1b6da\"], [0.4, \"#fde0ef\"], [0.5, \"#f7f7f7\"], [0.6, \"#e6f5d0\"], [0.7, \"#b8e186\"], [0.8, \"#7fbc41\"], [0.9, \"#4d9221\"], [1, \"#276419\"]], \"sequential\": [[0.0, \"#0d0887\"], [0.1111111111111111, \"#46039f\"], [0.2222222222222222, \"#7201a8\"], [0.3333333333333333, \"#9c179e\"], [0.4444444444444444, \"#bd3786\"], [0.5555555555555556, \"#d8576b\"], [0.6666666666666666, \"#ed7953\"], [0.7777777777777778, \"#fb9f3a\"], [0.8888888888888888, \"#fdca26\"], [1.0, \"#f0f921\"]], \"sequentialminus\": [[0.0, \"#0d0887\"], [0.1111111111111111, \"#46039f\"], [0.2222222222222222, \"#7201a8\"], [0.3333333333333333, \"#9c179e\"], [0.4444444444444444, \"#bd3786\"], [0.5555555555555556, \"#d8576b\"], [0.6666666666666666, \"#ed7953\"], [0.7777777777777778, \"#fb9f3a\"], [0.8888888888888888, \"#fdca26\"], [1.0, \"#f0f921\"]]}, \"colorway\": [\"#636efa\", \"#EF553B\", \"#00cc96\", \"#ab63fa\", \"#FFA15A\", \"#19d3f3\", \"#FF6692\", \"#B6E880\", \"#FF97FF\", \"#FECB52\"], \"font\": {\"color\": \"#2a3f5f\"}, \"geo\": {\"bgcolor\": \"white\", \"lakecolor\": \"white\", \"landcolor\": \"#E5ECF6\", \"showlakes\": true, \"showland\": true, \"subunitcolor\": \"white\"}, \"hoverlabel\": {\"align\": \"left\"}, \"hovermode\": \"closest\", \"mapbox\": {\"style\": \"light\"}, \"paper_bgcolor\": \"white\", \"plot_bgcolor\": \"#E5ECF6\", \"polar\": {\"angularaxis\": {\"gridcolor\": \"white\", \"linecolor\": \"white\", \"ticks\": \"\"}, \"bgcolor\": \"#E5ECF6\", \"radialaxis\": {\"gridcolor\": \"white\", \"linecolor\": \"white\", \"ticks\": \"\"}}, \"scene\": {\"xaxis\": {\"backgroundcolor\": \"#E5ECF6\", \"gridcolor\": \"white\", \"gridwidth\": 2, \"linecolor\": \"white\", \"showbackground\": true, \"ticks\": \"\", \"zerolinecolor\": \"white\"}, \"yaxis\": {\"backgroundcolor\": \"#E5ECF6\", \"gridcolor\": \"white\", \"gridwidth\": 2, \"linecolor\": \"white\", \"showbackground\": true, \"ticks\": \"\", \"zerolinecolor\": \"white\"}, \"zaxis\": {\"backgroundcolor\": \"#E5ECF6\", \"gridcolor\": \"white\", \"gridwidth\": 2, \"linecolor\": \"white\", \"showbackground\": true, \"ticks\": \"\", \"zerolinecolor\": \"white\"}}, \"shapedefaults\": {\"line\": {\"color\": \"#2a3f5f\"}}, \"ternary\": {\"aaxis\": {\"gridcolor\": \"white\", \"linecolor\": \"white\", \"ticks\": \"\"}, \"baxis\": {\"gridcolor\": \"white\", \"linecolor\": \"white\", \"ticks\": \"\"}, \"bgcolor\": \"#E5ECF6\", \"caxis\": {\"gridcolor\": \"white\", \"linecolor\": \"white\", \"ticks\": \"\"}}, \"title\": {\"x\": 0.05}, \"xaxis\": {\"automargin\": true, \"gridcolor\": \"white\", \"linecolor\": \"white\", \"ticks\": \"\", \"title\": {\"standoff\": 15}, \"zerolinecolor\": \"white\", \"zerolinewidth\": 2}, \"yaxis\": {\"automargin\": true, \"gridcolor\": \"white\", \"linecolor\": \"white\", \"ticks\": \"\", \"title\": {\"standoff\": 15}, \"zerolinecolor\": \"white\", \"zerolinewidth\": 2}}}, \"title\": {\"font\": {\"color\": \"#4D5663\"}}, \"xaxis\": {\"gridcolor\": \"#E1E5ED\", \"showgrid\": true, \"tickfont\": {\"color\": \"#4D5663\"}, \"title\": {\"font\": {\"color\": \"#4D5663\"}, \"text\": \"\"}, \"zerolinecolor\": \"#E1E5ED\"}, \"yaxis\": {\"gridcolor\": \"#E1E5ED\", \"showgrid\": true, \"tickfont\": {\"color\": \"#4D5663\"}, \"title\": {\"font\": {\"color\": \"#4D5663\"}, \"text\": \"\"}, \"zerolinecolor\": \"#E1E5ED\"}},\n",
       "                        {\"showLink\": true, \"linkText\": \"Export to plot.ly\", \"plotlyServerURL\": \"https://plot.ly\", \"responsive\": true}\n",
       "                    ).then(function(){\n",
       "                            \n",
       "var gd = document.getElementById('07e4e379-ec26-445b-8d1d-d157580108a2');\n",
       "var x = new MutationObserver(function (mutations, observer) {{\n",
       "        var display = window.getComputedStyle(gd).display;\n",
       "        if (!display || display === 'none') {{\n",
       "            console.log([gd, 'removed!']);\n",
       "            Plotly.purge(gd);\n",
       "            observer.disconnect();\n",
       "        }}\n",
       "}});\n",
       "\n",
       "// Listen for the removal of the full notebook cells\n",
       "var notebookContainer = gd.closest('#notebook-container');\n",
       "if (notebookContainer) {{\n",
       "    x.observe(notebookContainer, {childList: true});\n",
       "}}\n",
       "\n",
       "// Listen for the clearing of the current output cell\n",
       "var outputEl = gd.closest('.output');\n",
       "if (outputEl) {{\n",
       "    x.observe(outputEl, {childList: true});\n",
       "}}\n",
       "\n",
       "                        })\n",
       "                };\n",
       "                });\n",
       "            </script>\n",
       "        </div>"
      ]
     },
     "metadata": {},
     "output_type": "display_data"
    }
   ],
   "source": [
    "df.count().iplot(kind='bar')"
   ]
  },
  {
   "cell_type": "markdown",
   "metadata": {},
   "source": [
    "## Boxplots"
   ]
  },
  {
   "cell_type": "code",
   "execution_count": 41,
   "metadata": {},
   "outputs": [
    {
     "data": {
      "application/vnd.plotly.v1+json": {
       "config": {
        "linkText": "Export to plot.ly",
        "plotlyServerURL": "https://plot.ly",
        "showLink": true
       },
       "data": [
        {
         "boxpoints": false,
         "line": {
          "width": 1.3
         },
         "marker": {
          "color": "rgba(255, 153, 51, 1.0)"
         },
         "name": "Study",
         "orientation": "v",
         "type": "box",
         "y": [
          "Allen et al. 2012",
          "Beck & Barros, 1991",
          "Campagna et al. 2007",
          "Croxall et al. 1990",
          "Dau et al. 2009",
          "Fowler 1987",
          "Fowler 1987",
          "(correlative evidence only)",
          "Good et al. 2010",
          "Moore et al. 2009",
          "Pham et al. 2013",
          "Velez-Rubio et al. 2013",
          "Winn et al. 2008",
          "Woodward et al. 2006",
          "Beck & Barros 1991",
          "Bjorndal et al. 1994",
          "Brandao et al. 2011",
          "Browne et al. 2013",
          "Bugoni et al. 2001",
          "Carey 2011",
          "Cedervall et al. 2012",
          "Connors & Smith 1982",
          "(correlative evidence only)",
          "Dau et al. 2009",
          "de Stephanis et al. 2013",
          "Fry et al. 1987",
          "Jacobsen et al. 2010",
          "Lee et al. 2013",
          "Oliveira et al. 2013",
          "Rochman et al. 2013a-c",
          "Ryan 1988",
          "Velez-Rubio et al. 2013",
          "Wright et al. 2013",
          "Von Moos et al. 2012",
          "Katsanevakis et al. 2007",
          "Lewis et al. 2009",
          "Uneputty & Evans 1997 (correlative evidence only)",
          "Chiappone et al. 2002",
          "Chiappone et al. 2005",
          "Uhrin & Schellinger 2011",
          "Ozdilek et al. 2006 (correlative evidence only)",
          "Widmer & Hennemann 2010 (correlative evidence only)",
          "Widmer & Hennemann 2010 (correlative evidence only)",
          "Goldstein et al. 2012 (correlative evidence only)"
         ]
        },
        {
         "boxpoints": false,
         "line": {
          "width": 1.3
         },
         "marker": {
          "color": "rgba(55, 128, 191, 1.0)"
         },
         "name": "Animal",
         "orientation": "v",
         "type": "box",
         "y": [
          "Grey seals",
          "Manatees",
          "Elephant seals",
          "Fur seals",
          "Seabirds, pinnipeds",
          "Fur seals",
          null,
          "Fur seals",
          "Invertebrates, fish, seabirds, marine mammals",
          "Seabirds, marine mammals",
          "Gorgonians",
          "Sea turtles",
          "Whales",
          "Whales",
          "Manatees",
          "Sea turtles",
          "Penguins",
          "Lugworms (laboratory)",
          "Sea turtles",
          "Seabirds",
          "Fish (laboratory)",
          null,
          "Seabirds",
          "Seabirds, pinnipeds",
          "Sperm whale",
          "Seabirds",
          "Sperm whales",
          "Copepods (laboratory)",
          "Fish (laboratory)",
          "Fish (laboratory)",
          "Birds (laboratory)",
          "Sea turtles",
          "Lugworms (laboratory)",
          "Mussels (laboratory)",
          "Epibenthic megafauna",
          "Sessile invertebrates (coral reef)",
          "Assemblage on sediment",
          "Sessile invertebrates (coral reef)",
          "Sessile invertebrates (coral reef)",
          "Seagrass",
          "Sea turtles",
          "Ghost crabs",
          "Ghost crabs",
          "Marine insects"
         ]
        },
        {
         "boxpoints": false,
         "line": {
          "width": 1.3
         },
         "marker": {
          "color": "rgba(50, 171, 96, 1.0)"
         },
         "name": "Encounter type",
         "orientation": "v",
         "type": "box",
         "y": [
          "Entanglement",
          "Entanglement",
          "Entanglement",
          "Entanglement",
          "Entanglement",
          "Entanglement",
          null,
          "Entanglement",
          "Entanglement",
          "Entanglement",
          "Entanglement",
          "Entanglement",
          "Entanglement",
          "Entanglement",
          "Ingestion",
          "Ingestion",
          "Ingestion",
          "Ingestion",
          "Ingestion",
          "Ingestion",
          "Ingestion",
          null,
          "Ingestion",
          "Ingestion",
          "Ingestion",
          "Ingestion",
          "Ingestion",
          "Ingestion",
          "Ingestion",
          "Ingestion",
          "Ingestion",
          "Ingestion",
          "Ingestion",
          "Ingestion and gill uptake",
          "Interaction (contact)",
          "Interaction (contact)",
          "Interaction (contact)",
          "Interaction (contact)",
          "Interaction (contact)",
          "Interaction (contact)",
          "Interaction (obstruction)",
          "Interaction (obstruction)",
          "Interaction (substrate)",
          "Interaction (substrate)"
         ]
        },
        {
         "boxpoints": false,
         "line": {
          "width": 1.3
         },
         "marker": {
          "color": "rgba(128, 0, 128, 1.0)"
         },
         "name": "Predominant debris type",
         "orientation": "v",
         "type": "box",
         "y": [
          "MF line, net, rope",
          "MF line, bags, other debris",
          "MF line, fishing jigs",
          "Packing band, fishing gear, other debris",
          "Fishing gear",
          "Trawl netting, packing bands",
          null,
          "Trawl netting, packing bands",
          "Derelict gillnets",
          "Plastic, fishing line",
          "Fishing line",
          "Fishing gear",
          "Plastic line",
          "Plastic line",
          "MF line, bags, other debris",
          "MF line, fish hooks, other debris",
          "Plastic, fishing gear, other debris",
          "Microplastics",
          "Plastic bags, ropes",
          "Plastic particles, pellets",
          "Nanoparticles",
          null,
          "Plastic pellets, foam",
          "Fishing hooks",
          "Identifiable litter items",
          "Plastic fragments, pellets, identifiable litter",
          "Fishing gear, other debris",
          "Micro- and nanoplastics",
          "Microplastics",
          "Microplastics",
          "Microplastics",
          "Marine debris",
          "Microplastics",
          "Microplastics",
          "Plastic bottles, glass jars",
          "Lobster traps",
          "Plastic litter",
          "MF line, lobster trap, hook and line gear",
          "Hook and line gear",
          "Crab pots, tires, wood",
          "Waste, medical waste",
          "Beach litter, mostly plastic",
          "Beach litter, mostly plastic",
          "Microplastics"
         ]
        },
        {
         "boxpoints": false,
         "line": {
          "width": 1.3
         },
         "marker": {
          "color": "rgba(219, 64, 82, 1.0)"
         },
         "name": "Impact (response)",
         "orientation": "v",
         "type": "box",
         "y": [
          "Constriction",
          "Death",
          "Dermal wound",
          "Dermal wound",
          "External wound",
          "Death",
          null,
          "Reduced population size",
          "Death",
          "Death",
          "Damage/breakage",
          "Death",
          "Dermal wound",
          "Dermal wound",
          "Death",
          "Intestinal blockage, death",
          null,
          "Biochemical/cellular, death",
          "Gut obstruction, death",
          "Perforated gut",
          "Biochemical/cellular",
          null,
          "Biochemical/cellular",
          "Internal wound",
          "Gastric rupture, death",
          "Gut impaction, ulcerative lesions",
          "Gastric rupture, gut impaction, death",
          "Death",
          "Biochemical/cellular",
          "Biochemical/cellular",
          "Reduced organ size",
          "Gut obstruction",
          "Biochemical/cellular",
          "Biochemical/cellular",
          "Altered assemblage",
          "Altered assemblage",
          "Altered assemblage",
          "Tissue abrasion",
          "Tissue abrasion",
          "Breakage, suffocation, death",
          "Reduced population size",
          "Reduced population size",
          "Altered assemblage",
          "Increased population size"
         ]
        }
       ],
       "layout": {
        "legend": {
         "bgcolor": "#F5F6F9",
         "font": {
          "color": "#4D5663"
         }
        },
        "paper_bgcolor": "#F5F6F9",
        "plot_bgcolor": "#F5F6F9",
        "template": {
         "data": {
          "bar": [
           {
            "error_x": {
             "color": "#2a3f5f"
            },
            "error_y": {
             "color": "#2a3f5f"
            },
            "marker": {
             "line": {
              "color": "#E5ECF6",
              "width": 0.5
             }
            },
            "type": "bar"
           }
          ],
          "barpolar": [
           {
            "marker": {
             "line": {
              "color": "#E5ECF6",
              "width": 0.5
             }
            },
            "type": "barpolar"
           }
          ],
          "carpet": [
           {
            "aaxis": {
             "endlinecolor": "#2a3f5f",
             "gridcolor": "white",
             "linecolor": "white",
             "minorgridcolor": "white",
             "startlinecolor": "#2a3f5f"
            },
            "baxis": {
             "endlinecolor": "#2a3f5f",
             "gridcolor": "white",
             "linecolor": "white",
             "minorgridcolor": "white",
             "startlinecolor": "#2a3f5f"
            },
            "type": "carpet"
           }
          ],
          "choropleth": [
           {
            "colorbar": {
             "outlinewidth": 0,
             "ticks": ""
            },
            "type": "choropleth"
           }
          ],
          "contour": [
           {
            "colorbar": {
             "outlinewidth": 0,
             "ticks": ""
            },
            "colorscale": [
             [
              0,
              "#0d0887"
             ],
             [
              0.1111111111111111,
              "#46039f"
             ],
             [
              0.2222222222222222,
              "#7201a8"
             ],
             [
              0.3333333333333333,
              "#9c179e"
             ],
             [
              0.4444444444444444,
              "#bd3786"
             ],
             [
              0.5555555555555556,
              "#d8576b"
             ],
             [
              0.6666666666666666,
              "#ed7953"
             ],
             [
              0.7777777777777778,
              "#fb9f3a"
             ],
             [
              0.8888888888888888,
              "#fdca26"
             ],
             [
              1,
              "#f0f921"
             ]
            ],
            "type": "contour"
           }
          ],
          "contourcarpet": [
           {
            "colorbar": {
             "outlinewidth": 0,
             "ticks": ""
            },
            "type": "contourcarpet"
           }
          ],
          "heatmap": [
           {
            "colorbar": {
             "outlinewidth": 0,
             "ticks": ""
            },
            "colorscale": [
             [
              0,
              "#0d0887"
             ],
             [
              0.1111111111111111,
              "#46039f"
             ],
             [
              0.2222222222222222,
              "#7201a8"
             ],
             [
              0.3333333333333333,
              "#9c179e"
             ],
             [
              0.4444444444444444,
              "#bd3786"
             ],
             [
              0.5555555555555556,
              "#d8576b"
             ],
             [
              0.6666666666666666,
              "#ed7953"
             ],
             [
              0.7777777777777778,
              "#fb9f3a"
             ],
             [
              0.8888888888888888,
              "#fdca26"
             ],
             [
              1,
              "#f0f921"
             ]
            ],
            "type": "heatmap"
           }
          ],
          "heatmapgl": [
           {
            "colorbar": {
             "outlinewidth": 0,
             "ticks": ""
            },
            "colorscale": [
             [
              0,
              "#0d0887"
             ],
             [
              0.1111111111111111,
              "#46039f"
             ],
             [
              0.2222222222222222,
              "#7201a8"
             ],
             [
              0.3333333333333333,
              "#9c179e"
             ],
             [
              0.4444444444444444,
              "#bd3786"
             ],
             [
              0.5555555555555556,
              "#d8576b"
             ],
             [
              0.6666666666666666,
              "#ed7953"
             ],
             [
              0.7777777777777778,
              "#fb9f3a"
             ],
             [
              0.8888888888888888,
              "#fdca26"
             ],
             [
              1,
              "#f0f921"
             ]
            ],
            "type": "heatmapgl"
           }
          ],
          "histogram": [
           {
            "marker": {
             "colorbar": {
              "outlinewidth": 0,
              "ticks": ""
             }
            },
            "type": "histogram"
           }
          ],
          "histogram2d": [
           {
            "colorbar": {
             "outlinewidth": 0,
             "ticks": ""
            },
            "colorscale": [
             [
              0,
              "#0d0887"
             ],
             [
              0.1111111111111111,
              "#46039f"
             ],
             [
              0.2222222222222222,
              "#7201a8"
             ],
             [
              0.3333333333333333,
              "#9c179e"
             ],
             [
              0.4444444444444444,
              "#bd3786"
             ],
             [
              0.5555555555555556,
              "#d8576b"
             ],
             [
              0.6666666666666666,
              "#ed7953"
             ],
             [
              0.7777777777777778,
              "#fb9f3a"
             ],
             [
              0.8888888888888888,
              "#fdca26"
             ],
             [
              1,
              "#f0f921"
             ]
            ],
            "type": "histogram2d"
           }
          ],
          "histogram2dcontour": [
           {
            "colorbar": {
             "outlinewidth": 0,
             "ticks": ""
            },
            "colorscale": [
             [
              0,
              "#0d0887"
             ],
             [
              0.1111111111111111,
              "#46039f"
             ],
             [
              0.2222222222222222,
              "#7201a8"
             ],
             [
              0.3333333333333333,
              "#9c179e"
             ],
             [
              0.4444444444444444,
              "#bd3786"
             ],
             [
              0.5555555555555556,
              "#d8576b"
             ],
             [
              0.6666666666666666,
              "#ed7953"
             ],
             [
              0.7777777777777778,
              "#fb9f3a"
             ],
             [
              0.8888888888888888,
              "#fdca26"
             ],
             [
              1,
              "#f0f921"
             ]
            ],
            "type": "histogram2dcontour"
           }
          ],
          "mesh3d": [
           {
            "colorbar": {
             "outlinewidth": 0,
             "ticks": ""
            },
            "type": "mesh3d"
           }
          ],
          "parcoords": [
           {
            "line": {
             "colorbar": {
              "outlinewidth": 0,
              "ticks": ""
             }
            },
            "type": "parcoords"
           }
          ],
          "pie": [
           {
            "automargin": true,
            "type": "pie"
           }
          ],
          "scatter": [
           {
            "marker": {
             "colorbar": {
              "outlinewidth": 0,
              "ticks": ""
             }
            },
            "type": "scatter"
           }
          ],
          "scatter3d": [
           {
            "line": {
             "colorbar": {
              "outlinewidth": 0,
              "ticks": ""
             }
            },
            "marker": {
             "colorbar": {
              "outlinewidth": 0,
              "ticks": ""
             }
            },
            "type": "scatter3d"
           }
          ],
          "scattercarpet": [
           {
            "marker": {
             "colorbar": {
              "outlinewidth": 0,
              "ticks": ""
             }
            },
            "type": "scattercarpet"
           }
          ],
          "scattergeo": [
           {
            "marker": {
             "colorbar": {
              "outlinewidth": 0,
              "ticks": ""
             }
            },
            "type": "scattergeo"
           }
          ],
          "scattergl": [
           {
            "marker": {
             "colorbar": {
              "outlinewidth": 0,
              "ticks": ""
             }
            },
            "type": "scattergl"
           }
          ],
          "scattermapbox": [
           {
            "marker": {
             "colorbar": {
              "outlinewidth": 0,
              "ticks": ""
             }
            },
            "type": "scattermapbox"
           }
          ],
          "scatterpolar": [
           {
            "marker": {
             "colorbar": {
              "outlinewidth": 0,
              "ticks": ""
             }
            },
            "type": "scatterpolar"
           }
          ],
          "scatterpolargl": [
           {
            "marker": {
             "colorbar": {
              "outlinewidth": 0,
              "ticks": ""
             }
            },
            "type": "scatterpolargl"
           }
          ],
          "scatterternary": [
           {
            "marker": {
             "colorbar": {
              "outlinewidth": 0,
              "ticks": ""
             }
            },
            "type": "scatterternary"
           }
          ],
          "surface": [
           {
            "colorbar": {
             "outlinewidth": 0,
             "ticks": ""
            },
            "colorscale": [
             [
              0,
              "#0d0887"
             ],
             [
              0.1111111111111111,
              "#46039f"
             ],
             [
              0.2222222222222222,
              "#7201a8"
             ],
             [
              0.3333333333333333,
              "#9c179e"
             ],
             [
              0.4444444444444444,
              "#bd3786"
             ],
             [
              0.5555555555555556,
              "#d8576b"
             ],
             [
              0.6666666666666666,
              "#ed7953"
             ],
             [
              0.7777777777777778,
              "#fb9f3a"
             ],
             [
              0.8888888888888888,
              "#fdca26"
             ],
             [
              1,
              "#f0f921"
             ]
            ],
            "type": "surface"
           }
          ],
          "table": [
           {
            "cells": {
             "fill": {
              "color": "#EBF0F8"
             },
             "line": {
              "color": "white"
             }
            },
            "header": {
             "fill": {
              "color": "#C8D4E3"
             },
             "line": {
              "color": "white"
             }
            },
            "type": "table"
           }
          ]
         },
         "layout": {
          "annotationdefaults": {
           "arrowcolor": "#2a3f5f",
           "arrowhead": 0,
           "arrowwidth": 1
          },
          "coloraxis": {
           "colorbar": {
            "outlinewidth": 0,
            "ticks": ""
           }
          },
          "colorscale": {
           "diverging": [
            [
             0,
             "#8e0152"
            ],
            [
             0.1,
             "#c51b7d"
            ],
            [
             0.2,
             "#de77ae"
            ],
            [
             0.3,
             "#f1b6da"
            ],
            [
             0.4,
             "#fde0ef"
            ],
            [
             0.5,
             "#f7f7f7"
            ],
            [
             0.6,
             "#e6f5d0"
            ],
            [
             0.7,
             "#b8e186"
            ],
            [
             0.8,
             "#7fbc41"
            ],
            [
             0.9,
             "#4d9221"
            ],
            [
             1,
             "#276419"
            ]
           ],
           "sequential": [
            [
             0,
             "#0d0887"
            ],
            [
             0.1111111111111111,
             "#46039f"
            ],
            [
             0.2222222222222222,
             "#7201a8"
            ],
            [
             0.3333333333333333,
             "#9c179e"
            ],
            [
             0.4444444444444444,
             "#bd3786"
            ],
            [
             0.5555555555555556,
             "#d8576b"
            ],
            [
             0.6666666666666666,
             "#ed7953"
            ],
            [
             0.7777777777777778,
             "#fb9f3a"
            ],
            [
             0.8888888888888888,
             "#fdca26"
            ],
            [
             1,
             "#f0f921"
            ]
           ],
           "sequentialminus": [
            [
             0,
             "#0d0887"
            ],
            [
             0.1111111111111111,
             "#46039f"
            ],
            [
             0.2222222222222222,
             "#7201a8"
            ],
            [
             0.3333333333333333,
             "#9c179e"
            ],
            [
             0.4444444444444444,
             "#bd3786"
            ],
            [
             0.5555555555555556,
             "#d8576b"
            ],
            [
             0.6666666666666666,
             "#ed7953"
            ],
            [
             0.7777777777777778,
             "#fb9f3a"
            ],
            [
             0.8888888888888888,
             "#fdca26"
            ],
            [
             1,
             "#f0f921"
            ]
           ]
          },
          "colorway": [
           "#636efa",
           "#EF553B",
           "#00cc96",
           "#ab63fa",
           "#FFA15A",
           "#19d3f3",
           "#FF6692",
           "#B6E880",
           "#FF97FF",
           "#FECB52"
          ],
          "font": {
           "color": "#2a3f5f"
          },
          "geo": {
           "bgcolor": "white",
           "lakecolor": "white",
           "landcolor": "#E5ECF6",
           "showlakes": true,
           "showland": true,
           "subunitcolor": "white"
          },
          "hoverlabel": {
           "align": "left"
          },
          "hovermode": "closest",
          "mapbox": {
           "style": "light"
          },
          "paper_bgcolor": "white",
          "plot_bgcolor": "#E5ECF6",
          "polar": {
           "angularaxis": {
            "gridcolor": "white",
            "linecolor": "white",
            "ticks": ""
           },
           "bgcolor": "#E5ECF6",
           "radialaxis": {
            "gridcolor": "white",
            "linecolor": "white",
            "ticks": ""
           }
          },
          "scene": {
           "xaxis": {
            "backgroundcolor": "#E5ECF6",
            "gridcolor": "white",
            "gridwidth": 2,
            "linecolor": "white",
            "showbackground": true,
            "ticks": "",
            "zerolinecolor": "white"
           },
           "yaxis": {
            "backgroundcolor": "#E5ECF6",
            "gridcolor": "white",
            "gridwidth": 2,
            "linecolor": "white",
            "showbackground": true,
            "ticks": "",
            "zerolinecolor": "white"
           },
           "zaxis": {
            "backgroundcolor": "#E5ECF6",
            "gridcolor": "white",
            "gridwidth": 2,
            "linecolor": "white",
            "showbackground": true,
            "ticks": "",
            "zerolinecolor": "white"
           }
          },
          "shapedefaults": {
           "line": {
            "color": "#2a3f5f"
           }
          },
          "ternary": {
           "aaxis": {
            "gridcolor": "white",
            "linecolor": "white",
            "ticks": ""
           },
           "baxis": {
            "gridcolor": "white",
            "linecolor": "white",
            "ticks": ""
           },
           "bgcolor": "#E5ECF6",
           "caxis": {
            "gridcolor": "white",
            "linecolor": "white",
            "ticks": ""
           }
          },
          "title": {
           "x": 0.05
          },
          "xaxis": {
           "automargin": true,
           "gridcolor": "white",
           "linecolor": "white",
           "ticks": "",
           "title": {
            "standoff": 15
           },
           "zerolinecolor": "white",
           "zerolinewidth": 2
          },
          "yaxis": {
           "automargin": true,
           "gridcolor": "white",
           "linecolor": "white",
           "ticks": "",
           "title": {
            "standoff": 15
           },
           "zerolinecolor": "white",
           "zerolinewidth": 2
          }
         }
        },
        "title": {
         "font": {
          "color": "#4D5663"
         }
        },
        "xaxis": {
         "gridcolor": "#E1E5ED",
         "showgrid": true,
         "tickfont": {
          "color": "#4D5663"
         },
         "title": {
          "font": {
           "color": "#4D5663"
          },
          "text": ""
         },
         "zerolinecolor": "#E1E5ED"
        },
        "yaxis": {
         "gridcolor": "#E1E5ED",
         "showgrid": true,
         "tickfont": {
          "color": "#4D5663"
         },
         "title": {
          "font": {
           "color": "#4D5663"
          },
          "text": ""
         },
         "zerolinecolor": "#E1E5ED"
        }
       }
      },
      "text/html": [
       "<div>\n",
       "        \n",
       "        \n",
       "            <div id=\"f7f47636-2b34-4c62-834e-108f90bd3b1e\" class=\"plotly-graph-div\" style=\"height:525px; width:100%;\"></div>\n",
       "            <script type=\"text/javascript\">\n",
       "                require([\"plotly\"], function(Plotly) {\n",
       "                    window.PLOTLYENV=window.PLOTLYENV || {};\n",
       "                    window.PLOTLYENV.BASE_URL='https://plot.ly';\n",
       "                    \n",
       "                if (document.getElementById(\"f7f47636-2b34-4c62-834e-108f90bd3b1e\")) {\n",
       "                    Plotly.newPlot(\n",
       "                        'f7f47636-2b34-4c62-834e-108f90bd3b1e',\n",
       "                        [{\"boxpoints\": false, \"line\": {\"width\": 1.3}, \"marker\": {\"color\": \"rgba(255, 153, 51, 1.0)\"}, \"name\": \"Study\", \"orientation\": \"v\", \"type\": \"box\", \"y\": [\"Allen et al. 2012\", \"Beck & Barros, 1991\", \"Campagna et al. 2007\", \"Croxall et al. 1990\", \"Dau et al. 2009\", \"Fowler 1987\", \"Fowler 1987\", \"(correlative evidence only)\", \"Good et al. 2010\", \"Moore et al. 2009\", \"Pham et al. 2013\", \"Velez-Rubio et al. 2013\", \"Winn et al. 2008\", \"Woodward et al. 2006\", \"Beck & Barros 1991\", \"Bjorndal et al. 1994\", \"Brandao et al. 2011\", \"Browne et al. 2013\", \"Bugoni et al. 2001\", \"Carey 2011\", \"Cedervall et al. 2012\", \"Connors & Smith 1982\", \"(correlative evidence only)\", \"Dau et al. 2009\", \"de Stephanis et al. 2013\", \"Fry et al. 1987\", \"Jacobsen et al. 2010\", \"Lee et al. 2013\", \"Oliveira et al. 2013\", \"Rochman et al. 2013a-c\", \"Ryan 1988\", \"Velez-Rubio et al. 2013\", \"Wright et al. 2013\", \"Von Moos et al. 2012\", \"Katsanevakis et al. 2007\", \"Lewis et al. 2009\", \"Uneputty & Evans 1997 (correlative evidence only)\", \"Chiappone et al. 2002\", \"Chiappone et al. 2005\", \"Uhrin & Schellinger 2011\", \"Ozdilek et al. 2006 (correlative evidence only)\", \"Widmer & Hennemann 2010 (correlative evidence only)\", \"Widmer & Hennemann 2010 (correlative evidence only)\", \"Goldstein et al. 2012 (correlative evidence only)\"]}, {\"boxpoints\": false, \"line\": {\"width\": 1.3}, \"marker\": {\"color\": \"rgba(55, 128, 191, 1.0)\"}, \"name\": \"Animal\", \"orientation\": \"v\", \"type\": \"box\", \"y\": [\"Grey seals\", \"Manatees\", \"Elephant seals\", \"Fur seals\", \"Seabirds, pinnipeds\", \"Fur seals\", null, \"Fur seals\", \"Invertebrates, fish, seabirds, marine mammals\", \"Seabirds, marine mammals\", \"Gorgonians\", \"Sea turtles\", \"Whales\", \"Whales\", \"Manatees\", \"Sea turtles\", \"Penguins\", \"Lugworms (laboratory)\", \"Sea turtles\", \"Seabirds\", \"Fish (laboratory)\", null, \"Seabirds\", \"Seabirds, pinnipeds\", \"Sperm whale\", \"Seabirds\", \"Sperm whales\", \"Copepods (laboratory)\", \"Fish (laboratory)\", \"Fish (laboratory)\", \"Birds (laboratory)\", \"Sea turtles\", \"Lugworms (laboratory)\", \"Mussels (laboratory)\", \"Epibenthic megafauna\", \"Sessile invertebrates (coral reef)\", \"Assemblage on sediment\", \"Sessile invertebrates (coral reef)\", \"Sessile invertebrates (coral reef)\", \"Seagrass\", \"Sea turtles\", \"Ghost crabs\", \"Ghost crabs\", \"Marine insects\"]}, {\"boxpoints\": false, \"line\": {\"width\": 1.3}, \"marker\": {\"color\": \"rgba(50, 171, 96, 1.0)\"}, \"name\": \"Encounter type\", \"orientation\": \"v\", \"type\": \"box\", \"y\": [\"Entanglement\", \"Entanglement\", \"Entanglement\", \"Entanglement\", \"Entanglement\", \"Entanglement\", null, \"Entanglement\", \"Entanglement\", \"Entanglement\", \"Entanglement\", \"Entanglement\", \"Entanglement\", \"Entanglement\", \"Ingestion\", \"Ingestion\", \"Ingestion\", \"Ingestion\", \"Ingestion\", \"Ingestion\", \"Ingestion\", null, \"Ingestion\", \"Ingestion\", \"Ingestion\", \"Ingestion\", \"Ingestion\", \"Ingestion\", \"Ingestion\", \"Ingestion\", \"Ingestion\", \"Ingestion\", \"Ingestion\", \"Ingestion and gill uptake\", \"Interaction (contact)\", \"Interaction (contact)\", \"Interaction (contact)\", \"Interaction (contact)\", \"Interaction (contact)\", \"Interaction (contact)\", \"Interaction (obstruction)\", \"Interaction (obstruction)\", \"Interaction (substrate)\", \"Interaction (substrate)\"]}, {\"boxpoints\": false, \"line\": {\"width\": 1.3}, \"marker\": {\"color\": \"rgba(128, 0, 128, 1.0)\"}, \"name\": \"Predominant debris type\", \"orientation\": \"v\", \"type\": \"box\", \"y\": [\"MF line, net, rope\", \"MF line, bags, other debris\", \"MF line, fishing jigs\", \"Packing band, fishing gear, other debris\", \"Fishing gear\", \"Trawl netting, packing bands\", null, \"Trawl netting, packing bands\", \"Derelict gillnets\", \"Plastic, fishing line\", \"Fishing line\", \"Fishing gear\", \"Plastic line\", \"Plastic line\", \"MF line, bags, other debris\", \"MF line, fish hooks, other debris\", \"Plastic, fishing gear, other debris\", \"Microplastics\", \"Plastic bags, ropes\", \"Plastic particles, pellets\", \"Nanoparticles\", null, \"Plastic pellets, foam\", \"Fishing hooks\", \"Identifiable litter items\", \"Plastic fragments, pellets, identifiable litter\", \"Fishing gear, other debris\", \"Micro- and nanoplastics\", \"Microplastics\", \"Microplastics\", \"Microplastics\", \"Marine debris\", \"Microplastics\", \"Microplastics\", \"Plastic bottles, glass jars\", \"Lobster traps\", \"Plastic litter\", \"MF line, lobster trap, hook and line gear\", \"Hook and line gear\", \"Crab pots, tires, wood\", \"Waste, medical waste\", \"Beach litter, mostly plastic\", \"Beach litter, mostly plastic\", \"Microplastics\"]}, {\"boxpoints\": false, \"line\": {\"width\": 1.3}, \"marker\": {\"color\": \"rgba(219, 64, 82, 1.0)\"}, \"name\": \"Impact (response)\", \"orientation\": \"v\", \"type\": \"box\", \"y\": [\"Constriction\", \"Death\", \"Dermal wound\", \"Dermal wound\", \"External wound\", \"Death\", null, \"Reduced population size\", \"Death\", \"Death\", \"Damage/breakage\", \"Death\", \"Dermal wound\", \"Dermal wound\", \"Death\", \"Intestinal blockage, death\", null, \"Biochemical/cellular, death\", \"Gut obstruction, death\", \"Perforated gut\", \"Biochemical/cellular\", null, \"Biochemical/cellular\", \"Internal wound\", \"Gastric rupture, death\", \"Gut impaction, ulcerative lesions\", \"Gastric rupture, gut impaction, death\", \"Death\", \"Biochemical/cellular\", \"Biochemical/cellular\", \"Reduced organ size\", \"Gut obstruction\", \"Biochemical/cellular\", \"Biochemical/cellular\", \"Altered assemblage\", \"Altered assemblage\", \"Altered assemblage\", \"Tissue abrasion\", \"Tissue abrasion\", \"Breakage, suffocation, death\", \"Reduced population size\", \"Reduced population size\", \"Altered assemblage\", \"Increased population size\"]}],\n",
       "                        {\"legend\": {\"bgcolor\": \"#F5F6F9\", \"font\": {\"color\": \"#4D5663\"}}, \"paper_bgcolor\": \"#F5F6F9\", \"plot_bgcolor\": \"#F5F6F9\", \"template\": {\"data\": {\"bar\": [{\"error_x\": {\"color\": \"#2a3f5f\"}, \"error_y\": {\"color\": \"#2a3f5f\"}, \"marker\": {\"line\": {\"color\": \"#E5ECF6\", \"width\": 0.5}}, \"type\": \"bar\"}], \"barpolar\": [{\"marker\": {\"line\": {\"color\": \"#E5ECF6\", \"width\": 0.5}}, \"type\": \"barpolar\"}], \"carpet\": [{\"aaxis\": {\"endlinecolor\": \"#2a3f5f\", \"gridcolor\": \"white\", \"linecolor\": \"white\", \"minorgridcolor\": \"white\", \"startlinecolor\": \"#2a3f5f\"}, \"baxis\": {\"endlinecolor\": \"#2a3f5f\", \"gridcolor\": \"white\", \"linecolor\": \"white\", \"minorgridcolor\": \"white\", \"startlinecolor\": \"#2a3f5f\"}, \"type\": \"carpet\"}], \"choropleth\": [{\"colorbar\": {\"outlinewidth\": 0, \"ticks\": \"\"}, \"type\": \"choropleth\"}], \"contour\": [{\"colorbar\": {\"outlinewidth\": 0, \"ticks\": \"\"}, \"colorscale\": [[0.0, \"#0d0887\"], [0.1111111111111111, \"#46039f\"], [0.2222222222222222, \"#7201a8\"], [0.3333333333333333, \"#9c179e\"], [0.4444444444444444, \"#bd3786\"], [0.5555555555555556, \"#d8576b\"], [0.6666666666666666, \"#ed7953\"], [0.7777777777777778, \"#fb9f3a\"], [0.8888888888888888, \"#fdca26\"], [1.0, \"#f0f921\"]], \"type\": \"contour\"}], \"contourcarpet\": [{\"colorbar\": {\"outlinewidth\": 0, \"ticks\": \"\"}, \"type\": \"contourcarpet\"}], \"heatmap\": [{\"colorbar\": {\"outlinewidth\": 0, \"ticks\": \"\"}, \"colorscale\": [[0.0, \"#0d0887\"], [0.1111111111111111, \"#46039f\"], [0.2222222222222222, \"#7201a8\"], [0.3333333333333333, \"#9c179e\"], [0.4444444444444444, \"#bd3786\"], [0.5555555555555556, \"#d8576b\"], [0.6666666666666666, \"#ed7953\"], [0.7777777777777778, \"#fb9f3a\"], [0.8888888888888888, \"#fdca26\"], [1.0, \"#f0f921\"]], \"type\": \"heatmap\"}], \"heatmapgl\": [{\"colorbar\": {\"outlinewidth\": 0, \"ticks\": \"\"}, \"colorscale\": [[0.0, \"#0d0887\"], [0.1111111111111111, \"#46039f\"], [0.2222222222222222, \"#7201a8\"], [0.3333333333333333, \"#9c179e\"], [0.4444444444444444, \"#bd3786\"], [0.5555555555555556, \"#d8576b\"], [0.6666666666666666, \"#ed7953\"], [0.7777777777777778, \"#fb9f3a\"], [0.8888888888888888, \"#fdca26\"], [1.0, \"#f0f921\"]], \"type\": \"heatmapgl\"}], \"histogram\": [{\"marker\": {\"colorbar\": {\"outlinewidth\": 0, \"ticks\": \"\"}}, \"type\": \"histogram\"}], \"histogram2d\": [{\"colorbar\": {\"outlinewidth\": 0, \"ticks\": \"\"}, \"colorscale\": [[0.0, \"#0d0887\"], [0.1111111111111111, \"#46039f\"], [0.2222222222222222, \"#7201a8\"], [0.3333333333333333, \"#9c179e\"], [0.4444444444444444, \"#bd3786\"], [0.5555555555555556, \"#d8576b\"], [0.6666666666666666, \"#ed7953\"], [0.7777777777777778, \"#fb9f3a\"], [0.8888888888888888, \"#fdca26\"], [1.0, \"#f0f921\"]], \"type\": \"histogram2d\"}], \"histogram2dcontour\": [{\"colorbar\": {\"outlinewidth\": 0, \"ticks\": \"\"}, \"colorscale\": [[0.0, \"#0d0887\"], [0.1111111111111111, \"#46039f\"], [0.2222222222222222, \"#7201a8\"], [0.3333333333333333, \"#9c179e\"], [0.4444444444444444, \"#bd3786\"], [0.5555555555555556, \"#d8576b\"], [0.6666666666666666, \"#ed7953\"], [0.7777777777777778, \"#fb9f3a\"], [0.8888888888888888, \"#fdca26\"], [1.0, \"#f0f921\"]], \"type\": \"histogram2dcontour\"}], \"mesh3d\": [{\"colorbar\": {\"outlinewidth\": 0, \"ticks\": \"\"}, \"type\": \"mesh3d\"}], \"parcoords\": [{\"line\": {\"colorbar\": {\"outlinewidth\": 0, \"ticks\": \"\"}}, \"type\": \"parcoords\"}], \"pie\": [{\"automargin\": true, \"type\": \"pie\"}], \"scatter\": [{\"marker\": {\"colorbar\": {\"outlinewidth\": 0, \"ticks\": \"\"}}, \"type\": \"scatter\"}], \"scatter3d\": [{\"line\": {\"colorbar\": {\"outlinewidth\": 0, \"ticks\": \"\"}}, \"marker\": {\"colorbar\": {\"outlinewidth\": 0, \"ticks\": \"\"}}, \"type\": \"scatter3d\"}], \"scattercarpet\": [{\"marker\": {\"colorbar\": {\"outlinewidth\": 0, \"ticks\": \"\"}}, \"type\": \"scattercarpet\"}], \"scattergeo\": [{\"marker\": {\"colorbar\": {\"outlinewidth\": 0, \"ticks\": \"\"}}, \"type\": \"scattergeo\"}], \"scattergl\": [{\"marker\": {\"colorbar\": {\"outlinewidth\": 0, \"ticks\": \"\"}}, \"type\": \"scattergl\"}], \"scattermapbox\": [{\"marker\": {\"colorbar\": {\"outlinewidth\": 0, \"ticks\": \"\"}}, \"type\": \"scattermapbox\"}], \"scatterpolar\": [{\"marker\": {\"colorbar\": {\"outlinewidth\": 0, \"ticks\": \"\"}}, \"type\": \"scatterpolar\"}], \"scatterpolargl\": [{\"marker\": {\"colorbar\": {\"outlinewidth\": 0, \"ticks\": \"\"}}, \"type\": \"scatterpolargl\"}], \"scatterternary\": [{\"marker\": {\"colorbar\": {\"outlinewidth\": 0, \"ticks\": \"\"}}, \"type\": \"scatterternary\"}], \"surface\": [{\"colorbar\": {\"outlinewidth\": 0, \"ticks\": \"\"}, \"colorscale\": [[0.0, \"#0d0887\"], [0.1111111111111111, \"#46039f\"], [0.2222222222222222, \"#7201a8\"], [0.3333333333333333, \"#9c179e\"], [0.4444444444444444, \"#bd3786\"], [0.5555555555555556, \"#d8576b\"], [0.6666666666666666, \"#ed7953\"], [0.7777777777777778, \"#fb9f3a\"], [0.8888888888888888, \"#fdca26\"], [1.0, \"#f0f921\"]], \"type\": \"surface\"}], \"table\": [{\"cells\": {\"fill\": {\"color\": \"#EBF0F8\"}, \"line\": {\"color\": \"white\"}}, \"header\": {\"fill\": {\"color\": \"#C8D4E3\"}, \"line\": {\"color\": \"white\"}}, \"type\": \"table\"}]}, \"layout\": {\"annotationdefaults\": {\"arrowcolor\": \"#2a3f5f\", \"arrowhead\": 0, \"arrowwidth\": 1}, \"coloraxis\": {\"colorbar\": {\"outlinewidth\": 0, \"ticks\": \"\"}}, \"colorscale\": {\"diverging\": [[0, \"#8e0152\"], [0.1, \"#c51b7d\"], [0.2, \"#de77ae\"], [0.3, \"#f1b6da\"], [0.4, \"#fde0ef\"], [0.5, \"#f7f7f7\"], [0.6, \"#e6f5d0\"], [0.7, \"#b8e186\"], [0.8, \"#7fbc41\"], [0.9, \"#4d9221\"], [1, \"#276419\"]], \"sequential\": [[0.0, \"#0d0887\"], [0.1111111111111111, \"#46039f\"], [0.2222222222222222, \"#7201a8\"], [0.3333333333333333, \"#9c179e\"], [0.4444444444444444, \"#bd3786\"], [0.5555555555555556, \"#d8576b\"], [0.6666666666666666, \"#ed7953\"], [0.7777777777777778, \"#fb9f3a\"], [0.8888888888888888, \"#fdca26\"], [1.0, \"#f0f921\"]], \"sequentialminus\": [[0.0, \"#0d0887\"], [0.1111111111111111, \"#46039f\"], [0.2222222222222222, \"#7201a8\"], [0.3333333333333333, \"#9c179e\"], [0.4444444444444444, \"#bd3786\"], [0.5555555555555556, \"#d8576b\"], [0.6666666666666666, \"#ed7953\"], [0.7777777777777778, \"#fb9f3a\"], [0.8888888888888888, \"#fdca26\"], [1.0, \"#f0f921\"]]}, \"colorway\": [\"#636efa\", \"#EF553B\", \"#00cc96\", \"#ab63fa\", \"#FFA15A\", \"#19d3f3\", \"#FF6692\", \"#B6E880\", \"#FF97FF\", \"#FECB52\"], \"font\": {\"color\": \"#2a3f5f\"}, \"geo\": {\"bgcolor\": \"white\", \"lakecolor\": \"white\", \"landcolor\": \"#E5ECF6\", \"showlakes\": true, \"showland\": true, \"subunitcolor\": \"white\"}, \"hoverlabel\": {\"align\": \"left\"}, \"hovermode\": \"closest\", \"mapbox\": {\"style\": \"light\"}, \"paper_bgcolor\": \"white\", \"plot_bgcolor\": \"#E5ECF6\", \"polar\": {\"angularaxis\": {\"gridcolor\": \"white\", \"linecolor\": \"white\", \"ticks\": \"\"}, \"bgcolor\": \"#E5ECF6\", \"radialaxis\": {\"gridcolor\": \"white\", \"linecolor\": \"white\", \"ticks\": \"\"}}, \"scene\": {\"xaxis\": {\"backgroundcolor\": \"#E5ECF6\", \"gridcolor\": \"white\", \"gridwidth\": 2, \"linecolor\": \"white\", \"showbackground\": true, \"ticks\": \"\", \"zerolinecolor\": \"white\"}, \"yaxis\": {\"backgroundcolor\": \"#E5ECF6\", \"gridcolor\": \"white\", \"gridwidth\": 2, \"linecolor\": \"white\", \"showbackground\": true, \"ticks\": \"\", \"zerolinecolor\": \"white\"}, \"zaxis\": {\"backgroundcolor\": \"#E5ECF6\", \"gridcolor\": \"white\", \"gridwidth\": 2, \"linecolor\": \"white\", \"showbackground\": true, \"ticks\": \"\", \"zerolinecolor\": \"white\"}}, \"shapedefaults\": {\"line\": {\"color\": \"#2a3f5f\"}}, \"ternary\": {\"aaxis\": {\"gridcolor\": \"white\", \"linecolor\": \"white\", \"ticks\": \"\"}, \"baxis\": {\"gridcolor\": \"white\", \"linecolor\": \"white\", \"ticks\": \"\"}, \"bgcolor\": \"#E5ECF6\", \"caxis\": {\"gridcolor\": \"white\", \"linecolor\": \"white\", \"ticks\": \"\"}}, \"title\": {\"x\": 0.05}, \"xaxis\": {\"automargin\": true, \"gridcolor\": \"white\", \"linecolor\": \"white\", \"ticks\": \"\", \"title\": {\"standoff\": 15}, \"zerolinecolor\": \"white\", \"zerolinewidth\": 2}, \"yaxis\": {\"automargin\": true, \"gridcolor\": \"white\", \"linecolor\": \"white\", \"ticks\": \"\", \"title\": {\"standoff\": 15}, \"zerolinecolor\": \"white\", \"zerolinewidth\": 2}}}, \"title\": {\"font\": {\"color\": \"#4D5663\"}}, \"xaxis\": {\"gridcolor\": \"#E1E5ED\", \"showgrid\": true, \"tickfont\": {\"color\": \"#4D5663\"}, \"title\": {\"font\": {\"color\": \"#4D5663\"}, \"text\": \"\"}, \"zerolinecolor\": \"#E1E5ED\"}, \"yaxis\": {\"gridcolor\": \"#E1E5ED\", \"showgrid\": true, \"tickfont\": {\"color\": \"#4D5663\"}, \"title\": {\"font\": {\"color\": \"#4D5663\"}, \"text\": \"\"}, \"zerolinecolor\": \"#E1E5ED\"}},\n",
       "                        {\"showLink\": true, \"linkText\": \"Export to plot.ly\", \"plotlyServerURL\": \"https://plot.ly\", \"responsive\": true}\n",
       "                    ).then(function(){\n",
       "                            \n",
       "var gd = document.getElementById('f7f47636-2b34-4c62-834e-108f90bd3b1e');\n",
       "var x = new MutationObserver(function (mutations, observer) {{\n",
       "        var display = window.getComputedStyle(gd).display;\n",
       "        if (!display || display === 'none') {{\n",
       "            console.log([gd, 'removed!']);\n",
       "            Plotly.purge(gd);\n",
       "            observer.disconnect();\n",
       "        }}\n",
       "}});\n",
       "\n",
       "// Listen for the removal of the full notebook cells\n",
       "var notebookContainer = gd.closest('#notebook-container');\n",
       "if (notebookContainer) {{\n",
       "    x.observe(notebookContainer, {childList: true});\n",
       "}}\n",
       "\n",
       "// Listen for the clearing of the current output cell\n",
       "var outputEl = gd.closest('.output');\n",
       "if (outputEl) {{\n",
       "    x.observe(outputEl, {childList: true});\n",
       "}}\n",
       "\n",
       "                        })\n",
       "                };\n",
       "                });\n",
       "            </script>\n",
       "        </div>"
      ]
     },
     "metadata": {},
     "output_type": "display_data"
    }
   ],
   "source": [
    "df.iplot(kind='box')"
   ]
  },
  {
   "cell_type": "markdown",
   "metadata": {},
   "source": [
    "## 3d Surface"
   ]
  },
  {
   "cell_type": "code",
   "execution_count": 42,
   "metadata": {},
   "outputs": [
    {
     "ename": "TypeError",
     "evalue": "'<=' not supported between instances of 'str' and 'float'",
     "output_type": "error",
     "traceback": [
      "\u001b[1;31m---------------------------------------------------------------------------\u001b[0m",
      "\u001b[1;31mTypeError\u001b[0m                                 Traceback (most recent call last)",
      "\u001b[1;32m<ipython-input-42-9c4c543a9abf>\u001b[0m in \u001b[0;36m<module>\u001b[1;34m\u001b[0m\n\u001b[1;32m----> 1\u001b[1;33m \u001b[0mdf\u001b[0m\u001b[1;33m.\u001b[0m\u001b[0miplot\u001b[0m\u001b[1;33m(\u001b[0m\u001b[0mkind\u001b[0m\u001b[1;33m=\u001b[0m\u001b[1;34m'surface'\u001b[0m\u001b[1;33m,\u001b[0m\u001b[0mcolorscale\u001b[0m\u001b[1;33m=\u001b[0m\u001b[1;34m'rdylbu'\u001b[0m\u001b[1;33m)\u001b[0m\u001b[1;33m\u001b[0m\u001b[1;33m\u001b[0m\u001b[0m\n\u001b[0m",
      "\u001b[1;32m~\\Anaconda3\\lib\\site-packages\\cufflinks\\plotlytools.py\u001b[0m in \u001b[0;36m_iplot\u001b[1;34m(self, kind, data, layout, filename, sharing, title, xTitle, yTitle, zTitle, theme, colors, colorscale, fill, width, dash, mode, interpolation, symbol, size, barmode, sortbars, bargap, bargroupgap, bins, histnorm, histfunc, orientation, boxpoints, annotations, keys, bestfit, bestfit_colors, mean, mean_colors, categories, x, y, z, text, gridcolor, zerolinecolor, margin, labels, values, secondary_y, secondary_y_title, subplots, shape, error_x, error_y, error_type, locations, lon, lat, asFrame, asDates, asFigure, asImage, dimensions, asPlot, asUrl, online, **kwargs)\u001b[0m\n\u001b[0;32m    964\u001b[0m                                         \u001b[0mzmax\u001b[0m\u001b[1;33m=\u001b[0m\u001b[0mmax\u001b[0m\u001b[1;33m(\u001b[0m\u001b[0mz\u001b[0m\u001b[1;33m)\u001b[0m\u001b[1;33m\u001b[0m\u001b[1;33m\u001b[0m\u001b[0m\n\u001b[0;32m    965\u001b[0m                                 \u001b[1;32melse\u001b[0m\u001b[1;33m:\u001b[0m\u001b[1;33m\u001b[0m\u001b[1;33m\u001b[0m\u001b[0m\n\u001b[1;32m--> 966\u001b[1;33m                                         \u001b[0mzmin\u001b[0m\u001b[1;33m=\u001b[0m\u001b[0mz\u001b[0m\u001b[1;33m.\u001b[0m\u001b[0mmin\u001b[0m\u001b[1;33m(\u001b[0m\u001b[1;33m)\u001b[0m\u001b[1;33m\u001b[0m\u001b[1;33m\u001b[0m\u001b[0m\n\u001b[0m\u001b[0;32m    967\u001b[0m                                         \u001b[0mzmax\u001b[0m\u001b[1;33m=\u001b[0m\u001b[0mz\u001b[0m\u001b[1;33m.\u001b[0m\u001b[0mmax\u001b[0m\u001b[1;33m(\u001b[0m\u001b[1;33m)\u001b[0m\u001b[1;33m\u001b[0m\u001b[1;33m\u001b[0m\u001b[0m\n\u001b[0;32m    968\u001b[0m \u001b[1;33m\u001b[0m\u001b[0m\n",
      "\u001b[1;32m~\\Anaconda3\\lib\\site-packages\\numpy\\core\\_methods.py\u001b[0m in \u001b[0;36m_amin\u001b[1;34m(a, axis, out, keepdims, initial)\u001b[0m\n\u001b[0;32m     30\u001b[0m def _amin(a, axis=None, out=None, keepdims=False,\n\u001b[0;32m     31\u001b[0m           initial=_NoValue):\n\u001b[1;32m---> 32\u001b[1;33m     \u001b[1;32mreturn\u001b[0m \u001b[0mumr_minimum\u001b[0m\u001b[1;33m(\u001b[0m\u001b[0ma\u001b[0m\u001b[1;33m,\u001b[0m \u001b[0maxis\u001b[0m\u001b[1;33m,\u001b[0m \u001b[1;32mNone\u001b[0m\u001b[1;33m,\u001b[0m \u001b[0mout\u001b[0m\u001b[1;33m,\u001b[0m \u001b[0mkeepdims\u001b[0m\u001b[1;33m,\u001b[0m \u001b[0minitial\u001b[0m\u001b[1;33m)\u001b[0m\u001b[1;33m\u001b[0m\u001b[1;33m\u001b[0m\u001b[0m\n\u001b[0m\u001b[0;32m     33\u001b[0m \u001b[1;33m\u001b[0m\u001b[0m\n\u001b[0;32m     34\u001b[0m def _sum(a, axis=None, dtype=None, out=None, keepdims=False,\n",
      "\u001b[1;31mTypeError\u001b[0m: '<=' not supported between instances of 'str' and 'float'"
     ]
    }
   ],
   "source": [
    "df.iplot(kind='surface',colorscale='rdylbu')"
   ]
  },
  {
   "cell_type": "markdown",
   "metadata": {},
   "source": [
    "## Spread"
   ]
  },
  {
   "cell_type": "code",
   "execution_count": 44,
   "metadata": {},
   "outputs": [
    {
     "ename": "TypeError",
     "evalue": "(\"unsupported operand type(s) for -: 'str' and 'str'\", 'occurred at index 0')",
     "output_type": "error",
     "traceback": [
      "\u001b[1;31m---------------------------------------------------------------------------\u001b[0m",
      "\u001b[1;31mTypeError\u001b[0m                                 Traceback (most recent call last)",
      "\u001b[1;32m<ipython-input-44-0143d9f26c1d>\u001b[0m in \u001b[0;36m<module>\u001b[1;34m\u001b[0m\n\u001b[1;32m----> 1\u001b[1;33m \u001b[0mdf\u001b[0m\u001b[1;33m[\u001b[0m\u001b[1;33m[\u001b[0m\u001b[1;34m'Animal'\u001b[0m\u001b[1;33m,\u001b[0m\u001b[1;34m'Predominant debris type'\u001b[0m\u001b[1;33m]\u001b[0m\u001b[1;33m]\u001b[0m\u001b[1;33m.\u001b[0m\u001b[0miplot\u001b[0m\u001b[1;33m(\u001b[0m\u001b[0mkind\u001b[0m\u001b[1;33m=\u001b[0m\u001b[1;34m'spread'\u001b[0m\u001b[1;33m)\u001b[0m\u001b[1;33m\u001b[0m\u001b[1;33m\u001b[0m\u001b[0m\n\u001b[0m",
      "\u001b[1;32m~\\Anaconda3\\lib\\site-packages\\cufflinks\\plotlytools.py\u001b[0m in \u001b[0;36m_iplot\u001b[1;34m(self, kind, data, layout, filename, sharing, title, xTitle, yTitle, zTitle, theme, colors, colorscale, fill, width, dash, mode, interpolation, symbol, size, barmode, sortbars, bargap, bargroupgap, bins, histnorm, histfunc, orientation, boxpoints, annotations, keys, bestfit, bestfit_colors, mean, mean_colors, categories, x, y, z, text, gridcolor, zerolinecolor, margin, labels, values, secondary_y, secondary_y_title, subplots, shape, error_x, error_y, error_type, locations, lon, lat, asFrame, asDates, asFigure, asImage, dimensions, asPlot, asUrl, online, **kwargs)\u001b[0m\n\u001b[0;32m    846\u001b[0m                                 \u001b[1;32mif\u001b[0m \u001b[0mkind\u001b[0m \u001b[1;32min\u001b[0m \u001b[1;33m(\u001b[0m\u001b[1;34m'spread'\u001b[0m\u001b[1;33m,\u001b[0m\u001b[1;34m'ratio'\u001b[0m\u001b[1;33m)\u001b[0m\u001b[1;33m:\u001b[0m\u001b[1;33m\u001b[0m\u001b[1;33m\u001b[0m\u001b[0m\n\u001b[0;32m    847\u001b[0m                                                 \u001b[1;32mif\u001b[0m \u001b[0mkind\u001b[0m\u001b[1;33m==\u001b[0m\u001b[1;34m'spread'\u001b[0m\u001b[1;33m:\u001b[0m\u001b[1;33m\u001b[0m\u001b[1;33m\u001b[0m\u001b[0m\n\u001b[1;32m--> 848\u001b[1;33m                                                         \u001b[0mtrace\u001b[0m\u001b[1;33m=\u001b[0m\u001b[0mself\u001b[0m\u001b[1;33m.\u001b[0m\u001b[0mapply\u001b[0m\u001b[1;33m(\u001b[0m\u001b[1;32mlambda\u001b[0m \u001b[0mx\u001b[0m\u001b[1;33m:\u001b[0m\u001b[0mx\u001b[0m\u001b[1;33m[\u001b[0m\u001b[1;36m0\u001b[0m\u001b[1;33m]\u001b[0m\u001b[1;33m-\u001b[0m\u001b[0mx\u001b[0m\u001b[1;33m[\u001b[0m\u001b[1;36m1\u001b[0m\u001b[1;33m]\u001b[0m\u001b[1;33m,\u001b[0m\u001b[0maxis\u001b[0m\u001b[1;33m=\u001b[0m\u001b[1;36m1\u001b[0m\u001b[1;33m)\u001b[0m\u001b[1;33m\u001b[0m\u001b[1;33m\u001b[0m\u001b[0m\n\u001b[0m\u001b[0;32m    849\u001b[0m                                                         \u001b[0mpositive\u001b[0m\u001b[1;33m=\u001b[0m\u001b[0mtrace\u001b[0m\u001b[1;33m.\u001b[0m\u001b[0mapply\u001b[0m\u001b[1;33m(\u001b[0m\u001b[1;32mlambda\u001b[0m \u001b[0mx\u001b[0m\u001b[1;33m:\u001b[0m\u001b[0mx\u001b[0m \u001b[1;32mif\u001b[0m \u001b[0mx\u001b[0m\u001b[1;33m>=\u001b[0m\u001b[1;36m0\u001b[0m \u001b[1;32melse\u001b[0m \u001b[0mpd\u001b[0m\u001b[1;33m.\u001b[0m\u001b[0mnp\u001b[0m\u001b[1;33m.\u001b[0m\u001b[0mnan\u001b[0m\u001b[1;33m)\u001b[0m\u001b[1;33m\u001b[0m\u001b[1;33m\u001b[0m\u001b[0m\n\u001b[0;32m    850\u001b[0m                                                         \u001b[0mnegative\u001b[0m\u001b[1;33m=\u001b[0m\u001b[0mtrace\u001b[0m\u001b[1;33m.\u001b[0m\u001b[0mapply\u001b[0m\u001b[1;33m(\u001b[0m\u001b[1;32mlambda\u001b[0m \u001b[0mx\u001b[0m\u001b[1;33m:\u001b[0m\u001b[0mx\u001b[0m \u001b[1;32mif\u001b[0m \u001b[0mx\u001b[0m\u001b[1;33m<\u001b[0m\u001b[1;36m0\u001b[0m \u001b[1;32melse\u001b[0m \u001b[0mpd\u001b[0m\u001b[1;33m.\u001b[0m\u001b[0mnp\u001b[0m\u001b[1;33m.\u001b[0m\u001b[0mnan\u001b[0m\u001b[1;33m)\u001b[0m\u001b[1;33m\u001b[0m\u001b[1;33m\u001b[0m\u001b[0m\n",
      "\u001b[1;32m~\\Anaconda3\\lib\\site-packages\\pandas\\core\\frame.py\u001b[0m in \u001b[0;36mapply\u001b[1;34m(self, func, axis, broadcast, raw, reduce, result_type, args, **kwds)\u001b[0m\n\u001b[0;32m   6911\u001b[0m             \u001b[0mkwds\u001b[0m\u001b[1;33m=\u001b[0m\u001b[0mkwds\u001b[0m\u001b[1;33m,\u001b[0m\u001b[1;33m\u001b[0m\u001b[1;33m\u001b[0m\u001b[0m\n\u001b[0;32m   6912\u001b[0m         )\n\u001b[1;32m-> 6913\u001b[1;33m         \u001b[1;32mreturn\u001b[0m \u001b[0mop\u001b[0m\u001b[1;33m.\u001b[0m\u001b[0mget_result\u001b[0m\u001b[1;33m(\u001b[0m\u001b[1;33m)\u001b[0m\u001b[1;33m\u001b[0m\u001b[1;33m\u001b[0m\u001b[0m\n\u001b[0m\u001b[0;32m   6914\u001b[0m \u001b[1;33m\u001b[0m\u001b[0m\n\u001b[0;32m   6915\u001b[0m     \u001b[1;32mdef\u001b[0m \u001b[0mapplymap\u001b[0m\u001b[1;33m(\u001b[0m\u001b[0mself\u001b[0m\u001b[1;33m,\u001b[0m \u001b[0mfunc\u001b[0m\u001b[1;33m)\u001b[0m\u001b[1;33m:\u001b[0m\u001b[1;33m\u001b[0m\u001b[1;33m\u001b[0m\u001b[0m\n",
      "\u001b[1;32m~\\Anaconda3\\lib\\site-packages\\pandas\\core\\apply.py\u001b[0m in \u001b[0;36mget_result\u001b[1;34m(self)\u001b[0m\n\u001b[0;32m    184\u001b[0m             \u001b[1;32mreturn\u001b[0m \u001b[0mself\u001b[0m\u001b[1;33m.\u001b[0m\u001b[0mapply_raw\u001b[0m\u001b[1;33m(\u001b[0m\u001b[1;33m)\u001b[0m\u001b[1;33m\u001b[0m\u001b[1;33m\u001b[0m\u001b[0m\n\u001b[0;32m    185\u001b[0m \u001b[1;33m\u001b[0m\u001b[0m\n\u001b[1;32m--> 186\u001b[1;33m         \u001b[1;32mreturn\u001b[0m \u001b[0mself\u001b[0m\u001b[1;33m.\u001b[0m\u001b[0mapply_standard\u001b[0m\u001b[1;33m(\u001b[0m\u001b[1;33m)\u001b[0m\u001b[1;33m\u001b[0m\u001b[1;33m\u001b[0m\u001b[0m\n\u001b[0m\u001b[0;32m    187\u001b[0m \u001b[1;33m\u001b[0m\u001b[0m\n\u001b[0;32m    188\u001b[0m     \u001b[1;32mdef\u001b[0m \u001b[0mapply_empty_result\u001b[0m\u001b[1;33m(\u001b[0m\u001b[0mself\u001b[0m\u001b[1;33m)\u001b[0m\u001b[1;33m:\u001b[0m\u001b[1;33m\u001b[0m\u001b[1;33m\u001b[0m\u001b[0m\n",
      "\u001b[1;32m~\\Anaconda3\\lib\\site-packages\\pandas\\core\\apply.py\u001b[0m in \u001b[0;36mapply_standard\u001b[1;34m(self)\u001b[0m\n\u001b[0;32m    290\u001b[0m \u001b[1;33m\u001b[0m\u001b[0m\n\u001b[0;32m    291\u001b[0m         \u001b[1;31m# compute the result using the series generator\u001b[0m\u001b[1;33m\u001b[0m\u001b[1;33m\u001b[0m\u001b[1;33m\u001b[0m\u001b[0m\n\u001b[1;32m--> 292\u001b[1;33m         \u001b[0mself\u001b[0m\u001b[1;33m.\u001b[0m\u001b[0mapply_series_generator\u001b[0m\u001b[1;33m(\u001b[0m\u001b[1;33m)\u001b[0m\u001b[1;33m\u001b[0m\u001b[1;33m\u001b[0m\u001b[0m\n\u001b[0m\u001b[0;32m    293\u001b[0m \u001b[1;33m\u001b[0m\u001b[0m\n\u001b[0;32m    294\u001b[0m         \u001b[1;31m# wrap results\u001b[0m\u001b[1;33m\u001b[0m\u001b[1;33m\u001b[0m\u001b[1;33m\u001b[0m\u001b[0m\n",
      "\u001b[1;32m~\\Anaconda3\\lib\\site-packages\\pandas\\core\\apply.py\u001b[0m in \u001b[0;36mapply_series_generator\u001b[1;34m(self)\u001b[0m\n\u001b[0;32m    319\u001b[0m             \u001b[1;32mtry\u001b[0m\u001b[1;33m:\u001b[0m\u001b[1;33m\u001b[0m\u001b[1;33m\u001b[0m\u001b[0m\n\u001b[0;32m    320\u001b[0m                 \u001b[1;32mfor\u001b[0m \u001b[0mi\u001b[0m\u001b[1;33m,\u001b[0m \u001b[0mv\u001b[0m \u001b[1;32min\u001b[0m \u001b[0menumerate\u001b[0m\u001b[1;33m(\u001b[0m\u001b[0mseries_gen\u001b[0m\u001b[1;33m)\u001b[0m\u001b[1;33m:\u001b[0m\u001b[1;33m\u001b[0m\u001b[1;33m\u001b[0m\u001b[0m\n\u001b[1;32m--> 321\u001b[1;33m                     \u001b[0mresults\u001b[0m\u001b[1;33m[\u001b[0m\u001b[0mi\u001b[0m\u001b[1;33m]\u001b[0m \u001b[1;33m=\u001b[0m \u001b[0mself\u001b[0m\u001b[1;33m.\u001b[0m\u001b[0mf\u001b[0m\u001b[1;33m(\u001b[0m\u001b[0mv\u001b[0m\u001b[1;33m)\u001b[0m\u001b[1;33m\u001b[0m\u001b[1;33m\u001b[0m\u001b[0m\n\u001b[0m\u001b[0;32m    322\u001b[0m                     \u001b[0mkeys\u001b[0m\u001b[1;33m.\u001b[0m\u001b[0mappend\u001b[0m\u001b[1;33m(\u001b[0m\u001b[0mv\u001b[0m\u001b[1;33m.\u001b[0m\u001b[0mname\u001b[0m\u001b[1;33m)\u001b[0m\u001b[1;33m\u001b[0m\u001b[1;33m\u001b[0m\u001b[0m\n\u001b[0;32m    323\u001b[0m             \u001b[1;32mexcept\u001b[0m \u001b[0mException\u001b[0m \u001b[1;32mas\u001b[0m \u001b[0me\u001b[0m\u001b[1;33m:\u001b[0m\u001b[1;33m\u001b[0m\u001b[1;33m\u001b[0m\u001b[0m\n",
      "\u001b[1;32m~\\Anaconda3\\lib\\site-packages\\cufflinks\\plotlytools.py\u001b[0m in \u001b[0;36m<lambda>\u001b[1;34m(x)\u001b[0m\n\u001b[0;32m    846\u001b[0m                                 \u001b[1;32mif\u001b[0m \u001b[0mkind\u001b[0m \u001b[1;32min\u001b[0m \u001b[1;33m(\u001b[0m\u001b[1;34m'spread'\u001b[0m\u001b[1;33m,\u001b[0m\u001b[1;34m'ratio'\u001b[0m\u001b[1;33m)\u001b[0m\u001b[1;33m:\u001b[0m\u001b[1;33m\u001b[0m\u001b[1;33m\u001b[0m\u001b[0m\n\u001b[0;32m    847\u001b[0m                                                 \u001b[1;32mif\u001b[0m \u001b[0mkind\u001b[0m\u001b[1;33m==\u001b[0m\u001b[1;34m'spread'\u001b[0m\u001b[1;33m:\u001b[0m\u001b[1;33m\u001b[0m\u001b[1;33m\u001b[0m\u001b[0m\n\u001b[1;32m--> 848\u001b[1;33m                                                         \u001b[0mtrace\u001b[0m\u001b[1;33m=\u001b[0m\u001b[0mself\u001b[0m\u001b[1;33m.\u001b[0m\u001b[0mapply\u001b[0m\u001b[1;33m(\u001b[0m\u001b[1;32mlambda\u001b[0m \u001b[0mx\u001b[0m\u001b[1;33m:\u001b[0m\u001b[0mx\u001b[0m\u001b[1;33m[\u001b[0m\u001b[1;36m0\u001b[0m\u001b[1;33m]\u001b[0m\u001b[1;33m-\u001b[0m\u001b[0mx\u001b[0m\u001b[1;33m[\u001b[0m\u001b[1;36m1\u001b[0m\u001b[1;33m]\u001b[0m\u001b[1;33m,\u001b[0m\u001b[0maxis\u001b[0m\u001b[1;33m=\u001b[0m\u001b[1;36m1\u001b[0m\u001b[1;33m)\u001b[0m\u001b[1;33m\u001b[0m\u001b[1;33m\u001b[0m\u001b[0m\n\u001b[0m\u001b[0;32m    849\u001b[0m                                                         \u001b[0mpositive\u001b[0m\u001b[1;33m=\u001b[0m\u001b[0mtrace\u001b[0m\u001b[1;33m.\u001b[0m\u001b[0mapply\u001b[0m\u001b[1;33m(\u001b[0m\u001b[1;32mlambda\u001b[0m \u001b[0mx\u001b[0m\u001b[1;33m:\u001b[0m\u001b[0mx\u001b[0m \u001b[1;32mif\u001b[0m \u001b[0mx\u001b[0m\u001b[1;33m>=\u001b[0m\u001b[1;36m0\u001b[0m \u001b[1;32melse\u001b[0m \u001b[0mpd\u001b[0m\u001b[1;33m.\u001b[0m\u001b[0mnp\u001b[0m\u001b[1;33m.\u001b[0m\u001b[0mnan\u001b[0m\u001b[1;33m)\u001b[0m\u001b[1;33m\u001b[0m\u001b[1;33m\u001b[0m\u001b[0m\n\u001b[0;32m    850\u001b[0m                                                         \u001b[0mnegative\u001b[0m\u001b[1;33m=\u001b[0m\u001b[0mtrace\u001b[0m\u001b[1;33m.\u001b[0m\u001b[0mapply\u001b[0m\u001b[1;33m(\u001b[0m\u001b[1;32mlambda\u001b[0m \u001b[0mx\u001b[0m\u001b[1;33m:\u001b[0m\u001b[0mx\u001b[0m \u001b[1;32mif\u001b[0m \u001b[0mx\u001b[0m\u001b[1;33m<\u001b[0m\u001b[1;36m0\u001b[0m \u001b[1;32melse\u001b[0m \u001b[0mpd\u001b[0m\u001b[1;33m.\u001b[0m\u001b[0mnp\u001b[0m\u001b[1;33m.\u001b[0m\u001b[0mnan\u001b[0m\u001b[1;33m)\u001b[0m\u001b[1;33m\u001b[0m\u001b[1;33m\u001b[0m\u001b[0m\n",
      "\u001b[1;31mTypeError\u001b[0m: (\"unsupported operand type(s) for -: 'str' and 'str'\", 'occurred at index 0')"
     ]
    }
   ],
   "source": [
    "df[['Animal','Impact (response)']].iplot(kind='spread')"
   ]
  },
  {
   "cell_type": "markdown",
   "metadata": {},
   "source": [
    "## histogram"
   ]
  },
  {
   "cell_type": "code",
   "execution_count": 46,
   "metadata": {},
   "outputs": [
    {
     "data": {
      "application/vnd.plotly.v1+json": {
       "config": {
        "linkText": "Export to plot.ly",
        "plotlyServerURL": "https://plot.ly",
        "showLink": true
       },
       "data": [
        {
         "histfunc": "count",
         "histnorm": "",
         "marker": {
          "color": "rgba(255, 153, 51, 1.0)",
          "line": {
           "color": "#4D5663",
           "width": 1.3
          }
         },
         "name": "Impact (response)",
         "nbinsx": 25,
         "opacity": 0.8,
         "orientation": "v",
         "type": "histogram",
         "x": [
          "Constriction",
          "Death",
          "Dermal wound",
          "Dermal wound",
          "External wound",
          "Death",
          null,
          "Reduced population size",
          "Death",
          "Death",
          "Damage/breakage",
          "Death",
          "Dermal wound",
          "Dermal wound",
          "Death",
          "Intestinal blockage, death",
          null,
          "Biochemical/cellular, death",
          "Gut obstruction, death",
          "Perforated gut",
          "Biochemical/cellular",
          null,
          "Biochemical/cellular",
          "Internal wound",
          "Gastric rupture, death",
          "Gut impaction, ulcerative lesions",
          "Gastric rupture, gut impaction, death",
          "Death",
          "Biochemical/cellular",
          "Biochemical/cellular",
          "Reduced organ size",
          "Gut obstruction",
          "Biochemical/cellular",
          "Biochemical/cellular",
          "Altered assemblage",
          "Altered assemblage",
          "Altered assemblage",
          "Tissue abrasion",
          "Tissue abrasion",
          "Breakage, suffocation, death",
          "Reduced population size",
          "Reduced population size",
          "Altered assemblage",
          "Increased population size"
         ]
        }
       ],
       "layout": {
        "barmode": "overlay",
        "legend": {
         "bgcolor": "#F5F6F9",
         "font": {
          "color": "#4D5663"
         }
        },
        "paper_bgcolor": "#F5F6F9",
        "plot_bgcolor": "#F5F6F9",
        "template": {
         "data": {
          "bar": [
           {
            "error_x": {
             "color": "#2a3f5f"
            },
            "error_y": {
             "color": "#2a3f5f"
            },
            "marker": {
             "line": {
              "color": "#E5ECF6",
              "width": 0.5
             }
            },
            "type": "bar"
           }
          ],
          "barpolar": [
           {
            "marker": {
             "line": {
              "color": "#E5ECF6",
              "width": 0.5
             }
            },
            "type": "barpolar"
           }
          ],
          "carpet": [
           {
            "aaxis": {
             "endlinecolor": "#2a3f5f",
             "gridcolor": "white",
             "linecolor": "white",
             "minorgridcolor": "white",
             "startlinecolor": "#2a3f5f"
            },
            "baxis": {
             "endlinecolor": "#2a3f5f",
             "gridcolor": "white",
             "linecolor": "white",
             "minorgridcolor": "white",
             "startlinecolor": "#2a3f5f"
            },
            "type": "carpet"
           }
          ],
          "choropleth": [
           {
            "colorbar": {
             "outlinewidth": 0,
             "ticks": ""
            },
            "type": "choropleth"
           }
          ],
          "contour": [
           {
            "colorbar": {
             "outlinewidth": 0,
             "ticks": ""
            },
            "colorscale": [
             [
              0,
              "#0d0887"
             ],
             [
              0.1111111111111111,
              "#46039f"
             ],
             [
              0.2222222222222222,
              "#7201a8"
             ],
             [
              0.3333333333333333,
              "#9c179e"
             ],
             [
              0.4444444444444444,
              "#bd3786"
             ],
             [
              0.5555555555555556,
              "#d8576b"
             ],
             [
              0.6666666666666666,
              "#ed7953"
             ],
             [
              0.7777777777777778,
              "#fb9f3a"
             ],
             [
              0.8888888888888888,
              "#fdca26"
             ],
             [
              1,
              "#f0f921"
             ]
            ],
            "type": "contour"
           }
          ],
          "contourcarpet": [
           {
            "colorbar": {
             "outlinewidth": 0,
             "ticks": ""
            },
            "type": "contourcarpet"
           }
          ],
          "heatmap": [
           {
            "colorbar": {
             "outlinewidth": 0,
             "ticks": ""
            },
            "colorscale": [
             [
              0,
              "#0d0887"
             ],
             [
              0.1111111111111111,
              "#46039f"
             ],
             [
              0.2222222222222222,
              "#7201a8"
             ],
             [
              0.3333333333333333,
              "#9c179e"
             ],
             [
              0.4444444444444444,
              "#bd3786"
             ],
             [
              0.5555555555555556,
              "#d8576b"
             ],
             [
              0.6666666666666666,
              "#ed7953"
             ],
             [
              0.7777777777777778,
              "#fb9f3a"
             ],
             [
              0.8888888888888888,
              "#fdca26"
             ],
             [
              1,
              "#f0f921"
             ]
            ],
            "type": "heatmap"
           }
          ],
          "heatmapgl": [
           {
            "colorbar": {
             "outlinewidth": 0,
             "ticks": ""
            },
            "colorscale": [
             [
              0,
              "#0d0887"
             ],
             [
              0.1111111111111111,
              "#46039f"
             ],
             [
              0.2222222222222222,
              "#7201a8"
             ],
             [
              0.3333333333333333,
              "#9c179e"
             ],
             [
              0.4444444444444444,
              "#bd3786"
             ],
             [
              0.5555555555555556,
              "#d8576b"
             ],
             [
              0.6666666666666666,
              "#ed7953"
             ],
             [
              0.7777777777777778,
              "#fb9f3a"
             ],
             [
              0.8888888888888888,
              "#fdca26"
             ],
             [
              1,
              "#f0f921"
             ]
            ],
            "type": "heatmapgl"
           }
          ],
          "histogram": [
           {
            "marker": {
             "colorbar": {
              "outlinewidth": 0,
              "ticks": ""
             }
            },
            "type": "histogram"
           }
          ],
          "histogram2d": [
           {
            "colorbar": {
             "outlinewidth": 0,
             "ticks": ""
            },
            "colorscale": [
             [
              0,
              "#0d0887"
             ],
             [
              0.1111111111111111,
              "#46039f"
             ],
             [
              0.2222222222222222,
              "#7201a8"
             ],
             [
              0.3333333333333333,
              "#9c179e"
             ],
             [
              0.4444444444444444,
              "#bd3786"
             ],
             [
              0.5555555555555556,
              "#d8576b"
             ],
             [
              0.6666666666666666,
              "#ed7953"
             ],
             [
              0.7777777777777778,
              "#fb9f3a"
             ],
             [
              0.8888888888888888,
              "#fdca26"
             ],
             [
              1,
              "#f0f921"
             ]
            ],
            "type": "histogram2d"
           }
          ],
          "histogram2dcontour": [
           {
            "colorbar": {
             "outlinewidth": 0,
             "ticks": ""
            },
            "colorscale": [
             [
              0,
              "#0d0887"
             ],
             [
              0.1111111111111111,
              "#46039f"
             ],
             [
              0.2222222222222222,
              "#7201a8"
             ],
             [
              0.3333333333333333,
              "#9c179e"
             ],
             [
              0.4444444444444444,
              "#bd3786"
             ],
             [
              0.5555555555555556,
              "#d8576b"
             ],
             [
              0.6666666666666666,
              "#ed7953"
             ],
             [
              0.7777777777777778,
              "#fb9f3a"
             ],
             [
              0.8888888888888888,
              "#fdca26"
             ],
             [
              1,
              "#f0f921"
             ]
            ],
            "type": "histogram2dcontour"
           }
          ],
          "mesh3d": [
           {
            "colorbar": {
             "outlinewidth": 0,
             "ticks": ""
            },
            "type": "mesh3d"
           }
          ],
          "parcoords": [
           {
            "line": {
             "colorbar": {
              "outlinewidth": 0,
              "ticks": ""
             }
            },
            "type": "parcoords"
           }
          ],
          "pie": [
           {
            "automargin": true,
            "type": "pie"
           }
          ],
          "scatter": [
           {
            "marker": {
             "colorbar": {
              "outlinewidth": 0,
              "ticks": ""
             }
            },
            "type": "scatter"
           }
          ],
          "scatter3d": [
           {
            "line": {
             "colorbar": {
              "outlinewidth": 0,
              "ticks": ""
             }
            },
            "marker": {
             "colorbar": {
              "outlinewidth": 0,
              "ticks": ""
             }
            },
            "type": "scatter3d"
           }
          ],
          "scattercarpet": [
           {
            "marker": {
             "colorbar": {
              "outlinewidth": 0,
              "ticks": ""
             }
            },
            "type": "scattercarpet"
           }
          ],
          "scattergeo": [
           {
            "marker": {
             "colorbar": {
              "outlinewidth": 0,
              "ticks": ""
             }
            },
            "type": "scattergeo"
           }
          ],
          "scattergl": [
           {
            "marker": {
             "colorbar": {
              "outlinewidth": 0,
              "ticks": ""
             }
            },
            "type": "scattergl"
           }
          ],
          "scattermapbox": [
           {
            "marker": {
             "colorbar": {
              "outlinewidth": 0,
              "ticks": ""
             }
            },
            "type": "scattermapbox"
           }
          ],
          "scatterpolar": [
           {
            "marker": {
             "colorbar": {
              "outlinewidth": 0,
              "ticks": ""
             }
            },
            "type": "scatterpolar"
           }
          ],
          "scatterpolargl": [
           {
            "marker": {
             "colorbar": {
              "outlinewidth": 0,
              "ticks": ""
             }
            },
            "type": "scatterpolargl"
           }
          ],
          "scatterternary": [
           {
            "marker": {
             "colorbar": {
              "outlinewidth": 0,
              "ticks": ""
             }
            },
            "type": "scatterternary"
           }
          ],
          "surface": [
           {
            "colorbar": {
             "outlinewidth": 0,
             "ticks": ""
            },
            "colorscale": [
             [
              0,
              "#0d0887"
             ],
             [
              0.1111111111111111,
              "#46039f"
             ],
             [
              0.2222222222222222,
              "#7201a8"
             ],
             [
              0.3333333333333333,
              "#9c179e"
             ],
             [
              0.4444444444444444,
              "#bd3786"
             ],
             [
              0.5555555555555556,
              "#d8576b"
             ],
             [
              0.6666666666666666,
              "#ed7953"
             ],
             [
              0.7777777777777778,
              "#fb9f3a"
             ],
             [
              0.8888888888888888,
              "#fdca26"
             ],
             [
              1,
              "#f0f921"
             ]
            ],
            "type": "surface"
           }
          ],
          "table": [
           {
            "cells": {
             "fill": {
              "color": "#EBF0F8"
             },
             "line": {
              "color": "white"
             }
            },
            "header": {
             "fill": {
              "color": "#C8D4E3"
             },
             "line": {
              "color": "white"
             }
            },
            "type": "table"
           }
          ]
         },
         "layout": {
          "annotationdefaults": {
           "arrowcolor": "#2a3f5f",
           "arrowhead": 0,
           "arrowwidth": 1
          },
          "coloraxis": {
           "colorbar": {
            "outlinewidth": 0,
            "ticks": ""
           }
          },
          "colorscale": {
           "diverging": [
            [
             0,
             "#8e0152"
            ],
            [
             0.1,
             "#c51b7d"
            ],
            [
             0.2,
             "#de77ae"
            ],
            [
             0.3,
             "#f1b6da"
            ],
            [
             0.4,
             "#fde0ef"
            ],
            [
             0.5,
             "#f7f7f7"
            ],
            [
             0.6,
             "#e6f5d0"
            ],
            [
             0.7,
             "#b8e186"
            ],
            [
             0.8,
             "#7fbc41"
            ],
            [
             0.9,
             "#4d9221"
            ],
            [
             1,
             "#276419"
            ]
           ],
           "sequential": [
            [
             0,
             "#0d0887"
            ],
            [
             0.1111111111111111,
             "#46039f"
            ],
            [
             0.2222222222222222,
             "#7201a8"
            ],
            [
             0.3333333333333333,
             "#9c179e"
            ],
            [
             0.4444444444444444,
             "#bd3786"
            ],
            [
             0.5555555555555556,
             "#d8576b"
            ],
            [
             0.6666666666666666,
             "#ed7953"
            ],
            [
             0.7777777777777778,
             "#fb9f3a"
            ],
            [
             0.8888888888888888,
             "#fdca26"
            ],
            [
             1,
             "#f0f921"
            ]
           ],
           "sequentialminus": [
            [
             0,
             "#0d0887"
            ],
            [
             0.1111111111111111,
             "#46039f"
            ],
            [
             0.2222222222222222,
             "#7201a8"
            ],
            [
             0.3333333333333333,
             "#9c179e"
            ],
            [
             0.4444444444444444,
             "#bd3786"
            ],
            [
             0.5555555555555556,
             "#d8576b"
            ],
            [
             0.6666666666666666,
             "#ed7953"
            ],
            [
             0.7777777777777778,
             "#fb9f3a"
            ],
            [
             0.8888888888888888,
             "#fdca26"
            ],
            [
             1,
             "#f0f921"
            ]
           ]
          },
          "colorway": [
           "#636efa",
           "#EF553B",
           "#00cc96",
           "#ab63fa",
           "#FFA15A",
           "#19d3f3",
           "#FF6692",
           "#B6E880",
           "#FF97FF",
           "#FECB52"
          ],
          "font": {
           "color": "#2a3f5f"
          },
          "geo": {
           "bgcolor": "white",
           "lakecolor": "white",
           "landcolor": "#E5ECF6",
           "showlakes": true,
           "showland": true,
           "subunitcolor": "white"
          },
          "hoverlabel": {
           "align": "left"
          },
          "hovermode": "closest",
          "mapbox": {
           "style": "light"
          },
          "paper_bgcolor": "white",
          "plot_bgcolor": "#E5ECF6",
          "polar": {
           "angularaxis": {
            "gridcolor": "white",
            "linecolor": "white",
            "ticks": ""
           },
           "bgcolor": "#E5ECF6",
           "radialaxis": {
            "gridcolor": "white",
            "linecolor": "white",
            "ticks": ""
           }
          },
          "scene": {
           "xaxis": {
            "backgroundcolor": "#E5ECF6",
            "gridcolor": "white",
            "gridwidth": 2,
            "linecolor": "white",
            "showbackground": true,
            "ticks": "",
            "zerolinecolor": "white"
           },
           "yaxis": {
            "backgroundcolor": "#E5ECF6",
            "gridcolor": "white",
            "gridwidth": 2,
            "linecolor": "white",
            "showbackground": true,
            "ticks": "",
            "zerolinecolor": "white"
           },
           "zaxis": {
            "backgroundcolor": "#E5ECF6",
            "gridcolor": "white",
            "gridwidth": 2,
            "linecolor": "white",
            "showbackground": true,
            "ticks": "",
            "zerolinecolor": "white"
           }
          },
          "shapedefaults": {
           "line": {
            "color": "#2a3f5f"
           }
          },
          "ternary": {
           "aaxis": {
            "gridcolor": "white",
            "linecolor": "white",
            "ticks": ""
           },
           "baxis": {
            "gridcolor": "white",
            "linecolor": "white",
            "ticks": ""
           },
           "bgcolor": "#E5ECF6",
           "caxis": {
            "gridcolor": "white",
            "linecolor": "white",
            "ticks": ""
           }
          },
          "title": {
           "x": 0.05
          },
          "xaxis": {
           "automargin": true,
           "gridcolor": "white",
           "linecolor": "white",
           "ticks": "",
           "title": {
            "standoff": 15
           },
           "zerolinecolor": "white",
           "zerolinewidth": 2
          },
          "yaxis": {
           "automargin": true,
           "gridcolor": "white",
           "linecolor": "white",
           "ticks": "",
           "title": {
            "standoff": 15
           },
           "zerolinecolor": "white",
           "zerolinewidth": 2
          }
         }
        },
        "title": {
         "font": {
          "color": "#4D5663"
         }
        },
        "xaxis": {
         "gridcolor": "#E1E5ED",
         "showgrid": true,
         "tickfont": {
          "color": "#4D5663"
         },
         "title": {
          "font": {
           "color": "#4D5663"
          },
          "text": ""
         },
         "zerolinecolor": "#E1E5ED"
        },
        "yaxis": {
         "gridcolor": "#E1E5ED",
         "showgrid": true,
         "tickfont": {
          "color": "#4D5663"
         },
         "title": {
          "font": {
           "color": "#4D5663"
          },
          "text": ""
         },
         "zerolinecolor": "#E1E5ED"
        }
       }
      },
      "text/html": [
       "<div>\n",
       "        \n",
       "        \n",
       "            <div id=\"e112e1ae-1b00-46c0-bdc1-d458b3e21f3c\" class=\"plotly-graph-div\" style=\"height:525px; width:100%;\"></div>\n",
       "            <script type=\"text/javascript\">\n",
       "                require([\"plotly\"], function(Plotly) {\n",
       "                    window.PLOTLYENV=window.PLOTLYENV || {};\n",
       "                    window.PLOTLYENV.BASE_URL='https://plot.ly';\n",
       "                    \n",
       "                if (document.getElementById(\"e112e1ae-1b00-46c0-bdc1-d458b3e21f3c\")) {\n",
       "                    Plotly.newPlot(\n",
       "                        'e112e1ae-1b00-46c0-bdc1-d458b3e21f3c',\n",
       "                        [{\"histfunc\": \"count\", \"histnorm\": \"\", \"marker\": {\"color\": \"rgba(255, 153, 51, 1.0)\", \"line\": {\"color\": \"#4D5663\", \"width\": 1.3}}, \"name\": \"Impact (response)\", \"nbinsx\": 25, \"opacity\": 0.8, \"orientation\": \"v\", \"type\": \"histogram\", \"x\": [\"Constriction\", \"Death\", \"Dermal wound\", \"Dermal wound\", \"External wound\", \"Death\", null, \"Reduced population size\", \"Death\", \"Death\", \"Damage/breakage\", \"Death\", \"Dermal wound\", \"Dermal wound\", \"Death\", \"Intestinal blockage, death\", null, \"Biochemical/cellular, death\", \"Gut obstruction, death\", \"Perforated gut\", \"Biochemical/cellular\", null, \"Biochemical/cellular\", \"Internal wound\", \"Gastric rupture, death\", \"Gut impaction, ulcerative lesions\", \"Gastric rupture, gut impaction, death\", \"Death\", \"Biochemical/cellular\", \"Biochemical/cellular\", \"Reduced organ size\", \"Gut obstruction\", \"Biochemical/cellular\", \"Biochemical/cellular\", \"Altered assemblage\", \"Altered assemblage\", \"Altered assemblage\", \"Tissue abrasion\", \"Tissue abrasion\", \"Breakage, suffocation, death\", \"Reduced population size\", \"Reduced population size\", \"Altered assemblage\", \"Increased population size\"]}],\n",
       "                        {\"barmode\": \"overlay\", \"legend\": {\"bgcolor\": \"#F5F6F9\", \"font\": {\"color\": \"#4D5663\"}}, \"paper_bgcolor\": \"#F5F6F9\", \"plot_bgcolor\": \"#F5F6F9\", \"template\": {\"data\": {\"bar\": [{\"error_x\": {\"color\": \"#2a3f5f\"}, \"error_y\": {\"color\": \"#2a3f5f\"}, \"marker\": {\"line\": {\"color\": \"#E5ECF6\", \"width\": 0.5}}, \"type\": \"bar\"}], \"barpolar\": [{\"marker\": {\"line\": {\"color\": \"#E5ECF6\", \"width\": 0.5}}, \"type\": \"barpolar\"}], \"carpet\": [{\"aaxis\": {\"endlinecolor\": \"#2a3f5f\", \"gridcolor\": \"white\", \"linecolor\": \"white\", \"minorgridcolor\": \"white\", \"startlinecolor\": \"#2a3f5f\"}, \"baxis\": {\"endlinecolor\": \"#2a3f5f\", \"gridcolor\": \"white\", \"linecolor\": \"white\", \"minorgridcolor\": \"white\", \"startlinecolor\": \"#2a3f5f\"}, \"type\": \"carpet\"}], \"choropleth\": [{\"colorbar\": {\"outlinewidth\": 0, \"ticks\": \"\"}, \"type\": \"choropleth\"}], \"contour\": [{\"colorbar\": {\"outlinewidth\": 0, \"ticks\": \"\"}, \"colorscale\": [[0.0, \"#0d0887\"], [0.1111111111111111, \"#46039f\"], [0.2222222222222222, \"#7201a8\"], [0.3333333333333333, \"#9c179e\"], [0.4444444444444444, \"#bd3786\"], [0.5555555555555556, \"#d8576b\"], [0.6666666666666666, \"#ed7953\"], [0.7777777777777778, \"#fb9f3a\"], [0.8888888888888888, \"#fdca26\"], [1.0, \"#f0f921\"]], \"type\": \"contour\"}], \"contourcarpet\": [{\"colorbar\": {\"outlinewidth\": 0, \"ticks\": \"\"}, \"type\": \"contourcarpet\"}], \"heatmap\": [{\"colorbar\": {\"outlinewidth\": 0, \"ticks\": \"\"}, \"colorscale\": [[0.0, \"#0d0887\"], [0.1111111111111111, \"#46039f\"], [0.2222222222222222, \"#7201a8\"], [0.3333333333333333, \"#9c179e\"], [0.4444444444444444, \"#bd3786\"], [0.5555555555555556, \"#d8576b\"], [0.6666666666666666, \"#ed7953\"], [0.7777777777777778, \"#fb9f3a\"], [0.8888888888888888, \"#fdca26\"], [1.0, \"#f0f921\"]], \"type\": \"heatmap\"}], \"heatmapgl\": [{\"colorbar\": {\"outlinewidth\": 0, \"ticks\": \"\"}, \"colorscale\": [[0.0, \"#0d0887\"], [0.1111111111111111, \"#46039f\"], [0.2222222222222222, \"#7201a8\"], [0.3333333333333333, \"#9c179e\"], [0.4444444444444444, \"#bd3786\"], [0.5555555555555556, \"#d8576b\"], [0.6666666666666666, \"#ed7953\"], [0.7777777777777778, \"#fb9f3a\"], [0.8888888888888888, \"#fdca26\"], [1.0, \"#f0f921\"]], \"type\": \"heatmapgl\"}], \"histogram\": [{\"marker\": {\"colorbar\": {\"outlinewidth\": 0, \"ticks\": \"\"}}, \"type\": \"histogram\"}], \"histogram2d\": [{\"colorbar\": {\"outlinewidth\": 0, \"ticks\": \"\"}, \"colorscale\": [[0.0, \"#0d0887\"], [0.1111111111111111, \"#46039f\"], [0.2222222222222222, \"#7201a8\"], [0.3333333333333333, \"#9c179e\"], [0.4444444444444444, \"#bd3786\"], [0.5555555555555556, \"#d8576b\"], [0.6666666666666666, \"#ed7953\"], [0.7777777777777778, \"#fb9f3a\"], [0.8888888888888888, \"#fdca26\"], [1.0, \"#f0f921\"]], \"type\": \"histogram2d\"}], \"histogram2dcontour\": [{\"colorbar\": {\"outlinewidth\": 0, \"ticks\": \"\"}, \"colorscale\": [[0.0, \"#0d0887\"], [0.1111111111111111, \"#46039f\"], [0.2222222222222222, \"#7201a8\"], [0.3333333333333333, \"#9c179e\"], [0.4444444444444444, \"#bd3786\"], [0.5555555555555556, \"#d8576b\"], [0.6666666666666666, \"#ed7953\"], [0.7777777777777778, \"#fb9f3a\"], [0.8888888888888888, \"#fdca26\"], [1.0, \"#f0f921\"]], \"type\": \"histogram2dcontour\"}], \"mesh3d\": [{\"colorbar\": {\"outlinewidth\": 0, \"ticks\": \"\"}, \"type\": \"mesh3d\"}], \"parcoords\": [{\"line\": {\"colorbar\": {\"outlinewidth\": 0, \"ticks\": \"\"}}, \"type\": \"parcoords\"}], \"pie\": [{\"automargin\": true, \"type\": \"pie\"}], \"scatter\": [{\"marker\": {\"colorbar\": {\"outlinewidth\": 0, \"ticks\": \"\"}}, \"type\": \"scatter\"}], \"scatter3d\": [{\"line\": {\"colorbar\": {\"outlinewidth\": 0, \"ticks\": \"\"}}, \"marker\": {\"colorbar\": {\"outlinewidth\": 0, \"ticks\": \"\"}}, \"type\": \"scatter3d\"}], \"scattercarpet\": [{\"marker\": {\"colorbar\": {\"outlinewidth\": 0, \"ticks\": \"\"}}, \"type\": \"scattercarpet\"}], \"scattergeo\": [{\"marker\": {\"colorbar\": {\"outlinewidth\": 0, \"ticks\": \"\"}}, \"type\": \"scattergeo\"}], \"scattergl\": [{\"marker\": {\"colorbar\": {\"outlinewidth\": 0, \"ticks\": \"\"}}, \"type\": \"scattergl\"}], \"scattermapbox\": [{\"marker\": {\"colorbar\": {\"outlinewidth\": 0, \"ticks\": \"\"}}, \"type\": \"scattermapbox\"}], \"scatterpolar\": [{\"marker\": {\"colorbar\": {\"outlinewidth\": 0, \"ticks\": \"\"}}, \"type\": \"scatterpolar\"}], \"scatterpolargl\": [{\"marker\": {\"colorbar\": {\"outlinewidth\": 0, \"ticks\": \"\"}}, \"type\": \"scatterpolargl\"}], \"scatterternary\": [{\"marker\": {\"colorbar\": {\"outlinewidth\": 0, \"ticks\": \"\"}}, \"type\": \"scatterternary\"}], \"surface\": [{\"colorbar\": {\"outlinewidth\": 0, \"ticks\": \"\"}, \"colorscale\": [[0.0, \"#0d0887\"], [0.1111111111111111, \"#46039f\"], [0.2222222222222222, \"#7201a8\"], [0.3333333333333333, \"#9c179e\"], [0.4444444444444444, \"#bd3786\"], [0.5555555555555556, \"#d8576b\"], [0.6666666666666666, \"#ed7953\"], [0.7777777777777778, \"#fb9f3a\"], [0.8888888888888888, \"#fdca26\"], [1.0, \"#f0f921\"]], \"type\": \"surface\"}], \"table\": [{\"cells\": {\"fill\": {\"color\": \"#EBF0F8\"}, \"line\": {\"color\": \"white\"}}, \"header\": {\"fill\": {\"color\": \"#C8D4E3\"}, \"line\": {\"color\": \"white\"}}, \"type\": \"table\"}]}, \"layout\": {\"annotationdefaults\": {\"arrowcolor\": \"#2a3f5f\", \"arrowhead\": 0, \"arrowwidth\": 1}, \"coloraxis\": {\"colorbar\": {\"outlinewidth\": 0, \"ticks\": \"\"}}, \"colorscale\": {\"diverging\": [[0, \"#8e0152\"], [0.1, \"#c51b7d\"], [0.2, \"#de77ae\"], [0.3, \"#f1b6da\"], [0.4, \"#fde0ef\"], [0.5, \"#f7f7f7\"], [0.6, \"#e6f5d0\"], [0.7, \"#b8e186\"], [0.8, \"#7fbc41\"], [0.9, \"#4d9221\"], [1, \"#276419\"]], \"sequential\": [[0.0, \"#0d0887\"], [0.1111111111111111, \"#46039f\"], [0.2222222222222222, \"#7201a8\"], [0.3333333333333333, \"#9c179e\"], [0.4444444444444444, \"#bd3786\"], [0.5555555555555556, \"#d8576b\"], [0.6666666666666666, \"#ed7953\"], [0.7777777777777778, \"#fb9f3a\"], [0.8888888888888888, \"#fdca26\"], [1.0, \"#f0f921\"]], \"sequentialminus\": [[0.0, \"#0d0887\"], [0.1111111111111111, \"#46039f\"], [0.2222222222222222, \"#7201a8\"], [0.3333333333333333, \"#9c179e\"], [0.4444444444444444, \"#bd3786\"], [0.5555555555555556, \"#d8576b\"], [0.6666666666666666, \"#ed7953\"], [0.7777777777777778, \"#fb9f3a\"], [0.8888888888888888, \"#fdca26\"], [1.0, \"#f0f921\"]]}, \"colorway\": [\"#636efa\", \"#EF553B\", \"#00cc96\", \"#ab63fa\", \"#FFA15A\", \"#19d3f3\", \"#FF6692\", \"#B6E880\", \"#FF97FF\", \"#FECB52\"], \"font\": {\"color\": \"#2a3f5f\"}, \"geo\": {\"bgcolor\": \"white\", \"lakecolor\": \"white\", \"landcolor\": \"#E5ECF6\", \"showlakes\": true, \"showland\": true, \"subunitcolor\": \"white\"}, \"hoverlabel\": {\"align\": \"left\"}, \"hovermode\": \"closest\", \"mapbox\": {\"style\": \"light\"}, \"paper_bgcolor\": \"white\", \"plot_bgcolor\": \"#E5ECF6\", \"polar\": {\"angularaxis\": {\"gridcolor\": \"white\", \"linecolor\": \"white\", \"ticks\": \"\"}, \"bgcolor\": \"#E5ECF6\", \"radialaxis\": {\"gridcolor\": \"white\", \"linecolor\": \"white\", \"ticks\": \"\"}}, \"scene\": {\"xaxis\": {\"backgroundcolor\": \"#E5ECF6\", \"gridcolor\": \"white\", \"gridwidth\": 2, \"linecolor\": \"white\", \"showbackground\": true, \"ticks\": \"\", \"zerolinecolor\": \"white\"}, \"yaxis\": {\"backgroundcolor\": \"#E5ECF6\", \"gridcolor\": \"white\", \"gridwidth\": 2, \"linecolor\": \"white\", \"showbackground\": true, \"ticks\": \"\", \"zerolinecolor\": \"white\"}, \"zaxis\": {\"backgroundcolor\": \"#E5ECF6\", \"gridcolor\": \"white\", \"gridwidth\": 2, \"linecolor\": \"white\", \"showbackground\": true, \"ticks\": \"\", \"zerolinecolor\": \"white\"}}, \"shapedefaults\": {\"line\": {\"color\": \"#2a3f5f\"}}, \"ternary\": {\"aaxis\": {\"gridcolor\": \"white\", \"linecolor\": \"white\", \"ticks\": \"\"}, \"baxis\": {\"gridcolor\": \"white\", \"linecolor\": \"white\", \"ticks\": \"\"}, \"bgcolor\": \"#E5ECF6\", \"caxis\": {\"gridcolor\": \"white\", \"linecolor\": \"white\", \"ticks\": \"\"}}, \"title\": {\"x\": 0.05}, \"xaxis\": {\"automargin\": true, \"gridcolor\": \"white\", \"linecolor\": \"white\", \"ticks\": \"\", \"title\": {\"standoff\": 15}, \"zerolinecolor\": \"white\", \"zerolinewidth\": 2}, \"yaxis\": {\"automargin\": true, \"gridcolor\": \"white\", \"linecolor\": \"white\", \"ticks\": \"\", \"title\": {\"standoff\": 15}, \"zerolinecolor\": \"white\", \"zerolinewidth\": 2}}}, \"title\": {\"font\": {\"color\": \"#4D5663\"}}, \"xaxis\": {\"gridcolor\": \"#E1E5ED\", \"showgrid\": true, \"tickfont\": {\"color\": \"#4D5663\"}, \"title\": {\"font\": {\"color\": \"#4D5663\"}, \"text\": \"\"}, \"zerolinecolor\": \"#E1E5ED\"}, \"yaxis\": {\"gridcolor\": \"#E1E5ED\", \"showgrid\": true, \"tickfont\": {\"color\": \"#4D5663\"}, \"title\": {\"font\": {\"color\": \"#4D5663\"}, \"text\": \"\"}, \"zerolinecolor\": \"#E1E5ED\"}},\n",
       "                        {\"showLink\": true, \"linkText\": \"Export to plot.ly\", \"plotlyServerURL\": \"https://plot.ly\", \"responsive\": true}\n",
       "                    ).then(function(){\n",
       "                            \n",
       "var gd = document.getElementById('e112e1ae-1b00-46c0-bdc1-d458b3e21f3c');\n",
       "var x = new MutationObserver(function (mutations, observer) {{\n",
       "        var display = window.getComputedStyle(gd).display;\n",
       "        if (!display || display === 'none') {{\n",
       "            console.log([gd, 'removed!']);\n",
       "            Plotly.purge(gd);\n",
       "            observer.disconnect();\n",
       "        }}\n",
       "}});\n",
       "\n",
       "// Listen for the removal of the full notebook cells\n",
       "var notebookContainer = gd.closest('#notebook-container');\n",
       "if (notebookContainer) {{\n",
       "    x.observe(notebookContainer, {childList: true});\n",
       "}}\n",
       "\n",
       "// Listen for the clearing of the current output cell\n",
       "var outputEl = gd.closest('.output');\n",
       "if (outputEl) {{\n",
       "    x.observe(outputEl, {childList: true});\n",
       "}}\n",
       "\n",
       "                        })\n",
       "                };\n",
       "                });\n",
       "            </script>\n",
       "        </div>"
      ]
     },
     "metadata": {},
     "output_type": "display_data"
    }
   ],
   "source": [
    "df['Impact (response)'].iplot(kind='hist',bins=25)"
   ]
  },
  {
   "cell_type": "code",
   "execution_count": 19,
   "metadata": {},
   "outputs": [
    {
     "data": {
      "application/vnd.plotly.v1+json": {
       "config": {
        "linkText": "Export to plot.ly",
        "plotlyServerURL": "https://plot.ly",
        "showLink": true
       },
       "data": [
        {
         "marker": {
          "color": [
           "rgb(255, 153, 51)",
           "rgb(55, 128, 191)",
           "rgb(50, 171, 96)",
           "rgb(128, 0, 128)",
           "rgb(219, 64, 82)",
           "rgb(0, 128, 128)",
           "rgb(255, 255, 51)",
           "rgb(128, 128, 0)",
           "rgb(251, 128, 114)",
           "rgb(128, 177, 211)"
          ],
          "line": {
           "width": 1.3
          },
          "size": [
           45,
           67,
           49,
           96,
           61,
           67,
           64,
           47,
           63,
           42,
           63,
           78,
           23,
           41,
           52,
           54,
           55,
           30,
           38,
           67,
           61,
           31,
           73,
           51,
           53,
           33,
           33,
           50,
           59,
           33,
           60,
           71,
           55,
           56,
           62,
           45,
           46,
           42,
           32,
           62,
           57,
           45,
           36,
           29,
           37,
           62,
           68,
           83,
           47,
           45,
           61,
           30,
           12,
           57,
           112,
           57,
           105,
           51,
           81,
           41,
           74,
           40,
           52,
           49,
           59,
           65,
           61,
           43,
           46,
           44,
           56,
           30,
           74,
           33,
           81,
           46,
           68,
           75,
           53,
           56,
           57,
           51,
           82,
           62,
           48,
           54,
           52,
           53,
           68,
           25,
           62,
           56,
           53,
           56,
           73,
           72,
           37,
           70,
           66,
           68
          ],
          "symbol": "circle"
         },
         "mode": "markers",
         "text": "",
         "type": "scatter",
         "x": [
          -0.22273487337733267,
          0.96938672321073,
          1.7679600810584775,
          -0.3301211832497169,
          1.1230098975062985,
          -0.14059927301365985,
          -1.9070652679785047,
          2.511823571853174,
          1.2216014533870392,
          1.3073393520687377,
          -0.9846259789910012,
          -0.1883392328084605,
          -0.22696668434108205,
          -1.299460261517134,
          0.4262588185017659,
          0.5404025358415369,
          0.7364557725641377,
          1.962488505587565,
          0.07229067151463153,
          -1.4275629745410985,
          -0.3242165597081774,
          -2.887372185270094,
          1.5569233724535545,
          0.3686419867314151,
          -0.28043893823121574,
          -1.1024167245080543,
          1.426183875358781,
          0.5305400934685128,
          0.7617235562635237,
          2.8970418063844585,
          0.6293323992915252,
          0.9872214070242598,
          -1.040323993585614,
          1.698527144775692,
          0.07671594369287311,
          -1.3974520885623587,
          -0.6032640322879783,
          -1.5371891061887468,
          0.12591877223282416,
          0.4752599142434366,
          -1.839836143032748,
          -0.0011053443793610086,
          0.07954000327852732,
          -1.9030838326487316,
          -0.11381639211398083,
          1.887274435194834,
          0.9345581603780265,
          -1.3608156258859416,
          1.1184467353712293,
          0.015167793080002748,
          -0.5461127050048382,
          2.3245329962614,
          0.5726775520758279,
          0.8876263201789777,
          0.1903583136370771,
          0.9501656838108266,
          0.27274189017330125,
          0.456584918327554,
          0.5240481649795107,
          -0.18860181337858492,
          -0.5506039594361837,
          0.8046149221981044,
          0.24332043531381128,
          -0.4908778134063485,
          -0.10558812187238044,
          -1.8719974064681755,
          -0.8554842907073329,
          -0.6195854025884859,
          -1.5218331069482387,
          0.30524099638517493,
          0.3561465309953952,
          -0.6228040879887814,
          -0.3373223308099943,
          0.4546497732383339,
          0.6465256817603978,
          0.0879648790735695,
          -1.9460027806937035,
          1.283214410360988,
          0.31895418492453803,
          2.2801411468117707,
          1.2233813641840674,
          0.9848885412966429,
          0.43884487977941583,
          0.16042815465541344,
          -0.5456620363016453,
          -0.07311170502108057,
          -0.72481577671909,
          0.30421433345445353,
          -0.5435325655076598,
          -0.7177744484420017,
          -1.206403275156407,
          -1.5038920587133007,
          0.34969556697456855,
          0.1033683879699894,
          1.0969514963574702,
          -0.602516741011873,
          1.4006601506399714,
          1.3085098482821893,
          -1.6750936290093266,
          0.19143191532406278
         ],
         "y": [
          -0.2912784887917257,
          -1.0604395139009635,
          -0.13733680493437628,
          0.3135695783483211,
          1.0661696986441274,
          1.3541862319329332,
          -0.5523261399774976,
          1.5071533049201622,
          -0.391130222757601,
          0.21170380571560443,
          1.7162324355790644,
          0.6611357973736018,
          0.635641399679405,
          -2.1097238949373027,
          -0.09021974822893551,
          0.3004568120025808,
          0.9011966707161051,
          0.007362311582631841,
          -0.9586505130038168,
          -0.425991034085616,
          -0.007272810338529496,
          -0.0032487035557160005,
          3.188702954265513,
          -1.379372285128576,
          -0.715293209695822,
          -0.4268883550220611,
          -1.2597205476304794,
          -0.2797275468564421,
          0.7075256126525454,
          -0.8945510570983612,
          0.6378218889449954,
          -0.027350457574237878,
          0.24657292285515908,
          -1.0206425876492329,
          -1.7713862539277925,
          -1.225452748286821,
          0.7532393077187716,
          0.20809650733260548,
          -0.25871901033046407,
          1.5587114024224498,
          -0.006858566718723743,
          -0.38582321155371385,
          -0.15597210960853167,
          -0.9658116038106779,
          0.0033262021394774373,
          1.3069089746101692,
          -0.6111346450148031,
          -0.024356333844090017,
          0.4884751265353459,
          0.24337645579278983,
          -0.06487780638023305,
          1.5656843777344125,
          -0.04329311799446188,
          -0.5716796345957867,
          1.3832930352743789,
          0.9506503262620949,
          0.42905211694647827,
          -0.2478743808252456,
          1.0696337458806862,
          -0.988754282998573,
          -1.6815787993939202,
          0.15431988091857216,
          -0.7193315522411322,
          -0.1405182008513026,
          -1.4093913900782,
          -1.3206623065769594,
          -0.9696818813446716,
          -0.27705933814209327,
          0.32928966252176317,
          -1.4327822134147623,
          -2.1741587787846473,
          -0.701071818354107,
          0.5432762020790552,
          -0.21030036876751046,
          -1.4558663725310683,
          -0.03142164165261238,
          -0.6013932965445924,
          -0.7317128044430959,
          0.5482687887957334,
          -1.4400020908226034,
          0.5230775309075686,
          1.6478340951759107,
          0.1697667266874105,
          0.715951724685209,
          1.2061255571251175,
          1.3148274525379475,
          0.26701458185145954,
          0.5188310223868298,
          0.4492856707308754,
          -1.0044413146012003,
          0.10186337604706759,
          0.4662002377552069,
          1.327975042930052,
          -0.4993042314894256,
          -2.242481727188624,
          0.34520349030218894,
          0.19448183494650748,
          1.0599388023177347,
          -0.053501677172384625,
          -0.9557761583073123
         ]
        }
       ],
       "layout": {
        "legend": {
         "bgcolor": "#F5F6F9",
         "font": {
          "color": "#4D5663"
         }
        },
        "paper_bgcolor": "#F5F6F9",
        "plot_bgcolor": "#F5F6F9",
        "template": {
         "data": {
          "bar": [
           {
            "error_x": {
             "color": "#2a3f5f"
            },
            "error_y": {
             "color": "#2a3f5f"
            },
            "marker": {
             "line": {
              "color": "#E5ECF6",
              "width": 0.5
             }
            },
            "type": "bar"
           }
          ],
          "barpolar": [
           {
            "marker": {
             "line": {
              "color": "#E5ECF6",
              "width": 0.5
             }
            },
            "type": "barpolar"
           }
          ],
          "carpet": [
           {
            "aaxis": {
             "endlinecolor": "#2a3f5f",
             "gridcolor": "white",
             "linecolor": "white",
             "minorgridcolor": "white",
             "startlinecolor": "#2a3f5f"
            },
            "baxis": {
             "endlinecolor": "#2a3f5f",
             "gridcolor": "white",
             "linecolor": "white",
             "minorgridcolor": "white",
             "startlinecolor": "#2a3f5f"
            },
            "type": "carpet"
           }
          ],
          "choropleth": [
           {
            "colorbar": {
             "outlinewidth": 0,
             "ticks": ""
            },
            "type": "choropleth"
           }
          ],
          "contour": [
           {
            "colorbar": {
             "outlinewidth": 0,
             "ticks": ""
            },
            "colorscale": [
             [
              0,
              "#0d0887"
             ],
             [
              0.1111111111111111,
              "#46039f"
             ],
             [
              0.2222222222222222,
              "#7201a8"
             ],
             [
              0.3333333333333333,
              "#9c179e"
             ],
             [
              0.4444444444444444,
              "#bd3786"
             ],
             [
              0.5555555555555556,
              "#d8576b"
             ],
             [
              0.6666666666666666,
              "#ed7953"
             ],
             [
              0.7777777777777778,
              "#fb9f3a"
             ],
             [
              0.8888888888888888,
              "#fdca26"
             ],
             [
              1,
              "#f0f921"
             ]
            ],
            "type": "contour"
           }
          ],
          "contourcarpet": [
           {
            "colorbar": {
             "outlinewidth": 0,
             "ticks": ""
            },
            "type": "contourcarpet"
           }
          ],
          "heatmap": [
           {
            "colorbar": {
             "outlinewidth": 0,
             "ticks": ""
            },
            "colorscale": [
             [
              0,
              "#0d0887"
             ],
             [
              0.1111111111111111,
              "#46039f"
             ],
             [
              0.2222222222222222,
              "#7201a8"
             ],
             [
              0.3333333333333333,
              "#9c179e"
             ],
             [
              0.4444444444444444,
              "#bd3786"
             ],
             [
              0.5555555555555556,
              "#d8576b"
             ],
             [
              0.6666666666666666,
              "#ed7953"
             ],
             [
              0.7777777777777778,
              "#fb9f3a"
             ],
             [
              0.8888888888888888,
              "#fdca26"
             ],
             [
              1,
              "#f0f921"
             ]
            ],
            "type": "heatmap"
           }
          ],
          "heatmapgl": [
           {
            "colorbar": {
             "outlinewidth": 0,
             "ticks": ""
            },
            "colorscale": [
             [
              0,
              "#0d0887"
             ],
             [
              0.1111111111111111,
              "#46039f"
             ],
             [
              0.2222222222222222,
              "#7201a8"
             ],
             [
              0.3333333333333333,
              "#9c179e"
             ],
             [
              0.4444444444444444,
              "#bd3786"
             ],
             [
              0.5555555555555556,
              "#d8576b"
             ],
             [
              0.6666666666666666,
              "#ed7953"
             ],
             [
              0.7777777777777778,
              "#fb9f3a"
             ],
             [
              0.8888888888888888,
              "#fdca26"
             ],
             [
              1,
              "#f0f921"
             ]
            ],
            "type": "heatmapgl"
           }
          ],
          "histogram": [
           {
            "marker": {
             "colorbar": {
              "outlinewidth": 0,
              "ticks": ""
             }
            },
            "type": "histogram"
           }
          ],
          "histogram2d": [
           {
            "colorbar": {
             "outlinewidth": 0,
             "ticks": ""
            },
            "colorscale": [
             [
              0,
              "#0d0887"
             ],
             [
              0.1111111111111111,
              "#46039f"
             ],
             [
              0.2222222222222222,
              "#7201a8"
             ],
             [
              0.3333333333333333,
              "#9c179e"
             ],
             [
              0.4444444444444444,
              "#bd3786"
             ],
             [
              0.5555555555555556,
              "#d8576b"
             ],
             [
              0.6666666666666666,
              "#ed7953"
             ],
             [
              0.7777777777777778,
              "#fb9f3a"
             ],
             [
              0.8888888888888888,
              "#fdca26"
             ],
             [
              1,
              "#f0f921"
             ]
            ],
            "type": "histogram2d"
           }
          ],
          "histogram2dcontour": [
           {
            "colorbar": {
             "outlinewidth": 0,
             "ticks": ""
            },
            "colorscale": [
             [
              0,
              "#0d0887"
             ],
             [
              0.1111111111111111,
              "#46039f"
             ],
             [
              0.2222222222222222,
              "#7201a8"
             ],
             [
              0.3333333333333333,
              "#9c179e"
             ],
             [
              0.4444444444444444,
              "#bd3786"
             ],
             [
              0.5555555555555556,
              "#d8576b"
             ],
             [
              0.6666666666666666,
              "#ed7953"
             ],
             [
              0.7777777777777778,
              "#fb9f3a"
             ],
             [
              0.8888888888888888,
              "#fdca26"
             ],
             [
              1,
              "#f0f921"
             ]
            ],
            "type": "histogram2dcontour"
           }
          ],
          "mesh3d": [
           {
            "colorbar": {
             "outlinewidth": 0,
             "ticks": ""
            },
            "type": "mesh3d"
           }
          ],
          "parcoords": [
           {
            "line": {
             "colorbar": {
              "outlinewidth": 0,
              "ticks": ""
             }
            },
            "type": "parcoords"
           }
          ],
          "pie": [
           {
            "automargin": true,
            "type": "pie"
           }
          ],
          "scatter": [
           {
            "marker": {
             "colorbar": {
              "outlinewidth": 0,
              "ticks": ""
             }
            },
            "type": "scatter"
           }
          ],
          "scatter3d": [
           {
            "line": {
             "colorbar": {
              "outlinewidth": 0,
              "ticks": ""
             }
            },
            "marker": {
             "colorbar": {
              "outlinewidth": 0,
              "ticks": ""
             }
            },
            "type": "scatter3d"
           }
          ],
          "scattercarpet": [
           {
            "marker": {
             "colorbar": {
              "outlinewidth": 0,
              "ticks": ""
             }
            },
            "type": "scattercarpet"
           }
          ],
          "scattergeo": [
           {
            "marker": {
             "colorbar": {
              "outlinewidth": 0,
              "ticks": ""
             }
            },
            "type": "scattergeo"
           }
          ],
          "scattergl": [
           {
            "marker": {
             "colorbar": {
              "outlinewidth": 0,
              "ticks": ""
             }
            },
            "type": "scattergl"
           }
          ],
          "scattermapbox": [
           {
            "marker": {
             "colorbar": {
              "outlinewidth": 0,
              "ticks": ""
             }
            },
            "type": "scattermapbox"
           }
          ],
          "scatterpolar": [
           {
            "marker": {
             "colorbar": {
              "outlinewidth": 0,
              "ticks": ""
             }
            },
            "type": "scatterpolar"
           }
          ],
          "scatterpolargl": [
           {
            "marker": {
             "colorbar": {
              "outlinewidth": 0,
              "ticks": ""
             }
            },
            "type": "scatterpolargl"
           }
          ],
          "scatterternary": [
           {
            "marker": {
             "colorbar": {
              "outlinewidth": 0,
              "ticks": ""
             }
            },
            "type": "scatterternary"
           }
          ],
          "surface": [
           {
            "colorbar": {
             "outlinewidth": 0,
             "ticks": ""
            },
            "colorscale": [
             [
              0,
              "#0d0887"
             ],
             [
              0.1111111111111111,
              "#46039f"
             ],
             [
              0.2222222222222222,
              "#7201a8"
             ],
             [
              0.3333333333333333,
              "#9c179e"
             ],
             [
              0.4444444444444444,
              "#bd3786"
             ],
             [
              0.5555555555555556,
              "#d8576b"
             ],
             [
              0.6666666666666666,
              "#ed7953"
             ],
             [
              0.7777777777777778,
              "#fb9f3a"
             ],
             [
              0.8888888888888888,
              "#fdca26"
             ],
             [
              1,
              "#f0f921"
             ]
            ],
            "type": "surface"
           }
          ],
          "table": [
           {
            "cells": {
             "fill": {
              "color": "#EBF0F8"
             },
             "line": {
              "color": "white"
             }
            },
            "header": {
             "fill": {
              "color": "#C8D4E3"
             },
             "line": {
              "color": "white"
             }
            },
            "type": "table"
           }
          ]
         },
         "layout": {
          "annotationdefaults": {
           "arrowcolor": "#2a3f5f",
           "arrowhead": 0,
           "arrowwidth": 1
          },
          "coloraxis": {
           "colorbar": {
            "outlinewidth": 0,
            "ticks": ""
           }
          },
          "colorscale": {
           "diverging": [
            [
             0,
             "#8e0152"
            ],
            [
             0.1,
             "#c51b7d"
            ],
            [
             0.2,
             "#de77ae"
            ],
            [
             0.3,
             "#f1b6da"
            ],
            [
             0.4,
             "#fde0ef"
            ],
            [
             0.5,
             "#f7f7f7"
            ],
            [
             0.6,
             "#e6f5d0"
            ],
            [
             0.7,
             "#b8e186"
            ],
            [
             0.8,
             "#7fbc41"
            ],
            [
             0.9,
             "#4d9221"
            ],
            [
             1,
             "#276419"
            ]
           ],
           "sequential": [
            [
             0,
             "#0d0887"
            ],
            [
             0.1111111111111111,
             "#46039f"
            ],
            [
             0.2222222222222222,
             "#7201a8"
            ],
            [
             0.3333333333333333,
             "#9c179e"
            ],
            [
             0.4444444444444444,
             "#bd3786"
            ],
            [
             0.5555555555555556,
             "#d8576b"
            ],
            [
             0.6666666666666666,
             "#ed7953"
            ],
            [
             0.7777777777777778,
             "#fb9f3a"
            ],
            [
             0.8888888888888888,
             "#fdca26"
            ],
            [
             1,
             "#f0f921"
            ]
           ],
           "sequentialminus": [
            [
             0,
             "#0d0887"
            ],
            [
             0.1111111111111111,
             "#46039f"
            ],
            [
             0.2222222222222222,
             "#7201a8"
            ],
            [
             0.3333333333333333,
             "#9c179e"
            ],
            [
             0.4444444444444444,
             "#bd3786"
            ],
            [
             0.5555555555555556,
             "#d8576b"
            ],
            [
             0.6666666666666666,
             "#ed7953"
            ],
            [
             0.7777777777777778,
             "#fb9f3a"
            ],
            [
             0.8888888888888888,
             "#fdca26"
            ],
            [
             1,
             "#f0f921"
            ]
           ]
          },
          "colorway": [
           "#636efa",
           "#EF553B",
           "#00cc96",
           "#ab63fa",
           "#FFA15A",
           "#19d3f3",
           "#FF6692",
           "#B6E880",
           "#FF97FF",
           "#FECB52"
          ],
          "font": {
           "color": "#2a3f5f"
          },
          "geo": {
           "bgcolor": "white",
           "lakecolor": "white",
           "landcolor": "#E5ECF6",
           "showlakes": true,
           "showland": true,
           "subunitcolor": "white"
          },
          "hoverlabel": {
           "align": "left"
          },
          "hovermode": "closest",
          "mapbox": {
           "style": "light"
          },
          "paper_bgcolor": "white",
          "plot_bgcolor": "#E5ECF6",
          "polar": {
           "angularaxis": {
            "gridcolor": "white",
            "linecolor": "white",
            "ticks": ""
           },
           "bgcolor": "#E5ECF6",
           "radialaxis": {
            "gridcolor": "white",
            "linecolor": "white",
            "ticks": ""
           }
          },
          "scene": {
           "xaxis": {
            "backgroundcolor": "#E5ECF6",
            "gridcolor": "white",
            "gridwidth": 2,
            "linecolor": "white",
            "showbackground": true,
            "ticks": "",
            "zerolinecolor": "white"
           },
           "yaxis": {
            "backgroundcolor": "#E5ECF6",
            "gridcolor": "white",
            "gridwidth": 2,
            "linecolor": "white",
            "showbackground": true,
            "ticks": "",
            "zerolinecolor": "white"
           },
           "zaxis": {
            "backgroundcolor": "#E5ECF6",
            "gridcolor": "white",
            "gridwidth": 2,
            "linecolor": "white",
            "showbackground": true,
            "ticks": "",
            "zerolinecolor": "white"
           }
          },
          "shapedefaults": {
           "line": {
            "color": "#2a3f5f"
           }
          },
          "ternary": {
           "aaxis": {
            "gridcolor": "white",
            "linecolor": "white",
            "ticks": ""
           },
           "baxis": {
            "gridcolor": "white",
            "linecolor": "white",
            "ticks": ""
           },
           "bgcolor": "#E5ECF6",
           "caxis": {
            "gridcolor": "white",
            "linecolor": "white",
            "ticks": ""
           }
          },
          "title": {
           "x": 0.05
          },
          "xaxis": {
           "automargin": true,
           "gridcolor": "white",
           "linecolor": "white",
           "ticks": "",
           "title": {
            "standoff": 15
           },
           "zerolinecolor": "white",
           "zerolinewidth": 2
          },
          "yaxis": {
           "automargin": true,
           "gridcolor": "white",
           "linecolor": "white",
           "ticks": "",
           "title": {
            "standoff": 15
           },
           "zerolinecolor": "white",
           "zerolinewidth": 2
          }
         }
        },
        "title": {
         "font": {
          "color": "#4D5663"
         }
        },
        "xaxis": {
         "gridcolor": "#E1E5ED",
         "showgrid": true,
         "tickfont": {
          "color": "#4D5663"
         },
         "title": {
          "font": {
           "color": "#4D5663"
          },
          "text": ""
         },
         "zerolinecolor": "#E1E5ED"
        },
        "yaxis": {
         "gridcolor": "#E1E5ED",
         "showgrid": true,
         "tickfont": {
          "color": "#4D5663"
         },
         "title": {
          "font": {
           "color": "#4D5663"
          },
          "text": ""
         },
         "zerolinecolor": "#E1E5ED"
        }
       }
      },
      "text/html": [
       "<div>\n",
       "        \n",
       "        \n",
       "            <div id=\"6190a4a0-cfe4-4bb2-b306-d37900e82480\" class=\"plotly-graph-div\" style=\"height:525px; width:100%;\"></div>\n",
       "            <script type=\"text/javascript\">\n",
       "                require([\"plotly\"], function(Plotly) {\n",
       "                    window.PLOTLYENV=window.PLOTLYENV || {};\n",
       "                    window.PLOTLYENV.BASE_URL='https://plot.ly';\n",
       "                    \n",
       "                if (document.getElementById(\"6190a4a0-cfe4-4bb2-b306-d37900e82480\")) {\n",
       "                    Plotly.newPlot(\n",
       "                        '6190a4a0-cfe4-4bb2-b306-d37900e82480',\n",
       "                        [{\"marker\": {\"color\": [\"rgb(255, 153, 51)\", \"rgb(55, 128, 191)\", \"rgb(50, 171, 96)\", \"rgb(128, 0, 128)\", \"rgb(219, 64, 82)\", \"rgb(0, 128, 128)\", \"rgb(255, 255, 51)\", \"rgb(128, 128, 0)\", \"rgb(251, 128, 114)\", \"rgb(128, 177, 211)\"], \"line\": {\"width\": 1.3}, \"size\": [45, 67, 49, 96, 61, 67, 64, 47, 63, 42, 63, 78, 23, 41, 52, 54, 55, 30, 38, 67, 61, 31, 73, 51, 53, 33, 33, 50, 59, 33, 60, 71, 55, 56, 62, 45, 46, 42, 32, 62, 57, 45, 36, 29, 37, 62, 68, 83, 47, 45, 61, 30, 12, 57, 112, 57, 105, 51, 81, 41, 74, 40, 52, 49, 59, 65, 61, 43, 46, 44, 56, 30, 74, 33, 81, 46, 68, 75, 53, 56, 57, 51, 82, 62, 48, 54, 52, 53, 68, 25, 62, 56, 53, 56, 73, 72, 37, 70, 66, 68], \"symbol\": \"circle\"}, \"mode\": \"markers\", \"text\": \"\", \"type\": \"scatter\", \"x\": [-0.22273487337733267, 0.96938672321073, 1.7679600810584775, -0.3301211832497169, 1.1230098975062985, -0.14059927301365985, -1.9070652679785047, 2.511823571853174, 1.2216014533870392, 1.3073393520687377, -0.9846259789910012, -0.1883392328084605, -0.22696668434108205, -1.299460261517134, 0.4262588185017659, 0.5404025358415369, 0.7364557725641377, 1.962488505587565, 0.07229067151463153, -1.4275629745410985, -0.3242165597081774, -2.887372185270094, 1.5569233724535545, 0.3686419867314151, -0.28043893823121574, -1.1024167245080543, 1.426183875358781, 0.5305400934685128, 0.7617235562635237, 2.8970418063844585, 0.6293323992915252, 0.9872214070242598, -1.040323993585614, 1.698527144775692, 0.07671594369287311, -1.3974520885623587, -0.6032640322879783, -1.5371891061887468, 0.12591877223282416, 0.4752599142434366, -1.839836143032748, -0.0011053443793610086, 0.07954000327852732, -1.9030838326487316, -0.11381639211398083, 1.887274435194834, 0.9345581603780265, -1.3608156258859416, 1.1184467353712293, 0.015167793080002748, -0.5461127050048382, 2.3245329962614, 0.5726775520758279, 0.8876263201789777, 0.1903583136370771, 0.9501656838108266, 0.27274189017330125, 0.456584918327554, 0.5240481649795107, -0.18860181337858492, -0.5506039594361837, 0.8046149221981044, 0.24332043531381128, -0.4908778134063485, -0.10558812187238044, -1.8719974064681755, -0.8554842907073329, -0.6195854025884859, -1.5218331069482387, 0.30524099638517493, 0.3561465309953952, -0.6228040879887814, -0.3373223308099943, 0.4546497732383339, 0.6465256817603978, 0.0879648790735695, -1.9460027806937035, 1.283214410360988, 0.31895418492453803, 2.2801411468117707, 1.2233813641840674, 0.9848885412966429, 0.43884487977941583, 0.16042815465541344, -0.5456620363016453, -0.07311170502108057, -0.72481577671909, 0.30421433345445353, -0.5435325655076598, -0.7177744484420017, -1.206403275156407, -1.5038920587133007, 0.34969556697456855, 0.1033683879699894, 1.0969514963574702, -0.602516741011873, 1.4006601506399714, 1.3085098482821893, -1.6750936290093266, 0.19143191532406278], \"y\": [-0.2912784887917257, -1.0604395139009635, -0.13733680493437628, 0.3135695783483211, 1.0661696986441274, 1.3541862319329332, -0.5523261399774976, 1.5071533049201622, -0.391130222757601, 0.21170380571560443, 1.7162324355790644, 0.6611357973736018, 0.635641399679405, -2.1097238949373027, -0.09021974822893551, 0.3004568120025808, 0.9011966707161051, 0.007362311582631841, -0.9586505130038168, -0.425991034085616, -0.007272810338529496, -0.0032487035557160005, 3.188702954265513, -1.379372285128576, -0.715293209695822, -0.4268883550220611, -1.2597205476304794, -0.2797275468564421, 0.7075256126525454, -0.8945510570983612, 0.6378218889449954, -0.027350457574237878, 0.24657292285515908, -1.0206425876492329, -1.7713862539277925, -1.225452748286821, 0.7532393077187716, 0.20809650733260548, -0.25871901033046407, 1.5587114024224498, -0.006858566718723743, -0.38582321155371385, -0.15597210960853167, -0.9658116038106779, 0.0033262021394774373, 1.3069089746101692, -0.6111346450148031, -0.024356333844090017, 0.4884751265353459, 0.24337645579278983, -0.06487780638023305, 1.5656843777344125, -0.04329311799446188, -0.5716796345957867, 1.3832930352743789, 0.9506503262620949, 0.42905211694647827, -0.2478743808252456, 1.0696337458806862, -0.988754282998573, -1.6815787993939202, 0.15431988091857216, -0.7193315522411322, -0.1405182008513026, -1.4093913900782, -1.3206623065769594, -0.9696818813446716, -0.27705933814209327, 0.32928966252176317, -1.4327822134147623, -2.1741587787846473, -0.701071818354107, 0.5432762020790552, -0.21030036876751046, -1.4558663725310683, -0.03142164165261238, -0.6013932965445924, -0.7317128044430959, 0.5482687887957334, -1.4400020908226034, 0.5230775309075686, 1.6478340951759107, 0.1697667266874105, 0.715951724685209, 1.2061255571251175, 1.3148274525379475, 0.26701458185145954, 0.5188310223868298, 0.4492856707308754, -1.0044413146012003, 0.10186337604706759, 0.4662002377552069, 1.327975042930052, -0.4993042314894256, -2.242481727188624, 0.34520349030218894, 0.19448183494650748, 1.0599388023177347, -0.053501677172384625, -0.9557761583073123]}],\n",
       "                        {\"legend\": {\"bgcolor\": \"#F5F6F9\", \"font\": {\"color\": \"#4D5663\"}}, \"paper_bgcolor\": \"#F5F6F9\", \"plot_bgcolor\": \"#F5F6F9\", \"template\": {\"data\": {\"bar\": [{\"error_x\": {\"color\": \"#2a3f5f\"}, \"error_y\": {\"color\": \"#2a3f5f\"}, \"marker\": {\"line\": {\"color\": \"#E5ECF6\", \"width\": 0.5}}, \"type\": \"bar\"}], \"barpolar\": [{\"marker\": {\"line\": {\"color\": \"#E5ECF6\", \"width\": 0.5}}, \"type\": \"barpolar\"}], \"carpet\": [{\"aaxis\": {\"endlinecolor\": \"#2a3f5f\", \"gridcolor\": \"white\", \"linecolor\": \"white\", \"minorgridcolor\": \"white\", \"startlinecolor\": \"#2a3f5f\"}, \"baxis\": {\"endlinecolor\": \"#2a3f5f\", \"gridcolor\": \"white\", \"linecolor\": \"white\", \"minorgridcolor\": \"white\", \"startlinecolor\": \"#2a3f5f\"}, \"type\": \"carpet\"}], \"choropleth\": [{\"colorbar\": {\"outlinewidth\": 0, \"ticks\": \"\"}, \"type\": \"choropleth\"}], \"contour\": [{\"colorbar\": {\"outlinewidth\": 0, \"ticks\": \"\"}, \"colorscale\": [[0.0, \"#0d0887\"], [0.1111111111111111, \"#46039f\"], [0.2222222222222222, \"#7201a8\"], [0.3333333333333333, \"#9c179e\"], [0.4444444444444444, \"#bd3786\"], [0.5555555555555556, \"#d8576b\"], [0.6666666666666666, \"#ed7953\"], [0.7777777777777778, \"#fb9f3a\"], [0.8888888888888888, \"#fdca26\"], [1.0, \"#f0f921\"]], \"type\": \"contour\"}], \"contourcarpet\": [{\"colorbar\": {\"outlinewidth\": 0, \"ticks\": \"\"}, \"type\": \"contourcarpet\"}], \"heatmap\": [{\"colorbar\": {\"outlinewidth\": 0, \"ticks\": \"\"}, \"colorscale\": [[0.0, \"#0d0887\"], [0.1111111111111111, \"#46039f\"], [0.2222222222222222, \"#7201a8\"], [0.3333333333333333, \"#9c179e\"], [0.4444444444444444, \"#bd3786\"], [0.5555555555555556, \"#d8576b\"], [0.6666666666666666, \"#ed7953\"], [0.7777777777777778, \"#fb9f3a\"], [0.8888888888888888, \"#fdca26\"], [1.0, \"#f0f921\"]], \"type\": \"heatmap\"}], \"heatmapgl\": [{\"colorbar\": {\"outlinewidth\": 0, \"ticks\": \"\"}, \"colorscale\": [[0.0, \"#0d0887\"], [0.1111111111111111, \"#46039f\"], [0.2222222222222222, \"#7201a8\"], [0.3333333333333333, \"#9c179e\"], [0.4444444444444444, \"#bd3786\"], [0.5555555555555556, \"#d8576b\"], [0.6666666666666666, \"#ed7953\"], [0.7777777777777778, \"#fb9f3a\"], [0.8888888888888888, \"#fdca26\"], [1.0, \"#f0f921\"]], \"type\": \"heatmapgl\"}], \"histogram\": [{\"marker\": {\"colorbar\": {\"outlinewidth\": 0, \"ticks\": \"\"}}, \"type\": \"histogram\"}], \"histogram2d\": [{\"colorbar\": {\"outlinewidth\": 0, \"ticks\": \"\"}, \"colorscale\": [[0.0, \"#0d0887\"], [0.1111111111111111, \"#46039f\"], [0.2222222222222222, \"#7201a8\"], [0.3333333333333333, \"#9c179e\"], [0.4444444444444444, \"#bd3786\"], [0.5555555555555556, \"#d8576b\"], [0.6666666666666666, \"#ed7953\"], [0.7777777777777778, \"#fb9f3a\"], [0.8888888888888888, \"#fdca26\"], [1.0, \"#f0f921\"]], \"type\": \"histogram2d\"}], \"histogram2dcontour\": [{\"colorbar\": {\"outlinewidth\": 0, \"ticks\": \"\"}, \"colorscale\": [[0.0, \"#0d0887\"], [0.1111111111111111, \"#46039f\"], [0.2222222222222222, \"#7201a8\"], [0.3333333333333333, \"#9c179e\"], [0.4444444444444444, \"#bd3786\"], [0.5555555555555556, \"#d8576b\"], [0.6666666666666666, \"#ed7953\"], [0.7777777777777778, \"#fb9f3a\"], [0.8888888888888888, \"#fdca26\"], [1.0, \"#f0f921\"]], \"type\": \"histogram2dcontour\"}], \"mesh3d\": [{\"colorbar\": {\"outlinewidth\": 0, \"ticks\": \"\"}, \"type\": \"mesh3d\"}], \"parcoords\": [{\"line\": {\"colorbar\": {\"outlinewidth\": 0, \"ticks\": \"\"}}, \"type\": \"parcoords\"}], \"pie\": [{\"automargin\": true, \"type\": \"pie\"}], \"scatter\": [{\"marker\": {\"colorbar\": {\"outlinewidth\": 0, \"ticks\": \"\"}}, \"type\": \"scatter\"}], \"scatter3d\": [{\"line\": {\"colorbar\": {\"outlinewidth\": 0, \"ticks\": \"\"}}, \"marker\": {\"colorbar\": {\"outlinewidth\": 0, \"ticks\": \"\"}}, \"type\": \"scatter3d\"}], \"scattercarpet\": [{\"marker\": {\"colorbar\": {\"outlinewidth\": 0, \"ticks\": \"\"}}, \"type\": \"scattercarpet\"}], \"scattergeo\": [{\"marker\": {\"colorbar\": {\"outlinewidth\": 0, \"ticks\": \"\"}}, \"type\": \"scattergeo\"}], \"scattergl\": [{\"marker\": {\"colorbar\": {\"outlinewidth\": 0, \"ticks\": \"\"}}, \"type\": \"scattergl\"}], \"scattermapbox\": [{\"marker\": {\"colorbar\": {\"outlinewidth\": 0, \"ticks\": \"\"}}, \"type\": \"scattermapbox\"}], \"scatterpolar\": [{\"marker\": {\"colorbar\": {\"outlinewidth\": 0, \"ticks\": \"\"}}, \"type\": \"scatterpolar\"}], \"scatterpolargl\": [{\"marker\": {\"colorbar\": {\"outlinewidth\": 0, \"ticks\": \"\"}}, \"type\": \"scatterpolargl\"}], \"scatterternary\": [{\"marker\": {\"colorbar\": {\"outlinewidth\": 0, \"ticks\": \"\"}}, \"type\": \"scatterternary\"}], \"surface\": [{\"colorbar\": {\"outlinewidth\": 0, \"ticks\": \"\"}, \"colorscale\": [[0.0, \"#0d0887\"], [0.1111111111111111, \"#46039f\"], [0.2222222222222222, \"#7201a8\"], [0.3333333333333333, \"#9c179e\"], [0.4444444444444444, \"#bd3786\"], [0.5555555555555556, \"#d8576b\"], [0.6666666666666666, \"#ed7953\"], [0.7777777777777778, \"#fb9f3a\"], [0.8888888888888888, \"#fdca26\"], [1.0, \"#f0f921\"]], \"type\": \"surface\"}], \"table\": [{\"cells\": {\"fill\": {\"color\": \"#EBF0F8\"}, \"line\": {\"color\": \"white\"}}, \"header\": {\"fill\": {\"color\": \"#C8D4E3\"}, \"line\": {\"color\": \"white\"}}, \"type\": \"table\"}]}, \"layout\": {\"annotationdefaults\": {\"arrowcolor\": \"#2a3f5f\", \"arrowhead\": 0, \"arrowwidth\": 1}, \"coloraxis\": {\"colorbar\": {\"outlinewidth\": 0, \"ticks\": \"\"}}, \"colorscale\": {\"diverging\": [[0, \"#8e0152\"], [0.1, \"#c51b7d\"], [0.2, \"#de77ae\"], [0.3, \"#f1b6da\"], [0.4, \"#fde0ef\"], [0.5, \"#f7f7f7\"], [0.6, \"#e6f5d0\"], [0.7, \"#b8e186\"], [0.8, \"#7fbc41\"], [0.9, \"#4d9221\"], [1, \"#276419\"]], \"sequential\": [[0.0, \"#0d0887\"], [0.1111111111111111, \"#46039f\"], [0.2222222222222222, \"#7201a8\"], [0.3333333333333333, \"#9c179e\"], [0.4444444444444444, \"#bd3786\"], [0.5555555555555556, \"#d8576b\"], [0.6666666666666666, \"#ed7953\"], [0.7777777777777778, \"#fb9f3a\"], [0.8888888888888888, \"#fdca26\"], [1.0, \"#f0f921\"]], \"sequentialminus\": [[0.0, \"#0d0887\"], [0.1111111111111111, \"#46039f\"], [0.2222222222222222, \"#7201a8\"], [0.3333333333333333, \"#9c179e\"], [0.4444444444444444, \"#bd3786\"], [0.5555555555555556, \"#d8576b\"], [0.6666666666666666, \"#ed7953\"], [0.7777777777777778, \"#fb9f3a\"], [0.8888888888888888, \"#fdca26\"], [1.0, \"#f0f921\"]]}, \"colorway\": [\"#636efa\", \"#EF553B\", \"#00cc96\", \"#ab63fa\", \"#FFA15A\", \"#19d3f3\", \"#FF6692\", \"#B6E880\", \"#FF97FF\", \"#FECB52\"], \"font\": {\"color\": \"#2a3f5f\"}, \"geo\": {\"bgcolor\": \"white\", \"lakecolor\": \"white\", \"landcolor\": \"#E5ECF6\", \"showlakes\": true, \"showland\": true, \"subunitcolor\": \"white\"}, \"hoverlabel\": {\"align\": \"left\"}, \"hovermode\": \"closest\", \"mapbox\": {\"style\": \"light\"}, \"paper_bgcolor\": \"white\", \"plot_bgcolor\": \"#E5ECF6\", \"polar\": {\"angularaxis\": {\"gridcolor\": \"white\", \"linecolor\": \"white\", \"ticks\": \"\"}, \"bgcolor\": \"#E5ECF6\", \"radialaxis\": {\"gridcolor\": \"white\", \"linecolor\": \"white\", \"ticks\": \"\"}}, \"scene\": {\"xaxis\": {\"backgroundcolor\": \"#E5ECF6\", \"gridcolor\": \"white\", \"gridwidth\": 2, \"linecolor\": \"white\", \"showbackground\": true, \"ticks\": \"\", \"zerolinecolor\": \"white\"}, \"yaxis\": {\"backgroundcolor\": \"#E5ECF6\", \"gridcolor\": \"white\", \"gridwidth\": 2, \"linecolor\": \"white\", \"showbackground\": true, \"ticks\": \"\", \"zerolinecolor\": \"white\"}, \"zaxis\": {\"backgroundcolor\": \"#E5ECF6\", \"gridcolor\": \"white\", \"gridwidth\": 2, \"linecolor\": \"white\", \"showbackground\": true, \"ticks\": \"\", \"zerolinecolor\": \"white\"}}, \"shapedefaults\": {\"line\": {\"color\": \"#2a3f5f\"}}, \"ternary\": {\"aaxis\": {\"gridcolor\": \"white\", \"linecolor\": \"white\", \"ticks\": \"\"}, \"baxis\": {\"gridcolor\": \"white\", \"linecolor\": \"white\", \"ticks\": \"\"}, \"bgcolor\": \"#E5ECF6\", \"caxis\": {\"gridcolor\": \"white\", \"linecolor\": \"white\", \"ticks\": \"\"}}, \"title\": {\"x\": 0.05}, \"xaxis\": {\"automargin\": true, \"gridcolor\": \"white\", \"linecolor\": \"white\", \"ticks\": \"\", \"title\": {\"standoff\": 15}, \"zerolinecolor\": \"white\", \"zerolinewidth\": 2}, \"yaxis\": {\"automargin\": true, \"gridcolor\": \"white\", \"linecolor\": \"white\", \"ticks\": \"\", \"title\": {\"standoff\": 15}, \"zerolinecolor\": \"white\", \"zerolinewidth\": 2}}}, \"title\": {\"font\": {\"color\": \"#4D5663\"}}, \"xaxis\": {\"gridcolor\": \"#E1E5ED\", \"showgrid\": true, \"tickfont\": {\"color\": \"#4D5663\"}, \"title\": {\"font\": {\"color\": \"#4D5663\"}, \"text\": \"\"}, \"zerolinecolor\": \"#E1E5ED\"}, \"yaxis\": {\"gridcolor\": \"#E1E5ED\", \"showgrid\": true, \"tickfont\": {\"color\": \"#4D5663\"}, \"title\": {\"font\": {\"color\": \"#4D5663\"}, \"text\": \"\"}, \"zerolinecolor\": \"#E1E5ED\"}},\n",
       "                        {\"showLink\": true, \"linkText\": \"Export to plot.ly\", \"plotlyServerURL\": \"https://plot.ly\", \"responsive\": true}\n",
       "                    ).then(function(){\n",
       "                            \n",
       "var gd = document.getElementById('6190a4a0-cfe4-4bb2-b306-d37900e82480');\n",
       "var x = new MutationObserver(function (mutations, observer) {{\n",
       "        var display = window.getComputedStyle(gd).display;\n",
       "        if (!display || display === 'none') {{\n",
       "            console.log([gd, 'removed!']);\n",
       "            Plotly.purge(gd);\n",
       "            observer.disconnect();\n",
       "        }}\n",
       "}});\n",
       "\n",
       "// Listen for the removal of the full notebook cells\n",
       "var notebookContainer = gd.closest('#notebook-container');\n",
       "if (notebookContainer) {{\n",
       "    x.observe(notebookContainer, {childList: true});\n",
       "}}\n",
       "\n",
       "// Listen for the clearing of the current output cell\n",
       "var outputEl = gd.closest('.output');\n",
       "if (outputEl) {{\n",
       "    x.observe(outputEl, {childList: true});\n",
       "}}\n",
       "\n",
       "                        })\n",
       "                };\n",
       "                });\n",
       "            </script>\n",
       "        </div>"
      ]
     },
     "metadata": {},
     "output_type": "display_data"
    }
   ],
   "source": [
    "df.iplot(kind='bubble',x='A',y='B',size='C')"
   ]
  },
  {
   "cell_type": "markdown",
   "metadata": {},
   "source": [
    "## scatter_matrix()\n",
    "\n",
    "Similar to sns.pairplot()"
   ]
  },
  {
   "cell_type": "code",
   "execution_count": 47,
   "metadata": {},
   "outputs": [
    {
     "data": {
      "application/vnd.plotly.v1+json": {
       "config": {
        "linkText": "Export to plot.ly",
        "plotlyServerURL": "https://plot.ly",
        "showLink": true
       },
       "data": [
        {
         "histfunc": "count",
         "histnorm": "",
         "marker": {
          "color": "rgba(255, 153, 51, 1.0)",
          "line": {
           "color": "#4D5663",
           "width": 1.3
          }
         },
         "name": "Study",
         "nbinsx": 10,
         "opacity": 0.8,
         "orientation": "v",
         "type": "histogram",
         "x": [
          "Allen et al. 2012",
          "Beck & Barros, 1991",
          "Campagna et al. 2007",
          "Croxall et al. 1990",
          "Dau et al. 2009",
          "Fowler 1987",
          "Fowler 1987",
          "(correlative evidence only)",
          "Good et al. 2010",
          "Moore et al. 2009",
          "Pham et al. 2013",
          "Velez-Rubio et al. 2013",
          "Winn et al. 2008",
          "Woodward et al. 2006",
          "Beck & Barros 1991",
          "Bjorndal et al. 1994",
          "Brandao et al. 2011",
          "Browne et al. 2013",
          "Bugoni et al. 2001",
          "Carey 2011",
          "Cedervall et al. 2012",
          "Connors & Smith 1982",
          "(correlative evidence only)",
          "Dau et al. 2009",
          "de Stephanis et al. 2013",
          "Fry et al. 1987",
          "Jacobsen et al. 2010",
          "Lee et al. 2013",
          "Oliveira et al. 2013",
          "Rochman et al. 2013a-c",
          "Ryan 1988",
          "Velez-Rubio et al. 2013",
          "Wright et al. 2013",
          "Von Moos et al. 2012",
          "Katsanevakis et al. 2007",
          "Lewis et al. 2009",
          "Uneputty & Evans 1997 (correlative evidence only)",
          "Chiappone et al. 2002",
          "Chiappone et al. 2005",
          "Uhrin & Schellinger 2011",
          "Ozdilek et al. 2006 (correlative evidence only)",
          "Widmer & Hennemann 2010 (correlative evidence only)",
          "Widmer & Hennemann 2010 (correlative evidence only)",
          "Goldstein et al. 2012 (correlative evidence only)"
         ],
         "xaxis": "x",
         "yaxis": "y"
        },
        {
         "line": {
          "color": "rgba(128, 128, 128, 1.0)",
          "dash": "solid",
          "shape": "linear",
          "width": 1.3
         },
         "marker": {
          "size": 2,
          "symbol": "circle"
         },
         "mode": "markers",
         "name": "Study",
         "text": "",
         "type": "scatter",
         "x": [
          "Grey seals",
          "Manatees",
          "Elephant seals",
          "Fur seals",
          "Seabirds, pinnipeds",
          "Fur seals",
          null,
          "Fur seals",
          "Invertebrates, fish, seabirds, marine mammals",
          "Seabirds, marine mammals",
          "Gorgonians",
          "Sea turtles",
          "Whales",
          "Whales",
          "Manatees",
          "Sea turtles",
          "Penguins",
          "Lugworms (laboratory)",
          "Sea turtles",
          "Seabirds",
          "Fish (laboratory)",
          null,
          "Seabirds",
          "Seabirds, pinnipeds",
          "Sperm whale",
          "Seabirds",
          "Sperm whales",
          "Copepods (laboratory)",
          "Fish (laboratory)",
          "Fish (laboratory)",
          "Birds (laboratory)",
          "Sea turtles",
          "Lugworms (laboratory)",
          "Mussels (laboratory)",
          "Epibenthic megafauna",
          "Sessile invertebrates (coral reef)",
          "Assemblage on sediment",
          "Sessile invertebrates (coral reef)",
          "Sessile invertebrates (coral reef)",
          "Seagrass",
          "Sea turtles",
          "Ghost crabs",
          "Ghost crabs",
          "Marine insects"
         ],
         "xaxis": "x2",
         "y": [
          "Allen et al. 2012",
          "Beck & Barros, 1991",
          "Campagna et al. 2007",
          "Croxall et al. 1990",
          "Dau et al. 2009",
          "Fowler 1987",
          "Fowler 1987",
          "(correlative evidence only)",
          "Good et al. 2010",
          "Moore et al. 2009",
          "Pham et al. 2013",
          "Velez-Rubio et al. 2013",
          "Winn et al. 2008",
          "Woodward et al. 2006",
          "Beck & Barros 1991",
          "Bjorndal et al. 1994",
          "Brandao et al. 2011",
          "Browne et al. 2013",
          "Bugoni et al. 2001",
          "Carey 2011",
          "Cedervall et al. 2012",
          "Connors & Smith 1982",
          "(correlative evidence only)",
          "Dau et al. 2009",
          "de Stephanis et al. 2013",
          "Fry et al. 1987",
          "Jacobsen et al. 2010",
          "Lee et al. 2013",
          "Oliveira et al. 2013",
          "Rochman et al. 2013a-c",
          "Ryan 1988",
          "Velez-Rubio et al. 2013",
          "Wright et al. 2013",
          "Von Moos et al. 2012",
          "Katsanevakis et al. 2007",
          "Lewis et al. 2009",
          "Uneputty & Evans 1997 (correlative evidence only)",
          "Chiappone et al. 2002",
          "Chiappone et al. 2005",
          "Uhrin & Schellinger 2011",
          "Ozdilek et al. 2006 (correlative evidence only)",
          "Widmer & Hennemann 2010 (correlative evidence only)",
          "Widmer & Hennemann 2010 (correlative evidence only)",
          "Goldstein et al. 2012 (correlative evidence only)"
         ],
         "yaxis": "y2"
        },
        {
         "line": {
          "color": "rgba(128, 128, 128, 1.0)",
          "dash": "solid",
          "shape": "linear",
          "width": 1.3
         },
         "marker": {
          "size": 2,
          "symbol": "circle"
         },
         "mode": "markers",
         "name": "Study",
         "text": "",
         "type": "scatter",
         "x": [
          "Entanglement",
          "Entanglement",
          "Entanglement",
          "Entanglement",
          "Entanglement",
          "Entanglement",
          null,
          "Entanglement",
          "Entanglement",
          "Entanglement",
          "Entanglement",
          "Entanglement",
          "Entanglement",
          "Entanglement",
          "Ingestion",
          "Ingestion",
          "Ingestion",
          "Ingestion",
          "Ingestion",
          "Ingestion",
          "Ingestion",
          null,
          "Ingestion",
          "Ingestion",
          "Ingestion",
          "Ingestion",
          "Ingestion",
          "Ingestion",
          "Ingestion",
          "Ingestion",
          "Ingestion",
          "Ingestion",
          "Ingestion",
          "Ingestion and gill uptake",
          "Interaction (contact)",
          "Interaction (contact)",
          "Interaction (contact)",
          "Interaction (contact)",
          "Interaction (contact)",
          "Interaction (contact)",
          "Interaction (obstruction)",
          "Interaction (obstruction)",
          "Interaction (substrate)",
          "Interaction (substrate)"
         ],
         "xaxis": "x3",
         "y": [
          "Allen et al. 2012",
          "Beck & Barros, 1991",
          "Campagna et al. 2007",
          "Croxall et al. 1990",
          "Dau et al. 2009",
          "Fowler 1987",
          "Fowler 1987",
          "(correlative evidence only)",
          "Good et al. 2010",
          "Moore et al. 2009",
          "Pham et al. 2013",
          "Velez-Rubio et al. 2013",
          "Winn et al. 2008",
          "Woodward et al. 2006",
          "Beck & Barros 1991",
          "Bjorndal et al. 1994",
          "Brandao et al. 2011",
          "Browne et al. 2013",
          "Bugoni et al. 2001",
          "Carey 2011",
          "Cedervall et al. 2012",
          "Connors & Smith 1982",
          "(correlative evidence only)",
          "Dau et al. 2009",
          "de Stephanis et al. 2013",
          "Fry et al. 1987",
          "Jacobsen et al. 2010",
          "Lee et al. 2013",
          "Oliveira et al. 2013",
          "Rochman et al. 2013a-c",
          "Ryan 1988",
          "Velez-Rubio et al. 2013",
          "Wright et al. 2013",
          "Von Moos et al. 2012",
          "Katsanevakis et al. 2007",
          "Lewis et al. 2009",
          "Uneputty & Evans 1997 (correlative evidence only)",
          "Chiappone et al. 2002",
          "Chiappone et al. 2005",
          "Uhrin & Schellinger 2011",
          "Ozdilek et al. 2006 (correlative evidence only)",
          "Widmer & Hennemann 2010 (correlative evidence only)",
          "Widmer & Hennemann 2010 (correlative evidence only)",
          "Goldstein et al. 2012 (correlative evidence only)"
         ],
         "yaxis": "y3"
        },
        {
         "line": {
          "color": "rgba(128, 128, 128, 1.0)",
          "dash": "solid",
          "shape": "linear",
          "width": 1.3
         },
         "marker": {
          "size": 2,
          "symbol": "circle"
         },
         "mode": "markers",
         "name": "Study",
         "text": "",
         "type": "scatter",
         "x": [
          "MF line, net, rope",
          "MF line, bags, other debris",
          "MF line, fishing jigs",
          "Packing band, fishing gear, other debris",
          "Fishing gear",
          "Trawl netting, packing bands",
          null,
          "Trawl netting, packing bands",
          "Derelict gillnets",
          "Plastic, fishing line",
          "Fishing line",
          "Fishing gear",
          "Plastic line",
          "Plastic line",
          "MF line, bags, other debris",
          "MF line, fish hooks, other debris",
          "Plastic, fishing gear, other debris",
          "Microplastics",
          "Plastic bags, ropes",
          "Plastic particles, pellets",
          "Nanoparticles",
          null,
          "Plastic pellets, foam",
          "Fishing hooks",
          "Identifiable litter items",
          "Plastic fragments, pellets, identifiable litter",
          "Fishing gear, other debris",
          "Micro- and nanoplastics",
          "Microplastics",
          "Microplastics",
          "Microplastics",
          "Marine debris",
          "Microplastics",
          "Microplastics",
          "Plastic bottles, glass jars",
          "Lobster traps",
          "Plastic litter",
          "MF line, lobster trap, hook and line gear",
          "Hook and line gear",
          "Crab pots, tires, wood",
          "Waste, medical waste",
          "Beach litter, mostly plastic",
          "Beach litter, mostly plastic",
          "Microplastics"
         ],
         "xaxis": "x4",
         "y": [
          "Allen et al. 2012",
          "Beck & Barros, 1991",
          "Campagna et al. 2007",
          "Croxall et al. 1990",
          "Dau et al. 2009",
          "Fowler 1987",
          "Fowler 1987",
          "(correlative evidence only)",
          "Good et al. 2010",
          "Moore et al. 2009",
          "Pham et al. 2013",
          "Velez-Rubio et al. 2013",
          "Winn et al. 2008",
          "Woodward et al. 2006",
          "Beck & Barros 1991",
          "Bjorndal et al. 1994",
          "Brandao et al. 2011",
          "Browne et al. 2013",
          "Bugoni et al. 2001",
          "Carey 2011",
          "Cedervall et al. 2012",
          "Connors & Smith 1982",
          "(correlative evidence only)",
          "Dau et al. 2009",
          "de Stephanis et al. 2013",
          "Fry et al. 1987",
          "Jacobsen et al. 2010",
          "Lee et al. 2013",
          "Oliveira et al. 2013",
          "Rochman et al. 2013a-c",
          "Ryan 1988",
          "Velez-Rubio et al. 2013",
          "Wright et al. 2013",
          "Von Moos et al. 2012",
          "Katsanevakis et al. 2007",
          "Lewis et al. 2009",
          "Uneputty & Evans 1997 (correlative evidence only)",
          "Chiappone et al. 2002",
          "Chiappone et al. 2005",
          "Uhrin & Schellinger 2011",
          "Ozdilek et al. 2006 (correlative evidence only)",
          "Widmer & Hennemann 2010 (correlative evidence only)",
          "Widmer & Hennemann 2010 (correlative evidence only)",
          "Goldstein et al. 2012 (correlative evidence only)"
         ],
         "yaxis": "y4"
        },
        {
         "line": {
          "color": "rgba(128, 128, 128, 1.0)",
          "dash": "solid",
          "shape": "linear",
          "width": 1.3
         },
         "marker": {
          "size": 2,
          "symbol": "circle"
         },
         "mode": "markers",
         "name": "Study",
         "text": "",
         "type": "scatter",
         "x": [
          "Constriction",
          "Death",
          "Dermal wound",
          "Dermal wound",
          "External wound",
          "Death",
          null,
          "Reduced population size",
          "Death",
          "Death",
          "Damage/breakage",
          "Death",
          "Dermal wound",
          "Dermal wound",
          "Death",
          "Intestinal blockage, death",
          null,
          "Biochemical/cellular, death",
          "Gut obstruction, death",
          "Perforated gut",
          "Biochemical/cellular",
          null,
          "Biochemical/cellular",
          "Internal wound",
          "Gastric rupture, death",
          "Gut impaction, ulcerative lesions",
          "Gastric rupture, gut impaction, death",
          "Death",
          "Biochemical/cellular",
          "Biochemical/cellular",
          "Reduced organ size",
          "Gut obstruction",
          "Biochemical/cellular",
          "Biochemical/cellular",
          "Altered assemblage",
          "Altered assemblage",
          "Altered assemblage",
          "Tissue abrasion",
          "Tissue abrasion",
          "Breakage, suffocation, death",
          "Reduced population size",
          "Reduced population size",
          "Altered assemblage",
          "Increased population size"
         ],
         "xaxis": "x5",
         "y": [
          "Allen et al. 2012",
          "Beck & Barros, 1991",
          "Campagna et al. 2007",
          "Croxall et al. 1990",
          "Dau et al. 2009",
          "Fowler 1987",
          "Fowler 1987",
          "(correlative evidence only)",
          "Good et al. 2010",
          "Moore et al. 2009",
          "Pham et al. 2013",
          "Velez-Rubio et al. 2013",
          "Winn et al. 2008",
          "Woodward et al. 2006",
          "Beck & Barros 1991",
          "Bjorndal et al. 1994",
          "Brandao et al. 2011",
          "Browne et al. 2013",
          "Bugoni et al. 2001",
          "Carey 2011",
          "Cedervall et al. 2012",
          "Connors & Smith 1982",
          "(correlative evidence only)",
          "Dau et al. 2009",
          "de Stephanis et al. 2013",
          "Fry et al. 1987",
          "Jacobsen et al. 2010",
          "Lee et al. 2013",
          "Oliveira et al. 2013",
          "Rochman et al. 2013a-c",
          "Ryan 1988",
          "Velez-Rubio et al. 2013",
          "Wright et al. 2013",
          "Von Moos et al. 2012",
          "Katsanevakis et al. 2007",
          "Lewis et al. 2009",
          "Uneputty & Evans 1997 (correlative evidence only)",
          "Chiappone et al. 2002",
          "Chiappone et al. 2005",
          "Uhrin & Schellinger 2011",
          "Ozdilek et al. 2006 (correlative evidence only)",
          "Widmer & Hennemann 2010 (correlative evidence only)",
          "Widmer & Hennemann 2010 (correlative evidence only)",
          "Goldstein et al. 2012 (correlative evidence only)"
         ],
         "yaxis": "y5"
        },
        {
         "line": {
          "color": "rgba(128, 128, 128, 1.0)",
          "dash": "solid",
          "shape": "linear",
          "width": 1.3
         },
         "marker": {
          "size": 2,
          "symbol": "circle"
         },
         "mode": "markers",
         "name": "Animal",
         "text": "",
         "type": "scatter",
         "x": [
          "Allen et al. 2012",
          "Beck & Barros, 1991",
          "Campagna et al. 2007",
          "Croxall et al. 1990",
          "Dau et al. 2009",
          "Fowler 1987",
          "Fowler 1987",
          "(correlative evidence only)",
          "Good et al. 2010",
          "Moore et al. 2009",
          "Pham et al. 2013",
          "Velez-Rubio et al. 2013",
          "Winn et al. 2008",
          "Woodward et al. 2006",
          "Beck & Barros 1991",
          "Bjorndal et al. 1994",
          "Brandao et al. 2011",
          "Browne et al. 2013",
          "Bugoni et al. 2001",
          "Carey 2011",
          "Cedervall et al. 2012",
          "Connors & Smith 1982",
          "(correlative evidence only)",
          "Dau et al. 2009",
          "de Stephanis et al. 2013",
          "Fry et al. 1987",
          "Jacobsen et al. 2010",
          "Lee et al. 2013",
          "Oliveira et al. 2013",
          "Rochman et al. 2013a-c",
          "Ryan 1988",
          "Velez-Rubio et al. 2013",
          "Wright et al. 2013",
          "Von Moos et al. 2012",
          "Katsanevakis et al. 2007",
          "Lewis et al. 2009",
          "Uneputty & Evans 1997 (correlative evidence only)",
          "Chiappone et al. 2002",
          "Chiappone et al. 2005",
          "Uhrin & Schellinger 2011",
          "Ozdilek et al. 2006 (correlative evidence only)",
          "Widmer & Hennemann 2010 (correlative evidence only)",
          "Widmer & Hennemann 2010 (correlative evidence only)",
          "Goldstein et al. 2012 (correlative evidence only)"
         ],
         "xaxis": "x6",
         "y": [
          "Grey seals",
          "Manatees",
          "Elephant seals",
          "Fur seals",
          "Seabirds, pinnipeds",
          "Fur seals",
          "",
          "Fur seals",
          "Invertebrates, fish, seabirds, marine mammals",
          "Seabirds, marine mammals",
          "Gorgonians",
          "Sea turtles",
          "Whales",
          "Whales",
          "Manatees",
          "Sea turtles",
          "Penguins",
          "Lugworms (laboratory)",
          "Sea turtles",
          "Seabirds",
          "Fish (laboratory)",
          "",
          "Seabirds",
          "Seabirds, pinnipeds",
          "Sperm whale",
          "Seabirds",
          "Sperm whales",
          "Copepods (laboratory)",
          "Fish (laboratory)",
          "Fish (laboratory)",
          "Birds (laboratory)",
          "Sea turtles",
          "Lugworms (laboratory)",
          "Mussels (laboratory)",
          "Epibenthic megafauna",
          "Sessile invertebrates (coral reef)",
          "Assemblage on sediment",
          "Sessile invertebrates (coral reef)",
          "Sessile invertebrates (coral reef)",
          "Seagrass",
          "Sea turtles",
          "Ghost crabs",
          "Ghost crabs",
          "Marine insects"
         ],
         "yaxis": "y6"
        },
        {
         "histfunc": "count",
         "histnorm": "",
         "marker": {
          "color": "rgba(55, 128, 191, 1.0)",
          "line": {
           "color": "#4D5663",
           "width": 1.3
          }
         },
         "name": "Animal",
         "nbinsx": 10,
         "opacity": 0.8,
         "orientation": "v",
         "type": "histogram",
         "x": [
          "Grey seals",
          "Manatees",
          "Elephant seals",
          "Fur seals",
          "Seabirds, pinnipeds",
          "Fur seals",
          null,
          "Fur seals",
          "Invertebrates, fish, seabirds, marine mammals",
          "Seabirds, marine mammals",
          "Gorgonians",
          "Sea turtles",
          "Whales",
          "Whales",
          "Manatees",
          "Sea turtles",
          "Penguins",
          "Lugworms (laboratory)",
          "Sea turtles",
          "Seabirds",
          "Fish (laboratory)",
          null,
          "Seabirds",
          "Seabirds, pinnipeds",
          "Sperm whale",
          "Seabirds",
          "Sperm whales",
          "Copepods (laboratory)",
          "Fish (laboratory)",
          "Fish (laboratory)",
          "Birds (laboratory)",
          "Sea turtles",
          "Lugworms (laboratory)",
          "Mussels (laboratory)",
          "Epibenthic megafauna",
          "Sessile invertebrates (coral reef)",
          "Assemblage on sediment",
          "Sessile invertebrates (coral reef)",
          "Sessile invertebrates (coral reef)",
          "Seagrass",
          "Sea turtles",
          "Ghost crabs",
          "Ghost crabs",
          "Marine insects"
         ],
         "xaxis": "x7",
         "yaxis": "y7"
        },
        {
         "line": {
          "color": "rgba(128, 128, 128, 1.0)",
          "dash": "solid",
          "shape": "linear",
          "width": 1.3
         },
         "marker": {
          "size": 2,
          "symbol": "circle"
         },
         "mode": "markers",
         "name": "Animal",
         "text": "",
         "type": "scatter",
         "x": [
          "Entanglement",
          "Entanglement",
          "Entanglement",
          "Entanglement",
          "Entanglement",
          "Entanglement",
          null,
          "Entanglement",
          "Entanglement",
          "Entanglement",
          "Entanglement",
          "Entanglement",
          "Entanglement",
          "Entanglement",
          "Ingestion",
          "Ingestion",
          "Ingestion",
          "Ingestion",
          "Ingestion",
          "Ingestion",
          "Ingestion",
          null,
          "Ingestion",
          "Ingestion",
          "Ingestion",
          "Ingestion",
          "Ingestion",
          "Ingestion",
          "Ingestion",
          "Ingestion",
          "Ingestion",
          "Ingestion",
          "Ingestion",
          "Ingestion and gill uptake",
          "Interaction (contact)",
          "Interaction (contact)",
          "Interaction (contact)",
          "Interaction (contact)",
          "Interaction (contact)",
          "Interaction (contact)",
          "Interaction (obstruction)",
          "Interaction (obstruction)",
          "Interaction (substrate)",
          "Interaction (substrate)"
         ],
         "xaxis": "x8",
         "y": [
          "Grey seals",
          "Manatees",
          "Elephant seals",
          "Fur seals",
          "Seabirds, pinnipeds",
          "Fur seals",
          "",
          "Fur seals",
          "Invertebrates, fish, seabirds, marine mammals",
          "Seabirds, marine mammals",
          "Gorgonians",
          "Sea turtles",
          "Whales",
          "Whales",
          "Manatees",
          "Sea turtles",
          "Penguins",
          "Lugworms (laboratory)",
          "Sea turtles",
          "Seabirds",
          "Fish (laboratory)",
          "",
          "Seabirds",
          "Seabirds, pinnipeds",
          "Sperm whale",
          "Seabirds",
          "Sperm whales",
          "Copepods (laboratory)",
          "Fish (laboratory)",
          "Fish (laboratory)",
          "Birds (laboratory)",
          "Sea turtles",
          "Lugworms (laboratory)",
          "Mussels (laboratory)",
          "Epibenthic megafauna",
          "Sessile invertebrates (coral reef)",
          "Assemblage on sediment",
          "Sessile invertebrates (coral reef)",
          "Sessile invertebrates (coral reef)",
          "Seagrass",
          "Sea turtles",
          "Ghost crabs",
          "Ghost crabs",
          "Marine insects"
         ],
         "yaxis": "y8"
        },
        {
         "line": {
          "color": "rgba(128, 128, 128, 1.0)",
          "dash": "solid",
          "shape": "linear",
          "width": 1.3
         },
         "marker": {
          "size": 2,
          "symbol": "circle"
         },
         "mode": "markers",
         "name": "Animal",
         "text": "",
         "type": "scatter",
         "x": [
          "MF line, net, rope",
          "MF line, bags, other debris",
          "MF line, fishing jigs",
          "Packing band, fishing gear, other debris",
          "Fishing gear",
          "Trawl netting, packing bands",
          null,
          "Trawl netting, packing bands",
          "Derelict gillnets",
          "Plastic, fishing line",
          "Fishing line",
          "Fishing gear",
          "Plastic line",
          "Plastic line",
          "MF line, bags, other debris",
          "MF line, fish hooks, other debris",
          "Plastic, fishing gear, other debris",
          "Microplastics",
          "Plastic bags, ropes",
          "Plastic particles, pellets",
          "Nanoparticles",
          null,
          "Plastic pellets, foam",
          "Fishing hooks",
          "Identifiable litter items",
          "Plastic fragments, pellets, identifiable litter",
          "Fishing gear, other debris",
          "Micro- and nanoplastics",
          "Microplastics",
          "Microplastics",
          "Microplastics",
          "Marine debris",
          "Microplastics",
          "Microplastics",
          "Plastic bottles, glass jars",
          "Lobster traps",
          "Plastic litter",
          "MF line, lobster trap, hook and line gear",
          "Hook and line gear",
          "Crab pots, tires, wood",
          "Waste, medical waste",
          "Beach litter, mostly plastic",
          "Beach litter, mostly plastic",
          "Microplastics"
         ],
         "xaxis": "x9",
         "y": [
          "Grey seals",
          "Manatees",
          "Elephant seals",
          "Fur seals",
          "Seabirds, pinnipeds",
          "Fur seals",
          "",
          "Fur seals",
          "Invertebrates, fish, seabirds, marine mammals",
          "Seabirds, marine mammals",
          "Gorgonians",
          "Sea turtles",
          "Whales",
          "Whales",
          "Manatees",
          "Sea turtles",
          "Penguins",
          "Lugworms (laboratory)",
          "Sea turtles",
          "Seabirds",
          "Fish (laboratory)",
          "",
          "Seabirds",
          "Seabirds, pinnipeds",
          "Sperm whale",
          "Seabirds",
          "Sperm whales",
          "Copepods (laboratory)",
          "Fish (laboratory)",
          "Fish (laboratory)",
          "Birds (laboratory)",
          "Sea turtles",
          "Lugworms (laboratory)",
          "Mussels (laboratory)",
          "Epibenthic megafauna",
          "Sessile invertebrates (coral reef)",
          "Assemblage on sediment",
          "Sessile invertebrates (coral reef)",
          "Sessile invertebrates (coral reef)",
          "Seagrass",
          "Sea turtles",
          "Ghost crabs",
          "Ghost crabs",
          "Marine insects"
         ],
         "yaxis": "y9"
        },
        {
         "line": {
          "color": "rgba(128, 128, 128, 1.0)",
          "dash": "solid",
          "shape": "linear",
          "width": 1.3
         },
         "marker": {
          "size": 2,
          "symbol": "circle"
         },
         "mode": "markers",
         "name": "Animal",
         "text": "",
         "type": "scatter",
         "x": [
          "Constriction",
          "Death",
          "Dermal wound",
          "Dermal wound",
          "External wound",
          "Death",
          null,
          "Reduced population size",
          "Death",
          "Death",
          "Damage/breakage",
          "Death",
          "Dermal wound",
          "Dermal wound",
          "Death",
          "Intestinal blockage, death",
          null,
          "Biochemical/cellular, death",
          "Gut obstruction, death",
          "Perforated gut",
          "Biochemical/cellular",
          null,
          "Biochemical/cellular",
          "Internal wound",
          "Gastric rupture, death",
          "Gut impaction, ulcerative lesions",
          "Gastric rupture, gut impaction, death",
          "Death",
          "Biochemical/cellular",
          "Biochemical/cellular",
          "Reduced organ size",
          "Gut obstruction",
          "Biochemical/cellular",
          "Biochemical/cellular",
          "Altered assemblage",
          "Altered assemblage",
          "Altered assemblage",
          "Tissue abrasion",
          "Tissue abrasion",
          "Breakage, suffocation, death",
          "Reduced population size",
          "Reduced population size",
          "Altered assemblage",
          "Increased population size"
         ],
         "xaxis": "x10",
         "y": [
          "Grey seals",
          "Manatees",
          "Elephant seals",
          "Fur seals",
          "Seabirds, pinnipeds",
          "Fur seals",
          "",
          "Fur seals",
          "Invertebrates, fish, seabirds, marine mammals",
          "Seabirds, marine mammals",
          "Gorgonians",
          "Sea turtles",
          "Whales",
          "Whales",
          "Manatees",
          "Sea turtles",
          "Penguins",
          "Lugworms (laboratory)",
          "Sea turtles",
          "Seabirds",
          "Fish (laboratory)",
          "",
          "Seabirds",
          "Seabirds, pinnipeds",
          "Sperm whale",
          "Seabirds",
          "Sperm whales",
          "Copepods (laboratory)",
          "Fish (laboratory)",
          "Fish (laboratory)",
          "Birds (laboratory)",
          "Sea turtles",
          "Lugworms (laboratory)",
          "Mussels (laboratory)",
          "Epibenthic megafauna",
          "Sessile invertebrates (coral reef)",
          "Assemblage on sediment",
          "Sessile invertebrates (coral reef)",
          "Sessile invertebrates (coral reef)",
          "Seagrass",
          "Sea turtles",
          "Ghost crabs",
          "Ghost crabs",
          "Marine insects"
         ],
         "yaxis": "y10"
        },
        {
         "line": {
          "color": "rgba(128, 128, 128, 1.0)",
          "dash": "solid",
          "shape": "linear",
          "width": 1.3
         },
         "marker": {
          "size": 2,
          "symbol": "circle"
         },
         "mode": "markers",
         "name": "Encounter type",
         "text": "",
         "type": "scatter",
         "x": [
          "Allen et al. 2012",
          "Beck & Barros, 1991",
          "Campagna et al. 2007",
          "Croxall et al. 1990",
          "Dau et al. 2009",
          "Fowler 1987",
          "Fowler 1987",
          "(correlative evidence only)",
          "Good et al. 2010",
          "Moore et al. 2009",
          "Pham et al. 2013",
          "Velez-Rubio et al. 2013",
          "Winn et al. 2008",
          "Woodward et al. 2006",
          "Beck & Barros 1991",
          "Bjorndal et al. 1994",
          "Brandao et al. 2011",
          "Browne et al. 2013",
          "Bugoni et al. 2001",
          "Carey 2011",
          "Cedervall et al. 2012",
          "Connors & Smith 1982",
          "(correlative evidence only)",
          "Dau et al. 2009",
          "de Stephanis et al. 2013",
          "Fry et al. 1987",
          "Jacobsen et al. 2010",
          "Lee et al. 2013",
          "Oliveira et al. 2013",
          "Rochman et al. 2013a-c",
          "Ryan 1988",
          "Velez-Rubio et al. 2013",
          "Wright et al. 2013",
          "Von Moos et al. 2012",
          "Katsanevakis et al. 2007",
          "Lewis et al. 2009",
          "Uneputty & Evans 1997 (correlative evidence only)",
          "Chiappone et al. 2002",
          "Chiappone et al. 2005",
          "Uhrin & Schellinger 2011",
          "Ozdilek et al. 2006 (correlative evidence only)",
          "Widmer & Hennemann 2010 (correlative evidence only)",
          "Widmer & Hennemann 2010 (correlative evidence only)",
          "Goldstein et al. 2012 (correlative evidence only)"
         ],
         "xaxis": "x11",
         "y": [
          "Entanglement",
          "Entanglement",
          "Entanglement",
          "Entanglement",
          "Entanglement",
          "Entanglement",
          "",
          "Entanglement",
          "Entanglement",
          "Entanglement",
          "Entanglement",
          "Entanglement",
          "Entanglement",
          "Entanglement",
          "Ingestion",
          "Ingestion",
          "Ingestion",
          "Ingestion",
          "Ingestion",
          "Ingestion",
          "Ingestion",
          "",
          "Ingestion",
          "Ingestion",
          "Ingestion",
          "Ingestion",
          "Ingestion",
          "Ingestion",
          "Ingestion",
          "Ingestion",
          "Ingestion",
          "Ingestion",
          "Ingestion",
          "Ingestion and gill uptake",
          "Interaction (contact)",
          "Interaction (contact)",
          "Interaction (contact)",
          "Interaction (contact)",
          "Interaction (contact)",
          "Interaction (contact)",
          "Interaction (obstruction)",
          "Interaction (obstruction)",
          "Interaction (substrate)",
          "Interaction (substrate)"
         ],
         "yaxis": "y11"
        },
        {
         "line": {
          "color": "rgba(128, 128, 128, 1.0)",
          "dash": "solid",
          "shape": "linear",
          "width": 1.3
         },
         "marker": {
          "size": 2,
          "symbol": "circle"
         },
         "mode": "markers",
         "name": "Encounter type",
         "text": "",
         "type": "scatter",
         "x": [
          "Grey seals",
          "Manatees",
          "Elephant seals",
          "Fur seals",
          "Seabirds, pinnipeds",
          "Fur seals",
          null,
          "Fur seals",
          "Invertebrates, fish, seabirds, marine mammals",
          "Seabirds, marine mammals",
          "Gorgonians",
          "Sea turtles",
          "Whales",
          "Whales",
          "Manatees",
          "Sea turtles",
          "Penguins",
          "Lugworms (laboratory)",
          "Sea turtles",
          "Seabirds",
          "Fish (laboratory)",
          null,
          "Seabirds",
          "Seabirds, pinnipeds",
          "Sperm whale",
          "Seabirds",
          "Sperm whales",
          "Copepods (laboratory)",
          "Fish (laboratory)",
          "Fish (laboratory)",
          "Birds (laboratory)",
          "Sea turtles",
          "Lugworms (laboratory)",
          "Mussels (laboratory)",
          "Epibenthic megafauna",
          "Sessile invertebrates (coral reef)",
          "Assemblage on sediment",
          "Sessile invertebrates (coral reef)",
          "Sessile invertebrates (coral reef)",
          "Seagrass",
          "Sea turtles",
          "Ghost crabs",
          "Ghost crabs",
          "Marine insects"
         ],
         "xaxis": "x12",
         "y": [
          "Entanglement",
          "Entanglement",
          "Entanglement",
          "Entanglement",
          "Entanglement",
          "Entanglement",
          "",
          "Entanglement",
          "Entanglement",
          "Entanglement",
          "Entanglement",
          "Entanglement",
          "Entanglement",
          "Entanglement",
          "Ingestion",
          "Ingestion",
          "Ingestion",
          "Ingestion",
          "Ingestion",
          "Ingestion",
          "Ingestion",
          "",
          "Ingestion",
          "Ingestion",
          "Ingestion",
          "Ingestion",
          "Ingestion",
          "Ingestion",
          "Ingestion",
          "Ingestion",
          "Ingestion",
          "Ingestion",
          "Ingestion",
          "Ingestion and gill uptake",
          "Interaction (contact)",
          "Interaction (contact)",
          "Interaction (contact)",
          "Interaction (contact)",
          "Interaction (contact)",
          "Interaction (contact)",
          "Interaction (obstruction)",
          "Interaction (obstruction)",
          "Interaction (substrate)",
          "Interaction (substrate)"
         ],
         "yaxis": "y12"
        },
        {
         "histfunc": "count",
         "histnorm": "",
         "marker": {
          "color": "rgba(50, 171, 96, 1.0)",
          "line": {
           "color": "#4D5663",
           "width": 1.3
          }
         },
         "name": "Encounter type",
         "nbinsx": 10,
         "opacity": 0.8,
         "orientation": "v",
         "type": "histogram",
         "x": [
          "Entanglement",
          "Entanglement",
          "Entanglement",
          "Entanglement",
          "Entanglement",
          "Entanglement",
          null,
          "Entanglement",
          "Entanglement",
          "Entanglement",
          "Entanglement",
          "Entanglement",
          "Entanglement",
          "Entanglement",
          "Ingestion",
          "Ingestion",
          "Ingestion",
          "Ingestion",
          "Ingestion",
          "Ingestion",
          "Ingestion",
          null,
          "Ingestion",
          "Ingestion",
          "Ingestion",
          "Ingestion",
          "Ingestion",
          "Ingestion",
          "Ingestion",
          "Ingestion",
          "Ingestion",
          "Ingestion",
          "Ingestion",
          "Ingestion and gill uptake",
          "Interaction (contact)",
          "Interaction (contact)",
          "Interaction (contact)",
          "Interaction (contact)",
          "Interaction (contact)",
          "Interaction (contact)",
          "Interaction (obstruction)",
          "Interaction (obstruction)",
          "Interaction (substrate)",
          "Interaction (substrate)"
         ],
         "xaxis": "x13",
         "yaxis": "y13"
        },
        {
         "line": {
          "color": "rgba(128, 128, 128, 1.0)",
          "dash": "solid",
          "shape": "linear",
          "width": 1.3
         },
         "marker": {
          "size": 2,
          "symbol": "circle"
         },
         "mode": "markers",
         "name": "Encounter type",
         "text": "",
         "type": "scatter",
         "x": [
          "MF line, net, rope",
          "MF line, bags, other debris",
          "MF line, fishing jigs",
          "Packing band, fishing gear, other debris",
          "Fishing gear",
          "Trawl netting, packing bands",
          null,
          "Trawl netting, packing bands",
          "Derelict gillnets",
          "Plastic, fishing line",
          "Fishing line",
          "Fishing gear",
          "Plastic line",
          "Plastic line",
          "MF line, bags, other debris",
          "MF line, fish hooks, other debris",
          "Plastic, fishing gear, other debris",
          "Microplastics",
          "Plastic bags, ropes",
          "Plastic particles, pellets",
          "Nanoparticles",
          null,
          "Plastic pellets, foam",
          "Fishing hooks",
          "Identifiable litter items",
          "Plastic fragments, pellets, identifiable litter",
          "Fishing gear, other debris",
          "Micro- and nanoplastics",
          "Microplastics",
          "Microplastics",
          "Microplastics",
          "Marine debris",
          "Microplastics",
          "Microplastics",
          "Plastic bottles, glass jars",
          "Lobster traps",
          "Plastic litter",
          "MF line, lobster trap, hook and line gear",
          "Hook and line gear",
          "Crab pots, tires, wood",
          "Waste, medical waste",
          "Beach litter, mostly plastic",
          "Beach litter, mostly plastic",
          "Microplastics"
         ],
         "xaxis": "x14",
         "y": [
          "Entanglement",
          "Entanglement",
          "Entanglement",
          "Entanglement",
          "Entanglement",
          "Entanglement",
          "",
          "Entanglement",
          "Entanglement",
          "Entanglement",
          "Entanglement",
          "Entanglement",
          "Entanglement",
          "Entanglement",
          "Ingestion",
          "Ingestion",
          "Ingestion",
          "Ingestion",
          "Ingestion",
          "Ingestion",
          "Ingestion",
          "",
          "Ingestion",
          "Ingestion",
          "Ingestion",
          "Ingestion",
          "Ingestion",
          "Ingestion",
          "Ingestion",
          "Ingestion",
          "Ingestion",
          "Ingestion",
          "Ingestion",
          "Ingestion and gill uptake",
          "Interaction (contact)",
          "Interaction (contact)",
          "Interaction (contact)",
          "Interaction (contact)",
          "Interaction (contact)",
          "Interaction (contact)",
          "Interaction (obstruction)",
          "Interaction (obstruction)",
          "Interaction (substrate)",
          "Interaction (substrate)"
         ],
         "yaxis": "y14"
        },
        {
         "line": {
          "color": "rgba(128, 128, 128, 1.0)",
          "dash": "solid",
          "shape": "linear",
          "width": 1.3
         },
         "marker": {
          "size": 2,
          "symbol": "circle"
         },
         "mode": "markers",
         "name": "Encounter type",
         "text": "",
         "type": "scatter",
         "x": [
          "Constriction",
          "Death",
          "Dermal wound",
          "Dermal wound",
          "External wound",
          "Death",
          null,
          "Reduced population size",
          "Death",
          "Death",
          "Damage/breakage",
          "Death",
          "Dermal wound",
          "Dermal wound",
          "Death",
          "Intestinal blockage, death",
          null,
          "Biochemical/cellular, death",
          "Gut obstruction, death",
          "Perforated gut",
          "Biochemical/cellular",
          null,
          "Biochemical/cellular",
          "Internal wound",
          "Gastric rupture, death",
          "Gut impaction, ulcerative lesions",
          "Gastric rupture, gut impaction, death",
          "Death",
          "Biochemical/cellular",
          "Biochemical/cellular",
          "Reduced organ size",
          "Gut obstruction",
          "Biochemical/cellular",
          "Biochemical/cellular",
          "Altered assemblage",
          "Altered assemblage",
          "Altered assemblage",
          "Tissue abrasion",
          "Tissue abrasion",
          "Breakage, suffocation, death",
          "Reduced population size",
          "Reduced population size",
          "Altered assemblage",
          "Increased population size"
         ],
         "xaxis": "x15",
         "y": [
          "Entanglement",
          "Entanglement",
          "Entanglement",
          "Entanglement",
          "Entanglement",
          "Entanglement",
          "",
          "Entanglement",
          "Entanglement",
          "Entanglement",
          "Entanglement",
          "Entanglement",
          "Entanglement",
          "Entanglement",
          "Ingestion",
          "Ingestion",
          "Ingestion",
          "Ingestion",
          "Ingestion",
          "Ingestion",
          "Ingestion",
          "",
          "Ingestion",
          "Ingestion",
          "Ingestion",
          "Ingestion",
          "Ingestion",
          "Ingestion",
          "Ingestion",
          "Ingestion",
          "Ingestion",
          "Ingestion",
          "Ingestion",
          "Ingestion and gill uptake",
          "Interaction (contact)",
          "Interaction (contact)",
          "Interaction (contact)",
          "Interaction (contact)",
          "Interaction (contact)",
          "Interaction (contact)",
          "Interaction (obstruction)",
          "Interaction (obstruction)",
          "Interaction (substrate)",
          "Interaction (substrate)"
         ],
         "yaxis": "y15"
        },
        {
         "line": {
          "color": "rgba(128, 128, 128, 1.0)",
          "dash": "solid",
          "shape": "linear",
          "width": 1.3
         },
         "marker": {
          "size": 2,
          "symbol": "circle"
         },
         "mode": "markers",
         "name": "Predominant debris type",
         "text": "",
         "type": "scatter",
         "x": [
          "Allen et al. 2012",
          "Beck & Barros, 1991",
          "Campagna et al. 2007",
          "Croxall et al. 1990",
          "Dau et al. 2009",
          "Fowler 1987",
          "Fowler 1987",
          "(correlative evidence only)",
          "Good et al. 2010",
          "Moore et al. 2009",
          "Pham et al. 2013",
          "Velez-Rubio et al. 2013",
          "Winn et al. 2008",
          "Woodward et al. 2006",
          "Beck & Barros 1991",
          "Bjorndal et al. 1994",
          "Brandao et al. 2011",
          "Browne et al. 2013",
          "Bugoni et al. 2001",
          "Carey 2011",
          "Cedervall et al. 2012",
          "Connors & Smith 1982",
          "(correlative evidence only)",
          "Dau et al. 2009",
          "de Stephanis et al. 2013",
          "Fry et al. 1987",
          "Jacobsen et al. 2010",
          "Lee et al. 2013",
          "Oliveira et al. 2013",
          "Rochman et al. 2013a-c",
          "Ryan 1988",
          "Velez-Rubio et al. 2013",
          "Wright et al. 2013",
          "Von Moos et al. 2012",
          "Katsanevakis et al. 2007",
          "Lewis et al. 2009",
          "Uneputty & Evans 1997 (correlative evidence only)",
          "Chiappone et al. 2002",
          "Chiappone et al. 2005",
          "Uhrin & Schellinger 2011",
          "Ozdilek et al. 2006 (correlative evidence only)",
          "Widmer & Hennemann 2010 (correlative evidence only)",
          "Widmer & Hennemann 2010 (correlative evidence only)",
          "Goldstein et al. 2012 (correlative evidence only)"
         ],
         "xaxis": "x16",
         "y": [
          "MF line, net, rope",
          "MF line, bags, other debris",
          "MF line, fishing jigs",
          "Packing band, fishing gear, other debris",
          "Fishing gear",
          "Trawl netting, packing bands",
          "",
          "Trawl netting, packing bands",
          "Derelict gillnets",
          "Plastic, fishing line",
          "Fishing line",
          "Fishing gear",
          "Plastic line",
          "Plastic line",
          "MF line, bags, other debris",
          "MF line, fish hooks, other debris",
          "Plastic, fishing gear, other debris",
          "Microplastics",
          "Plastic bags, ropes",
          "Plastic particles, pellets",
          "Nanoparticles",
          "",
          "Plastic pellets, foam",
          "Fishing hooks",
          "Identifiable litter items",
          "Plastic fragments, pellets, identifiable litter",
          "Fishing gear, other debris",
          "Micro- and nanoplastics",
          "Microplastics",
          "Microplastics",
          "Microplastics",
          "Marine debris",
          "Microplastics",
          "Microplastics",
          "Plastic bottles, glass jars",
          "Lobster traps",
          "Plastic litter",
          "MF line, lobster trap, hook and line gear",
          "Hook and line gear",
          "Crab pots, tires, wood",
          "Waste, medical waste",
          "Beach litter, mostly plastic",
          "Beach litter, mostly plastic",
          "Microplastics"
         ],
         "yaxis": "y16"
        },
        {
         "line": {
          "color": "rgba(128, 128, 128, 1.0)",
          "dash": "solid",
          "shape": "linear",
          "width": 1.3
         },
         "marker": {
          "size": 2,
          "symbol": "circle"
         },
         "mode": "markers",
         "name": "Predominant debris type",
         "text": "",
         "type": "scatter",
         "x": [
          "Grey seals",
          "Manatees",
          "Elephant seals",
          "Fur seals",
          "Seabirds, pinnipeds",
          "Fur seals",
          null,
          "Fur seals",
          "Invertebrates, fish, seabirds, marine mammals",
          "Seabirds, marine mammals",
          "Gorgonians",
          "Sea turtles",
          "Whales",
          "Whales",
          "Manatees",
          "Sea turtles",
          "Penguins",
          "Lugworms (laboratory)",
          "Sea turtles",
          "Seabirds",
          "Fish (laboratory)",
          null,
          "Seabirds",
          "Seabirds, pinnipeds",
          "Sperm whale",
          "Seabirds",
          "Sperm whales",
          "Copepods (laboratory)",
          "Fish (laboratory)",
          "Fish (laboratory)",
          "Birds (laboratory)",
          "Sea turtles",
          "Lugworms (laboratory)",
          "Mussels (laboratory)",
          "Epibenthic megafauna",
          "Sessile invertebrates (coral reef)",
          "Assemblage on sediment",
          "Sessile invertebrates (coral reef)",
          "Sessile invertebrates (coral reef)",
          "Seagrass",
          "Sea turtles",
          "Ghost crabs",
          "Ghost crabs",
          "Marine insects"
         ],
         "xaxis": "x17",
         "y": [
          "MF line, net, rope",
          "MF line, bags, other debris",
          "MF line, fishing jigs",
          "Packing band, fishing gear, other debris",
          "Fishing gear",
          "Trawl netting, packing bands",
          "",
          "Trawl netting, packing bands",
          "Derelict gillnets",
          "Plastic, fishing line",
          "Fishing line",
          "Fishing gear",
          "Plastic line",
          "Plastic line",
          "MF line, bags, other debris",
          "MF line, fish hooks, other debris",
          "Plastic, fishing gear, other debris",
          "Microplastics",
          "Plastic bags, ropes",
          "Plastic particles, pellets",
          "Nanoparticles",
          "",
          "Plastic pellets, foam",
          "Fishing hooks",
          "Identifiable litter items",
          "Plastic fragments, pellets, identifiable litter",
          "Fishing gear, other debris",
          "Micro- and nanoplastics",
          "Microplastics",
          "Microplastics",
          "Microplastics",
          "Marine debris",
          "Microplastics",
          "Microplastics",
          "Plastic bottles, glass jars",
          "Lobster traps",
          "Plastic litter",
          "MF line, lobster trap, hook and line gear",
          "Hook and line gear",
          "Crab pots, tires, wood",
          "Waste, medical waste",
          "Beach litter, mostly plastic",
          "Beach litter, mostly plastic",
          "Microplastics"
         ],
         "yaxis": "y17"
        },
        {
         "line": {
          "color": "rgba(128, 128, 128, 1.0)",
          "dash": "solid",
          "shape": "linear",
          "width": 1.3
         },
         "marker": {
          "size": 2,
          "symbol": "circle"
         },
         "mode": "markers",
         "name": "Predominant debris type",
         "text": "",
         "type": "scatter",
         "x": [
          "Entanglement",
          "Entanglement",
          "Entanglement",
          "Entanglement",
          "Entanglement",
          "Entanglement",
          null,
          "Entanglement",
          "Entanglement",
          "Entanglement",
          "Entanglement",
          "Entanglement",
          "Entanglement",
          "Entanglement",
          "Ingestion",
          "Ingestion",
          "Ingestion",
          "Ingestion",
          "Ingestion",
          "Ingestion",
          "Ingestion",
          null,
          "Ingestion",
          "Ingestion",
          "Ingestion",
          "Ingestion",
          "Ingestion",
          "Ingestion",
          "Ingestion",
          "Ingestion",
          "Ingestion",
          "Ingestion",
          "Ingestion",
          "Ingestion and gill uptake",
          "Interaction (contact)",
          "Interaction (contact)",
          "Interaction (contact)",
          "Interaction (contact)",
          "Interaction (contact)",
          "Interaction (contact)",
          "Interaction (obstruction)",
          "Interaction (obstruction)",
          "Interaction (substrate)",
          "Interaction (substrate)"
         ],
         "xaxis": "x18",
         "y": [
          "MF line, net, rope",
          "MF line, bags, other debris",
          "MF line, fishing jigs",
          "Packing band, fishing gear, other debris",
          "Fishing gear",
          "Trawl netting, packing bands",
          "",
          "Trawl netting, packing bands",
          "Derelict gillnets",
          "Plastic, fishing line",
          "Fishing line",
          "Fishing gear",
          "Plastic line",
          "Plastic line",
          "MF line, bags, other debris",
          "MF line, fish hooks, other debris",
          "Plastic, fishing gear, other debris",
          "Microplastics",
          "Plastic bags, ropes",
          "Plastic particles, pellets",
          "Nanoparticles",
          "",
          "Plastic pellets, foam",
          "Fishing hooks",
          "Identifiable litter items",
          "Plastic fragments, pellets, identifiable litter",
          "Fishing gear, other debris",
          "Micro- and nanoplastics",
          "Microplastics",
          "Microplastics",
          "Microplastics",
          "Marine debris",
          "Microplastics",
          "Microplastics",
          "Plastic bottles, glass jars",
          "Lobster traps",
          "Plastic litter",
          "MF line, lobster trap, hook and line gear",
          "Hook and line gear",
          "Crab pots, tires, wood",
          "Waste, medical waste",
          "Beach litter, mostly plastic",
          "Beach litter, mostly plastic",
          "Microplastics"
         ],
         "yaxis": "y18"
        },
        {
         "histfunc": "count",
         "histnorm": "",
         "marker": {
          "color": "rgba(128, 0, 128, 1.0)",
          "line": {
           "color": "#4D5663",
           "width": 1.3
          }
         },
         "name": "Predominant debris type",
         "nbinsx": 10,
         "opacity": 0.8,
         "orientation": "v",
         "type": "histogram",
         "x": [
          "MF line, net, rope",
          "MF line, bags, other debris",
          "MF line, fishing jigs",
          "Packing band, fishing gear, other debris",
          "Fishing gear",
          "Trawl netting, packing bands",
          null,
          "Trawl netting, packing bands",
          "Derelict gillnets",
          "Plastic, fishing line",
          "Fishing line",
          "Fishing gear",
          "Plastic line",
          "Plastic line",
          "MF line, bags, other debris",
          "MF line, fish hooks, other debris",
          "Plastic, fishing gear, other debris",
          "Microplastics",
          "Plastic bags, ropes",
          "Plastic particles, pellets",
          "Nanoparticles",
          null,
          "Plastic pellets, foam",
          "Fishing hooks",
          "Identifiable litter items",
          "Plastic fragments, pellets, identifiable litter",
          "Fishing gear, other debris",
          "Micro- and nanoplastics",
          "Microplastics",
          "Microplastics",
          "Microplastics",
          "Marine debris",
          "Microplastics",
          "Microplastics",
          "Plastic bottles, glass jars",
          "Lobster traps",
          "Plastic litter",
          "MF line, lobster trap, hook and line gear",
          "Hook and line gear",
          "Crab pots, tires, wood",
          "Waste, medical waste",
          "Beach litter, mostly plastic",
          "Beach litter, mostly plastic",
          "Microplastics"
         ],
         "xaxis": "x19",
         "yaxis": "y19"
        },
        {
         "line": {
          "color": "rgba(128, 128, 128, 1.0)",
          "dash": "solid",
          "shape": "linear",
          "width": 1.3
         },
         "marker": {
          "size": 2,
          "symbol": "circle"
         },
         "mode": "markers",
         "name": "Predominant debris type",
         "text": "",
         "type": "scatter",
         "x": [
          "Constriction",
          "Death",
          "Dermal wound",
          "Dermal wound",
          "External wound",
          "Death",
          null,
          "Reduced population size",
          "Death",
          "Death",
          "Damage/breakage",
          "Death",
          "Dermal wound",
          "Dermal wound",
          "Death",
          "Intestinal blockage, death",
          null,
          "Biochemical/cellular, death",
          "Gut obstruction, death",
          "Perforated gut",
          "Biochemical/cellular",
          null,
          "Biochemical/cellular",
          "Internal wound",
          "Gastric rupture, death",
          "Gut impaction, ulcerative lesions",
          "Gastric rupture, gut impaction, death",
          "Death",
          "Biochemical/cellular",
          "Biochemical/cellular",
          "Reduced organ size",
          "Gut obstruction",
          "Biochemical/cellular",
          "Biochemical/cellular",
          "Altered assemblage",
          "Altered assemblage",
          "Altered assemblage",
          "Tissue abrasion",
          "Tissue abrasion",
          "Breakage, suffocation, death",
          "Reduced population size",
          "Reduced population size",
          "Altered assemblage",
          "Increased population size"
         ],
         "xaxis": "x20",
         "y": [
          "MF line, net, rope",
          "MF line, bags, other debris",
          "MF line, fishing jigs",
          "Packing band, fishing gear, other debris",
          "Fishing gear",
          "Trawl netting, packing bands",
          "",
          "Trawl netting, packing bands",
          "Derelict gillnets",
          "Plastic, fishing line",
          "Fishing line",
          "Fishing gear",
          "Plastic line",
          "Plastic line",
          "MF line, bags, other debris",
          "MF line, fish hooks, other debris",
          "Plastic, fishing gear, other debris",
          "Microplastics",
          "Plastic bags, ropes",
          "Plastic particles, pellets",
          "Nanoparticles",
          "",
          "Plastic pellets, foam",
          "Fishing hooks",
          "Identifiable litter items",
          "Plastic fragments, pellets, identifiable litter",
          "Fishing gear, other debris",
          "Micro- and nanoplastics",
          "Microplastics",
          "Microplastics",
          "Microplastics",
          "Marine debris",
          "Microplastics",
          "Microplastics",
          "Plastic bottles, glass jars",
          "Lobster traps",
          "Plastic litter",
          "MF line, lobster trap, hook and line gear",
          "Hook and line gear",
          "Crab pots, tires, wood",
          "Waste, medical waste",
          "Beach litter, mostly plastic",
          "Beach litter, mostly plastic",
          "Microplastics"
         ],
         "yaxis": "y20"
        },
        {
         "line": {
          "color": "rgba(128, 128, 128, 1.0)",
          "dash": "solid",
          "shape": "linear",
          "width": 1.3
         },
         "marker": {
          "size": 2,
          "symbol": "circle"
         },
         "mode": "markers",
         "name": "Impact (response)",
         "text": "",
         "type": "scatter",
         "x": [
          "Allen et al. 2012",
          "Beck & Barros, 1991",
          "Campagna et al. 2007",
          "Croxall et al. 1990",
          "Dau et al. 2009",
          "Fowler 1987",
          "Fowler 1987",
          "(correlative evidence only)",
          "Good et al. 2010",
          "Moore et al. 2009",
          "Pham et al. 2013",
          "Velez-Rubio et al. 2013",
          "Winn et al. 2008",
          "Woodward et al. 2006",
          "Beck & Barros 1991",
          "Bjorndal et al. 1994",
          "Brandao et al. 2011",
          "Browne et al. 2013",
          "Bugoni et al. 2001",
          "Carey 2011",
          "Cedervall et al. 2012",
          "Connors & Smith 1982",
          "(correlative evidence only)",
          "Dau et al. 2009",
          "de Stephanis et al. 2013",
          "Fry et al. 1987",
          "Jacobsen et al. 2010",
          "Lee et al. 2013",
          "Oliveira et al. 2013",
          "Rochman et al. 2013a-c",
          "Ryan 1988",
          "Velez-Rubio et al. 2013",
          "Wright et al. 2013",
          "Von Moos et al. 2012",
          "Katsanevakis et al. 2007",
          "Lewis et al. 2009",
          "Uneputty & Evans 1997 (correlative evidence only)",
          "Chiappone et al. 2002",
          "Chiappone et al. 2005",
          "Uhrin & Schellinger 2011",
          "Ozdilek et al. 2006 (correlative evidence only)",
          "Widmer & Hennemann 2010 (correlative evidence only)",
          "Widmer & Hennemann 2010 (correlative evidence only)",
          "Goldstein et al. 2012 (correlative evidence only)"
         ],
         "xaxis": "x21",
         "y": [
          "Constriction",
          "Death",
          "Dermal wound",
          "Dermal wound",
          "External wound",
          "Death",
          "",
          "Reduced population size",
          "Death",
          "Death",
          "Damage/breakage",
          "Death",
          "Dermal wound",
          "Dermal wound",
          "Death",
          "Intestinal blockage, death",
          "",
          "Biochemical/cellular, death",
          "Gut obstruction, death",
          "Perforated gut",
          "Biochemical/cellular",
          "",
          "Biochemical/cellular",
          "Internal wound",
          "Gastric rupture, death",
          "Gut impaction, ulcerative lesions",
          "Gastric rupture, gut impaction, death",
          "Death",
          "Biochemical/cellular",
          "Biochemical/cellular",
          "Reduced organ size",
          "Gut obstruction",
          "Biochemical/cellular",
          "Biochemical/cellular",
          "Altered assemblage",
          "Altered assemblage",
          "Altered assemblage",
          "Tissue abrasion",
          "Tissue abrasion",
          "Breakage, suffocation, death",
          "Reduced population size",
          "Reduced population size",
          "Altered assemblage",
          "Increased population size"
         ],
         "yaxis": "y21"
        },
        {
         "line": {
          "color": "rgba(128, 128, 128, 1.0)",
          "dash": "solid",
          "shape": "linear",
          "width": 1.3
         },
         "marker": {
          "size": 2,
          "symbol": "circle"
         },
         "mode": "markers",
         "name": "Impact (response)",
         "text": "",
         "type": "scatter",
         "x": [
          "Grey seals",
          "Manatees",
          "Elephant seals",
          "Fur seals",
          "Seabirds, pinnipeds",
          "Fur seals",
          null,
          "Fur seals",
          "Invertebrates, fish, seabirds, marine mammals",
          "Seabirds, marine mammals",
          "Gorgonians",
          "Sea turtles",
          "Whales",
          "Whales",
          "Manatees",
          "Sea turtles",
          "Penguins",
          "Lugworms (laboratory)",
          "Sea turtles",
          "Seabirds",
          "Fish (laboratory)",
          null,
          "Seabirds",
          "Seabirds, pinnipeds",
          "Sperm whale",
          "Seabirds",
          "Sperm whales",
          "Copepods (laboratory)",
          "Fish (laboratory)",
          "Fish (laboratory)",
          "Birds (laboratory)",
          "Sea turtles",
          "Lugworms (laboratory)",
          "Mussels (laboratory)",
          "Epibenthic megafauna",
          "Sessile invertebrates (coral reef)",
          "Assemblage on sediment",
          "Sessile invertebrates (coral reef)",
          "Sessile invertebrates (coral reef)",
          "Seagrass",
          "Sea turtles",
          "Ghost crabs",
          "Ghost crabs",
          "Marine insects"
         ],
         "xaxis": "x22",
         "y": [
          "Constriction",
          "Death",
          "Dermal wound",
          "Dermal wound",
          "External wound",
          "Death",
          "",
          "Reduced population size",
          "Death",
          "Death",
          "Damage/breakage",
          "Death",
          "Dermal wound",
          "Dermal wound",
          "Death",
          "Intestinal blockage, death",
          "",
          "Biochemical/cellular, death",
          "Gut obstruction, death",
          "Perforated gut",
          "Biochemical/cellular",
          "",
          "Biochemical/cellular",
          "Internal wound",
          "Gastric rupture, death",
          "Gut impaction, ulcerative lesions",
          "Gastric rupture, gut impaction, death",
          "Death",
          "Biochemical/cellular",
          "Biochemical/cellular",
          "Reduced organ size",
          "Gut obstruction",
          "Biochemical/cellular",
          "Biochemical/cellular",
          "Altered assemblage",
          "Altered assemblage",
          "Altered assemblage",
          "Tissue abrasion",
          "Tissue abrasion",
          "Breakage, suffocation, death",
          "Reduced population size",
          "Reduced population size",
          "Altered assemblage",
          "Increased population size"
         ],
         "yaxis": "y22"
        },
        {
         "line": {
          "color": "rgba(128, 128, 128, 1.0)",
          "dash": "solid",
          "shape": "linear",
          "width": 1.3
         },
         "marker": {
          "size": 2,
          "symbol": "circle"
         },
         "mode": "markers",
         "name": "Impact (response)",
         "text": "",
         "type": "scatter",
         "x": [
          "Entanglement",
          "Entanglement",
          "Entanglement",
          "Entanglement",
          "Entanglement",
          "Entanglement",
          null,
          "Entanglement",
          "Entanglement",
          "Entanglement",
          "Entanglement",
          "Entanglement",
          "Entanglement",
          "Entanglement",
          "Ingestion",
          "Ingestion",
          "Ingestion",
          "Ingestion",
          "Ingestion",
          "Ingestion",
          "Ingestion",
          null,
          "Ingestion",
          "Ingestion",
          "Ingestion",
          "Ingestion",
          "Ingestion",
          "Ingestion",
          "Ingestion",
          "Ingestion",
          "Ingestion",
          "Ingestion",
          "Ingestion",
          "Ingestion and gill uptake",
          "Interaction (contact)",
          "Interaction (contact)",
          "Interaction (contact)",
          "Interaction (contact)",
          "Interaction (contact)",
          "Interaction (contact)",
          "Interaction (obstruction)",
          "Interaction (obstruction)",
          "Interaction (substrate)",
          "Interaction (substrate)"
         ],
         "xaxis": "x23",
         "y": [
          "Constriction",
          "Death",
          "Dermal wound",
          "Dermal wound",
          "External wound",
          "Death",
          "",
          "Reduced population size",
          "Death",
          "Death",
          "Damage/breakage",
          "Death",
          "Dermal wound",
          "Dermal wound",
          "Death",
          "Intestinal blockage, death",
          "",
          "Biochemical/cellular, death",
          "Gut obstruction, death",
          "Perforated gut",
          "Biochemical/cellular",
          "",
          "Biochemical/cellular",
          "Internal wound",
          "Gastric rupture, death",
          "Gut impaction, ulcerative lesions",
          "Gastric rupture, gut impaction, death",
          "Death",
          "Biochemical/cellular",
          "Biochemical/cellular",
          "Reduced organ size",
          "Gut obstruction",
          "Biochemical/cellular",
          "Biochemical/cellular",
          "Altered assemblage",
          "Altered assemblage",
          "Altered assemblage",
          "Tissue abrasion",
          "Tissue abrasion",
          "Breakage, suffocation, death",
          "Reduced population size",
          "Reduced population size",
          "Altered assemblage",
          "Increased population size"
         ],
         "yaxis": "y23"
        },
        {
         "line": {
          "color": "rgba(128, 128, 128, 1.0)",
          "dash": "solid",
          "shape": "linear",
          "width": 1.3
         },
         "marker": {
          "size": 2,
          "symbol": "circle"
         },
         "mode": "markers",
         "name": "Impact (response)",
         "text": "",
         "type": "scatter",
         "x": [
          "MF line, net, rope",
          "MF line, bags, other debris",
          "MF line, fishing jigs",
          "Packing band, fishing gear, other debris",
          "Fishing gear",
          "Trawl netting, packing bands",
          null,
          "Trawl netting, packing bands",
          "Derelict gillnets",
          "Plastic, fishing line",
          "Fishing line",
          "Fishing gear",
          "Plastic line",
          "Plastic line",
          "MF line, bags, other debris",
          "MF line, fish hooks, other debris",
          "Plastic, fishing gear, other debris",
          "Microplastics",
          "Plastic bags, ropes",
          "Plastic particles, pellets",
          "Nanoparticles",
          null,
          "Plastic pellets, foam",
          "Fishing hooks",
          "Identifiable litter items",
          "Plastic fragments, pellets, identifiable litter",
          "Fishing gear, other debris",
          "Micro- and nanoplastics",
          "Microplastics",
          "Microplastics",
          "Microplastics",
          "Marine debris",
          "Microplastics",
          "Microplastics",
          "Plastic bottles, glass jars",
          "Lobster traps",
          "Plastic litter",
          "MF line, lobster trap, hook and line gear",
          "Hook and line gear",
          "Crab pots, tires, wood",
          "Waste, medical waste",
          "Beach litter, mostly plastic",
          "Beach litter, mostly plastic",
          "Microplastics"
         ],
         "xaxis": "x24",
         "y": [
          "Constriction",
          "Death",
          "Dermal wound",
          "Dermal wound",
          "External wound",
          "Death",
          "",
          "Reduced population size",
          "Death",
          "Death",
          "Damage/breakage",
          "Death",
          "Dermal wound",
          "Dermal wound",
          "Death",
          "Intestinal blockage, death",
          "",
          "Biochemical/cellular, death",
          "Gut obstruction, death",
          "Perforated gut",
          "Biochemical/cellular",
          "",
          "Biochemical/cellular",
          "Internal wound",
          "Gastric rupture, death",
          "Gut impaction, ulcerative lesions",
          "Gastric rupture, gut impaction, death",
          "Death",
          "Biochemical/cellular",
          "Biochemical/cellular",
          "Reduced organ size",
          "Gut obstruction",
          "Biochemical/cellular",
          "Biochemical/cellular",
          "Altered assemblage",
          "Altered assemblage",
          "Altered assemblage",
          "Tissue abrasion",
          "Tissue abrasion",
          "Breakage, suffocation, death",
          "Reduced population size",
          "Reduced population size",
          "Altered assemblage",
          "Increased population size"
         ],
         "yaxis": "y24"
        },
        {
         "histfunc": "count",
         "histnorm": "",
         "marker": {
          "color": "rgba(219, 64, 82, 1.0)",
          "line": {
           "color": "#4D5663",
           "width": 1.3
          }
         },
         "name": "Impact (response)",
         "nbinsx": 10,
         "opacity": 0.8,
         "orientation": "v",
         "type": "histogram",
         "x": [
          "Constriction",
          "Death",
          "Dermal wound",
          "Dermal wound",
          "External wound",
          "Death",
          null,
          "Reduced population size",
          "Death",
          "Death",
          "Damage/breakage",
          "Death",
          "Dermal wound",
          "Dermal wound",
          "Death",
          "Intestinal blockage, death",
          null,
          "Biochemical/cellular, death",
          "Gut obstruction, death",
          "Perforated gut",
          "Biochemical/cellular",
          null,
          "Biochemical/cellular",
          "Internal wound",
          "Gastric rupture, death",
          "Gut impaction, ulcerative lesions",
          "Gastric rupture, gut impaction, death",
          "Death",
          "Biochemical/cellular",
          "Biochemical/cellular",
          "Reduced organ size",
          "Gut obstruction",
          "Biochemical/cellular",
          "Biochemical/cellular",
          "Altered assemblage",
          "Altered assemblage",
          "Altered assemblage",
          "Tissue abrasion",
          "Tissue abrasion",
          "Breakage, suffocation, death",
          "Reduced population size",
          "Reduced population size",
          "Altered assemblage",
          "Increased population size"
         ],
         "xaxis": "x25",
         "yaxis": "y25"
        }
       ],
       "layout": {
        "bargap": 0.02,
        "legend": {
         "bgcolor": "#F5F6F9",
         "font": {
          "color": "#4D5663"
         }
        },
        "paper_bgcolor": "#F5F6F9",
        "plot_bgcolor": "#F5F6F9",
        "showlegend": false,
        "template": {
         "data": {
          "bar": [
           {
            "error_x": {
             "color": "#2a3f5f"
            },
            "error_y": {
             "color": "#2a3f5f"
            },
            "marker": {
             "line": {
              "color": "#E5ECF6",
              "width": 0.5
             }
            },
            "type": "bar"
           }
          ],
          "barpolar": [
           {
            "marker": {
             "line": {
              "color": "#E5ECF6",
              "width": 0.5
             }
            },
            "type": "barpolar"
           }
          ],
          "carpet": [
           {
            "aaxis": {
             "endlinecolor": "#2a3f5f",
             "gridcolor": "white",
             "linecolor": "white",
             "minorgridcolor": "white",
             "startlinecolor": "#2a3f5f"
            },
            "baxis": {
             "endlinecolor": "#2a3f5f",
             "gridcolor": "white",
             "linecolor": "white",
             "minorgridcolor": "white",
             "startlinecolor": "#2a3f5f"
            },
            "type": "carpet"
           }
          ],
          "choropleth": [
           {
            "colorbar": {
             "outlinewidth": 0,
             "ticks": ""
            },
            "type": "choropleth"
           }
          ],
          "contour": [
           {
            "colorbar": {
             "outlinewidth": 0,
             "ticks": ""
            },
            "colorscale": [
             [
              0,
              "#0d0887"
             ],
             [
              0.1111111111111111,
              "#46039f"
             ],
             [
              0.2222222222222222,
              "#7201a8"
             ],
             [
              0.3333333333333333,
              "#9c179e"
             ],
             [
              0.4444444444444444,
              "#bd3786"
             ],
             [
              0.5555555555555556,
              "#d8576b"
             ],
             [
              0.6666666666666666,
              "#ed7953"
             ],
             [
              0.7777777777777778,
              "#fb9f3a"
             ],
             [
              0.8888888888888888,
              "#fdca26"
             ],
             [
              1,
              "#f0f921"
             ]
            ],
            "type": "contour"
           }
          ],
          "contourcarpet": [
           {
            "colorbar": {
             "outlinewidth": 0,
             "ticks": ""
            },
            "type": "contourcarpet"
           }
          ],
          "heatmap": [
           {
            "colorbar": {
             "outlinewidth": 0,
             "ticks": ""
            },
            "colorscale": [
             [
              0,
              "#0d0887"
             ],
             [
              0.1111111111111111,
              "#46039f"
             ],
             [
              0.2222222222222222,
              "#7201a8"
             ],
             [
              0.3333333333333333,
              "#9c179e"
             ],
             [
              0.4444444444444444,
              "#bd3786"
             ],
             [
              0.5555555555555556,
              "#d8576b"
             ],
             [
              0.6666666666666666,
              "#ed7953"
             ],
             [
              0.7777777777777778,
              "#fb9f3a"
             ],
             [
              0.8888888888888888,
              "#fdca26"
             ],
             [
              1,
              "#f0f921"
             ]
            ],
            "type": "heatmap"
           }
          ],
          "heatmapgl": [
           {
            "colorbar": {
             "outlinewidth": 0,
             "ticks": ""
            },
            "colorscale": [
             [
              0,
              "#0d0887"
             ],
             [
              0.1111111111111111,
              "#46039f"
             ],
             [
              0.2222222222222222,
              "#7201a8"
             ],
             [
              0.3333333333333333,
              "#9c179e"
             ],
             [
              0.4444444444444444,
              "#bd3786"
             ],
             [
              0.5555555555555556,
              "#d8576b"
             ],
             [
              0.6666666666666666,
              "#ed7953"
             ],
             [
              0.7777777777777778,
              "#fb9f3a"
             ],
             [
              0.8888888888888888,
              "#fdca26"
             ],
             [
              1,
              "#f0f921"
             ]
            ],
            "type": "heatmapgl"
           }
          ],
          "histogram": [
           {
            "marker": {
             "colorbar": {
              "outlinewidth": 0,
              "ticks": ""
             }
            },
            "type": "histogram"
           }
          ],
          "histogram2d": [
           {
            "colorbar": {
             "outlinewidth": 0,
             "ticks": ""
            },
            "colorscale": [
             [
              0,
              "#0d0887"
             ],
             [
              0.1111111111111111,
              "#46039f"
             ],
             [
              0.2222222222222222,
              "#7201a8"
             ],
             [
              0.3333333333333333,
              "#9c179e"
             ],
             [
              0.4444444444444444,
              "#bd3786"
             ],
             [
              0.5555555555555556,
              "#d8576b"
             ],
             [
              0.6666666666666666,
              "#ed7953"
             ],
             [
              0.7777777777777778,
              "#fb9f3a"
             ],
             [
              0.8888888888888888,
              "#fdca26"
             ],
             [
              1,
              "#f0f921"
             ]
            ],
            "type": "histogram2d"
           }
          ],
          "histogram2dcontour": [
           {
            "colorbar": {
             "outlinewidth": 0,
             "ticks": ""
            },
            "colorscale": [
             [
              0,
              "#0d0887"
             ],
             [
              0.1111111111111111,
              "#46039f"
             ],
             [
              0.2222222222222222,
              "#7201a8"
             ],
             [
              0.3333333333333333,
              "#9c179e"
             ],
             [
              0.4444444444444444,
              "#bd3786"
             ],
             [
              0.5555555555555556,
              "#d8576b"
             ],
             [
              0.6666666666666666,
              "#ed7953"
             ],
             [
              0.7777777777777778,
              "#fb9f3a"
             ],
             [
              0.8888888888888888,
              "#fdca26"
             ],
             [
              1,
              "#f0f921"
             ]
            ],
            "type": "histogram2dcontour"
           }
          ],
          "mesh3d": [
           {
            "colorbar": {
             "outlinewidth": 0,
             "ticks": ""
            },
            "type": "mesh3d"
           }
          ],
          "parcoords": [
           {
            "line": {
             "colorbar": {
              "outlinewidth": 0,
              "ticks": ""
             }
            },
            "type": "parcoords"
           }
          ],
          "pie": [
           {
            "automargin": true,
            "type": "pie"
           }
          ],
          "scatter": [
           {
            "marker": {
             "colorbar": {
              "outlinewidth": 0,
              "ticks": ""
             }
            },
            "type": "scatter"
           }
          ],
          "scatter3d": [
           {
            "line": {
             "colorbar": {
              "outlinewidth": 0,
              "ticks": ""
             }
            },
            "marker": {
             "colorbar": {
              "outlinewidth": 0,
              "ticks": ""
             }
            },
            "type": "scatter3d"
           }
          ],
          "scattercarpet": [
           {
            "marker": {
             "colorbar": {
              "outlinewidth": 0,
              "ticks": ""
             }
            },
            "type": "scattercarpet"
           }
          ],
          "scattergeo": [
           {
            "marker": {
             "colorbar": {
              "outlinewidth": 0,
              "ticks": ""
             }
            },
            "type": "scattergeo"
           }
          ],
          "scattergl": [
           {
            "marker": {
             "colorbar": {
              "outlinewidth": 0,
              "ticks": ""
             }
            },
            "type": "scattergl"
           }
          ],
          "scattermapbox": [
           {
            "marker": {
             "colorbar": {
              "outlinewidth": 0,
              "ticks": ""
             }
            },
            "type": "scattermapbox"
           }
          ],
          "scatterpolar": [
           {
            "marker": {
             "colorbar": {
              "outlinewidth": 0,
              "ticks": ""
             }
            },
            "type": "scatterpolar"
           }
          ],
          "scatterpolargl": [
           {
            "marker": {
             "colorbar": {
              "outlinewidth": 0,
              "ticks": ""
             }
            },
            "type": "scatterpolargl"
           }
          ],
          "scatterternary": [
           {
            "marker": {
             "colorbar": {
              "outlinewidth": 0,
              "ticks": ""
             }
            },
            "type": "scatterternary"
           }
          ],
          "surface": [
           {
            "colorbar": {
             "outlinewidth": 0,
             "ticks": ""
            },
            "colorscale": [
             [
              0,
              "#0d0887"
             ],
             [
              0.1111111111111111,
              "#46039f"
             ],
             [
              0.2222222222222222,
              "#7201a8"
             ],
             [
              0.3333333333333333,
              "#9c179e"
             ],
             [
              0.4444444444444444,
              "#bd3786"
             ],
             [
              0.5555555555555556,
              "#d8576b"
             ],
             [
              0.6666666666666666,
              "#ed7953"
             ],
             [
              0.7777777777777778,
              "#fb9f3a"
             ],
             [
              0.8888888888888888,
              "#fdca26"
             ],
             [
              1,
              "#f0f921"
             ]
            ],
            "type": "surface"
           }
          ],
          "table": [
           {
            "cells": {
             "fill": {
              "color": "#EBF0F8"
             },
             "line": {
              "color": "white"
             }
            },
            "header": {
             "fill": {
              "color": "#C8D4E3"
             },
             "line": {
              "color": "white"
             }
            },
            "type": "table"
           }
          ]
         },
         "layout": {
          "annotationdefaults": {
           "arrowcolor": "#2a3f5f",
           "arrowhead": 0,
           "arrowwidth": 1
          },
          "coloraxis": {
           "colorbar": {
            "outlinewidth": 0,
            "ticks": ""
           }
          },
          "colorscale": {
           "diverging": [
            [
             0,
             "#8e0152"
            ],
            [
             0.1,
             "#c51b7d"
            ],
            [
             0.2,
             "#de77ae"
            ],
            [
             0.3,
             "#f1b6da"
            ],
            [
             0.4,
             "#fde0ef"
            ],
            [
             0.5,
             "#f7f7f7"
            ],
            [
             0.6,
             "#e6f5d0"
            ],
            [
             0.7,
             "#b8e186"
            ],
            [
             0.8,
             "#7fbc41"
            ],
            [
             0.9,
             "#4d9221"
            ],
            [
             1,
             "#276419"
            ]
           ],
           "sequential": [
            [
             0,
             "#0d0887"
            ],
            [
             0.1111111111111111,
             "#46039f"
            ],
            [
             0.2222222222222222,
             "#7201a8"
            ],
            [
             0.3333333333333333,
             "#9c179e"
            ],
            [
             0.4444444444444444,
             "#bd3786"
            ],
            [
             0.5555555555555556,
             "#d8576b"
            ],
            [
             0.6666666666666666,
             "#ed7953"
            ],
            [
             0.7777777777777778,
             "#fb9f3a"
            ],
            [
             0.8888888888888888,
             "#fdca26"
            ],
            [
             1,
             "#f0f921"
            ]
           ],
           "sequentialminus": [
            [
             0,
             "#0d0887"
            ],
            [
             0.1111111111111111,
             "#46039f"
            ],
            [
             0.2222222222222222,
             "#7201a8"
            ],
            [
             0.3333333333333333,
             "#9c179e"
            ],
            [
             0.4444444444444444,
             "#bd3786"
            ],
            [
             0.5555555555555556,
             "#d8576b"
            ],
            [
             0.6666666666666666,
             "#ed7953"
            ],
            [
             0.7777777777777778,
             "#fb9f3a"
            ],
            [
             0.8888888888888888,
             "#fdca26"
            ],
            [
             1,
             "#f0f921"
            ]
           ]
          },
          "colorway": [
           "#636efa",
           "#EF553B",
           "#00cc96",
           "#ab63fa",
           "#FFA15A",
           "#19d3f3",
           "#FF6692",
           "#B6E880",
           "#FF97FF",
           "#FECB52"
          ],
          "font": {
           "color": "#2a3f5f"
          },
          "geo": {
           "bgcolor": "white",
           "lakecolor": "white",
           "landcolor": "#E5ECF6",
           "showlakes": true,
           "showland": true,
           "subunitcolor": "white"
          },
          "hoverlabel": {
           "align": "left"
          },
          "hovermode": "closest",
          "mapbox": {
           "style": "light"
          },
          "paper_bgcolor": "white",
          "plot_bgcolor": "#E5ECF6",
          "polar": {
           "angularaxis": {
            "gridcolor": "white",
            "linecolor": "white",
            "ticks": ""
           },
           "bgcolor": "#E5ECF6",
           "radialaxis": {
            "gridcolor": "white",
            "linecolor": "white",
            "ticks": ""
           }
          },
          "scene": {
           "xaxis": {
            "backgroundcolor": "#E5ECF6",
            "gridcolor": "white",
            "gridwidth": 2,
            "linecolor": "white",
            "showbackground": true,
            "ticks": "",
            "zerolinecolor": "white"
           },
           "yaxis": {
            "backgroundcolor": "#E5ECF6",
            "gridcolor": "white",
            "gridwidth": 2,
            "linecolor": "white",
            "showbackground": true,
            "ticks": "",
            "zerolinecolor": "white"
           },
           "zaxis": {
            "backgroundcolor": "#E5ECF6",
            "gridcolor": "white",
            "gridwidth": 2,
            "linecolor": "white",
            "showbackground": true,
            "ticks": "",
            "zerolinecolor": "white"
           }
          },
          "shapedefaults": {
           "line": {
            "color": "#2a3f5f"
           }
          },
          "ternary": {
           "aaxis": {
            "gridcolor": "white",
            "linecolor": "white",
            "ticks": ""
           },
           "baxis": {
            "gridcolor": "white",
            "linecolor": "white",
            "ticks": ""
           },
           "bgcolor": "#E5ECF6",
           "caxis": {
            "gridcolor": "white",
            "linecolor": "white",
            "ticks": ""
           }
          },
          "title": {
           "x": 0.05
          },
          "xaxis": {
           "automargin": true,
           "gridcolor": "white",
           "linecolor": "white",
           "ticks": "",
           "title": {
            "standoff": 15
           },
           "zerolinecolor": "white",
           "zerolinewidth": 2
          },
          "yaxis": {
           "automargin": true,
           "gridcolor": "white",
           "linecolor": "white",
           "ticks": "",
           "title": {
            "standoff": 15
           },
           "zerolinecolor": "white",
           "zerolinewidth": 2
          }
         }
        },
        "title": {
         "font": {
          "color": "#4D5663"
         }
        },
        "xaxis": {
         "anchor": "y",
         "domain": [
          0,
          0.16
         ],
         "gridcolor": "#E1E5ED",
         "showgrid": false,
         "tickfont": {
          "color": "#4D5663"
         },
         "title": {
          "font": {
           "color": "#4D5663"
          },
          "text": ""
         },
         "zerolinecolor": "#E1E5ED"
        },
        "xaxis10": {
         "anchor": "y10",
         "domain": [
          0.8400000000000001,
          1
         ],
         "gridcolor": "#E1E5ED",
         "showgrid": false,
         "tickfont": {
          "color": "#4D5663"
         },
         "title": {
          "font": {
           "color": "#4D5663"
          },
          "text": ""
         },
         "zerolinecolor": "#E1E5ED"
        },
        "xaxis11": {
         "anchor": "y11",
         "domain": [
          0,
          0.16
         ],
         "gridcolor": "#E1E5ED",
         "showgrid": false,
         "tickfont": {
          "color": "#4D5663"
         },
         "title": {
          "font": {
           "color": "#4D5663"
          },
          "text": ""
         },
         "zerolinecolor": "#E1E5ED"
        },
        "xaxis12": {
         "anchor": "y12",
         "domain": [
          0.21000000000000002,
          0.37
         ],
         "gridcolor": "#E1E5ED",
         "showgrid": false,
         "tickfont": {
          "color": "#4D5663"
         },
         "title": {
          "font": {
           "color": "#4D5663"
          },
          "text": ""
         },
         "zerolinecolor": "#E1E5ED"
        },
        "xaxis13": {
         "anchor": "y13",
         "domain": [
          0.42000000000000004,
          0.5800000000000001
         ],
         "gridcolor": "#E1E5ED",
         "showgrid": false,
         "tickfont": {
          "color": "#4D5663"
         },
         "title": {
          "font": {
           "color": "#4D5663"
          },
          "text": ""
         },
         "zerolinecolor": "#E1E5ED"
        },
        "xaxis14": {
         "anchor": "y14",
         "domain": [
          0.63,
          0.79
         ],
         "gridcolor": "#E1E5ED",
         "showgrid": false,
         "tickfont": {
          "color": "#4D5663"
         },
         "title": {
          "font": {
           "color": "#4D5663"
          },
          "text": ""
         },
         "zerolinecolor": "#E1E5ED"
        },
        "xaxis15": {
         "anchor": "y15",
         "domain": [
          0.8400000000000001,
          1
         ],
         "gridcolor": "#E1E5ED",
         "showgrid": false,
         "tickfont": {
          "color": "#4D5663"
         },
         "title": {
          "font": {
           "color": "#4D5663"
          },
          "text": ""
         },
         "zerolinecolor": "#E1E5ED"
        },
        "xaxis16": {
         "anchor": "y16",
         "domain": [
          0,
          0.16
         ],
         "gridcolor": "#E1E5ED",
         "showgrid": false,
         "tickfont": {
          "color": "#4D5663"
         },
         "title": {
          "font": {
           "color": "#4D5663"
          },
          "text": ""
         },
         "zerolinecolor": "#E1E5ED"
        },
        "xaxis17": {
         "anchor": "y17",
         "domain": [
          0.21000000000000002,
          0.37
         ],
         "gridcolor": "#E1E5ED",
         "showgrid": false,
         "tickfont": {
          "color": "#4D5663"
         },
         "title": {
          "font": {
           "color": "#4D5663"
          },
          "text": ""
         },
         "zerolinecolor": "#E1E5ED"
        },
        "xaxis18": {
         "anchor": "y18",
         "domain": [
          0.42000000000000004,
          0.5800000000000001
         ],
         "gridcolor": "#E1E5ED",
         "showgrid": false,
         "tickfont": {
          "color": "#4D5663"
         },
         "title": {
          "font": {
           "color": "#4D5663"
          },
          "text": ""
         },
         "zerolinecolor": "#E1E5ED"
        },
        "xaxis19": {
         "anchor": "y19",
         "domain": [
          0.63,
          0.79
         ],
         "gridcolor": "#E1E5ED",
         "showgrid": false,
         "tickfont": {
          "color": "#4D5663"
         },
         "title": {
          "font": {
           "color": "#4D5663"
          },
          "text": ""
         },
         "zerolinecolor": "#E1E5ED"
        },
        "xaxis2": {
         "anchor": "y2",
         "domain": [
          0.21000000000000002,
          0.37
         ],
         "gridcolor": "#E1E5ED",
         "showgrid": false,
         "tickfont": {
          "color": "#4D5663"
         },
         "title": {
          "font": {
           "color": "#4D5663"
          },
          "text": ""
         },
         "zerolinecolor": "#E1E5ED"
        },
        "xaxis20": {
         "anchor": "y20",
         "domain": [
          0.8400000000000001,
          1
         ],
         "gridcolor": "#E1E5ED",
         "showgrid": false,
         "tickfont": {
          "color": "#4D5663"
         },
         "title": {
          "font": {
           "color": "#4D5663"
          },
          "text": ""
         },
         "zerolinecolor": "#E1E5ED"
        },
        "xaxis21": {
         "anchor": "y21",
         "domain": [
          0,
          0.16
         ],
         "gridcolor": "#E1E5ED",
         "showgrid": false,
         "tickfont": {
          "color": "#4D5663"
         },
         "title": {
          "font": {
           "color": "#4D5663"
          },
          "text": ""
         },
         "zerolinecolor": "#E1E5ED"
        },
        "xaxis22": {
         "anchor": "y22",
         "domain": [
          0.21000000000000002,
          0.37
         ],
         "gridcolor": "#E1E5ED",
         "showgrid": false,
         "tickfont": {
          "color": "#4D5663"
         },
         "title": {
          "font": {
           "color": "#4D5663"
          },
          "text": ""
         },
         "zerolinecolor": "#E1E5ED"
        },
        "xaxis23": {
         "anchor": "y23",
         "domain": [
          0.42000000000000004,
          0.5800000000000001
         ],
         "gridcolor": "#E1E5ED",
         "showgrid": false,
         "tickfont": {
          "color": "#4D5663"
         },
         "title": {
          "font": {
           "color": "#4D5663"
          },
          "text": ""
         },
         "zerolinecolor": "#E1E5ED"
        },
        "xaxis24": {
         "anchor": "y24",
         "domain": [
          0.63,
          0.79
         ],
         "gridcolor": "#E1E5ED",
         "showgrid": false,
         "tickfont": {
          "color": "#4D5663"
         },
         "title": {
          "font": {
           "color": "#4D5663"
          },
          "text": ""
         },
         "zerolinecolor": "#E1E5ED"
        },
        "xaxis25": {
         "anchor": "y25",
         "domain": [
          0.8400000000000001,
          1
         ],
         "gridcolor": "#E1E5ED",
         "showgrid": false,
         "tickfont": {
          "color": "#4D5663"
         },
         "title": {
          "font": {
           "color": "#4D5663"
          },
          "text": ""
         },
         "zerolinecolor": "#E1E5ED"
        },
        "xaxis3": {
         "anchor": "y3",
         "domain": [
          0.42000000000000004,
          0.5800000000000001
         ],
         "gridcolor": "#E1E5ED",
         "showgrid": false,
         "tickfont": {
          "color": "#4D5663"
         },
         "title": {
          "font": {
           "color": "#4D5663"
          },
          "text": ""
         },
         "zerolinecolor": "#E1E5ED"
        },
        "xaxis4": {
         "anchor": "y4",
         "domain": [
          0.63,
          0.79
         ],
         "gridcolor": "#E1E5ED",
         "showgrid": false,
         "tickfont": {
          "color": "#4D5663"
         },
         "title": {
          "font": {
           "color": "#4D5663"
          },
          "text": ""
         },
         "zerolinecolor": "#E1E5ED"
        },
        "xaxis5": {
         "anchor": "y5",
         "domain": [
          0.8400000000000001,
          1
         ],
         "gridcolor": "#E1E5ED",
         "showgrid": false,
         "tickfont": {
          "color": "#4D5663"
         },
         "title": {
          "font": {
           "color": "#4D5663"
          },
          "text": ""
         },
         "zerolinecolor": "#E1E5ED"
        },
        "xaxis6": {
         "anchor": "y6",
         "domain": [
          0,
          0.16
         ],
         "gridcolor": "#E1E5ED",
         "showgrid": false,
         "tickfont": {
          "color": "#4D5663"
         },
         "title": {
          "font": {
           "color": "#4D5663"
          },
          "text": ""
         },
         "zerolinecolor": "#E1E5ED"
        },
        "xaxis7": {
         "anchor": "y7",
         "domain": [
          0.21000000000000002,
          0.37
         ],
         "gridcolor": "#E1E5ED",
         "showgrid": false,
         "tickfont": {
          "color": "#4D5663"
         },
         "title": {
          "font": {
           "color": "#4D5663"
          },
          "text": ""
         },
         "zerolinecolor": "#E1E5ED"
        },
        "xaxis8": {
         "anchor": "y8",
         "domain": [
          0.42000000000000004,
          0.5800000000000001
         ],
         "gridcolor": "#E1E5ED",
         "showgrid": false,
         "tickfont": {
          "color": "#4D5663"
         },
         "title": {
          "font": {
           "color": "#4D5663"
          },
          "text": ""
         },
         "zerolinecolor": "#E1E5ED"
        },
        "xaxis9": {
         "anchor": "y9",
         "domain": [
          0.63,
          0.79
         ],
         "gridcolor": "#E1E5ED",
         "showgrid": false,
         "tickfont": {
          "color": "#4D5663"
         },
         "title": {
          "font": {
           "color": "#4D5663"
          },
          "text": ""
         },
         "zerolinecolor": "#E1E5ED"
        },
        "yaxis": {
         "anchor": "x",
         "domain": [
          0.856,
          1
         ],
         "gridcolor": "#E1E5ED",
         "showgrid": false,
         "tickfont": {
          "color": "#4D5663"
         },
         "title": {
          "font": {
           "color": "#4D5663"
          },
          "text": ""
         },
         "zerolinecolor": "#E1E5ED"
        },
        "yaxis10": {
         "anchor": "x10",
         "domain": [
          0.6419999999999999,
          0.7859999999999999
         ],
         "gridcolor": "#E1E5ED",
         "showgrid": false,
         "tickfont": {
          "color": "#4D5663"
         },
         "title": {
          "font": {
           "color": "#4D5663"
          },
          "text": ""
         },
         "zerolinecolor": "#E1E5ED"
        },
        "yaxis11": {
         "anchor": "x11",
         "domain": [
          0.428,
          0.572
         ],
         "gridcolor": "#E1E5ED",
         "showgrid": false,
         "tickfont": {
          "color": "#4D5663"
         },
         "title": {
          "font": {
           "color": "#4D5663"
          },
          "text": ""
         },
         "zerolinecolor": "#E1E5ED"
        },
        "yaxis12": {
         "anchor": "x12",
         "domain": [
          0.428,
          0.572
         ],
         "gridcolor": "#E1E5ED",
         "showgrid": false,
         "tickfont": {
          "color": "#4D5663"
         },
         "title": {
          "font": {
           "color": "#4D5663"
          },
          "text": ""
         },
         "zerolinecolor": "#E1E5ED"
        },
        "yaxis13": {
         "anchor": "x13",
         "domain": [
          0.428,
          0.572
         ],
         "gridcolor": "#E1E5ED",
         "showgrid": false,
         "tickfont": {
          "color": "#4D5663"
         },
         "title": {
          "font": {
           "color": "#4D5663"
          },
          "text": ""
         },
         "zerolinecolor": "#E1E5ED"
        },
        "yaxis14": {
         "anchor": "x14",
         "domain": [
          0.428,
          0.572
         ],
         "gridcolor": "#E1E5ED",
         "showgrid": false,
         "tickfont": {
          "color": "#4D5663"
         },
         "title": {
          "font": {
           "color": "#4D5663"
          },
          "text": ""
         },
         "zerolinecolor": "#E1E5ED"
        },
        "yaxis15": {
         "anchor": "x15",
         "domain": [
          0.428,
          0.572
         ],
         "gridcolor": "#E1E5ED",
         "showgrid": false,
         "tickfont": {
          "color": "#4D5663"
         },
         "title": {
          "font": {
           "color": "#4D5663"
          },
          "text": ""
         },
         "zerolinecolor": "#E1E5ED"
        },
        "yaxis16": {
         "anchor": "x16",
         "domain": [
          0.214,
          0.358
         ],
         "gridcolor": "#E1E5ED",
         "showgrid": false,
         "tickfont": {
          "color": "#4D5663"
         },
         "title": {
          "font": {
           "color": "#4D5663"
          },
          "text": ""
         },
         "zerolinecolor": "#E1E5ED"
        },
        "yaxis17": {
         "anchor": "x17",
         "domain": [
          0.214,
          0.358
         ],
         "gridcolor": "#E1E5ED",
         "showgrid": false,
         "tickfont": {
          "color": "#4D5663"
         },
         "title": {
          "font": {
           "color": "#4D5663"
          },
          "text": ""
         },
         "zerolinecolor": "#E1E5ED"
        },
        "yaxis18": {
         "anchor": "x18",
         "domain": [
          0.214,
          0.358
         ],
         "gridcolor": "#E1E5ED",
         "showgrid": false,
         "tickfont": {
          "color": "#4D5663"
         },
         "title": {
          "font": {
           "color": "#4D5663"
          },
          "text": ""
         },
         "zerolinecolor": "#E1E5ED"
        },
        "yaxis19": {
         "anchor": "x19",
         "domain": [
          0.214,
          0.358
         ],
         "gridcolor": "#E1E5ED",
         "showgrid": false,
         "tickfont": {
          "color": "#4D5663"
         },
         "title": {
          "font": {
           "color": "#4D5663"
          },
          "text": ""
         },
         "zerolinecolor": "#E1E5ED"
        },
        "yaxis2": {
         "anchor": "x2",
         "domain": [
          0.856,
          1
         ],
         "gridcolor": "#E1E5ED",
         "showgrid": false,
         "tickfont": {
          "color": "#4D5663"
         },
         "title": {
          "font": {
           "color": "#4D5663"
          },
          "text": ""
         },
         "zerolinecolor": "#E1E5ED"
        },
        "yaxis20": {
         "anchor": "x20",
         "domain": [
          0.214,
          0.358
         ],
         "gridcolor": "#E1E5ED",
         "showgrid": false,
         "tickfont": {
          "color": "#4D5663"
         },
         "title": {
          "font": {
           "color": "#4D5663"
          },
          "text": ""
         },
         "zerolinecolor": "#E1E5ED"
        },
        "yaxis21": {
         "anchor": "x21",
         "domain": [
          0,
          0.144
         ],
         "gridcolor": "#E1E5ED",
         "showgrid": false,
         "tickfont": {
          "color": "#4D5663"
         },
         "title": {
          "font": {
           "color": "#4D5663"
          },
          "text": ""
         },
         "zerolinecolor": "#E1E5ED"
        },
        "yaxis22": {
         "anchor": "x22",
         "domain": [
          0,
          0.144
         ],
         "gridcolor": "#E1E5ED",
         "showgrid": false,
         "tickfont": {
          "color": "#4D5663"
         },
         "title": {
          "font": {
           "color": "#4D5663"
          },
          "text": ""
         },
         "zerolinecolor": "#E1E5ED"
        },
        "yaxis23": {
         "anchor": "x23",
         "domain": [
          0,
          0.144
         ],
         "gridcolor": "#E1E5ED",
         "showgrid": false,
         "tickfont": {
          "color": "#4D5663"
         },
         "title": {
          "font": {
           "color": "#4D5663"
          },
          "text": ""
         },
         "zerolinecolor": "#E1E5ED"
        },
        "yaxis24": {
         "anchor": "x24",
         "domain": [
          0,
          0.144
         ],
         "gridcolor": "#E1E5ED",
         "showgrid": false,
         "tickfont": {
          "color": "#4D5663"
         },
         "title": {
          "font": {
           "color": "#4D5663"
          },
          "text": ""
         },
         "zerolinecolor": "#E1E5ED"
        },
        "yaxis25": {
         "anchor": "x25",
         "domain": [
          0,
          0.144
         ],
         "gridcolor": "#E1E5ED",
         "showgrid": false,
         "tickfont": {
          "color": "#4D5663"
         },
         "title": {
          "font": {
           "color": "#4D5663"
          },
          "text": ""
         },
         "zerolinecolor": "#E1E5ED"
        },
        "yaxis3": {
         "anchor": "x3",
         "domain": [
          0.856,
          1
         ],
         "gridcolor": "#E1E5ED",
         "showgrid": false,
         "tickfont": {
          "color": "#4D5663"
         },
         "title": {
          "font": {
           "color": "#4D5663"
          },
          "text": ""
         },
         "zerolinecolor": "#E1E5ED"
        },
        "yaxis4": {
         "anchor": "x4",
         "domain": [
          0.856,
          1
         ],
         "gridcolor": "#E1E5ED",
         "showgrid": false,
         "tickfont": {
          "color": "#4D5663"
         },
         "title": {
          "font": {
           "color": "#4D5663"
          },
          "text": ""
         },
         "zerolinecolor": "#E1E5ED"
        },
        "yaxis5": {
         "anchor": "x5",
         "domain": [
          0.856,
          1
         ],
         "gridcolor": "#E1E5ED",
         "showgrid": false,
         "tickfont": {
          "color": "#4D5663"
         },
         "title": {
          "font": {
           "color": "#4D5663"
          },
          "text": ""
         },
         "zerolinecolor": "#E1E5ED"
        },
        "yaxis6": {
         "anchor": "x6",
         "domain": [
          0.6419999999999999,
          0.7859999999999999
         ],
         "gridcolor": "#E1E5ED",
         "showgrid": false,
         "tickfont": {
          "color": "#4D5663"
         },
         "title": {
          "font": {
           "color": "#4D5663"
          },
          "text": ""
         },
         "zerolinecolor": "#E1E5ED"
        },
        "yaxis7": {
         "anchor": "x7",
         "domain": [
          0.6419999999999999,
          0.7859999999999999
         ],
         "gridcolor": "#E1E5ED",
         "showgrid": false,
         "tickfont": {
          "color": "#4D5663"
         },
         "title": {
          "font": {
           "color": "#4D5663"
          },
          "text": ""
         },
         "zerolinecolor": "#E1E5ED"
        },
        "yaxis8": {
         "anchor": "x8",
         "domain": [
          0.6419999999999999,
          0.7859999999999999
         ],
         "gridcolor": "#E1E5ED",
         "showgrid": false,
         "tickfont": {
          "color": "#4D5663"
         },
         "title": {
          "font": {
           "color": "#4D5663"
          },
          "text": ""
         },
         "zerolinecolor": "#E1E5ED"
        },
        "yaxis9": {
         "anchor": "x9",
         "domain": [
          0.6419999999999999,
          0.7859999999999999
         ],
         "gridcolor": "#E1E5ED",
         "showgrid": false,
         "tickfont": {
          "color": "#4D5663"
         },
         "title": {
          "font": {
           "color": "#4D5663"
          },
          "text": ""
         },
         "zerolinecolor": "#E1E5ED"
        }
       }
      },
      "text/html": [
       "<div>\n",
       "        \n",
       "        \n",
       "            <div id=\"f8aef4f7-72af-4c8a-b085-f11d76aa88b6\" class=\"plotly-graph-div\" style=\"height:525px; width:100%;\"></div>\n",
       "            <script type=\"text/javascript\">\n",
       "                require([\"plotly\"], function(Plotly) {\n",
       "                    window.PLOTLYENV=window.PLOTLYENV || {};\n",
       "                    window.PLOTLYENV.BASE_URL='https://plot.ly';\n",
       "                    \n",
       "                if (document.getElementById(\"f8aef4f7-72af-4c8a-b085-f11d76aa88b6\")) {\n",
       "                    Plotly.newPlot(\n",
       "                        'f8aef4f7-72af-4c8a-b085-f11d76aa88b6',\n",
       "                        [{\"histfunc\": \"count\", \"histnorm\": \"\", \"marker\": {\"color\": \"rgba(255, 153, 51, 1.0)\", \"line\": {\"color\": \"#4D5663\", \"width\": 1.3}}, \"name\": \"Study\", \"nbinsx\": 10, \"opacity\": 0.8, \"orientation\": \"v\", \"type\": \"histogram\", \"x\": [\"Allen et al. 2012\", \"Beck & Barros, 1991\", \"Campagna et al. 2007\", \"Croxall et al. 1990\", \"Dau et al. 2009\", \"Fowler 1987\", \"Fowler 1987\", \"(correlative evidence only)\", \"Good et al. 2010\", \"Moore et al. 2009\", \"Pham et al. 2013\", \"Velez-Rubio et al. 2013\", \"Winn et al. 2008\", \"Woodward et al. 2006\", \"Beck & Barros 1991\", \"Bjorndal et al. 1994\", \"Brandao et al. 2011\", \"Browne et al. 2013\", \"Bugoni et al. 2001\", \"Carey 2011\", \"Cedervall et al. 2012\", \"Connors & Smith 1982\", \"(correlative evidence only)\", \"Dau et al. 2009\", \"de Stephanis et al. 2013\", \"Fry et al. 1987\", \"Jacobsen et al. 2010\", \"Lee et al. 2013\", \"Oliveira et al. 2013\", \"Rochman et al. 2013a-c\", \"Ryan 1988\", \"Velez-Rubio et al. 2013\", \"Wright et al. 2013\", \"Von Moos et al. 2012\", \"Katsanevakis et al. 2007\", \"Lewis et al. 2009\", \"Uneputty & Evans 1997 (correlative evidence only)\", \"Chiappone et al. 2002\", \"Chiappone et al. 2005\", \"Uhrin & Schellinger 2011\", \"Ozdilek et al. 2006 (correlative evidence only)\", \"Widmer & Hennemann 2010 (correlative evidence only)\", \"Widmer & Hennemann 2010 (correlative evidence only)\", \"Goldstein et al. 2012 (correlative evidence only)\"], \"xaxis\": \"x\", \"yaxis\": \"y\"}, {\"line\": {\"color\": \"rgba(128, 128, 128, 1.0)\", \"dash\": \"solid\", \"shape\": \"linear\", \"width\": 1.3}, \"marker\": {\"size\": 2, \"symbol\": \"circle\"}, \"mode\": \"markers\", \"name\": \"Study\", \"text\": \"\", \"type\": \"scatter\", \"x\": [\"Grey seals\", \"Manatees\", \"Elephant seals\", \"Fur seals\", \"Seabirds, pinnipeds\", \"Fur seals\", null, \"Fur seals\", \"Invertebrates, fish, seabirds, marine mammals\", \"Seabirds, marine mammals\", \"Gorgonians\", \"Sea turtles\", \"Whales\", \"Whales\", \"Manatees\", \"Sea turtles\", \"Penguins\", \"Lugworms (laboratory)\", \"Sea turtles\", \"Seabirds\", \"Fish (laboratory)\", null, \"Seabirds\", \"Seabirds, pinnipeds\", \"Sperm whale\", \"Seabirds\", \"Sperm whales\", \"Copepods (laboratory)\", \"Fish (laboratory)\", \"Fish (laboratory)\", \"Birds (laboratory)\", \"Sea turtles\", \"Lugworms (laboratory)\", \"Mussels (laboratory)\", \"Epibenthic megafauna\", \"Sessile invertebrates (coral reef)\", \"Assemblage on sediment\", \"Sessile invertebrates (coral reef)\", \"Sessile invertebrates (coral reef)\", \"Seagrass\", \"Sea turtles\", \"Ghost crabs\", \"Ghost crabs\", \"Marine insects\"], \"xaxis\": \"x2\", \"y\": [\"Allen et al. 2012\", \"Beck & Barros, 1991\", \"Campagna et al. 2007\", \"Croxall et al. 1990\", \"Dau et al. 2009\", \"Fowler 1987\", \"Fowler 1987\", \"(correlative evidence only)\", \"Good et al. 2010\", \"Moore et al. 2009\", \"Pham et al. 2013\", \"Velez-Rubio et al. 2013\", \"Winn et al. 2008\", \"Woodward et al. 2006\", \"Beck & Barros 1991\", \"Bjorndal et al. 1994\", \"Brandao et al. 2011\", \"Browne et al. 2013\", \"Bugoni et al. 2001\", \"Carey 2011\", \"Cedervall et al. 2012\", \"Connors & Smith 1982\", \"(correlative evidence only)\", \"Dau et al. 2009\", \"de Stephanis et al. 2013\", \"Fry et al. 1987\", \"Jacobsen et al. 2010\", \"Lee et al. 2013\", \"Oliveira et al. 2013\", \"Rochman et al. 2013a-c\", \"Ryan 1988\", \"Velez-Rubio et al. 2013\", \"Wright et al. 2013\", \"Von Moos et al. 2012\", \"Katsanevakis et al. 2007\", \"Lewis et al. 2009\", \"Uneputty & Evans 1997 (correlative evidence only)\", \"Chiappone et al. 2002\", \"Chiappone et al. 2005\", \"Uhrin & Schellinger 2011\", \"Ozdilek et al. 2006 (correlative evidence only)\", \"Widmer & Hennemann 2010 (correlative evidence only)\", \"Widmer & Hennemann 2010 (correlative evidence only)\", \"Goldstein et al. 2012 (correlative evidence only)\"], \"yaxis\": \"y2\"}, {\"line\": {\"color\": \"rgba(128, 128, 128, 1.0)\", \"dash\": \"solid\", \"shape\": \"linear\", \"width\": 1.3}, \"marker\": {\"size\": 2, \"symbol\": \"circle\"}, \"mode\": \"markers\", \"name\": \"Study\", \"text\": \"\", \"type\": \"scatter\", \"x\": [\"Entanglement\", \"Entanglement\", \"Entanglement\", \"Entanglement\", \"Entanglement\", \"Entanglement\", null, \"Entanglement\", \"Entanglement\", \"Entanglement\", \"Entanglement\", \"Entanglement\", \"Entanglement\", \"Entanglement\", \"Ingestion\", \"Ingestion\", \"Ingestion\", \"Ingestion\", \"Ingestion\", \"Ingestion\", \"Ingestion\", null, \"Ingestion\", \"Ingestion\", \"Ingestion\", \"Ingestion\", \"Ingestion\", \"Ingestion\", \"Ingestion\", \"Ingestion\", \"Ingestion\", \"Ingestion\", \"Ingestion\", \"Ingestion and gill uptake\", \"Interaction (contact)\", \"Interaction (contact)\", \"Interaction (contact)\", \"Interaction (contact)\", \"Interaction (contact)\", \"Interaction (contact)\", \"Interaction (obstruction)\", \"Interaction (obstruction)\", \"Interaction (substrate)\", \"Interaction (substrate)\"], \"xaxis\": \"x3\", \"y\": [\"Allen et al. 2012\", \"Beck & Barros, 1991\", \"Campagna et al. 2007\", \"Croxall et al. 1990\", \"Dau et al. 2009\", \"Fowler 1987\", \"Fowler 1987\", \"(correlative evidence only)\", \"Good et al. 2010\", \"Moore et al. 2009\", \"Pham et al. 2013\", \"Velez-Rubio et al. 2013\", \"Winn et al. 2008\", \"Woodward et al. 2006\", \"Beck & Barros 1991\", \"Bjorndal et al. 1994\", \"Brandao et al. 2011\", \"Browne et al. 2013\", \"Bugoni et al. 2001\", \"Carey 2011\", \"Cedervall et al. 2012\", \"Connors & Smith 1982\", \"(correlative evidence only)\", \"Dau et al. 2009\", \"de Stephanis et al. 2013\", \"Fry et al. 1987\", \"Jacobsen et al. 2010\", \"Lee et al. 2013\", \"Oliveira et al. 2013\", \"Rochman et al. 2013a-c\", \"Ryan 1988\", \"Velez-Rubio et al. 2013\", \"Wright et al. 2013\", \"Von Moos et al. 2012\", \"Katsanevakis et al. 2007\", \"Lewis et al. 2009\", \"Uneputty & Evans 1997 (correlative evidence only)\", \"Chiappone et al. 2002\", \"Chiappone et al. 2005\", \"Uhrin & Schellinger 2011\", \"Ozdilek et al. 2006 (correlative evidence only)\", \"Widmer & Hennemann 2010 (correlative evidence only)\", \"Widmer & Hennemann 2010 (correlative evidence only)\", \"Goldstein et al. 2012 (correlative evidence only)\"], \"yaxis\": \"y3\"}, {\"line\": {\"color\": \"rgba(128, 128, 128, 1.0)\", \"dash\": \"solid\", \"shape\": \"linear\", \"width\": 1.3}, \"marker\": {\"size\": 2, \"symbol\": \"circle\"}, \"mode\": \"markers\", \"name\": \"Study\", \"text\": \"\", \"type\": \"scatter\", \"x\": [\"MF line, net, rope\", \"MF line, bags, other debris\", \"MF line, fishing jigs\", \"Packing band, fishing gear, other debris\", \"Fishing gear\", \"Trawl netting, packing bands\", null, \"Trawl netting, packing bands\", \"Derelict gillnets\", \"Plastic, fishing line\", \"Fishing line\", \"Fishing gear\", \"Plastic line\", \"Plastic line\", \"MF line, bags, other debris\", \"MF line, fish hooks, other debris\", \"Plastic, fishing gear, other debris\", \"Microplastics\", \"Plastic bags, ropes\", \"Plastic particles, pellets\", \"Nanoparticles\", null, \"Plastic pellets, foam\", \"Fishing hooks\", \"Identifiable litter items\", \"Plastic fragments, pellets, identifiable litter\", \"Fishing gear, other debris\", \"Micro- and nanoplastics\", \"Microplastics\", \"Microplastics\", \"Microplastics\", \"Marine debris\", \"Microplastics\", \"Microplastics\", \"Plastic bottles, glass jars\", \"Lobster traps\", \"Plastic litter\", \"MF line, lobster trap, hook and line gear\", \"Hook and line gear\", \"Crab pots, tires, wood\", \"Waste, medical waste\", \"Beach litter, mostly plastic\", \"Beach litter, mostly plastic\", \"Microplastics\"], \"xaxis\": \"x4\", \"y\": [\"Allen et al. 2012\", \"Beck & Barros, 1991\", \"Campagna et al. 2007\", \"Croxall et al. 1990\", \"Dau et al. 2009\", \"Fowler 1987\", \"Fowler 1987\", \"(correlative evidence only)\", \"Good et al. 2010\", \"Moore et al. 2009\", \"Pham et al. 2013\", \"Velez-Rubio et al. 2013\", \"Winn et al. 2008\", \"Woodward et al. 2006\", \"Beck & Barros 1991\", \"Bjorndal et al. 1994\", \"Brandao et al. 2011\", \"Browne et al. 2013\", \"Bugoni et al. 2001\", \"Carey 2011\", \"Cedervall et al. 2012\", \"Connors & Smith 1982\", \"(correlative evidence only)\", \"Dau et al. 2009\", \"de Stephanis et al. 2013\", \"Fry et al. 1987\", \"Jacobsen et al. 2010\", \"Lee et al. 2013\", \"Oliveira et al. 2013\", \"Rochman et al. 2013a-c\", \"Ryan 1988\", \"Velez-Rubio et al. 2013\", \"Wright et al. 2013\", \"Von Moos et al. 2012\", \"Katsanevakis et al. 2007\", \"Lewis et al. 2009\", \"Uneputty & Evans 1997 (correlative evidence only)\", \"Chiappone et al. 2002\", \"Chiappone et al. 2005\", \"Uhrin & Schellinger 2011\", \"Ozdilek et al. 2006 (correlative evidence only)\", \"Widmer & Hennemann 2010 (correlative evidence only)\", \"Widmer & Hennemann 2010 (correlative evidence only)\", \"Goldstein et al. 2012 (correlative evidence only)\"], \"yaxis\": \"y4\"}, {\"line\": {\"color\": \"rgba(128, 128, 128, 1.0)\", \"dash\": \"solid\", \"shape\": \"linear\", \"width\": 1.3}, \"marker\": {\"size\": 2, \"symbol\": \"circle\"}, \"mode\": \"markers\", \"name\": \"Study\", \"text\": \"\", \"type\": \"scatter\", \"x\": [\"Constriction\", \"Death\", \"Dermal wound\", \"Dermal wound\", \"External wound\", \"Death\", null, \"Reduced population size\", \"Death\", \"Death\", \"Damage/breakage\", \"Death\", \"Dermal wound\", \"Dermal wound\", \"Death\", \"Intestinal blockage, death\", null, \"Biochemical/cellular, death\", \"Gut obstruction, death\", \"Perforated gut\", \"Biochemical/cellular\", null, \"Biochemical/cellular\", \"Internal wound\", \"Gastric rupture, death\", \"Gut impaction, ulcerative lesions\", \"Gastric rupture, gut impaction, death\", \"Death\", \"Biochemical/cellular\", \"Biochemical/cellular\", \"Reduced organ size\", \"Gut obstruction\", \"Biochemical/cellular\", \"Biochemical/cellular\", \"Altered assemblage\", \"Altered assemblage\", \"Altered assemblage\", \"Tissue abrasion\", \"Tissue abrasion\", \"Breakage, suffocation, death\", \"Reduced population size\", \"Reduced population size\", \"Altered assemblage\", \"Increased population size\"], \"xaxis\": \"x5\", \"y\": [\"Allen et al. 2012\", \"Beck & Barros, 1991\", \"Campagna et al. 2007\", \"Croxall et al. 1990\", \"Dau et al. 2009\", \"Fowler 1987\", \"Fowler 1987\", \"(correlative evidence only)\", \"Good et al. 2010\", \"Moore et al. 2009\", \"Pham et al. 2013\", \"Velez-Rubio et al. 2013\", \"Winn et al. 2008\", \"Woodward et al. 2006\", \"Beck & Barros 1991\", \"Bjorndal et al. 1994\", \"Brandao et al. 2011\", \"Browne et al. 2013\", \"Bugoni et al. 2001\", \"Carey 2011\", \"Cedervall et al. 2012\", \"Connors & Smith 1982\", \"(correlative evidence only)\", \"Dau et al. 2009\", \"de Stephanis et al. 2013\", \"Fry et al. 1987\", \"Jacobsen et al. 2010\", \"Lee et al. 2013\", \"Oliveira et al. 2013\", \"Rochman et al. 2013a-c\", \"Ryan 1988\", \"Velez-Rubio et al. 2013\", \"Wright et al. 2013\", \"Von Moos et al. 2012\", \"Katsanevakis et al. 2007\", \"Lewis et al. 2009\", \"Uneputty & Evans 1997 (correlative evidence only)\", \"Chiappone et al. 2002\", \"Chiappone et al. 2005\", \"Uhrin & Schellinger 2011\", \"Ozdilek et al. 2006 (correlative evidence only)\", \"Widmer & Hennemann 2010 (correlative evidence only)\", \"Widmer & Hennemann 2010 (correlative evidence only)\", \"Goldstein et al. 2012 (correlative evidence only)\"], \"yaxis\": \"y5\"}, {\"line\": {\"color\": \"rgba(128, 128, 128, 1.0)\", \"dash\": \"solid\", \"shape\": \"linear\", \"width\": 1.3}, \"marker\": {\"size\": 2, \"symbol\": \"circle\"}, \"mode\": \"markers\", \"name\": \"Animal\", \"text\": \"\", \"type\": \"scatter\", \"x\": [\"Allen et al. 2012\", \"Beck & Barros, 1991\", \"Campagna et al. 2007\", \"Croxall et al. 1990\", \"Dau et al. 2009\", \"Fowler 1987\", \"Fowler 1987\", \"(correlative evidence only)\", \"Good et al. 2010\", \"Moore et al. 2009\", \"Pham et al. 2013\", \"Velez-Rubio et al. 2013\", \"Winn et al. 2008\", \"Woodward et al. 2006\", \"Beck & Barros 1991\", \"Bjorndal et al. 1994\", \"Brandao et al. 2011\", \"Browne et al. 2013\", \"Bugoni et al. 2001\", \"Carey 2011\", \"Cedervall et al. 2012\", \"Connors & Smith 1982\", \"(correlative evidence only)\", \"Dau et al. 2009\", \"de Stephanis et al. 2013\", \"Fry et al. 1987\", \"Jacobsen et al. 2010\", \"Lee et al. 2013\", \"Oliveira et al. 2013\", \"Rochman et al. 2013a-c\", \"Ryan 1988\", \"Velez-Rubio et al. 2013\", \"Wright et al. 2013\", \"Von Moos et al. 2012\", \"Katsanevakis et al. 2007\", \"Lewis et al. 2009\", \"Uneputty & Evans 1997 (correlative evidence only)\", \"Chiappone et al. 2002\", \"Chiappone et al. 2005\", \"Uhrin & Schellinger 2011\", \"Ozdilek et al. 2006 (correlative evidence only)\", \"Widmer & Hennemann 2010 (correlative evidence only)\", \"Widmer & Hennemann 2010 (correlative evidence only)\", \"Goldstein et al. 2012 (correlative evidence only)\"], \"xaxis\": \"x6\", \"y\": [\"Grey seals\", \"Manatees\", \"Elephant seals\", \"Fur seals\", \"Seabirds, pinnipeds\", \"Fur seals\", \"\", \"Fur seals\", \"Invertebrates, fish, seabirds, marine mammals\", \"Seabirds, marine mammals\", \"Gorgonians\", \"Sea turtles\", \"Whales\", \"Whales\", \"Manatees\", \"Sea turtles\", \"Penguins\", \"Lugworms (laboratory)\", \"Sea turtles\", \"Seabirds\", \"Fish (laboratory)\", \"\", \"Seabirds\", \"Seabirds, pinnipeds\", \"Sperm whale\", \"Seabirds\", \"Sperm whales\", \"Copepods (laboratory)\", \"Fish (laboratory)\", \"Fish (laboratory)\", \"Birds (laboratory)\", \"Sea turtles\", \"Lugworms (laboratory)\", \"Mussels (laboratory)\", \"Epibenthic megafauna\", \"Sessile invertebrates (coral reef)\", \"Assemblage on sediment\", \"Sessile invertebrates (coral reef)\", \"Sessile invertebrates (coral reef)\", \"Seagrass\", \"Sea turtles\", \"Ghost crabs\", \"Ghost crabs\", \"Marine insects\"], \"yaxis\": \"y6\"}, {\"histfunc\": \"count\", \"histnorm\": \"\", \"marker\": {\"color\": \"rgba(55, 128, 191, 1.0)\", \"line\": {\"color\": \"#4D5663\", \"width\": 1.3}}, \"name\": \"Animal\", \"nbinsx\": 10, \"opacity\": 0.8, \"orientation\": \"v\", \"type\": \"histogram\", \"x\": [\"Grey seals\", \"Manatees\", \"Elephant seals\", \"Fur seals\", \"Seabirds, pinnipeds\", \"Fur seals\", null, \"Fur seals\", \"Invertebrates, fish, seabirds, marine mammals\", \"Seabirds, marine mammals\", \"Gorgonians\", \"Sea turtles\", \"Whales\", \"Whales\", \"Manatees\", \"Sea turtles\", \"Penguins\", \"Lugworms (laboratory)\", \"Sea turtles\", \"Seabirds\", \"Fish (laboratory)\", null, \"Seabirds\", \"Seabirds, pinnipeds\", \"Sperm whale\", \"Seabirds\", \"Sperm whales\", \"Copepods (laboratory)\", \"Fish (laboratory)\", \"Fish (laboratory)\", \"Birds (laboratory)\", \"Sea turtles\", \"Lugworms (laboratory)\", \"Mussels (laboratory)\", \"Epibenthic megafauna\", \"Sessile invertebrates (coral reef)\", \"Assemblage on sediment\", \"Sessile invertebrates (coral reef)\", \"Sessile invertebrates (coral reef)\", \"Seagrass\", \"Sea turtles\", \"Ghost crabs\", \"Ghost crabs\", \"Marine insects\"], \"xaxis\": \"x7\", \"yaxis\": \"y7\"}, {\"line\": {\"color\": \"rgba(128, 128, 128, 1.0)\", \"dash\": \"solid\", \"shape\": \"linear\", \"width\": 1.3}, \"marker\": {\"size\": 2, \"symbol\": \"circle\"}, \"mode\": \"markers\", \"name\": \"Animal\", \"text\": \"\", \"type\": \"scatter\", \"x\": [\"Entanglement\", \"Entanglement\", \"Entanglement\", \"Entanglement\", \"Entanglement\", \"Entanglement\", null, \"Entanglement\", \"Entanglement\", \"Entanglement\", \"Entanglement\", \"Entanglement\", \"Entanglement\", \"Entanglement\", \"Ingestion\", \"Ingestion\", \"Ingestion\", \"Ingestion\", \"Ingestion\", \"Ingestion\", \"Ingestion\", null, \"Ingestion\", \"Ingestion\", \"Ingestion\", \"Ingestion\", \"Ingestion\", \"Ingestion\", \"Ingestion\", \"Ingestion\", \"Ingestion\", \"Ingestion\", \"Ingestion\", \"Ingestion and gill uptake\", \"Interaction (contact)\", \"Interaction (contact)\", \"Interaction (contact)\", \"Interaction (contact)\", \"Interaction (contact)\", \"Interaction (contact)\", \"Interaction (obstruction)\", \"Interaction (obstruction)\", \"Interaction (substrate)\", \"Interaction (substrate)\"], \"xaxis\": \"x8\", \"y\": [\"Grey seals\", \"Manatees\", \"Elephant seals\", \"Fur seals\", \"Seabirds, pinnipeds\", \"Fur seals\", \"\", \"Fur seals\", \"Invertebrates, fish, seabirds, marine mammals\", \"Seabirds, marine mammals\", \"Gorgonians\", \"Sea turtles\", \"Whales\", \"Whales\", \"Manatees\", \"Sea turtles\", \"Penguins\", \"Lugworms (laboratory)\", \"Sea turtles\", \"Seabirds\", \"Fish (laboratory)\", \"\", \"Seabirds\", \"Seabirds, pinnipeds\", \"Sperm whale\", \"Seabirds\", \"Sperm whales\", \"Copepods (laboratory)\", \"Fish (laboratory)\", \"Fish (laboratory)\", \"Birds (laboratory)\", \"Sea turtles\", \"Lugworms (laboratory)\", \"Mussels (laboratory)\", \"Epibenthic megafauna\", \"Sessile invertebrates (coral reef)\", \"Assemblage on sediment\", \"Sessile invertebrates (coral reef)\", \"Sessile invertebrates (coral reef)\", \"Seagrass\", \"Sea turtles\", \"Ghost crabs\", \"Ghost crabs\", \"Marine insects\"], \"yaxis\": \"y8\"}, {\"line\": {\"color\": \"rgba(128, 128, 128, 1.0)\", \"dash\": \"solid\", \"shape\": \"linear\", \"width\": 1.3}, \"marker\": {\"size\": 2, \"symbol\": \"circle\"}, \"mode\": \"markers\", \"name\": \"Animal\", \"text\": \"\", \"type\": \"scatter\", \"x\": [\"MF line, net, rope\", \"MF line, bags, other debris\", \"MF line, fishing jigs\", \"Packing band, fishing gear, other debris\", \"Fishing gear\", \"Trawl netting, packing bands\", null, \"Trawl netting, packing bands\", \"Derelict gillnets\", \"Plastic, fishing line\", \"Fishing line\", \"Fishing gear\", \"Plastic line\", \"Plastic line\", \"MF line, bags, other debris\", \"MF line, fish hooks, other debris\", \"Plastic, fishing gear, other debris\", \"Microplastics\", \"Plastic bags, ropes\", \"Plastic particles, pellets\", \"Nanoparticles\", null, \"Plastic pellets, foam\", \"Fishing hooks\", \"Identifiable litter items\", \"Plastic fragments, pellets, identifiable litter\", \"Fishing gear, other debris\", \"Micro- and nanoplastics\", \"Microplastics\", \"Microplastics\", \"Microplastics\", \"Marine debris\", \"Microplastics\", \"Microplastics\", \"Plastic bottles, glass jars\", \"Lobster traps\", \"Plastic litter\", \"MF line, lobster trap, hook and line gear\", \"Hook and line gear\", \"Crab pots, tires, wood\", \"Waste, medical waste\", \"Beach litter, mostly plastic\", \"Beach litter, mostly plastic\", \"Microplastics\"], \"xaxis\": \"x9\", \"y\": [\"Grey seals\", \"Manatees\", \"Elephant seals\", \"Fur seals\", \"Seabirds, pinnipeds\", \"Fur seals\", \"\", \"Fur seals\", \"Invertebrates, fish, seabirds, marine mammals\", \"Seabirds, marine mammals\", \"Gorgonians\", \"Sea turtles\", \"Whales\", \"Whales\", \"Manatees\", \"Sea turtles\", \"Penguins\", \"Lugworms (laboratory)\", \"Sea turtles\", \"Seabirds\", \"Fish (laboratory)\", \"\", \"Seabirds\", \"Seabirds, pinnipeds\", \"Sperm whale\", \"Seabirds\", \"Sperm whales\", \"Copepods (laboratory)\", \"Fish (laboratory)\", \"Fish (laboratory)\", \"Birds (laboratory)\", \"Sea turtles\", \"Lugworms (laboratory)\", \"Mussels (laboratory)\", \"Epibenthic megafauna\", \"Sessile invertebrates (coral reef)\", \"Assemblage on sediment\", \"Sessile invertebrates (coral reef)\", \"Sessile invertebrates (coral reef)\", \"Seagrass\", \"Sea turtles\", \"Ghost crabs\", \"Ghost crabs\", \"Marine insects\"], \"yaxis\": \"y9\"}, {\"line\": {\"color\": \"rgba(128, 128, 128, 1.0)\", \"dash\": \"solid\", \"shape\": \"linear\", \"width\": 1.3}, \"marker\": {\"size\": 2, \"symbol\": \"circle\"}, \"mode\": \"markers\", \"name\": \"Animal\", \"text\": \"\", \"type\": \"scatter\", \"x\": [\"Constriction\", \"Death\", \"Dermal wound\", \"Dermal wound\", \"External wound\", \"Death\", null, \"Reduced population size\", \"Death\", \"Death\", \"Damage/breakage\", \"Death\", \"Dermal wound\", \"Dermal wound\", \"Death\", \"Intestinal blockage, death\", null, \"Biochemical/cellular, death\", \"Gut obstruction, death\", \"Perforated gut\", \"Biochemical/cellular\", null, \"Biochemical/cellular\", \"Internal wound\", \"Gastric rupture, death\", \"Gut impaction, ulcerative lesions\", \"Gastric rupture, gut impaction, death\", \"Death\", \"Biochemical/cellular\", \"Biochemical/cellular\", \"Reduced organ size\", \"Gut obstruction\", \"Biochemical/cellular\", \"Biochemical/cellular\", \"Altered assemblage\", \"Altered assemblage\", \"Altered assemblage\", \"Tissue abrasion\", \"Tissue abrasion\", \"Breakage, suffocation, death\", \"Reduced population size\", \"Reduced population size\", \"Altered assemblage\", \"Increased population size\"], \"xaxis\": \"x10\", \"y\": [\"Grey seals\", \"Manatees\", \"Elephant seals\", \"Fur seals\", \"Seabirds, pinnipeds\", \"Fur seals\", \"\", \"Fur seals\", \"Invertebrates, fish, seabirds, marine mammals\", \"Seabirds, marine mammals\", \"Gorgonians\", \"Sea turtles\", \"Whales\", \"Whales\", \"Manatees\", \"Sea turtles\", \"Penguins\", \"Lugworms (laboratory)\", \"Sea turtles\", \"Seabirds\", \"Fish (laboratory)\", \"\", \"Seabirds\", \"Seabirds, pinnipeds\", \"Sperm whale\", \"Seabirds\", \"Sperm whales\", \"Copepods (laboratory)\", \"Fish (laboratory)\", \"Fish (laboratory)\", \"Birds (laboratory)\", \"Sea turtles\", \"Lugworms (laboratory)\", \"Mussels (laboratory)\", \"Epibenthic megafauna\", \"Sessile invertebrates (coral reef)\", \"Assemblage on sediment\", \"Sessile invertebrates (coral reef)\", \"Sessile invertebrates (coral reef)\", \"Seagrass\", \"Sea turtles\", \"Ghost crabs\", \"Ghost crabs\", \"Marine insects\"], \"yaxis\": \"y10\"}, {\"line\": {\"color\": \"rgba(128, 128, 128, 1.0)\", \"dash\": \"solid\", \"shape\": \"linear\", \"width\": 1.3}, \"marker\": {\"size\": 2, \"symbol\": \"circle\"}, \"mode\": \"markers\", \"name\": \"Encounter type\", \"text\": \"\", \"type\": \"scatter\", \"x\": [\"Allen et al. 2012\", \"Beck & Barros, 1991\", \"Campagna et al. 2007\", \"Croxall et al. 1990\", \"Dau et al. 2009\", \"Fowler 1987\", \"Fowler 1987\", \"(correlative evidence only)\", \"Good et al. 2010\", \"Moore et al. 2009\", \"Pham et al. 2013\", \"Velez-Rubio et al. 2013\", \"Winn et al. 2008\", \"Woodward et al. 2006\", \"Beck & Barros 1991\", \"Bjorndal et al. 1994\", \"Brandao et al. 2011\", \"Browne et al. 2013\", \"Bugoni et al. 2001\", \"Carey 2011\", \"Cedervall et al. 2012\", \"Connors & Smith 1982\", \"(correlative evidence only)\", \"Dau et al. 2009\", \"de Stephanis et al. 2013\", \"Fry et al. 1987\", \"Jacobsen et al. 2010\", \"Lee et al. 2013\", \"Oliveira et al. 2013\", \"Rochman et al. 2013a-c\", \"Ryan 1988\", \"Velez-Rubio et al. 2013\", \"Wright et al. 2013\", \"Von Moos et al. 2012\", \"Katsanevakis et al. 2007\", \"Lewis et al. 2009\", \"Uneputty & Evans 1997 (correlative evidence only)\", \"Chiappone et al. 2002\", \"Chiappone et al. 2005\", \"Uhrin & Schellinger 2011\", \"Ozdilek et al. 2006 (correlative evidence only)\", \"Widmer & Hennemann 2010 (correlative evidence only)\", \"Widmer & Hennemann 2010 (correlative evidence only)\", \"Goldstein et al. 2012 (correlative evidence only)\"], \"xaxis\": \"x11\", \"y\": [\"Entanglement\", \"Entanglement\", \"Entanglement\", \"Entanglement\", \"Entanglement\", \"Entanglement\", \"\", \"Entanglement\", \"Entanglement\", \"Entanglement\", \"Entanglement\", \"Entanglement\", \"Entanglement\", \"Entanglement\", \"Ingestion\", \"Ingestion\", \"Ingestion\", \"Ingestion\", \"Ingestion\", \"Ingestion\", \"Ingestion\", \"\", \"Ingestion\", \"Ingestion\", \"Ingestion\", \"Ingestion\", \"Ingestion\", \"Ingestion\", \"Ingestion\", \"Ingestion\", \"Ingestion\", \"Ingestion\", \"Ingestion\", \"Ingestion and gill uptake\", \"Interaction (contact)\", \"Interaction (contact)\", \"Interaction (contact)\", \"Interaction (contact)\", \"Interaction (contact)\", \"Interaction (contact)\", \"Interaction (obstruction)\", \"Interaction (obstruction)\", \"Interaction (substrate)\", \"Interaction (substrate)\"], \"yaxis\": \"y11\"}, {\"line\": {\"color\": \"rgba(128, 128, 128, 1.0)\", \"dash\": \"solid\", \"shape\": \"linear\", \"width\": 1.3}, \"marker\": {\"size\": 2, \"symbol\": \"circle\"}, \"mode\": \"markers\", \"name\": \"Encounter type\", \"text\": \"\", \"type\": \"scatter\", \"x\": [\"Grey seals\", \"Manatees\", \"Elephant seals\", \"Fur seals\", \"Seabirds, pinnipeds\", \"Fur seals\", null, \"Fur seals\", \"Invertebrates, fish, seabirds, marine mammals\", \"Seabirds, marine mammals\", \"Gorgonians\", \"Sea turtles\", \"Whales\", \"Whales\", \"Manatees\", \"Sea turtles\", \"Penguins\", \"Lugworms (laboratory)\", \"Sea turtles\", \"Seabirds\", \"Fish (laboratory)\", null, \"Seabirds\", \"Seabirds, pinnipeds\", \"Sperm whale\", \"Seabirds\", \"Sperm whales\", \"Copepods (laboratory)\", \"Fish (laboratory)\", \"Fish (laboratory)\", \"Birds (laboratory)\", \"Sea turtles\", \"Lugworms (laboratory)\", \"Mussels (laboratory)\", \"Epibenthic megafauna\", \"Sessile invertebrates (coral reef)\", \"Assemblage on sediment\", \"Sessile invertebrates (coral reef)\", \"Sessile invertebrates (coral reef)\", \"Seagrass\", \"Sea turtles\", \"Ghost crabs\", \"Ghost crabs\", \"Marine insects\"], \"xaxis\": \"x12\", \"y\": [\"Entanglement\", \"Entanglement\", \"Entanglement\", \"Entanglement\", \"Entanglement\", \"Entanglement\", \"\", \"Entanglement\", \"Entanglement\", \"Entanglement\", \"Entanglement\", \"Entanglement\", \"Entanglement\", \"Entanglement\", \"Ingestion\", \"Ingestion\", \"Ingestion\", \"Ingestion\", \"Ingestion\", \"Ingestion\", \"Ingestion\", \"\", \"Ingestion\", \"Ingestion\", \"Ingestion\", \"Ingestion\", \"Ingestion\", \"Ingestion\", \"Ingestion\", \"Ingestion\", \"Ingestion\", \"Ingestion\", \"Ingestion\", \"Ingestion and gill uptake\", \"Interaction (contact)\", \"Interaction (contact)\", \"Interaction (contact)\", \"Interaction (contact)\", \"Interaction (contact)\", \"Interaction (contact)\", \"Interaction (obstruction)\", \"Interaction (obstruction)\", \"Interaction (substrate)\", \"Interaction (substrate)\"], \"yaxis\": \"y12\"}, {\"histfunc\": \"count\", \"histnorm\": \"\", \"marker\": {\"color\": \"rgba(50, 171, 96, 1.0)\", \"line\": {\"color\": \"#4D5663\", \"width\": 1.3}}, \"name\": \"Encounter type\", \"nbinsx\": 10, \"opacity\": 0.8, \"orientation\": \"v\", \"type\": \"histogram\", \"x\": [\"Entanglement\", \"Entanglement\", \"Entanglement\", \"Entanglement\", \"Entanglement\", \"Entanglement\", null, \"Entanglement\", \"Entanglement\", \"Entanglement\", \"Entanglement\", \"Entanglement\", \"Entanglement\", \"Entanglement\", \"Ingestion\", \"Ingestion\", \"Ingestion\", \"Ingestion\", \"Ingestion\", \"Ingestion\", \"Ingestion\", null, \"Ingestion\", \"Ingestion\", \"Ingestion\", \"Ingestion\", \"Ingestion\", \"Ingestion\", \"Ingestion\", \"Ingestion\", \"Ingestion\", \"Ingestion\", \"Ingestion\", \"Ingestion and gill uptake\", \"Interaction (contact)\", \"Interaction (contact)\", \"Interaction (contact)\", \"Interaction (contact)\", \"Interaction (contact)\", \"Interaction (contact)\", \"Interaction (obstruction)\", \"Interaction (obstruction)\", \"Interaction (substrate)\", \"Interaction (substrate)\"], \"xaxis\": \"x13\", \"yaxis\": \"y13\"}, {\"line\": {\"color\": \"rgba(128, 128, 128, 1.0)\", \"dash\": \"solid\", \"shape\": \"linear\", \"width\": 1.3}, \"marker\": {\"size\": 2, \"symbol\": \"circle\"}, \"mode\": \"markers\", \"name\": \"Encounter type\", \"text\": \"\", \"type\": \"scatter\", \"x\": [\"MF line, net, rope\", \"MF line, bags, other debris\", \"MF line, fishing jigs\", \"Packing band, fishing gear, other debris\", \"Fishing gear\", \"Trawl netting, packing bands\", null, \"Trawl netting, packing bands\", \"Derelict gillnets\", \"Plastic, fishing line\", \"Fishing line\", \"Fishing gear\", \"Plastic line\", \"Plastic line\", \"MF line, bags, other debris\", \"MF line, fish hooks, other debris\", \"Plastic, fishing gear, other debris\", \"Microplastics\", \"Plastic bags, ropes\", \"Plastic particles, pellets\", \"Nanoparticles\", null, \"Plastic pellets, foam\", \"Fishing hooks\", \"Identifiable litter items\", \"Plastic fragments, pellets, identifiable litter\", \"Fishing gear, other debris\", \"Micro- and nanoplastics\", \"Microplastics\", \"Microplastics\", \"Microplastics\", \"Marine debris\", \"Microplastics\", \"Microplastics\", \"Plastic bottles, glass jars\", \"Lobster traps\", \"Plastic litter\", \"MF line, lobster trap, hook and line gear\", \"Hook and line gear\", \"Crab pots, tires, wood\", \"Waste, medical waste\", \"Beach litter, mostly plastic\", \"Beach litter, mostly plastic\", \"Microplastics\"], \"xaxis\": \"x14\", \"y\": [\"Entanglement\", \"Entanglement\", \"Entanglement\", \"Entanglement\", \"Entanglement\", \"Entanglement\", \"\", \"Entanglement\", \"Entanglement\", \"Entanglement\", \"Entanglement\", \"Entanglement\", \"Entanglement\", \"Entanglement\", \"Ingestion\", \"Ingestion\", \"Ingestion\", \"Ingestion\", \"Ingestion\", \"Ingestion\", \"Ingestion\", \"\", \"Ingestion\", \"Ingestion\", \"Ingestion\", \"Ingestion\", \"Ingestion\", \"Ingestion\", \"Ingestion\", \"Ingestion\", \"Ingestion\", \"Ingestion\", \"Ingestion\", \"Ingestion and gill uptake\", \"Interaction (contact)\", \"Interaction (contact)\", \"Interaction (contact)\", \"Interaction (contact)\", \"Interaction (contact)\", \"Interaction (contact)\", \"Interaction (obstruction)\", \"Interaction (obstruction)\", \"Interaction (substrate)\", \"Interaction (substrate)\"], \"yaxis\": \"y14\"}, {\"line\": {\"color\": \"rgba(128, 128, 128, 1.0)\", \"dash\": \"solid\", \"shape\": \"linear\", \"width\": 1.3}, \"marker\": {\"size\": 2, \"symbol\": \"circle\"}, \"mode\": \"markers\", \"name\": \"Encounter type\", \"text\": \"\", \"type\": \"scatter\", \"x\": [\"Constriction\", \"Death\", \"Dermal wound\", \"Dermal wound\", \"External wound\", \"Death\", null, \"Reduced population size\", \"Death\", \"Death\", \"Damage/breakage\", \"Death\", \"Dermal wound\", \"Dermal wound\", \"Death\", \"Intestinal blockage, death\", null, \"Biochemical/cellular, death\", \"Gut obstruction, death\", \"Perforated gut\", \"Biochemical/cellular\", null, \"Biochemical/cellular\", \"Internal wound\", \"Gastric rupture, death\", \"Gut impaction, ulcerative lesions\", \"Gastric rupture, gut impaction, death\", \"Death\", \"Biochemical/cellular\", \"Biochemical/cellular\", \"Reduced organ size\", \"Gut obstruction\", \"Biochemical/cellular\", \"Biochemical/cellular\", \"Altered assemblage\", \"Altered assemblage\", \"Altered assemblage\", \"Tissue abrasion\", \"Tissue abrasion\", \"Breakage, suffocation, death\", \"Reduced population size\", \"Reduced population size\", \"Altered assemblage\", \"Increased population size\"], \"xaxis\": \"x15\", \"y\": [\"Entanglement\", \"Entanglement\", \"Entanglement\", \"Entanglement\", \"Entanglement\", \"Entanglement\", \"\", \"Entanglement\", \"Entanglement\", \"Entanglement\", \"Entanglement\", \"Entanglement\", \"Entanglement\", \"Entanglement\", \"Ingestion\", \"Ingestion\", \"Ingestion\", \"Ingestion\", \"Ingestion\", \"Ingestion\", \"Ingestion\", \"\", \"Ingestion\", \"Ingestion\", \"Ingestion\", \"Ingestion\", \"Ingestion\", \"Ingestion\", \"Ingestion\", \"Ingestion\", \"Ingestion\", \"Ingestion\", \"Ingestion\", \"Ingestion and gill uptake\", \"Interaction (contact)\", \"Interaction (contact)\", \"Interaction (contact)\", \"Interaction (contact)\", \"Interaction (contact)\", \"Interaction (contact)\", \"Interaction (obstruction)\", \"Interaction (obstruction)\", \"Interaction (substrate)\", \"Interaction (substrate)\"], \"yaxis\": \"y15\"}, {\"line\": {\"color\": \"rgba(128, 128, 128, 1.0)\", \"dash\": \"solid\", \"shape\": \"linear\", \"width\": 1.3}, \"marker\": {\"size\": 2, \"symbol\": \"circle\"}, \"mode\": \"markers\", \"name\": \"Predominant debris type\", \"text\": \"\", \"type\": \"scatter\", \"x\": [\"Allen et al. 2012\", \"Beck & Barros, 1991\", \"Campagna et al. 2007\", \"Croxall et al. 1990\", \"Dau et al. 2009\", \"Fowler 1987\", \"Fowler 1987\", \"(correlative evidence only)\", \"Good et al. 2010\", \"Moore et al. 2009\", \"Pham et al. 2013\", \"Velez-Rubio et al. 2013\", \"Winn et al. 2008\", \"Woodward et al. 2006\", \"Beck & Barros 1991\", \"Bjorndal et al. 1994\", \"Brandao et al. 2011\", \"Browne et al. 2013\", \"Bugoni et al. 2001\", \"Carey 2011\", \"Cedervall et al. 2012\", \"Connors & Smith 1982\", \"(correlative evidence only)\", \"Dau et al. 2009\", \"de Stephanis et al. 2013\", \"Fry et al. 1987\", \"Jacobsen et al. 2010\", \"Lee et al. 2013\", \"Oliveira et al. 2013\", \"Rochman et al. 2013a-c\", \"Ryan 1988\", \"Velez-Rubio et al. 2013\", \"Wright et al. 2013\", \"Von Moos et al. 2012\", \"Katsanevakis et al. 2007\", \"Lewis et al. 2009\", \"Uneputty & Evans 1997 (correlative evidence only)\", \"Chiappone et al. 2002\", \"Chiappone et al. 2005\", \"Uhrin & Schellinger 2011\", \"Ozdilek et al. 2006 (correlative evidence only)\", \"Widmer & Hennemann 2010 (correlative evidence only)\", \"Widmer & Hennemann 2010 (correlative evidence only)\", \"Goldstein et al. 2012 (correlative evidence only)\"], \"xaxis\": \"x16\", \"y\": [\"MF line, net, rope\", \"MF line, bags, other debris\", \"MF line, fishing jigs\", \"Packing band, fishing gear, other debris\", \"Fishing gear\", \"Trawl netting, packing bands\", \"\", \"Trawl netting, packing bands\", \"Derelict gillnets\", \"Plastic, fishing line\", \"Fishing line\", \"Fishing gear\", \"Plastic line\", \"Plastic line\", \"MF line, bags, other debris\", \"MF line, fish hooks, other debris\", \"Plastic, fishing gear, other debris\", \"Microplastics\", \"Plastic bags, ropes\", \"Plastic particles, pellets\", \"Nanoparticles\", \"\", \"Plastic pellets, foam\", \"Fishing hooks\", \"Identifiable litter items\", \"Plastic fragments, pellets, identifiable litter\", \"Fishing gear, other debris\", \"Micro- and nanoplastics\", \"Microplastics\", \"Microplastics\", \"Microplastics\", \"Marine debris\", \"Microplastics\", \"Microplastics\", \"Plastic bottles, glass jars\", \"Lobster traps\", \"Plastic litter\", \"MF line, lobster trap, hook and line gear\", \"Hook and line gear\", \"Crab pots, tires, wood\", \"Waste, medical waste\", \"Beach litter, mostly plastic\", \"Beach litter, mostly plastic\", \"Microplastics\"], \"yaxis\": \"y16\"}, {\"line\": {\"color\": \"rgba(128, 128, 128, 1.0)\", \"dash\": \"solid\", \"shape\": \"linear\", \"width\": 1.3}, \"marker\": {\"size\": 2, \"symbol\": \"circle\"}, \"mode\": \"markers\", \"name\": \"Predominant debris type\", \"text\": \"\", \"type\": \"scatter\", \"x\": [\"Grey seals\", \"Manatees\", \"Elephant seals\", \"Fur seals\", \"Seabirds, pinnipeds\", \"Fur seals\", null, \"Fur seals\", \"Invertebrates, fish, seabirds, marine mammals\", \"Seabirds, marine mammals\", \"Gorgonians\", \"Sea turtles\", \"Whales\", \"Whales\", \"Manatees\", \"Sea turtles\", \"Penguins\", \"Lugworms (laboratory)\", \"Sea turtles\", \"Seabirds\", \"Fish (laboratory)\", null, \"Seabirds\", \"Seabirds, pinnipeds\", \"Sperm whale\", \"Seabirds\", \"Sperm whales\", \"Copepods (laboratory)\", \"Fish (laboratory)\", \"Fish (laboratory)\", \"Birds (laboratory)\", \"Sea turtles\", \"Lugworms (laboratory)\", \"Mussels (laboratory)\", \"Epibenthic megafauna\", \"Sessile invertebrates (coral reef)\", \"Assemblage on sediment\", \"Sessile invertebrates (coral reef)\", \"Sessile invertebrates (coral reef)\", \"Seagrass\", \"Sea turtles\", \"Ghost crabs\", \"Ghost crabs\", \"Marine insects\"], \"xaxis\": \"x17\", \"y\": [\"MF line, net, rope\", \"MF line, bags, other debris\", \"MF line, fishing jigs\", \"Packing band, fishing gear, other debris\", \"Fishing gear\", \"Trawl netting, packing bands\", \"\", \"Trawl netting, packing bands\", \"Derelict gillnets\", \"Plastic, fishing line\", \"Fishing line\", \"Fishing gear\", \"Plastic line\", \"Plastic line\", \"MF line, bags, other debris\", \"MF line, fish hooks, other debris\", \"Plastic, fishing gear, other debris\", \"Microplastics\", \"Plastic bags, ropes\", \"Plastic particles, pellets\", \"Nanoparticles\", \"\", \"Plastic pellets, foam\", \"Fishing hooks\", \"Identifiable litter items\", \"Plastic fragments, pellets, identifiable litter\", \"Fishing gear, other debris\", \"Micro- and nanoplastics\", \"Microplastics\", \"Microplastics\", \"Microplastics\", \"Marine debris\", \"Microplastics\", \"Microplastics\", \"Plastic bottles, glass jars\", \"Lobster traps\", \"Plastic litter\", \"MF line, lobster trap, hook and line gear\", \"Hook and line gear\", \"Crab pots, tires, wood\", \"Waste, medical waste\", \"Beach litter, mostly plastic\", \"Beach litter, mostly plastic\", \"Microplastics\"], \"yaxis\": \"y17\"}, {\"line\": {\"color\": \"rgba(128, 128, 128, 1.0)\", \"dash\": \"solid\", \"shape\": \"linear\", \"width\": 1.3}, \"marker\": {\"size\": 2, \"symbol\": \"circle\"}, \"mode\": \"markers\", \"name\": \"Predominant debris type\", \"text\": \"\", \"type\": \"scatter\", \"x\": [\"Entanglement\", \"Entanglement\", \"Entanglement\", \"Entanglement\", \"Entanglement\", \"Entanglement\", null, \"Entanglement\", \"Entanglement\", \"Entanglement\", \"Entanglement\", \"Entanglement\", \"Entanglement\", \"Entanglement\", \"Ingestion\", \"Ingestion\", \"Ingestion\", \"Ingestion\", \"Ingestion\", \"Ingestion\", \"Ingestion\", null, \"Ingestion\", \"Ingestion\", \"Ingestion\", \"Ingestion\", \"Ingestion\", \"Ingestion\", \"Ingestion\", \"Ingestion\", \"Ingestion\", \"Ingestion\", \"Ingestion\", \"Ingestion and gill uptake\", \"Interaction (contact)\", \"Interaction (contact)\", \"Interaction (contact)\", \"Interaction (contact)\", \"Interaction (contact)\", \"Interaction (contact)\", \"Interaction (obstruction)\", \"Interaction (obstruction)\", \"Interaction (substrate)\", \"Interaction (substrate)\"], \"xaxis\": \"x18\", \"y\": [\"MF line, net, rope\", \"MF line, bags, other debris\", \"MF line, fishing jigs\", \"Packing band, fishing gear, other debris\", \"Fishing gear\", \"Trawl netting, packing bands\", \"\", \"Trawl netting, packing bands\", \"Derelict gillnets\", \"Plastic, fishing line\", \"Fishing line\", \"Fishing gear\", \"Plastic line\", \"Plastic line\", \"MF line, bags, other debris\", \"MF line, fish hooks, other debris\", \"Plastic, fishing gear, other debris\", \"Microplastics\", \"Plastic bags, ropes\", \"Plastic particles, pellets\", \"Nanoparticles\", \"\", \"Plastic pellets, foam\", \"Fishing hooks\", \"Identifiable litter items\", \"Plastic fragments, pellets, identifiable litter\", \"Fishing gear, other debris\", \"Micro- and nanoplastics\", \"Microplastics\", \"Microplastics\", \"Microplastics\", \"Marine debris\", \"Microplastics\", \"Microplastics\", \"Plastic bottles, glass jars\", \"Lobster traps\", \"Plastic litter\", \"MF line, lobster trap, hook and line gear\", \"Hook and line gear\", \"Crab pots, tires, wood\", \"Waste, medical waste\", \"Beach litter, mostly plastic\", \"Beach litter, mostly plastic\", \"Microplastics\"], \"yaxis\": \"y18\"}, {\"histfunc\": \"count\", \"histnorm\": \"\", \"marker\": {\"color\": \"rgba(128, 0, 128, 1.0)\", \"line\": {\"color\": \"#4D5663\", \"width\": 1.3}}, \"name\": \"Predominant debris type\", \"nbinsx\": 10, \"opacity\": 0.8, \"orientation\": \"v\", \"type\": \"histogram\", \"x\": [\"MF line, net, rope\", \"MF line, bags, other debris\", \"MF line, fishing jigs\", \"Packing band, fishing gear, other debris\", \"Fishing gear\", \"Trawl netting, packing bands\", null, \"Trawl netting, packing bands\", \"Derelict gillnets\", \"Plastic, fishing line\", \"Fishing line\", \"Fishing gear\", \"Plastic line\", \"Plastic line\", \"MF line, bags, other debris\", \"MF line, fish hooks, other debris\", \"Plastic, fishing gear, other debris\", \"Microplastics\", \"Plastic bags, ropes\", \"Plastic particles, pellets\", \"Nanoparticles\", null, \"Plastic pellets, foam\", \"Fishing hooks\", \"Identifiable litter items\", \"Plastic fragments, pellets, identifiable litter\", \"Fishing gear, other debris\", \"Micro- and nanoplastics\", \"Microplastics\", \"Microplastics\", \"Microplastics\", \"Marine debris\", \"Microplastics\", \"Microplastics\", \"Plastic bottles, glass jars\", \"Lobster traps\", \"Plastic litter\", \"MF line, lobster trap, hook and line gear\", \"Hook and line gear\", \"Crab pots, tires, wood\", \"Waste, medical waste\", \"Beach litter, mostly plastic\", \"Beach litter, mostly plastic\", \"Microplastics\"], \"xaxis\": \"x19\", \"yaxis\": \"y19\"}, {\"line\": {\"color\": \"rgba(128, 128, 128, 1.0)\", \"dash\": \"solid\", \"shape\": \"linear\", \"width\": 1.3}, \"marker\": {\"size\": 2, \"symbol\": \"circle\"}, \"mode\": \"markers\", \"name\": \"Predominant debris type\", \"text\": \"\", \"type\": \"scatter\", \"x\": [\"Constriction\", \"Death\", \"Dermal wound\", \"Dermal wound\", \"External wound\", \"Death\", null, \"Reduced population size\", \"Death\", \"Death\", \"Damage/breakage\", \"Death\", \"Dermal wound\", \"Dermal wound\", \"Death\", \"Intestinal blockage, death\", null, \"Biochemical/cellular, death\", \"Gut obstruction, death\", \"Perforated gut\", \"Biochemical/cellular\", null, \"Biochemical/cellular\", \"Internal wound\", \"Gastric rupture, death\", \"Gut impaction, ulcerative lesions\", \"Gastric rupture, gut impaction, death\", \"Death\", \"Biochemical/cellular\", \"Biochemical/cellular\", \"Reduced organ size\", \"Gut obstruction\", \"Biochemical/cellular\", \"Biochemical/cellular\", \"Altered assemblage\", \"Altered assemblage\", \"Altered assemblage\", \"Tissue abrasion\", \"Tissue abrasion\", \"Breakage, suffocation, death\", \"Reduced population size\", \"Reduced population size\", \"Altered assemblage\", \"Increased population size\"], \"xaxis\": \"x20\", \"y\": [\"MF line, net, rope\", \"MF line, bags, other debris\", \"MF line, fishing jigs\", \"Packing band, fishing gear, other debris\", \"Fishing gear\", \"Trawl netting, packing bands\", \"\", \"Trawl netting, packing bands\", \"Derelict gillnets\", \"Plastic, fishing line\", \"Fishing line\", \"Fishing gear\", \"Plastic line\", \"Plastic line\", \"MF line, bags, other debris\", \"MF line, fish hooks, other debris\", \"Plastic, fishing gear, other debris\", \"Microplastics\", \"Plastic bags, ropes\", \"Plastic particles, pellets\", \"Nanoparticles\", \"\", \"Plastic pellets, foam\", \"Fishing hooks\", \"Identifiable litter items\", \"Plastic fragments, pellets, identifiable litter\", \"Fishing gear, other debris\", \"Micro- and nanoplastics\", \"Microplastics\", \"Microplastics\", \"Microplastics\", \"Marine debris\", \"Microplastics\", \"Microplastics\", \"Plastic bottles, glass jars\", \"Lobster traps\", \"Plastic litter\", \"MF line, lobster trap, hook and line gear\", \"Hook and line gear\", \"Crab pots, tires, wood\", \"Waste, medical waste\", \"Beach litter, mostly plastic\", \"Beach litter, mostly plastic\", \"Microplastics\"], \"yaxis\": \"y20\"}, {\"line\": {\"color\": \"rgba(128, 128, 128, 1.0)\", \"dash\": \"solid\", \"shape\": \"linear\", \"width\": 1.3}, \"marker\": {\"size\": 2, \"symbol\": \"circle\"}, \"mode\": \"markers\", \"name\": \"Impact (response)\", \"text\": \"\", \"type\": \"scatter\", \"x\": [\"Allen et al. 2012\", \"Beck & Barros, 1991\", \"Campagna et al. 2007\", \"Croxall et al. 1990\", \"Dau et al. 2009\", \"Fowler 1987\", \"Fowler 1987\", \"(correlative evidence only)\", \"Good et al. 2010\", \"Moore et al. 2009\", \"Pham et al. 2013\", \"Velez-Rubio et al. 2013\", \"Winn et al. 2008\", \"Woodward et al. 2006\", \"Beck & Barros 1991\", \"Bjorndal et al. 1994\", \"Brandao et al. 2011\", \"Browne et al. 2013\", \"Bugoni et al. 2001\", \"Carey 2011\", \"Cedervall et al. 2012\", \"Connors & Smith 1982\", \"(correlative evidence only)\", \"Dau et al. 2009\", \"de Stephanis et al. 2013\", \"Fry et al. 1987\", \"Jacobsen et al. 2010\", \"Lee et al. 2013\", \"Oliveira et al. 2013\", \"Rochman et al. 2013a-c\", \"Ryan 1988\", \"Velez-Rubio et al. 2013\", \"Wright et al. 2013\", \"Von Moos et al. 2012\", \"Katsanevakis et al. 2007\", \"Lewis et al. 2009\", \"Uneputty & Evans 1997 (correlative evidence only)\", \"Chiappone et al. 2002\", \"Chiappone et al. 2005\", \"Uhrin & Schellinger 2011\", \"Ozdilek et al. 2006 (correlative evidence only)\", \"Widmer & Hennemann 2010 (correlative evidence only)\", \"Widmer & Hennemann 2010 (correlative evidence only)\", \"Goldstein et al. 2012 (correlative evidence only)\"], \"xaxis\": \"x21\", \"y\": [\"Constriction\", \"Death\", \"Dermal wound\", \"Dermal wound\", \"External wound\", \"Death\", \"\", \"Reduced population size\", \"Death\", \"Death\", \"Damage/breakage\", \"Death\", \"Dermal wound\", \"Dermal wound\", \"Death\", \"Intestinal blockage, death\", \"\", \"Biochemical/cellular, death\", \"Gut obstruction, death\", \"Perforated gut\", \"Biochemical/cellular\", \"\", \"Biochemical/cellular\", \"Internal wound\", \"Gastric rupture, death\", \"Gut impaction, ulcerative lesions\", \"Gastric rupture, gut impaction, death\", \"Death\", \"Biochemical/cellular\", \"Biochemical/cellular\", \"Reduced organ size\", \"Gut obstruction\", \"Biochemical/cellular\", \"Biochemical/cellular\", \"Altered assemblage\", \"Altered assemblage\", \"Altered assemblage\", \"Tissue abrasion\", \"Tissue abrasion\", \"Breakage, suffocation, death\", \"Reduced population size\", \"Reduced population size\", \"Altered assemblage\", \"Increased population size\"], \"yaxis\": \"y21\"}, {\"line\": {\"color\": \"rgba(128, 128, 128, 1.0)\", \"dash\": \"solid\", \"shape\": \"linear\", \"width\": 1.3}, \"marker\": {\"size\": 2, \"symbol\": \"circle\"}, \"mode\": \"markers\", \"name\": \"Impact (response)\", \"text\": \"\", \"type\": \"scatter\", \"x\": [\"Grey seals\", \"Manatees\", \"Elephant seals\", \"Fur seals\", \"Seabirds, pinnipeds\", \"Fur seals\", null, \"Fur seals\", \"Invertebrates, fish, seabirds, marine mammals\", \"Seabirds, marine mammals\", \"Gorgonians\", \"Sea turtles\", \"Whales\", \"Whales\", \"Manatees\", \"Sea turtles\", \"Penguins\", \"Lugworms (laboratory)\", \"Sea turtles\", \"Seabirds\", \"Fish (laboratory)\", null, \"Seabirds\", \"Seabirds, pinnipeds\", \"Sperm whale\", \"Seabirds\", \"Sperm whales\", \"Copepods (laboratory)\", \"Fish (laboratory)\", \"Fish (laboratory)\", \"Birds (laboratory)\", \"Sea turtles\", \"Lugworms (laboratory)\", \"Mussels (laboratory)\", \"Epibenthic megafauna\", \"Sessile invertebrates (coral reef)\", \"Assemblage on sediment\", \"Sessile invertebrates (coral reef)\", \"Sessile invertebrates (coral reef)\", \"Seagrass\", \"Sea turtles\", \"Ghost crabs\", \"Ghost crabs\", \"Marine insects\"], \"xaxis\": \"x22\", \"y\": [\"Constriction\", \"Death\", \"Dermal wound\", \"Dermal wound\", \"External wound\", \"Death\", \"\", \"Reduced population size\", \"Death\", \"Death\", \"Damage/breakage\", \"Death\", \"Dermal wound\", \"Dermal wound\", \"Death\", \"Intestinal blockage, death\", \"\", \"Biochemical/cellular, death\", \"Gut obstruction, death\", \"Perforated gut\", \"Biochemical/cellular\", \"\", \"Biochemical/cellular\", \"Internal wound\", \"Gastric rupture, death\", \"Gut impaction, ulcerative lesions\", \"Gastric rupture, gut impaction, death\", \"Death\", \"Biochemical/cellular\", \"Biochemical/cellular\", \"Reduced organ size\", \"Gut obstruction\", \"Biochemical/cellular\", \"Biochemical/cellular\", \"Altered assemblage\", \"Altered assemblage\", \"Altered assemblage\", \"Tissue abrasion\", \"Tissue abrasion\", \"Breakage, suffocation, death\", \"Reduced population size\", \"Reduced population size\", \"Altered assemblage\", \"Increased population size\"], \"yaxis\": \"y22\"}, {\"line\": {\"color\": \"rgba(128, 128, 128, 1.0)\", \"dash\": \"solid\", \"shape\": \"linear\", \"width\": 1.3}, \"marker\": {\"size\": 2, \"symbol\": \"circle\"}, \"mode\": \"markers\", \"name\": \"Impact (response)\", \"text\": \"\", \"type\": \"scatter\", \"x\": [\"Entanglement\", \"Entanglement\", \"Entanglement\", \"Entanglement\", \"Entanglement\", \"Entanglement\", null, \"Entanglement\", \"Entanglement\", \"Entanglement\", \"Entanglement\", \"Entanglement\", \"Entanglement\", \"Entanglement\", \"Ingestion\", \"Ingestion\", \"Ingestion\", \"Ingestion\", \"Ingestion\", \"Ingestion\", \"Ingestion\", null, \"Ingestion\", \"Ingestion\", \"Ingestion\", \"Ingestion\", \"Ingestion\", \"Ingestion\", \"Ingestion\", \"Ingestion\", \"Ingestion\", \"Ingestion\", \"Ingestion\", \"Ingestion and gill uptake\", \"Interaction (contact)\", \"Interaction (contact)\", \"Interaction (contact)\", \"Interaction (contact)\", \"Interaction (contact)\", \"Interaction (contact)\", \"Interaction (obstruction)\", \"Interaction (obstruction)\", \"Interaction (substrate)\", \"Interaction (substrate)\"], \"xaxis\": \"x23\", \"y\": [\"Constriction\", \"Death\", \"Dermal wound\", \"Dermal wound\", \"External wound\", \"Death\", \"\", \"Reduced population size\", \"Death\", \"Death\", \"Damage/breakage\", \"Death\", \"Dermal wound\", \"Dermal wound\", \"Death\", \"Intestinal blockage, death\", \"\", \"Biochemical/cellular, death\", \"Gut obstruction, death\", \"Perforated gut\", \"Biochemical/cellular\", \"\", \"Biochemical/cellular\", \"Internal wound\", \"Gastric rupture, death\", \"Gut impaction, ulcerative lesions\", \"Gastric rupture, gut impaction, death\", \"Death\", \"Biochemical/cellular\", \"Biochemical/cellular\", \"Reduced organ size\", \"Gut obstruction\", \"Biochemical/cellular\", \"Biochemical/cellular\", \"Altered assemblage\", \"Altered assemblage\", \"Altered assemblage\", \"Tissue abrasion\", \"Tissue abrasion\", \"Breakage, suffocation, death\", \"Reduced population size\", \"Reduced population size\", \"Altered assemblage\", \"Increased population size\"], \"yaxis\": \"y23\"}, {\"line\": {\"color\": \"rgba(128, 128, 128, 1.0)\", \"dash\": \"solid\", \"shape\": \"linear\", \"width\": 1.3}, \"marker\": {\"size\": 2, \"symbol\": \"circle\"}, \"mode\": \"markers\", \"name\": \"Impact (response)\", \"text\": \"\", \"type\": \"scatter\", \"x\": [\"MF line, net, rope\", \"MF line, bags, other debris\", \"MF line, fishing jigs\", \"Packing band, fishing gear, other debris\", \"Fishing gear\", \"Trawl netting, packing bands\", null, \"Trawl netting, packing bands\", \"Derelict gillnets\", \"Plastic, fishing line\", \"Fishing line\", \"Fishing gear\", \"Plastic line\", \"Plastic line\", \"MF line, bags, other debris\", \"MF line, fish hooks, other debris\", \"Plastic, fishing gear, other debris\", \"Microplastics\", \"Plastic bags, ropes\", \"Plastic particles, pellets\", \"Nanoparticles\", null, \"Plastic pellets, foam\", \"Fishing hooks\", \"Identifiable litter items\", \"Plastic fragments, pellets, identifiable litter\", \"Fishing gear, other debris\", \"Micro- and nanoplastics\", \"Microplastics\", \"Microplastics\", \"Microplastics\", \"Marine debris\", \"Microplastics\", \"Microplastics\", \"Plastic bottles, glass jars\", \"Lobster traps\", \"Plastic litter\", \"MF line, lobster trap, hook and line gear\", \"Hook and line gear\", \"Crab pots, tires, wood\", \"Waste, medical waste\", \"Beach litter, mostly plastic\", \"Beach litter, mostly plastic\", \"Microplastics\"], \"xaxis\": \"x24\", \"y\": [\"Constriction\", \"Death\", \"Dermal wound\", \"Dermal wound\", \"External wound\", \"Death\", \"\", \"Reduced population size\", \"Death\", \"Death\", \"Damage/breakage\", \"Death\", \"Dermal wound\", \"Dermal wound\", \"Death\", \"Intestinal blockage, death\", \"\", \"Biochemical/cellular, death\", \"Gut obstruction, death\", \"Perforated gut\", \"Biochemical/cellular\", \"\", \"Biochemical/cellular\", \"Internal wound\", \"Gastric rupture, death\", \"Gut impaction, ulcerative lesions\", \"Gastric rupture, gut impaction, death\", \"Death\", \"Biochemical/cellular\", \"Biochemical/cellular\", \"Reduced organ size\", \"Gut obstruction\", \"Biochemical/cellular\", \"Biochemical/cellular\", \"Altered assemblage\", \"Altered assemblage\", \"Altered assemblage\", \"Tissue abrasion\", \"Tissue abrasion\", \"Breakage, suffocation, death\", \"Reduced population size\", \"Reduced population size\", \"Altered assemblage\", \"Increased population size\"], \"yaxis\": \"y24\"}, {\"histfunc\": \"count\", \"histnorm\": \"\", \"marker\": {\"color\": \"rgba(219, 64, 82, 1.0)\", \"line\": {\"color\": \"#4D5663\", \"width\": 1.3}}, \"name\": \"Impact (response)\", \"nbinsx\": 10, \"opacity\": 0.8, \"orientation\": \"v\", \"type\": \"histogram\", \"x\": [\"Constriction\", \"Death\", \"Dermal wound\", \"Dermal wound\", \"External wound\", \"Death\", null, \"Reduced population size\", \"Death\", \"Death\", \"Damage/breakage\", \"Death\", \"Dermal wound\", \"Dermal wound\", \"Death\", \"Intestinal blockage, death\", null, \"Biochemical/cellular, death\", \"Gut obstruction, death\", \"Perforated gut\", \"Biochemical/cellular\", null, \"Biochemical/cellular\", \"Internal wound\", \"Gastric rupture, death\", \"Gut impaction, ulcerative lesions\", \"Gastric rupture, gut impaction, death\", \"Death\", \"Biochemical/cellular\", \"Biochemical/cellular\", \"Reduced organ size\", \"Gut obstruction\", \"Biochemical/cellular\", \"Biochemical/cellular\", \"Altered assemblage\", \"Altered assemblage\", \"Altered assemblage\", \"Tissue abrasion\", \"Tissue abrasion\", \"Breakage, suffocation, death\", \"Reduced population size\", \"Reduced population size\", \"Altered assemblage\", \"Increased population size\"], \"xaxis\": \"x25\", \"yaxis\": \"y25\"}],\n",
       "                        {\"bargap\": 0.02, \"legend\": {\"bgcolor\": \"#F5F6F9\", \"font\": {\"color\": \"#4D5663\"}}, \"paper_bgcolor\": \"#F5F6F9\", \"plot_bgcolor\": \"#F5F6F9\", \"showlegend\": false, \"template\": {\"data\": {\"bar\": [{\"error_x\": {\"color\": \"#2a3f5f\"}, \"error_y\": {\"color\": \"#2a3f5f\"}, \"marker\": {\"line\": {\"color\": \"#E5ECF6\", \"width\": 0.5}}, \"type\": \"bar\"}], \"barpolar\": [{\"marker\": {\"line\": {\"color\": \"#E5ECF6\", \"width\": 0.5}}, \"type\": \"barpolar\"}], \"carpet\": [{\"aaxis\": {\"endlinecolor\": \"#2a3f5f\", \"gridcolor\": \"white\", \"linecolor\": \"white\", \"minorgridcolor\": \"white\", \"startlinecolor\": \"#2a3f5f\"}, \"baxis\": {\"endlinecolor\": \"#2a3f5f\", \"gridcolor\": \"white\", \"linecolor\": \"white\", \"minorgridcolor\": \"white\", \"startlinecolor\": \"#2a3f5f\"}, \"type\": \"carpet\"}], \"choropleth\": [{\"colorbar\": {\"outlinewidth\": 0, \"ticks\": \"\"}, \"type\": \"choropleth\"}], \"contour\": [{\"colorbar\": {\"outlinewidth\": 0, \"ticks\": \"\"}, \"colorscale\": [[0.0, \"#0d0887\"], [0.1111111111111111, \"#46039f\"], [0.2222222222222222, \"#7201a8\"], [0.3333333333333333, \"#9c179e\"], [0.4444444444444444, \"#bd3786\"], [0.5555555555555556, \"#d8576b\"], [0.6666666666666666, \"#ed7953\"], [0.7777777777777778, \"#fb9f3a\"], [0.8888888888888888, \"#fdca26\"], [1.0, \"#f0f921\"]], \"type\": \"contour\"}], \"contourcarpet\": [{\"colorbar\": {\"outlinewidth\": 0, \"ticks\": \"\"}, \"type\": \"contourcarpet\"}], \"heatmap\": [{\"colorbar\": {\"outlinewidth\": 0, \"ticks\": \"\"}, \"colorscale\": [[0.0, \"#0d0887\"], [0.1111111111111111, \"#46039f\"], [0.2222222222222222, \"#7201a8\"], [0.3333333333333333, \"#9c179e\"], [0.4444444444444444, \"#bd3786\"], [0.5555555555555556, \"#d8576b\"], [0.6666666666666666, \"#ed7953\"], [0.7777777777777778, \"#fb9f3a\"], [0.8888888888888888, \"#fdca26\"], [1.0, \"#f0f921\"]], \"type\": \"heatmap\"}], \"heatmapgl\": [{\"colorbar\": {\"outlinewidth\": 0, \"ticks\": \"\"}, \"colorscale\": [[0.0, \"#0d0887\"], [0.1111111111111111, \"#46039f\"], [0.2222222222222222, \"#7201a8\"], [0.3333333333333333, \"#9c179e\"], [0.4444444444444444, \"#bd3786\"], [0.5555555555555556, \"#d8576b\"], [0.6666666666666666, \"#ed7953\"], [0.7777777777777778, \"#fb9f3a\"], [0.8888888888888888, \"#fdca26\"], [1.0, \"#f0f921\"]], \"type\": \"heatmapgl\"}], \"histogram\": [{\"marker\": {\"colorbar\": {\"outlinewidth\": 0, \"ticks\": \"\"}}, \"type\": \"histogram\"}], \"histogram2d\": [{\"colorbar\": {\"outlinewidth\": 0, \"ticks\": \"\"}, \"colorscale\": [[0.0, \"#0d0887\"], [0.1111111111111111, \"#46039f\"], [0.2222222222222222, \"#7201a8\"], [0.3333333333333333, \"#9c179e\"], [0.4444444444444444, \"#bd3786\"], [0.5555555555555556, \"#d8576b\"], [0.6666666666666666, \"#ed7953\"], [0.7777777777777778, \"#fb9f3a\"], [0.8888888888888888, \"#fdca26\"], [1.0, \"#f0f921\"]], \"type\": \"histogram2d\"}], \"histogram2dcontour\": [{\"colorbar\": {\"outlinewidth\": 0, \"ticks\": \"\"}, \"colorscale\": [[0.0, \"#0d0887\"], [0.1111111111111111, \"#46039f\"], [0.2222222222222222, \"#7201a8\"], [0.3333333333333333, \"#9c179e\"], [0.4444444444444444, \"#bd3786\"], [0.5555555555555556, \"#d8576b\"], [0.6666666666666666, \"#ed7953\"], [0.7777777777777778, \"#fb9f3a\"], [0.8888888888888888, \"#fdca26\"], [1.0, \"#f0f921\"]], \"type\": \"histogram2dcontour\"}], \"mesh3d\": [{\"colorbar\": {\"outlinewidth\": 0, \"ticks\": \"\"}, \"type\": \"mesh3d\"}], \"parcoords\": [{\"line\": {\"colorbar\": {\"outlinewidth\": 0, \"ticks\": \"\"}}, \"type\": \"parcoords\"}], \"pie\": [{\"automargin\": true, \"type\": \"pie\"}], \"scatter\": [{\"marker\": {\"colorbar\": {\"outlinewidth\": 0, \"ticks\": \"\"}}, \"type\": \"scatter\"}], \"scatter3d\": [{\"line\": {\"colorbar\": {\"outlinewidth\": 0, \"ticks\": \"\"}}, \"marker\": {\"colorbar\": {\"outlinewidth\": 0, \"ticks\": \"\"}}, \"type\": \"scatter3d\"}], \"scattercarpet\": [{\"marker\": {\"colorbar\": {\"outlinewidth\": 0, \"ticks\": \"\"}}, \"type\": \"scattercarpet\"}], \"scattergeo\": [{\"marker\": {\"colorbar\": {\"outlinewidth\": 0, \"ticks\": \"\"}}, \"type\": \"scattergeo\"}], \"scattergl\": [{\"marker\": {\"colorbar\": {\"outlinewidth\": 0, \"ticks\": \"\"}}, \"type\": \"scattergl\"}], \"scattermapbox\": [{\"marker\": {\"colorbar\": {\"outlinewidth\": 0, \"ticks\": \"\"}}, \"type\": \"scattermapbox\"}], \"scatterpolar\": [{\"marker\": {\"colorbar\": {\"outlinewidth\": 0, \"ticks\": \"\"}}, \"type\": \"scatterpolar\"}], \"scatterpolargl\": [{\"marker\": {\"colorbar\": {\"outlinewidth\": 0, \"ticks\": \"\"}}, \"type\": \"scatterpolargl\"}], \"scatterternary\": [{\"marker\": {\"colorbar\": {\"outlinewidth\": 0, \"ticks\": \"\"}}, \"type\": \"scatterternary\"}], \"surface\": [{\"colorbar\": {\"outlinewidth\": 0, \"ticks\": \"\"}, \"colorscale\": [[0.0, \"#0d0887\"], [0.1111111111111111, \"#46039f\"], [0.2222222222222222, \"#7201a8\"], [0.3333333333333333, \"#9c179e\"], [0.4444444444444444, \"#bd3786\"], [0.5555555555555556, \"#d8576b\"], [0.6666666666666666, \"#ed7953\"], [0.7777777777777778, \"#fb9f3a\"], [0.8888888888888888, \"#fdca26\"], [1.0, \"#f0f921\"]], \"type\": \"surface\"}], \"table\": [{\"cells\": {\"fill\": {\"color\": \"#EBF0F8\"}, \"line\": {\"color\": \"white\"}}, \"header\": {\"fill\": {\"color\": \"#C8D4E3\"}, \"line\": {\"color\": \"white\"}}, \"type\": \"table\"}]}, \"layout\": {\"annotationdefaults\": {\"arrowcolor\": \"#2a3f5f\", \"arrowhead\": 0, \"arrowwidth\": 1}, \"coloraxis\": {\"colorbar\": {\"outlinewidth\": 0, \"ticks\": \"\"}}, \"colorscale\": {\"diverging\": [[0, \"#8e0152\"], [0.1, \"#c51b7d\"], [0.2, \"#de77ae\"], [0.3, \"#f1b6da\"], [0.4, \"#fde0ef\"], [0.5, \"#f7f7f7\"], [0.6, \"#e6f5d0\"], [0.7, \"#b8e186\"], [0.8, \"#7fbc41\"], [0.9, \"#4d9221\"], [1, \"#276419\"]], \"sequential\": [[0.0, \"#0d0887\"], [0.1111111111111111, \"#46039f\"], [0.2222222222222222, \"#7201a8\"], [0.3333333333333333, \"#9c179e\"], [0.4444444444444444, \"#bd3786\"], [0.5555555555555556, \"#d8576b\"], [0.6666666666666666, \"#ed7953\"], [0.7777777777777778, \"#fb9f3a\"], [0.8888888888888888, \"#fdca26\"], [1.0, \"#f0f921\"]], \"sequentialminus\": [[0.0, \"#0d0887\"], [0.1111111111111111, \"#46039f\"], [0.2222222222222222, \"#7201a8\"], [0.3333333333333333, \"#9c179e\"], [0.4444444444444444, \"#bd3786\"], [0.5555555555555556, \"#d8576b\"], [0.6666666666666666, \"#ed7953\"], [0.7777777777777778, \"#fb9f3a\"], [0.8888888888888888, \"#fdca26\"], [1.0, \"#f0f921\"]]}, \"colorway\": [\"#636efa\", \"#EF553B\", \"#00cc96\", \"#ab63fa\", \"#FFA15A\", \"#19d3f3\", \"#FF6692\", \"#B6E880\", \"#FF97FF\", \"#FECB52\"], \"font\": {\"color\": \"#2a3f5f\"}, \"geo\": {\"bgcolor\": \"white\", \"lakecolor\": \"white\", \"landcolor\": \"#E5ECF6\", \"showlakes\": true, \"showland\": true, \"subunitcolor\": \"white\"}, \"hoverlabel\": {\"align\": \"left\"}, \"hovermode\": \"closest\", \"mapbox\": {\"style\": \"light\"}, \"paper_bgcolor\": \"white\", \"plot_bgcolor\": \"#E5ECF6\", \"polar\": {\"angularaxis\": {\"gridcolor\": \"white\", \"linecolor\": \"white\", \"ticks\": \"\"}, \"bgcolor\": \"#E5ECF6\", \"radialaxis\": {\"gridcolor\": \"white\", \"linecolor\": \"white\", \"ticks\": \"\"}}, \"scene\": {\"xaxis\": {\"backgroundcolor\": \"#E5ECF6\", \"gridcolor\": \"white\", \"gridwidth\": 2, \"linecolor\": \"white\", \"showbackground\": true, \"ticks\": \"\", \"zerolinecolor\": \"white\"}, \"yaxis\": {\"backgroundcolor\": \"#E5ECF6\", \"gridcolor\": \"white\", \"gridwidth\": 2, \"linecolor\": \"white\", \"showbackground\": true, \"ticks\": \"\", \"zerolinecolor\": \"white\"}, \"zaxis\": {\"backgroundcolor\": \"#E5ECF6\", \"gridcolor\": \"white\", \"gridwidth\": 2, \"linecolor\": \"white\", \"showbackground\": true, \"ticks\": \"\", \"zerolinecolor\": \"white\"}}, \"shapedefaults\": {\"line\": {\"color\": \"#2a3f5f\"}}, \"ternary\": {\"aaxis\": {\"gridcolor\": \"white\", \"linecolor\": \"white\", \"ticks\": \"\"}, \"baxis\": {\"gridcolor\": \"white\", \"linecolor\": \"white\", \"ticks\": \"\"}, \"bgcolor\": \"#E5ECF6\", \"caxis\": {\"gridcolor\": \"white\", \"linecolor\": \"white\", \"ticks\": \"\"}}, \"title\": {\"x\": 0.05}, \"xaxis\": {\"automargin\": true, \"gridcolor\": \"white\", \"linecolor\": \"white\", \"ticks\": \"\", \"title\": {\"standoff\": 15}, \"zerolinecolor\": \"white\", \"zerolinewidth\": 2}, \"yaxis\": {\"automargin\": true, \"gridcolor\": \"white\", \"linecolor\": \"white\", \"ticks\": \"\", \"title\": {\"standoff\": 15}, \"zerolinecolor\": \"white\", \"zerolinewidth\": 2}}}, \"title\": {\"font\": {\"color\": \"#4D5663\"}}, \"xaxis\": {\"anchor\": \"y\", \"domain\": [0.0, 0.16], \"gridcolor\": \"#E1E5ED\", \"showgrid\": false, \"tickfont\": {\"color\": \"#4D5663\"}, \"title\": {\"font\": {\"color\": \"#4D5663\"}, \"text\": \"\"}, \"zerolinecolor\": \"#E1E5ED\"}, \"xaxis10\": {\"anchor\": \"y10\", \"domain\": [0.8400000000000001, 1.0], \"gridcolor\": \"#E1E5ED\", \"showgrid\": false, \"tickfont\": {\"color\": \"#4D5663\"}, \"title\": {\"font\": {\"color\": \"#4D5663\"}, \"text\": \"\"}, \"zerolinecolor\": \"#E1E5ED\"}, \"xaxis11\": {\"anchor\": \"y11\", \"domain\": [0.0, 0.16], \"gridcolor\": \"#E1E5ED\", \"showgrid\": false, \"tickfont\": {\"color\": \"#4D5663\"}, \"title\": {\"font\": {\"color\": \"#4D5663\"}, \"text\": \"\"}, \"zerolinecolor\": \"#E1E5ED\"}, \"xaxis12\": {\"anchor\": \"y12\", \"domain\": [0.21000000000000002, 0.37], \"gridcolor\": \"#E1E5ED\", \"showgrid\": false, \"tickfont\": {\"color\": \"#4D5663\"}, \"title\": {\"font\": {\"color\": \"#4D5663\"}, \"text\": \"\"}, \"zerolinecolor\": \"#E1E5ED\"}, \"xaxis13\": {\"anchor\": \"y13\", \"domain\": [0.42000000000000004, 0.5800000000000001], \"gridcolor\": \"#E1E5ED\", \"showgrid\": false, \"tickfont\": {\"color\": \"#4D5663\"}, \"title\": {\"font\": {\"color\": \"#4D5663\"}, \"text\": \"\"}, \"zerolinecolor\": \"#E1E5ED\"}, \"xaxis14\": {\"anchor\": \"y14\", \"domain\": [0.63, 0.79], \"gridcolor\": \"#E1E5ED\", \"showgrid\": false, \"tickfont\": {\"color\": \"#4D5663\"}, \"title\": {\"font\": {\"color\": \"#4D5663\"}, \"text\": \"\"}, \"zerolinecolor\": \"#E1E5ED\"}, \"xaxis15\": {\"anchor\": \"y15\", \"domain\": [0.8400000000000001, 1.0], \"gridcolor\": \"#E1E5ED\", \"showgrid\": false, \"tickfont\": {\"color\": \"#4D5663\"}, \"title\": {\"font\": {\"color\": \"#4D5663\"}, \"text\": \"\"}, \"zerolinecolor\": \"#E1E5ED\"}, \"xaxis16\": {\"anchor\": \"y16\", \"domain\": [0.0, 0.16], \"gridcolor\": \"#E1E5ED\", \"showgrid\": false, \"tickfont\": {\"color\": \"#4D5663\"}, \"title\": {\"font\": {\"color\": \"#4D5663\"}, \"text\": \"\"}, \"zerolinecolor\": \"#E1E5ED\"}, \"xaxis17\": {\"anchor\": \"y17\", \"domain\": [0.21000000000000002, 0.37], \"gridcolor\": \"#E1E5ED\", \"showgrid\": false, \"tickfont\": {\"color\": \"#4D5663\"}, \"title\": {\"font\": {\"color\": \"#4D5663\"}, \"text\": \"\"}, \"zerolinecolor\": \"#E1E5ED\"}, \"xaxis18\": {\"anchor\": \"y18\", \"domain\": [0.42000000000000004, 0.5800000000000001], \"gridcolor\": \"#E1E5ED\", \"showgrid\": false, \"tickfont\": {\"color\": \"#4D5663\"}, \"title\": {\"font\": {\"color\": \"#4D5663\"}, \"text\": \"\"}, \"zerolinecolor\": \"#E1E5ED\"}, \"xaxis19\": {\"anchor\": \"y19\", \"domain\": [0.63, 0.79], \"gridcolor\": \"#E1E5ED\", \"showgrid\": false, \"tickfont\": {\"color\": \"#4D5663\"}, \"title\": {\"font\": {\"color\": \"#4D5663\"}, \"text\": \"\"}, \"zerolinecolor\": \"#E1E5ED\"}, \"xaxis2\": {\"anchor\": \"y2\", \"domain\": [0.21000000000000002, 0.37], \"gridcolor\": \"#E1E5ED\", \"showgrid\": false, \"tickfont\": {\"color\": \"#4D5663\"}, \"title\": {\"font\": {\"color\": \"#4D5663\"}, \"text\": \"\"}, \"zerolinecolor\": \"#E1E5ED\"}, \"xaxis20\": {\"anchor\": \"y20\", \"domain\": [0.8400000000000001, 1.0], \"gridcolor\": \"#E1E5ED\", \"showgrid\": false, \"tickfont\": {\"color\": \"#4D5663\"}, \"title\": {\"font\": {\"color\": \"#4D5663\"}, \"text\": \"\"}, \"zerolinecolor\": \"#E1E5ED\"}, \"xaxis21\": {\"anchor\": \"y21\", \"domain\": [0.0, 0.16], \"gridcolor\": \"#E1E5ED\", \"showgrid\": false, \"tickfont\": {\"color\": \"#4D5663\"}, \"title\": {\"font\": {\"color\": \"#4D5663\"}, \"text\": \"\"}, \"zerolinecolor\": \"#E1E5ED\"}, \"xaxis22\": {\"anchor\": \"y22\", \"domain\": [0.21000000000000002, 0.37], \"gridcolor\": \"#E1E5ED\", \"showgrid\": false, \"tickfont\": {\"color\": \"#4D5663\"}, \"title\": {\"font\": {\"color\": \"#4D5663\"}, \"text\": \"\"}, \"zerolinecolor\": \"#E1E5ED\"}, \"xaxis23\": {\"anchor\": \"y23\", \"domain\": [0.42000000000000004, 0.5800000000000001], \"gridcolor\": \"#E1E5ED\", \"showgrid\": false, \"tickfont\": {\"color\": \"#4D5663\"}, \"title\": {\"font\": {\"color\": \"#4D5663\"}, \"text\": \"\"}, \"zerolinecolor\": \"#E1E5ED\"}, \"xaxis24\": {\"anchor\": \"y24\", \"domain\": [0.63, 0.79], \"gridcolor\": \"#E1E5ED\", \"showgrid\": false, \"tickfont\": {\"color\": \"#4D5663\"}, \"title\": {\"font\": {\"color\": \"#4D5663\"}, \"text\": \"\"}, \"zerolinecolor\": \"#E1E5ED\"}, \"xaxis25\": {\"anchor\": \"y25\", \"domain\": [0.8400000000000001, 1.0], \"gridcolor\": \"#E1E5ED\", \"showgrid\": false, \"tickfont\": {\"color\": \"#4D5663\"}, \"title\": {\"font\": {\"color\": \"#4D5663\"}, \"text\": \"\"}, \"zerolinecolor\": \"#E1E5ED\"}, \"xaxis3\": {\"anchor\": \"y3\", \"domain\": [0.42000000000000004, 0.5800000000000001], \"gridcolor\": \"#E1E5ED\", \"showgrid\": false, \"tickfont\": {\"color\": \"#4D5663\"}, \"title\": {\"font\": {\"color\": \"#4D5663\"}, \"text\": \"\"}, \"zerolinecolor\": \"#E1E5ED\"}, \"xaxis4\": {\"anchor\": \"y4\", \"domain\": [0.63, 0.79], \"gridcolor\": \"#E1E5ED\", \"showgrid\": false, \"tickfont\": {\"color\": \"#4D5663\"}, \"title\": {\"font\": {\"color\": \"#4D5663\"}, \"text\": \"\"}, \"zerolinecolor\": \"#E1E5ED\"}, \"xaxis5\": {\"anchor\": \"y5\", \"domain\": [0.8400000000000001, 1.0], \"gridcolor\": \"#E1E5ED\", \"showgrid\": false, \"tickfont\": {\"color\": \"#4D5663\"}, \"title\": {\"font\": {\"color\": \"#4D5663\"}, \"text\": \"\"}, \"zerolinecolor\": \"#E1E5ED\"}, \"xaxis6\": {\"anchor\": \"y6\", \"domain\": [0.0, 0.16], \"gridcolor\": \"#E1E5ED\", \"showgrid\": false, \"tickfont\": {\"color\": \"#4D5663\"}, \"title\": {\"font\": {\"color\": \"#4D5663\"}, \"text\": \"\"}, \"zerolinecolor\": \"#E1E5ED\"}, \"xaxis7\": {\"anchor\": \"y7\", \"domain\": [0.21000000000000002, 0.37], \"gridcolor\": \"#E1E5ED\", \"showgrid\": false, \"tickfont\": {\"color\": \"#4D5663\"}, \"title\": {\"font\": {\"color\": \"#4D5663\"}, \"text\": \"\"}, \"zerolinecolor\": \"#E1E5ED\"}, \"xaxis8\": {\"anchor\": \"y8\", \"domain\": [0.42000000000000004, 0.5800000000000001], \"gridcolor\": \"#E1E5ED\", \"showgrid\": false, \"tickfont\": {\"color\": \"#4D5663\"}, \"title\": {\"font\": {\"color\": \"#4D5663\"}, \"text\": \"\"}, \"zerolinecolor\": \"#E1E5ED\"}, \"xaxis9\": {\"anchor\": \"y9\", \"domain\": [0.63, 0.79], \"gridcolor\": \"#E1E5ED\", \"showgrid\": false, \"tickfont\": {\"color\": \"#4D5663\"}, \"title\": {\"font\": {\"color\": \"#4D5663\"}, \"text\": \"\"}, \"zerolinecolor\": \"#E1E5ED\"}, \"yaxis\": {\"anchor\": \"x\", \"domain\": [0.856, 1.0], \"gridcolor\": \"#E1E5ED\", \"showgrid\": false, \"tickfont\": {\"color\": \"#4D5663\"}, \"title\": {\"font\": {\"color\": \"#4D5663\"}, \"text\": \"\"}, \"zerolinecolor\": \"#E1E5ED\"}, \"yaxis10\": {\"anchor\": \"x10\", \"domain\": [0.6419999999999999, 0.7859999999999999], \"gridcolor\": \"#E1E5ED\", \"showgrid\": false, \"tickfont\": {\"color\": \"#4D5663\"}, \"title\": {\"font\": {\"color\": \"#4D5663\"}, \"text\": \"\"}, \"zerolinecolor\": \"#E1E5ED\"}, \"yaxis11\": {\"anchor\": \"x11\", \"domain\": [0.428, 0.572], \"gridcolor\": \"#E1E5ED\", \"showgrid\": false, \"tickfont\": {\"color\": \"#4D5663\"}, \"title\": {\"font\": {\"color\": \"#4D5663\"}, \"text\": \"\"}, \"zerolinecolor\": \"#E1E5ED\"}, \"yaxis12\": {\"anchor\": \"x12\", \"domain\": [0.428, 0.572], \"gridcolor\": \"#E1E5ED\", \"showgrid\": false, \"tickfont\": {\"color\": \"#4D5663\"}, \"title\": {\"font\": {\"color\": \"#4D5663\"}, \"text\": \"\"}, \"zerolinecolor\": \"#E1E5ED\"}, \"yaxis13\": {\"anchor\": \"x13\", \"domain\": [0.428, 0.572], \"gridcolor\": \"#E1E5ED\", \"showgrid\": false, \"tickfont\": {\"color\": \"#4D5663\"}, \"title\": {\"font\": {\"color\": \"#4D5663\"}, \"text\": \"\"}, \"zerolinecolor\": \"#E1E5ED\"}, \"yaxis14\": {\"anchor\": \"x14\", \"domain\": [0.428, 0.572], \"gridcolor\": \"#E1E5ED\", \"showgrid\": false, \"tickfont\": {\"color\": \"#4D5663\"}, \"title\": {\"font\": {\"color\": \"#4D5663\"}, \"text\": \"\"}, \"zerolinecolor\": \"#E1E5ED\"}, \"yaxis15\": {\"anchor\": \"x15\", \"domain\": [0.428, 0.572], \"gridcolor\": \"#E1E5ED\", \"showgrid\": false, \"tickfont\": {\"color\": \"#4D5663\"}, \"title\": {\"font\": {\"color\": \"#4D5663\"}, \"text\": \"\"}, \"zerolinecolor\": \"#E1E5ED\"}, \"yaxis16\": {\"anchor\": \"x16\", \"domain\": [0.214, 0.358], \"gridcolor\": \"#E1E5ED\", \"showgrid\": false, \"tickfont\": {\"color\": \"#4D5663\"}, \"title\": {\"font\": {\"color\": \"#4D5663\"}, \"text\": \"\"}, \"zerolinecolor\": \"#E1E5ED\"}, \"yaxis17\": {\"anchor\": \"x17\", \"domain\": [0.214, 0.358], \"gridcolor\": \"#E1E5ED\", \"showgrid\": false, \"tickfont\": {\"color\": \"#4D5663\"}, \"title\": {\"font\": {\"color\": \"#4D5663\"}, \"text\": \"\"}, \"zerolinecolor\": \"#E1E5ED\"}, \"yaxis18\": {\"anchor\": \"x18\", \"domain\": [0.214, 0.358], \"gridcolor\": \"#E1E5ED\", \"showgrid\": false, \"tickfont\": {\"color\": \"#4D5663\"}, \"title\": {\"font\": {\"color\": \"#4D5663\"}, \"text\": \"\"}, \"zerolinecolor\": \"#E1E5ED\"}, \"yaxis19\": {\"anchor\": \"x19\", \"domain\": [0.214, 0.358], \"gridcolor\": \"#E1E5ED\", \"showgrid\": false, \"tickfont\": {\"color\": \"#4D5663\"}, \"title\": {\"font\": {\"color\": \"#4D5663\"}, \"text\": \"\"}, \"zerolinecolor\": \"#E1E5ED\"}, \"yaxis2\": {\"anchor\": \"x2\", \"domain\": [0.856, 1.0], \"gridcolor\": \"#E1E5ED\", \"showgrid\": false, \"tickfont\": {\"color\": \"#4D5663\"}, \"title\": {\"font\": {\"color\": \"#4D5663\"}, \"text\": \"\"}, \"zerolinecolor\": \"#E1E5ED\"}, \"yaxis20\": {\"anchor\": \"x20\", \"domain\": [0.214, 0.358], \"gridcolor\": \"#E1E5ED\", \"showgrid\": false, \"tickfont\": {\"color\": \"#4D5663\"}, \"title\": {\"font\": {\"color\": \"#4D5663\"}, \"text\": \"\"}, \"zerolinecolor\": \"#E1E5ED\"}, \"yaxis21\": {\"anchor\": \"x21\", \"domain\": [0.0, 0.144], \"gridcolor\": \"#E1E5ED\", \"showgrid\": false, \"tickfont\": {\"color\": \"#4D5663\"}, \"title\": {\"font\": {\"color\": \"#4D5663\"}, \"text\": \"\"}, \"zerolinecolor\": \"#E1E5ED\"}, \"yaxis22\": {\"anchor\": \"x22\", \"domain\": [0.0, 0.144], \"gridcolor\": \"#E1E5ED\", \"showgrid\": false, \"tickfont\": {\"color\": \"#4D5663\"}, \"title\": {\"font\": {\"color\": \"#4D5663\"}, \"text\": \"\"}, \"zerolinecolor\": \"#E1E5ED\"}, \"yaxis23\": {\"anchor\": \"x23\", \"domain\": [0.0, 0.144], \"gridcolor\": \"#E1E5ED\", \"showgrid\": false, \"tickfont\": {\"color\": \"#4D5663\"}, \"title\": {\"font\": {\"color\": \"#4D5663\"}, \"text\": \"\"}, \"zerolinecolor\": \"#E1E5ED\"}, \"yaxis24\": {\"anchor\": \"x24\", \"domain\": [0.0, 0.144], \"gridcolor\": \"#E1E5ED\", \"showgrid\": false, \"tickfont\": {\"color\": \"#4D5663\"}, \"title\": {\"font\": {\"color\": \"#4D5663\"}, \"text\": \"\"}, \"zerolinecolor\": \"#E1E5ED\"}, \"yaxis25\": {\"anchor\": \"x25\", \"domain\": [0.0, 0.144], \"gridcolor\": \"#E1E5ED\", \"showgrid\": false, \"tickfont\": {\"color\": \"#4D5663\"}, \"title\": {\"font\": {\"color\": \"#4D5663\"}, \"text\": \"\"}, \"zerolinecolor\": \"#E1E5ED\"}, \"yaxis3\": {\"anchor\": \"x3\", \"domain\": [0.856, 1.0], \"gridcolor\": \"#E1E5ED\", \"showgrid\": false, \"tickfont\": {\"color\": \"#4D5663\"}, \"title\": {\"font\": {\"color\": \"#4D5663\"}, \"text\": \"\"}, \"zerolinecolor\": \"#E1E5ED\"}, \"yaxis4\": {\"anchor\": \"x4\", \"domain\": [0.856, 1.0], \"gridcolor\": \"#E1E5ED\", \"showgrid\": false, \"tickfont\": {\"color\": \"#4D5663\"}, \"title\": {\"font\": {\"color\": \"#4D5663\"}, \"text\": \"\"}, \"zerolinecolor\": \"#E1E5ED\"}, \"yaxis5\": {\"anchor\": \"x5\", \"domain\": [0.856, 1.0], \"gridcolor\": \"#E1E5ED\", \"showgrid\": false, \"tickfont\": {\"color\": \"#4D5663\"}, \"title\": {\"font\": {\"color\": \"#4D5663\"}, \"text\": \"\"}, \"zerolinecolor\": \"#E1E5ED\"}, \"yaxis6\": {\"anchor\": \"x6\", \"domain\": [0.6419999999999999, 0.7859999999999999], \"gridcolor\": \"#E1E5ED\", \"showgrid\": false, \"tickfont\": {\"color\": \"#4D5663\"}, \"title\": {\"font\": {\"color\": \"#4D5663\"}, \"text\": \"\"}, \"zerolinecolor\": \"#E1E5ED\"}, \"yaxis7\": {\"anchor\": \"x7\", \"domain\": [0.6419999999999999, 0.7859999999999999], \"gridcolor\": \"#E1E5ED\", \"showgrid\": false, \"tickfont\": {\"color\": \"#4D5663\"}, \"title\": {\"font\": {\"color\": \"#4D5663\"}, \"text\": \"\"}, \"zerolinecolor\": \"#E1E5ED\"}, \"yaxis8\": {\"anchor\": \"x8\", \"domain\": [0.6419999999999999, 0.7859999999999999], \"gridcolor\": \"#E1E5ED\", \"showgrid\": false, \"tickfont\": {\"color\": \"#4D5663\"}, \"title\": {\"font\": {\"color\": \"#4D5663\"}, \"text\": \"\"}, \"zerolinecolor\": \"#E1E5ED\"}, \"yaxis9\": {\"anchor\": \"x9\", \"domain\": [0.6419999999999999, 0.7859999999999999], \"gridcolor\": \"#E1E5ED\", \"showgrid\": false, \"tickfont\": {\"color\": \"#4D5663\"}, \"title\": {\"font\": {\"color\": \"#4D5663\"}, \"text\": \"\"}, \"zerolinecolor\": \"#E1E5ED\"}},\n",
       "                        {\"showLink\": true, \"linkText\": \"Export to plot.ly\", \"plotlyServerURL\": \"https://plot.ly\", \"responsive\": true}\n",
       "                    ).then(function(){\n",
       "                            \n",
       "var gd = document.getElementById('f8aef4f7-72af-4c8a-b085-f11d76aa88b6');\n",
       "var x = new MutationObserver(function (mutations, observer) {{\n",
       "        var display = window.getComputedStyle(gd).display;\n",
       "        if (!display || display === 'none') {{\n",
       "            console.log([gd, 'removed!']);\n",
       "            Plotly.purge(gd);\n",
       "            observer.disconnect();\n",
       "        }}\n",
       "}});\n",
       "\n",
       "// Listen for the removal of the full notebook cells\n",
       "var notebookContainer = gd.closest('#notebook-container');\n",
       "if (notebookContainer) {{\n",
       "    x.observe(notebookContainer, {childList: true});\n",
       "}}\n",
       "\n",
       "// Listen for the clearing of the current output cell\n",
       "var outputEl = gd.closest('.output');\n",
       "if (outputEl) {{\n",
       "    x.observe(outputEl, {childList: true});\n",
       "}}\n",
       "\n",
       "                        })\n",
       "                };\n",
       "                });\n",
       "            </script>\n",
       "        </div>"
      ]
     },
     "metadata": {},
     "output_type": "display_data"
    }
   ],
   "source": [
    "df.scatter_matrix()"
   ]
  }
 ],
 "metadata": {
  "kernelspec": {
   "display_name": "Python 3",
   "language": "python",
   "name": "python3"
  },
  "language_info": {
   "codemirror_mode": {
    "name": "ipython",
    "version": 3
   },
   "file_extension": ".py",
   "mimetype": "text/x-python",
   "name": "python",
   "nbconvert_exporter": "python",
   "pygments_lexer": "ipython3",
   "version": "3.7.4"
  }
 },
 "nbformat": 4,
 "nbformat_minor": 1
}
